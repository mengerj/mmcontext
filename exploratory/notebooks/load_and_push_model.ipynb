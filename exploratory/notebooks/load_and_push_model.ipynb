{
 "cells": [
  {
   "cell_type": "code",
   "execution_count": 2,
   "metadata": {},
   "outputs": [
    {
     "name": "stdout",
     "output_type": "stream",
     "text": [
      "../../outputs/2025-02-27/13-49-36/checkpoint-4500\n"
     ]
    }
   ],
   "source": [
    "output_date = \"2025-02-28\"\n",
    "output_time = \"09-35-36\"\n",
    "model_dir = \"checkpoint-4500\"\n",
    "load_dir = f\"../../outputs/{output_date}/{output_time}/{model_dir}\"\n",
    "print(load_dir)"
   ]
  },
  {
   "cell_type": "code",
   "execution_count": 3,
   "metadata": {},
   "outputs": [],
   "source": [
    "from sentence_transformers import SentenceTransformer\n",
    "\n",
    "model = SentenceTransformer(load_dir)"
   ]
  },
  {
   "cell_type": "code",
   "execution_count": 8,
   "metadata": {},
   "outputs": [
    {
     "data": {
      "text/plain": [
       "'https://huggingface.co/jo-mengr/mmcontext-3.5k-cell_type-geneformer-2048/commit/9fb1f46f15a2adf046f5f7ec808f33aa5d5df764'"
      ]
     },
     "execution_count": 8,
     "metadata": {},
     "output_type": "execute_result"
    }
   ],
   "source": [
    "model.push_to_hub(\"jo-mengr/mmcontext-3.5k-cell_type-geneformer-2048\", exist_ok=True)"
   ]
  },
  {
   "cell_type": "code",
   "execution_count": 2,
   "metadata": {},
   "outputs": [],
   "source": [
    "from sentence_transformers import SentenceTransformer\n",
    "\n",
    "model = SentenceTransformer(\"jo-mengr/mmcontext-3.5k-cell_type-geneformer-2048\")"
   ]
  }
 ],
 "metadata": {
  "kernelspec": {
   "display_name": ".venv",
   "language": "python",
   "name": "python3"
  },
  "language_info": {
   "codemirror_mode": {
    "name": "ipython",
    "version": 3
   },
   "file_extension": ".py",
   "mimetype": "text/x-python",
   "name": "python",
   "nbconvert_exporter": "python",
   "pygments_lexer": "ipython3",
   "version": "3.11.6"
  }
 },
 "nbformat": 4,
 "nbformat_minor": 2
}

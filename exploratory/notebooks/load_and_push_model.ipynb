{
 "cells": [
  {
   "cell_type": "code",
   "execution_count": 9,
   "metadata": {},
   "outputs": [
    {
     "name": "stdout",
     "output_type": "stream",
     "text": [
      "../../outputs/2025-03-07/13-15-30/checkpoint-5920\n"
     ]
    }
   ],
   "source": [
    "output_date = \"2025-03-07\"\n",
    "output_time = \"13-15-30\"\n",
    "model_dir = \"checkpoint-5920\"\n",
    "load_dir = f\"../../outputs/{output_date}/{output_time}/{model_dir}\"\n",
    "print(load_dir)"
   ]
  },
  {
   "cell_type": "code",
   "execution_count": 10,
   "metadata": {},
   "outputs": [],
   "source": [
    "from sentence_transformers import SentenceTransformer\n",
    "\n",
    "model = SentenceTransformer(load_dir)"
   ]
  },
  {
   "cell_type": "code",
   "execution_count": 11,
   "metadata": {},
   "outputs": [
    {
     "name": "stderr",
     "output_type": "stream",
     "text": [
      "model.safetensors: 100%|██████████| 447M/447M [00:12<00:00, 36.9MB/s] \n"
     ]
    },
    {
     "data": {
      "text/plain": [
       "'https://huggingface.co/jo-mengr/mmcontext-100k-natural_language_annotation-hvg-2048-text-unfrozen/commit/0f6ee4c1346182a07078d1ae0107035c99b435ba'"
      ]
     },
     "execution_count": 11,
     "metadata": {},
     "output_type": "execute_result"
    }
   ],
   "source": [
    "model.push_to_hub(\n",
    "    \"jo-mengr/mmcontext-100k-natural_language_annotation-hvg-2048-text-unfrozen\", exist_ok=True, private=True\n",
    ")"
   ]
  }
 ],
 "metadata": {
  "kernelspec": {
   "display_name": ".venv",
   "language": "python",
   "name": "python3"
  },
  "language_info": {
   "codemirror_mode": {
    "name": "ipython",
    "version": 3
   },
   "file_extension": ".py",
   "mimetype": "text/x-python",
   "name": "python",
   "nbconvert_exporter": "python",
   "pygments_lexer": "ipython3",
   "version": "3.10.10"
  }
 },
 "nbformat": 4,
 "nbformat_minor": 2
}

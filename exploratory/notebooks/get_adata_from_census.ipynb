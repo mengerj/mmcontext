{
 "cells": [
  {
   "cell_type": "code",
   "execution_count": 1,
   "metadata": {},
   "outputs": [],
   "source": [
    "import cellxgene_census\n",
    "\n",
    "census = cellxgene_census.open_soma(census_version=\"2024-07-01\")\n",
    "adata = cellxgene_census.get_anndata(\n",
    "    census,\n",
    "    organism=\"homo_sapiens\",\n",
    "    measurement_name=\"RNA\",\n",
    "    obs_value_filter='tissue == \"spleen\" and assay in [\"10x 3\\' v3\"]',\n",
    "    obs_embeddings=[\"scvi\"],\n",
    ")"
   ]
  },
  {
   "cell_type": "code",
   "execution_count": 3,
   "metadata": {},
   "outputs": [],
   "source": [
    "from mmcontext.pp.utils import split_anndata\n",
    "\n",
    "adata_train, adata_test = split_anndata(adata, train_size=0.9)"
   ]
  },
  {
   "cell_type": "code",
   "execution_count": 5,
   "metadata": {},
   "outputs": [
    {
     "name": "stderr",
     "output_type": "stream",
     "text": [
      "/Users/mengerj/repos/mmcontext/.venv/lib/python3.12/site-packages/anndata/_core/anndata.py:1146: ImplicitModificationWarning: Trying to modify attribute `.obs` of view, initializing view as actual.\n",
      "  df[key] = c\n"
     ]
    }
   ],
   "source": [
    "train_path = \"../../data/train_data/cellxgene_spleen_10x3v3\"\n",
    "test_path = \"../../data/test_data/cellxgene_spleen_10x3v3\"\n",
    "adata_train.write_h5ad(train_path)\n",
    "adata_test.write_h5ad(test_path)"
   ]
  }
 ],
 "metadata": {
  "kernelspec": {
   "display_name": ".venv",
   "language": "python",
   "name": "python3"
  },
  "language_info": {
   "codemirror_mode": {
    "name": "ipython",
    "version": 3
   },
   "file_extension": ".py",
   "mimetype": "text/x-python",
   "name": "python",
   "nbconvert_exporter": "python",
   "pygments_lexer": "ipython3",
   "version": "3.12.8"
  }
 },
 "nbformat": 4,
 "nbformat_minor": 2
}

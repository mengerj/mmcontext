{
 "cells": [
  {
   "cell_type": "markdown",
   "id": "a8c457d5",
   "metadata": {},
   "source": [
    "# MMContextEncoder — Training Walkthrough\n",
    "This notebook demonstrates how to finetune the multimodal `MMContextEncoder` in four flavours:\n",
    "1. **Text‑only**\n",
    "2. **Pre‑computed numeric embeddings**  \n",
    "   ‑ 2 a. Feature‑level tokens  \n",
    "   ‑ 2 b. Sample‑level tokens\n",
    "3. **Random‑initialised baseline**\n",
    "\n",
    "Small epochs & batch‑sizes keep runtime short – scale them up for real work."
   ]
  },
  {
   "cell_type": "markdown",
   "id": "9a283a20",
   "metadata": {},
   "source": [
    "## 0  Setup & toy data"
   ]
  },
  {
   "cell_type": "code",
   "execution_count": null,
   "id": "3484ec7c",
   "metadata": {},
   "outputs": [],
   "source": [
    "import os\n",
    "\n",
    "import datasets\n",
    "import numpy as np\n",
    "import pandas as pd\n",
    "import torch\n",
    "from datasets import DatasetDict\n",
    "from sentence_transformers import SentenceTransformer\n",
    "\n",
    "from mmcontext.models.MMContextEncoder import MMContextEncoder\n",
    "from mmcontext.simulator import OmicsCaptionSimulator\n",
    "\n",
    "# simulate tiny dataset\n",
    "sim = OmicsCaptionSimulator(n_samples=120, n_genes=12).simulate()\n",
    "gene_df, sample_df = sim.get_numeric_datasets()\n",
    "raw_ds = sim.get_hf_dataset()\n",
    "\n",
    "# split + duplicate captions for a paired loss\n",
    "ds = raw_ds.train_test_split(test_size=0.2, seed=42)\n",
    "ds = DatasetDict({\"train\": ds[\"train\"], \"val\": ds[\"test\"]})\n",
    "for split in ds:\n",
    "    ds[split] = ds[split].rename_column(\"captions\", \"cell_sentence_1\")\n",
    "    ds[split] = ds[split].add_column(\"cell_sentence_2\", ds[split][\"cell_sentence_1\"])\n",
    "ds"
   ]
  },
  {
   "cell_type": "markdown",
   "id": "c86bd9d5",
   "metadata": {},
   "source": [
    "## Text‑only"
   ]
  },
  {
   "cell_type": "code",
   "execution_count": null,
   "id": "1c4a6750",
   "metadata": {},
   "outputs": [],
   "source": [
    "from sentence_transformers import SentenceTransformerTrainer, SentenceTransformerTrainingArguments, losses\n",
    "\n",
    "enc = MMContextEncoder(\"prajjwal1/bert-tiny\", adapter_hidden_dim=None)\n",
    "st = SentenceTransformer(modules=[enc])\n",
    "train, val = ds[\"train\"], ds[\"val\"]\n",
    "out_dir = \"./models/demo_text_only\"\n",
    "\n",
    "loss = losses.ContrastiveLoss(model=st)\n",
    "args = SentenceTransformerTrainingArguments(\n",
    "    output_dir=out_dir,\n",
    "    num_train_epochs=1,\n",
    "    per_device_train_batch_size=8,\n",
    "    per_device_eval_batch_size=8,\n",
    ")\n",
    "trainer = SentenceTransformerTrainer(\n",
    "    model=st,\n",
    "    args=args,\n",
    "    train_dataset=train,\n",
    "    eval_dataset=val,\n",
    "    loss=loss,\n",
    "    extra_feature_keys=[\"cell_sentence_2\"],  # rename to 'pixel_values' for pip release\n",
    ")\n",
    "trainer.train()"
   ]
  },
  {
   "cell_type": "markdown",
   "id": "ce05f584",
   "metadata": {},
   "source": [
    "## Feature‑level tokens"
   ]
  },
  {
   "cell_type": "code",
   "execution_count": null,
   "id": "f33a1497",
   "metadata": {},
   "outputs": [],
   "source": [
    "from sentence_transformers import SentenceTransformerTrainer, SentenceTransformerTrainingArguments, losses\n",
    "\n",
    "enc = MMContextEncoder(\"prajjwal1/bert-tiny\", adapter_hidden_dim=32, adapter_output_dim=64)\n",
    "enc.register_initial_embeddings(gene_df, data_origin=\"geneformer\")\n",
    "pref = enc.prefix_ds(ds, col_id=\"omics_tokens\")\n",
    "train, val = pref[\"train\"], pref[\"val\"]\n",
    "st = SentenceTransformer(modules=[enc])\n",
    "out_dir = \"./models/demo_feat_tokens\"\n",
    "\n",
    "loss = losses.ContrastiveLoss(model=st)\n",
    "args = SentenceTransformerTrainingArguments(\n",
    "    output_dir=out_dir,\n",
    "    num_train_epochs=1,\n",
    "    per_device_train_batch_size=8,\n",
    "    per_device_eval_batch_size=8,\n",
    ")\n",
    "trainer = SentenceTransformerTrainer(\n",
    "    model=st,\n",
    "    args=args,\n",
    "    train_dataset=train,\n",
    "    eval_dataset=val,\n",
    "    loss=loss,\n",
    "    extra_feature_keys=[\"cell_sentence_2\"],  # rename to 'pixel_values' for pip release\n",
    ")\n",
    "trainer.train()"
   ]
  },
  {
   "cell_type": "markdown",
   "id": "801da917",
   "metadata": {},
   "source": [
    "## Sample‑level tokens"
   ]
  },
  {
   "cell_type": "code",
   "execution_count": null,
   "id": "30fdc4b5",
   "metadata": {},
   "outputs": [],
   "source": [
    "from sentence_transformers import SentenceTransformerTrainer, SentenceTransformerTrainingArguments, losses\n",
    "\n",
    "enc = MMContextEncoder(\"prajjwal1/bert-tiny\", adapter_hidden_dim=32, adapter_output_dim=64)\n",
    "enc.register_initial_embeddings(sample_df, data_origin=\"pca\")\n",
    "pref = enc.prefix_ds(ds, col_id=\"omics_tokens_lvl2\")\n",
    "train, val = pref[\"train\"], pref[\"val\"]\n",
    "st = SentenceTransformer(modules=[enc])\n",
    "out_dir = \"./models/demo_sample_tokens\"\n",
    "\n",
    "loss = losses.ContrastiveLoss(model=st)\n",
    "args = SentenceTransformerTrainingArguments(\n",
    "    output_dir=out_dir,\n",
    "    num_train_epochs=1,\n",
    "    per_device_train_batch_size=8,\n",
    "    per_device_eval_batch_size=8,\n",
    ")\n",
    "trainer = SentenceTransformerTrainer(\n",
    "    model=st,\n",
    "    args=args,\n",
    "    train_dataset=train,\n",
    "    eval_dataset=val,\n",
    "    loss=loss,\n",
    "    extra_feature_keys=[\"cell_sentence_2\"],  # rename to 'pixel_values' for pip release\n",
    ")\n",
    "trainer.train()"
   ]
  },
  {
   "cell_type": "markdown",
   "id": "e9d389fc",
   "metadata": {},
   "source": [
    "## Random baseline"
   ]
  },
  {
   "cell_type": "code",
   "execution_count": null,
   "id": "013cb416",
   "metadata": {},
   "outputs": [],
   "source": [
    "from sentence_transformers import SentenceTransformerTrainer, SentenceTransformerTrainingArguments, losses\n",
    "\n",
    "enc = MMContextEncoder(\"prajjwal1/bert-tiny\", adapter_hidden_dim=32)\n",
    "enc.random_initial_embeddings(list(gene_df[\"token\"]))\n",
    "pref = enc.prefix_ds(ds, col_id=\"omics_tokens\")\n",
    "train, val = pref[\"train\"], pref[\"val\"]\n",
    "st = SentenceTransformer(modules=[enc])\n",
    "out_dir = \"./models/demo_random\"\n",
    "\n",
    "\n",
    "loss = losses.ContrastiveLoss(model=st)\n",
    "args = SentenceTransformerTrainingArguments(\n",
    "    output_dir=out_dir,\n",
    "    num_train_epochs=1,\n",
    "    per_device_train_batch_size=8,\n",
    "    per_device_eval_batch_size=8,\n",
    ")\n",
    "trainer = SentenceTransformerTrainer(\n",
    "    model=st,\n",
    "    args=args,\n",
    "    train_dataset=train,\n",
    "    eval_dataset=val,\n",
    "    loss=loss,\n",
    "    extra_feature_keys=[\"cell_sentence_2\"],  # rename to 'pixel_values' for pip release\n",
    ")\n",
    "trainer.train()"
   ]
  },
  {
   "cell_type": "markdown",
   "id": "3681b54a",
   "metadata": {},
   "source": [
    "### Further notes\n",
    "* Swap in other losses or multi‑positive datasets – see the [Sentence‑Transformers training docs](https://www.sbert.net/docs/training/overview.html).\n",
    "* Current ST release only recognises a second column named **`pixel_values`**. If you don't use my SentenceTransformer fork, rename `cell_sentence_2` (or whatever column of the dataset you want to use) to \"\n",
    "`pixel_values` accordingly."
   ]
  }
 ],
 "metadata": {
  "language_info": {
   "name": "python"
  }
 },
 "nbformat": 4,
 "nbformat_minor": 5
}

{
 "cells": [
  {
   "cell_type": "markdown",
   "id": "a8c457d5",
   "metadata": {},
   "source": [
    "# MMContextEncoder — Training Walkthrough\n",
    "This notebook demonstrates how to finetune the multimodal `MMContextEncoder` in four flavours:\n",
    "1. **Text‑only**\n",
    "2. **Pre‑computed numeric embeddings**  \n",
    "   ‑ 2 a. Feature‑level tokens  \n",
    "   ‑ 2 b. Sample‑level tokens\n",
    "3. **Random‑initialised baseline**\n",
    "\n",
    "Small epochs & batch‑sizes keep runtime short – scale them up for real work."
   ]
  },
  {
   "cell_type": "code",
   "execution_count": 2,
   "id": "730b2ce2",
   "metadata": {},
   "outputs": [
    {
     "name": "stderr",
     "output_type": "stream",
     "text": [
      "/Users/mengerj/repos/mmcontext/.venv/lib/python3.12/site-packages/tqdm/auto.py:21: TqdmWarning: IProgress not found. Please update jupyter and ipywidgets. See https://ipywidgets.readthedocs.io/en/stable/user_install.html\n",
      "  from .autonotebook import tqdm as notebook_tqdm\n",
      "/Users/mengerj/repos/mmcontext/.venv/lib/python3.12/site-packages/umap/__init__.py:9: ImportWarning: Tensorflow not installed; ParametricUMAP will be unavailable\n",
      "  warn(\n",
      "/Users/mengerj/repos/mmcontext/.venv/lib/python3.12/site-packages/wordcloud/wordcloud.py:35: ResourceWarning: unclosed file <_io.TextIOWrapper name='/Users/mengerj/repos/mmcontext/.venv/lib/python3.12/site-packages/wordcloud/stopwords' mode='r' encoding='UTF-8'>\n",
      "  STOPWORDS = set(map(str.strip, open(os.path.join(FILE, 'stopwords')).readlines()))\n",
      "ResourceWarning: Enable tracemalloc to get the object allocation traceback\n"
     ]
    },
    {
     "data": {
      "text/plain": [
       "<RootLogger root (INFO)>"
      ]
     },
     "execution_count": 2,
     "metadata": {},
     "output_type": "execute_result"
    }
   ],
   "source": [
    "%load_ext autoreload\n",
    "%autoreload 2\n",
    "from mmcontext.utils import setup_logging\n",
    "\n",
    "setup_logging()"
   ]
  },
  {
   "cell_type": "markdown",
   "id": "9a283a20",
   "metadata": {},
   "source": [
    "## 0  Setup & toy data"
   ]
  },
  {
   "cell_type": "code",
   "execution_count": 3,
   "id": "3484ec7c",
   "metadata": {},
   "outputs": [
    {
     "name": "stderr",
     "output_type": "stream",
     "text": [
      "2025-07-15 11:05:10,149 - root - INFO - Building HF dataset with preset: pair-binary\n",
      "2025-07-15 11:05:10,149 - root - INFO - Available presets: single, single-class, pair, pair-binary, triplet\n",
      "/Users/mengerj/repos/mmcontext/.venv/lib/python3.12/site-packages/datasets/utils/_dill.py:385: DeprecationWarning: co_lnotab is deprecated, use co_lines instead.\n",
      "  obj.co_lnotab,  # for < python 3.10 [not counted in args]\n",
      "Filter: 100%|██████████| 4000/4000 [00:00<00:00, 518215.17 examples/s]\n",
      "Filter: 100%|██████████| 4000/4000 [00:00<00:00, 551410.50 examples/s]\n"
     ]
    },
    {
     "data": {
      "text/plain": [
       "DatasetDict({\n",
       "    train: Dataset({\n",
       "        features: ['sentence1', 'sentence2', 'label', 'sample_idx'],\n",
       "        num_rows: 3200\n",
       "    })\n",
       "    val: Dataset({\n",
       "        features: ['sentence1', 'sentence2', 'label', 'sample_idx'],\n",
       "        num_rows: 800\n",
       "    })\n",
       "})"
      ]
     },
     "execution_count": 3,
     "metadata": {},
     "output_type": "execute_result"
    }
   ],
   "source": [
    "import os\n",
    "\n",
    "import datasets\n",
    "import numpy as np\n",
    "import pandas as pd\n",
    "import torch\n",
    "from datasets import DatasetDict\n",
    "from sentence_transformers import SentenceTransformer\n",
    "\n",
    "from mmcontext.models.mmcontextencoder import MMContextEncoder\n",
    "from mmcontext.simulator import OmicsCaptionSimulator\n",
    "\n",
    "# simulate tiny dataset\n",
    "sim = OmicsCaptionSimulator(n_samples=2000, n_genes=12).simulate(preset=\"pair-binary\")\n",
    "raw_ds = sim.get_hf_dataset()\n",
    "raw_ds"
   ]
  },
  {
   "cell_type": "markdown",
   "id": "c86bd9d5",
   "metadata": {},
   "source": [
    "## Text‑only"
   ]
  },
  {
   "cell_type": "code",
   "execution_count": 4,
   "id": "1c4a6750",
   "metadata": {},
   "outputs": [
    {
     "name": "stderr",
     "output_type": "stream",
     "text": [
      "2025-07-15 11:05:12,143 - sentence_transformers.SentenceTransformer - INFO - Use pytorch device_name: mps\n",
      "\u001b[34m\u001b[1mwandb\u001b[0m: \u001b[33mWARNING\u001b[0m The `run_name` is currently set to the same value as `TrainingArguments.output_dir`. If this was not intended, please specify a different run name by setting the `TrainingArguments.run_name` parameter.\n",
      "huggingface/tokenizers: The current process just got forked, after parallelism has already been used. Disabling parallelism to avoid deadlocks...\n",
      "To disable this warning, you can either:\n",
      "\t- Avoid using `tokenizers` before the fork if possible\n",
      "\t- Explicitly set the environment variable TOKENIZERS_PARALLELISM=(true | false)\n",
      "huggingface/tokenizers: The current process just got forked, after parallelism has already been used. Disabling parallelism to avoid deadlocks...\n",
      "To disable this warning, you can either:\n",
      "\t- Avoid using `tokenizers` before the fork if possible\n",
      "\t- Explicitly set the environment variable TOKENIZERS_PARALLELISM=(true | false)\n",
      "huggingface/tokenizers: The current process just got forked, after parallelism has already been used. Disabling parallelism to avoid deadlocks...\n",
      "To disable this warning, you can either:\n",
      "\t- Avoid using `tokenizers` before the fork if possible\n",
      "\t- Explicitly set the environment variable TOKENIZERS_PARALLELISM=(true | false)\n",
      "\u001b[34m\u001b[1mwandb\u001b[0m: Currently logged in as: \u001b[33mmengerj\u001b[0m (\u001b[33mmengerj-universit-tsklinikum-freiburg\u001b[0m) to \u001b[32mhttps://api.wandb.ai\u001b[0m. Use \u001b[1m`wandb login --relogin`\u001b[0m to force relogin\n",
      "huggingface/tokenizers: The current process just got forked, after parallelism has already been used. Disabling parallelism to avoid deadlocks...\n",
      "To disable this warning, you can either:\n",
      "\t- Avoid using `tokenizers` before the fork if possible\n",
      "\t- Explicitly set the environment variable TOKENIZERS_PARALLELISM=(true | false)\n",
      "/Users/mengerj/repos/mmcontext/.venv/lib/python3.12/site-packages/wandb/analytics/sentry.py:259: DeprecationWarning: The `Scope.user` setter is deprecated in favor of `Scope.set_user()`.\n",
      "  self.scope.user = {\"email\": email}  # noqa\n",
      "huggingface/tokenizers: The current process just got forked, after parallelism has already been used. Disabling parallelism to avoid deadlocks...\n",
      "To disable this warning, you can either:\n",
      "\t- Avoid using `tokenizers` before the fork if possible\n",
      "\t- Explicitly set the environment variable TOKENIZERS_PARALLELISM=(true | false)\n",
      "/Users/mengerj/repos/mmcontext/.venv/lib/python3.12/site-packages/wandb/analytics/sentry.py:259: DeprecationWarning: The `Scope.user` setter is deprecated in favor of `Scope.set_user()`.\n",
      "  self.scope.user = {\"email\": email}  # noqa\n"
     ]
    },
    {
     "data": {
      "text/html": [
       "Tracking run with wandb version 0.19.11"
      ],
      "text/plain": [
       "<IPython.core.display.HTML object>"
      ]
     },
     "metadata": {},
     "output_type": "display_data"
    },
    {
     "data": {
      "text/html": [
       "Run data is saved locally in <code>/Users/mengerj/repos/mmcontext/exploratory/notebooks/wandb/run-20250715_110513-ikuy3k7l</code>"
      ],
      "text/plain": [
       "<IPython.core.display.HTML object>"
      ]
     },
     "metadata": {},
     "output_type": "display_data"
    },
    {
     "data": {
      "text/html": [
       "Syncing run <strong><a href='https://wandb.ai/mengerj-universit-tsklinikum-freiburg/sentence-transformers/runs/ikuy3k7l' target=\"_blank\">./models/demo_text_only</a></strong> to <a href='https://wandb.ai/mengerj-universit-tsklinikum-freiburg/sentence-transformers' target=\"_blank\">Weights & Biases</a> (<a href='https://wandb.me/developer-guide' target=\"_blank\">docs</a>)<br>"
      ],
      "text/plain": [
       "<IPython.core.display.HTML object>"
      ]
     },
     "metadata": {},
     "output_type": "display_data"
    },
    {
     "data": {
      "text/html": [
       " View project at <a href='https://wandb.ai/mengerj-universit-tsklinikum-freiburg/sentence-transformers' target=\"_blank\">https://wandb.ai/mengerj-universit-tsklinikum-freiburg/sentence-transformers</a>"
      ],
      "text/plain": [
       "<IPython.core.display.HTML object>"
      ]
     },
     "metadata": {},
     "output_type": "display_data"
    },
    {
     "data": {
      "text/html": [
       " View run at <a href='https://wandb.ai/mengerj-universit-tsklinikum-freiburg/sentence-transformers/runs/ikuy3k7l' target=\"_blank\">https://wandb.ai/mengerj-universit-tsklinikum-freiburg/sentence-transformers/runs/ikuy3k7l</a>"
      ],
      "text/plain": [
       "<IPython.core.display.HTML object>"
      ]
     },
     "metadata": {},
     "output_type": "display_data"
    },
    {
     "name": "stderr",
     "output_type": "stream",
     "text": [
      "/Users/mengerj/repos/mmcontext/.venv/lib/python3.12/site-packages/torch/utils/data/dataloader.py:683: UserWarning: 'pin_memory' argument is set as true but not supported on MPS now, then device pinned memory won't be used.\n",
      "  warnings.warn(warn_msg)\n"
     ]
    },
    {
     "data": {
      "text/html": [
       "\n",
       "    <div>\n",
       "      \n",
       "      <progress value='50' max='50' style='width:300px; height:20px; vertical-align: middle;'></progress>\n",
       "      [50/50 00:03, Epoch 1/1]\n",
       "    </div>\n",
       "    <table border=\"1\" class=\"dataframe\">\n",
       "  <thead>\n",
       " <tr style=\"text-align: left;\">\n",
       "      <th>Step</th>\n",
       "      <th>Training Loss</th>\n",
       "    </tr>\n",
       "  </thead>\n",
       "  <tbody>\n",
       "  </tbody>\n",
       "</table><p>"
      ],
      "text/plain": [
       "<IPython.core.display.HTML object>"
      ]
     },
     "metadata": {},
     "output_type": "display_data"
    },
    {
     "name": "stderr",
     "output_type": "stream",
     "text": [
      "2025-07-15 11:05:16,717 - sentence_transformers.trainer - INFO - Saving model checkpoint to ./models/demo_text_only/checkpoint-50\n",
      "2025-07-15 11:05:16,717 - sentence_transformers.SentenceTransformer - INFO - Save model to ./models/demo_text_only/checkpoint-50\n"
     ]
    },
    {
     "data": {
      "text/plain": [
       "TrainOutput(global_step=50, training_loss=0.03247499465942383, metrics={'train_runtime': 4.8861, 'train_samples_per_second': 654.919, 'train_steps_per_second': 10.233, 'total_flos': 0.0, 'train_loss': 0.03247499465942383, 'epoch': 1.0})"
      ]
     },
     "execution_count": 4,
     "metadata": {},
     "output_type": "execute_result"
    }
   ],
   "source": [
    "from sentence_transformers import SentenceTransformerTrainer, SentenceTransformerTrainingArguments, losses\n",
    "\n",
    "enc = MMContextEncoder(\"prajjwal1/bert-tiny\", adapter_hidden_dim=None)\n",
    "ds = enc.prepare_ds(raw_ds, prefix=False, primary_cell_sentence_col=\"sentence1\", caption_col=\"sentence2\")\n",
    "st = SentenceTransformer(modules=[enc])\n",
    "train, val = ds[\"train\"], ds[\"val\"]\n",
    "out_dir = \"./models/demo_text_only\"\n",
    "\n",
    "loss = losses.ContrastiveLoss(model=st)\n",
    "args = SentenceTransformerTrainingArguments(\n",
    "    output_dir=out_dir,\n",
    "    num_train_epochs=1,\n",
    "    per_device_train_batch_size=64,\n",
    "    per_device_eval_batch_size=64,\n",
    ")\n",
    "trainer = SentenceTransformerTrainer(\n",
    "    model=st,\n",
    "    args=args,\n",
    "    train_dataset=train,\n",
    "    eval_dataset=val,\n",
    "    loss=loss,\n",
    ")\n",
    "trainer.train()"
   ]
  },
  {
   "cell_type": "markdown",
   "id": "ce05f584",
   "metadata": {},
   "source": [
    "## Feature‑level tokens"
   ]
  },
  {
   "cell_type": "code",
   "execution_count": 5,
   "id": "cb31fa0c",
   "metadata": {},
   "outputs": [
    {
     "name": "stderr",
     "output_type": "stream",
     "text": [
      "2025-07-15 11:05:19,789 - root - INFO - Building HF dataset with preset: pair-binary\n",
      "2025-07-15 11:05:19,790 - root - INFO - Available presets: single, single-class, pair, pair-binary, triplet\n",
      "/Users/mengerj/repos/mmcontext/.venv/lib/python3.12/site-packages/datasets/utils/_dill.py:385: DeprecationWarning: co_lnotab is deprecated, use co_lines instead.\n",
      "  obj.co_lnotab,  # for < python 3.10 [not counted in args]\n",
      "Filter: 100%|██████████| 4000/4000 [00:00<00:00, 518407.32 examples/s]\n",
      "Filter: 100%|██████████| 4000/4000 [00:00<00:00, 533898.17 examples/s]\n"
     ]
    }
   ],
   "source": [
    "sim = OmicsCaptionSimulator(n_samples=2000, n_genes=12, use_gene_level=True).simulate()\n",
    "token_df = sim.get_dataframe()\n",
    "raw_ds = sim.get_hf_dataset()"
   ]
  },
  {
   "cell_type": "code",
   "execution_count": 8,
   "id": "f33a1497",
   "metadata": {},
   "outputs": [
    {
     "name": "stderr",
     "output_type": "stream",
     "text": [
      "2025-07-15 11:07:14,590 - mmcontext.models.omicsencoder - INFO - Loaded embedding matrix with shape (13, 16)\n",
      "2025-07-15 11:07:14,591 - mmcontext.models.mmcontextencoder - INFO - Registered 13 new numeric samples (total 13). ≈0.000 GiB added. (Assuming float32 precision.)\n",
      "/Users/mengerj/repos/mmcontext/.venv/lib/python3.12/site-packages/datasets/utils/_dill.py:385: DeprecationWarning: co_lnotab is deprecated, use co_lines instead.\n",
      "  obj.co_lnotab,  # for < python 3.10 [not counted in args]\n",
      "Prefixing sentence1: 100%|██████████| 3200/3200 [00:00<00:00, 170556.49 examples/s]\n",
      "Prefixing sentence1: 100%|██████████| 800/800 [00:00<00:00, 194552.28 examples/s]\n",
      "2025-07-15 11:07:14,715 - sentence_transformers.SentenceTransformer - INFO - Use pytorch device_name: mps\n",
      "/Users/mengerj/repos/mmcontext/.venv/lib/python3.12/site-packages/torch/utils/data/dataloader.py:683: UserWarning: 'pin_memory' argument is set as true but not supported on MPS now, then device pinned memory won't be used.\n",
      "  warnings.warn(warn_msg)\n"
     ]
    },
    {
     "data": {
      "text/html": [
       "\n",
       "    <div>\n",
       "      \n",
       "      <progress value='400' max='400' style='width:300px; height:20px; vertical-align: middle;'></progress>\n",
       "      [400/400 00:13, Epoch 1/1]\n",
       "    </div>\n",
       "    <table border=\"1\" class=\"dataframe\">\n",
       "  <thead>\n",
       " <tr style=\"text-align: left;\">\n",
       "      <th>Step</th>\n",
       "      <th>Training Loss</th>\n",
       "    </tr>\n",
       "  </thead>\n",
       "  <tbody>\n",
       "  </tbody>\n",
       "</table><p>"
      ],
      "text/plain": [
       "<IPython.core.display.HTML object>"
      ]
     },
     "metadata": {},
     "output_type": "display_data"
    },
    {
     "name": "stderr",
     "output_type": "stream",
     "text": [
      "2025-07-15 11:07:28,155 - sentence_transformers.trainer - INFO - Saving model checkpoint to ./models/demo_feat_tokens/checkpoint-400\n",
      "2025-07-15 11:07:28,156 - sentence_transformers.SentenceTransformer - INFO - Save model to ./models/demo_feat_tokens/checkpoint-400\n"
     ]
    },
    {
     "data": {
      "text/plain": [
       "TrainOutput(global_step=400, training_loss=0.2524380111694336, metrics={'train_runtime': 14.2909, 'train_samples_per_second': 223.919, 'train_steps_per_second': 27.99, 'total_flos': 0.0, 'train_loss': 0.2524380111694336, 'epoch': 1.0})"
      ]
     },
     "execution_count": 8,
     "metadata": {},
     "output_type": "execute_result"
    }
   ],
   "source": [
    "from sentence_transformers import SentenceTransformerTrainer, SentenceTransformerTrainingArguments, losses\n",
    "\n",
    "enc = MMContextEncoder(\"prajjwal1/bert-tiny\", adapter_hidden_dim=32, adapter_output_dim=64)\n",
    "enc.register_initial_embeddings(token_df, data_origin=\"geneformer\")\n",
    "# Include the prefix into the dataset. This will tell the model that this input is not treated as a normal string\n",
    "# Prefixed inputs are used for the omics side of the model, which is a lookup-only encoder, built with intial embeddings of other models, eg. geneformer.\n",
    "ds = enc.prepare_ds(raw_ds, prefix=True, primary_cell_sentence_col=\"sentence1\", caption_col=\"sentence2\")\n",
    "train, val = ds[\"train\"], ds[\"val\"]\n",
    "st = SentenceTransformer(modules=[enc])\n",
    "out_dir = \"./models/demo_feat_tokens\"\n",
    "\n",
    "loss = losses.ContrastiveLoss(model=st)\n",
    "args = SentenceTransformerTrainingArguments(\n",
    "    output_dir=out_dir,\n",
    "    num_train_epochs=1,\n",
    "    per_device_train_batch_size=8,\n",
    "    per_device_eval_batch_size=8,\n",
    ")\n",
    "trainer = SentenceTransformerTrainer(\n",
    "    model=st,\n",
    "    args=args,\n",
    "    train_dataset=train,\n",
    "    eval_dataset=val,\n",
    "    loss=loss,\n",
    ")\n",
    "trainer.train()"
   ]
  },
  {
   "cell_type": "markdown",
   "id": "801da917",
   "metadata": {},
   "source": [
    "## Sample‑level tokens"
   ]
  },
  {
   "cell_type": "code",
   "execution_count": 9,
   "id": "d3466ded",
   "metadata": {},
   "outputs": [
    {
     "name": "stderr",
     "output_type": "stream",
     "text": [
      "2025-07-15 11:07:59,717 - root - INFO - Building HF dataset with preset: pair-binary\n",
      "2025-07-15 11:07:59,718 - root - INFO - Available presets: single, single-class, pair, pair-binary, triplet\n",
      "/Users/mengerj/repos/mmcontext/.venv/lib/python3.12/site-packages/datasets/utils/_dill.py:385: DeprecationWarning: co_lnotab is deprecated, use co_lines instead.\n",
      "  obj.co_lnotab,  # for < python 3.10 [not counted in args]\n",
      "Filter: 100%|██████████| 4000/4000 [00:00<00:00, 543391.61 examples/s]\n",
      "Filter: 100%|██████████| 4000/4000 [00:00<00:00, 529116.19 examples/s]\n"
     ]
    }
   ],
   "source": [
    "sim = OmicsCaptionSimulator(n_samples=2000, n_genes=12, use_gene_level=False).simulate()\n",
    "token_df = sim.get_dataframe()\n",
    "raw_ds = sim.get_hf_dataset()"
   ]
  },
  {
   "cell_type": "code",
   "execution_count": 11,
   "id": "30fdc4b5",
   "metadata": {},
   "outputs": [
    {
     "name": "stderr",
     "output_type": "stream",
     "text": [
      "2025-07-15 11:08:19,641 - mmcontext.models.omicsencoder - INFO - Loaded embedding matrix with shape (2001, 32)\n",
      "2025-07-15 11:08:19,641 - mmcontext.models.mmcontextencoder - INFO - Registered 2001 new numeric samples (total 2001). ≈0.000 GiB added. (Assuming float32 precision.)\n",
      "/Users/mengerj/repos/mmcontext/.venv/lib/python3.12/site-packages/datasets/utils/_dill.py:385: DeprecationWarning: co_lnotab is deprecated, use co_lines instead.\n",
      "  obj.co_lnotab,  # for < python 3.10 [not counted in args]\n",
      "Prefixing sentence1: 100%|██████████| 3200/3200 [00:00<00:00, 168076.80 examples/s]\n",
      "Prefixing sentence1: 100%|██████████| 800/800 [00:00<00:00, 239093.86 examples/s]\n",
      "2025-07-15 11:08:19,764 - sentence_transformers.SentenceTransformer - INFO - Use pytorch device_name: mps\n",
      "/Users/mengerj/repos/mmcontext/.venv/lib/python3.12/site-packages/torch/utils/data/dataloader.py:683: UserWarning: 'pin_memory' argument is set as true but not supported on MPS now, then device pinned memory won't be used.\n",
      "  warnings.warn(warn_msg)\n"
     ]
    },
    {
     "data": {
      "text/html": [
       "\n",
       "    <div>\n",
       "      \n",
       "      <progress value='50' max='50' style='width:300px; height:20px; vertical-align: middle;'></progress>\n",
       "      [50/50 00:03, Epoch 1/1]\n",
       "    </div>\n",
       "    <table border=\"1\" class=\"dataframe\">\n",
       "  <thead>\n",
       " <tr style=\"text-align: left;\">\n",
       "      <th>Step</th>\n",
       "      <th>Training Loss</th>\n",
       "    </tr>\n",
       "  </thead>\n",
       "  <tbody>\n",
       "  </tbody>\n",
       "</table><p>"
      ],
      "text/plain": [
       "<IPython.core.display.HTML object>"
      ]
     },
     "metadata": {},
     "output_type": "display_data"
    },
    {
     "name": "stderr",
     "output_type": "stream",
     "text": [
      "2025-07-15 11:08:22,087 - sentence_transformers.trainer - INFO - Saving model checkpoint to ./models/demo_sample_tokens/checkpoint-50\n",
      "2025-07-15 11:08:22,088 - sentence_transformers.SentenceTransformer - INFO - Save model to ./models/demo_sample_tokens/checkpoint-50\n"
     ]
    },
    {
     "data": {
      "text/plain": [
       "TrainOutput(global_step=50, training_loss=0.25470958709716796, metrics={'train_runtime': 3.5607, 'train_samples_per_second': 898.693, 'train_steps_per_second': 14.042, 'total_flos': 0.0, 'train_loss': 0.25470958709716796, 'epoch': 1.0})"
      ]
     },
     "execution_count": 11,
     "metadata": {},
     "output_type": "execute_result"
    }
   ],
   "source": [
    "from sentence_transformers import SentenceTransformerTrainer, SentenceTransformerTrainingArguments, losses\n",
    "\n",
    "enc = MMContextEncoder(\"prajjwal1/bert-tiny\", adapter_hidden_dim=32, adapter_output_dim=64)\n",
    "enc.register_initial_embeddings(token_df, data_origin=\"pca\")\n",
    "ds = enc.prepare_ds(raw_ds, primary_cell_sentence_col=\"sentence1\", caption_col=\"sentence2\")\n",
    "train, val = ds[\"train\"], ds[\"val\"]\n",
    "st = SentenceTransformer(modules=[enc])\n",
    "out_dir = \"./models/demo_sample_tokens\"\n",
    "\n",
    "loss = losses.ContrastiveLoss(model=st)\n",
    "args = SentenceTransformerTrainingArguments(\n",
    "    output_dir=out_dir,\n",
    "    num_train_epochs=1,\n",
    "    per_device_train_batch_size=64,\n",
    "    per_device_eval_batch_size=64,\n",
    ")\n",
    "trainer = SentenceTransformerTrainer(\n",
    "    model=st,\n",
    "    args=args,\n",
    "    train_dataset=train,\n",
    "    eval_dataset=val,\n",
    "    loss=loss,\n",
    ")\n",
    "trainer.train()"
   ]
  },
  {
   "cell_type": "markdown",
   "id": "e9d389fc",
   "metadata": {},
   "source": [
    "## Random baseline"
   ]
  },
  {
   "cell_type": "code",
   "execution_count": 14,
   "id": "36ba4da1",
   "metadata": {},
   "outputs": [
    {
     "name": "stderr",
     "output_type": "stream",
     "text": [
      "2025-07-15 11:09:11,430 - mmcontext.models.omicsencoder - INFO - Loaded embedding matrix with shape (2001, 64)\n",
      "2025-07-15 11:09:11,431 - mmcontext.models.mmcontextencoder - INFO - Registered 2001 new numeric samples (total 2001). ≈0.000 GiB added. (Assuming float32 precision.)\n",
      "/Users/mengerj/repos/mmcontext/.venv/lib/python3.12/site-packages/datasets/utils/_dill.py:385: DeprecationWarning: co_lnotab is deprecated, use co_lines instead.\n",
      "  obj.co_lnotab,  # for < python 3.10 [not counted in args]\n",
      "Prefixing sentence1: 100%|██████████| 3200/3200 [00:00<00:00, 177431.06 examples/s]\n",
      "Prefixing sentence1: 100%|██████████| 800/800 [00:00<00:00, 250144.86 examples/s]\n",
      "2025-07-15 11:09:11,541 - sentence_transformers.SentenceTransformer - INFO - Use pytorch device_name: mps\n"
     ]
    }
   ],
   "source": [
    "enc = MMContextEncoder(\"prajjwal1/bert-tiny\", adapter_hidden_dim=None, adapter_output_dim=128, freeze_text_encoder=True)\n",
    "enc.random_initial_embeddings(list(token_df[\"token\"]))\n",
    "ds = enc.prepare_ds(raw_ds, primary_cell_sentence_col=\"sentence1\", caption_col=\"sentence2\")\n",
    "train, val = ds[\"train\"], ds[\"val\"]\n",
    "st = SentenceTransformer(modules=[enc])"
   ]
  },
  {
   "cell_type": "code",
   "execution_count": 15,
   "id": "013cb416",
   "metadata": {},
   "outputs": [
    {
     "name": "stderr",
     "output_type": "stream",
     "text": [
      "/Users/mengerj/repos/mmcontext/.venv/lib/python3.12/site-packages/torch/utils/data/dataloader.py:683: UserWarning: 'pin_memory' argument is set as true but not supported on MPS now, then device pinned memory won't be used.\n",
      "  warnings.warn(warn_msg)\n"
     ]
    },
    {
     "data": {
      "text/html": [
       "\n",
       "    <div>\n",
       "      \n",
       "      <progress value='128' max='128' style='width:300px; height:20px; vertical-align: middle;'></progress>\n",
       "      [128/128 00:08, Epoch 64/64]\n",
       "    </div>\n",
       "    <table border=\"1\" class=\"dataframe\">\n",
       "  <thead>\n",
       " <tr style=\"text-align: left;\">\n",
       "      <th>Step</th>\n",
       "      <th>Training Loss</th>\n",
       "    </tr>\n",
       "  </thead>\n",
       "  <tbody>\n",
       "  </tbody>\n",
       "</table><p>"
      ],
      "text/plain": [
       "<IPython.core.display.HTML object>"
      ]
     },
     "metadata": {},
     "output_type": "display_data"
    },
    {
     "name": "stderr",
     "output_type": "stream",
     "text": [
      "2025-07-15 11:09:57,111 - sentence_transformers.trainer - INFO - Saving model checkpoint to ./models/demo_random/checkpoint-128\n",
      "2025-07-15 11:09:57,111 - sentence_transformers.SentenceTransformer - INFO - Save model to ./models/demo_random/checkpoint-128\n"
     ]
    },
    {
     "data": {
      "text/plain": [
       "TrainOutput(global_step=128, training_loss=0.25067639350891113, metrics={'train_runtime': 8.715, 'train_samples_per_second': 23499.648, 'train_steps_per_second': 14.687, 'total_flos': 0.0, 'train_loss': 0.25067639350891113, 'epoch': 64.0})"
      ]
     },
     "execution_count": 15,
     "metadata": {},
     "output_type": "execute_result"
    }
   ],
   "source": [
    "from sentence_transformers import SentenceTransformerTrainer, SentenceTransformerTrainingArguments, losses\n",
    "\n",
    "out_dir = \"./models/demo_random\"\n",
    "\n",
    "\n",
    "loss = losses.ContrastiveLoss(model=st)\n",
    "args = SentenceTransformerTrainingArguments(\n",
    "    output_dir=out_dir,\n",
    "    num_train_epochs=64,\n",
    "    per_device_train_batch_size=2560,\n",
    "    per_device_eval_batch_size=2560,\n",
    ")\n",
    "trainer = SentenceTransformerTrainer(\n",
    "    model=st,\n",
    "    args=args,\n",
    "    train_dataset=train,\n",
    "    eval_dataset=val,\n",
    "    loss=loss,\n",
    ")\n",
    "trainer.train()"
   ]
  },
  {
   "cell_type": "markdown",
   "id": "3681b54a",
   "metadata": {},
   "source": [
    "### Further notes\n",
    "* Swap in other losses or multi‑positive datasets – see the [Sentence‑Transformers training docs](https://www.sbert.net/docs/training/overview.html).\n",
    "* Internally ST gives names to each input features. Text tokens are \"input_ids\". The only othe option supported by default are \"pixel_values\", which i use here for the tokens of my omics sample."
   ]
  },
  {
   "cell_type": "markdown",
   "id": "91d542f2",
   "metadata": {},
   "source": []
  }
 ],
 "metadata": {
  "kernelspec": {
   "display_name": ".venv",
   "language": "python",
   "name": "python3"
  },
  "language_info": {
   "codemirror_mode": {
    "name": "ipython",
    "version": 3
   },
   "file_extension": ".py",
   "mimetype": "text/x-python",
   "name": "python",
   "nbconvert_exporter": "python",
   "pygments_lexer": "ipython3",
   "version": "3.12.9"
  }
 },
 "nbformat": 4,
 "nbformat_minor": 5
}

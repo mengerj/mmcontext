{
 "cells": [
  {
   "cell_type": "markdown",
   "id": "a8c457d5",
   "metadata": {},
   "source": [
    "# MMContextEncoder — Training Walkthrough\n",
    "This notebook demonstrates how to finetune the multimodal `MMContextEncoder` in four flavours:\n",
    "1. **Text‑only**\n",
    "2. **Pre‑computed numeric embeddings**  \n",
    "   ‑ 2 a. Feature‑level tokens  \n",
    "   ‑ 2 b. Sample‑level tokens\n",
    "3. **Random‑initialised baseline**\n",
    "\n",
    "Small epochs & batch‑sizes keep runtime short – scale them up for real work."
   ]
  },
  {
   "cell_type": "code",
   "execution_count": 16,
   "id": "730b2ce2",
   "metadata": {},
   "outputs": [
    {
     "name": "stdout",
     "output_type": "stream",
     "text": [
      "The autoreload extension is already loaded. To reload it, use:\n",
      "  %reload_ext autoreload\n"
     ]
    },
    {
     "data": {
      "text/plain": [
       "<RootLogger root (INFO)>"
      ]
     },
     "execution_count": 16,
     "metadata": {},
     "output_type": "execute_result"
    }
   ],
   "source": [
    "%load_ext autoreload\n",
    "%autoreload 2\n",
    "from mmcontext.utils import setup_logging\n",
    "\n",
    "setup_logging()"
   ]
  },
  {
   "cell_type": "markdown",
   "id": "9a283a20",
   "metadata": {},
   "source": [
    "## 0  Setup & toy data"
   ]
  },
  {
   "cell_type": "code",
   "execution_count": 22,
   "id": "3484ec7c",
   "metadata": {},
   "outputs": [
    {
     "name": "stderr",
     "output_type": "stream",
     "text": [
      "Filter: 100%|██████████| 4000/4000 [00:00<00:00, 571119.83 examples/s]\n",
      "Filter: 100%|██████████| 4000/4000 [00:00<00:00, 573403.60 examples/s]\n"
     ]
    },
    {
     "data": {
      "text/plain": [
       "DatasetDict({\n",
       "    train: Dataset({\n",
       "        features: ['sentence1', 'sentence2', 'label', 'sample_idx'],\n",
       "        num_rows: 3200\n",
       "    })\n",
       "    val: Dataset({\n",
       "        features: ['sentence1', 'sentence2', 'label', 'sample_idx'],\n",
       "        num_rows: 800\n",
       "    })\n",
       "})"
      ]
     },
     "execution_count": 22,
     "metadata": {},
     "output_type": "execute_result"
    }
   ],
   "source": [
    "import os\n",
    "\n",
    "import datasets\n",
    "import numpy as np\n",
    "import pandas as pd\n",
    "import torch\n",
    "from datasets import DatasetDict\n",
    "from sentence_transformers import SentenceTransformer\n",
    "\n",
    "from mmcontext.models.mmcontextencoder import MMContextEncoder\n",
    "from mmcontext.simulator import OmicsCaptionSimulator\n",
    "\n",
    "# simulate tiny dataset\n",
    "sim = OmicsCaptionSimulator(n_samples=2000, n_genes=12).simulate()\n",
    "raw_ds = sim.get_hf_dataset()\n",
    "raw_ds"
   ]
  },
  {
   "cell_type": "markdown",
   "id": "c86bd9d5",
   "metadata": {},
   "source": [
    "## Text‑only"
   ]
  },
  {
   "cell_type": "code",
   "execution_count": 21,
   "id": "1c4a6750",
   "metadata": {},
   "outputs": [
    {
     "name": "stderr",
     "output_type": "stream",
     "text": [
      "2025-05-20 10:14:58,432 - sentence_transformers.SentenceTransformer - INFO - Use pytorch device_name: mps\n",
      "                                                   \n",
      " 37%|███▋      | 1484/4000 [01:22<01:25, 29.43it/s]2025-05-20 10:15:17,296 - sentence_transformers.trainer - INFO - Saving model checkpoint to ./models/demo_text_only/checkpoint-500\n",
      "2025-05-20 10:15:17,296 - sentence_transformers.SentenceTransformer - INFO - Save model to ./models/demo_text_only/checkpoint-500\n"
     ]
    },
    {
     "name": "stdout",
     "output_type": "stream",
     "text": [
      "{'loss': 0.0321, 'grad_norm': 0.11336958408355713, 'learning_rate': 0.0, 'epoch': 1.0}\n"
     ]
    },
    {
     "name": "stderr",
     "output_type": "stream",
     "text": [
      "                                                   \n",
      "100%|██████████| 500/500 [00:19<00:00, 25.19it/s]s]"
     ]
    },
    {
     "name": "stdout",
     "output_type": "stream",
     "text": [
      "{'train_runtime': 19.8485, 'train_samples_per_second': 1612.209, 'train_steps_per_second': 25.191, 'train_loss': 0.03207863998413086, 'epoch': 1.0}\n"
     ]
    },
    {
     "name": "stderr",
     "output_type": "stream",
     "text": [
      "\n"
     ]
    },
    {
     "data": {
      "text/plain": [
       "TrainOutput(global_step=500, training_loss=0.03207863998413086, metrics={'train_runtime': 19.8485, 'train_samples_per_second': 1612.209, 'train_steps_per_second': 25.191, 'total_flos': 0.0, 'train_loss': 0.03207863998413086, 'epoch': 1.0})"
      ]
     },
     "execution_count": 21,
     "metadata": {},
     "output_type": "execute_result"
    }
   ],
   "source": [
    "from sentence_transformers import SentenceTransformerTrainer, SentenceTransformerTrainingArguments, losses\n",
    "\n",
    "enc = MMContextEncoder(\"prajjwal1/bert-tiny\", adapter_hidden_dim=None)\n",
    "ds = enc.prepare_ds(raw_ds, prefix=False, cell_sentences_cols=[\"sentence1\"], caption_col=\"sentence2\")\n",
    "st = SentenceTransformer(modules=[enc])\n",
    "train, val = ds[\"train\"], ds[\"val\"]\n",
    "out_dir = \"./models/demo_text_only\"\n",
    "\n",
    "loss = losses.ContrastiveLoss(model=st)\n",
    "args = SentenceTransformerTrainingArguments(\n",
    "    output_dir=out_dir,\n",
    "    num_train_epochs=1,\n",
    "    per_device_train_batch_size=64,\n",
    "    per_device_eval_batch_size=64,\n",
    ")\n",
    "trainer = SentenceTransformerTrainer(\n",
    "    model=st,\n",
    "    args=args,\n",
    "    train_dataset=train,\n",
    "    eval_dataset=val,\n",
    "    loss=loss,\n",
    ")\n",
    "trainer.train()"
   ]
  },
  {
   "cell_type": "markdown",
   "id": "ce05f584",
   "metadata": {},
   "source": [
    "## Feature‑level tokens"
   ]
  },
  {
   "cell_type": "code",
   "execution_count": 23,
   "id": "cb31fa0c",
   "metadata": {},
   "outputs": [
    {
     "name": "stderr",
     "output_type": "stream",
     "text": [
      "Filter: 100%|██████████| 4000/4000 [00:00<00:00, 572308.24 examples/s]\n",
      "Filter: 100%|██████████| 4000/4000 [00:00<00:00, 578764.18 examples/s]\n"
     ]
    }
   ],
   "source": [
    "sim = OmicsCaptionSimulator(n_samples=2000, n_genes=12, use_gene_level=True).simulate()\n",
    "token_df = sim.get_dataframe()\n",
    "raw_ds = sim.get_hf_dataset()"
   ]
  },
  {
   "cell_type": "code",
   "execution_count": 25,
   "id": "f33a1497",
   "metadata": {},
   "outputs": [
    {
     "name": "stderr",
     "output_type": "stream",
     "text": [
      "2025-05-20 10:16:17,220 - mmcontext.models.omicsencoder - INFO - Loaded embedding matrix with shape (13, 16)\n",
      "2025-05-20 10:16:17,221 - mmcontext.models.mmcontextencoder - INFO - Registered 13 new numeric samples (total 13). ≈0.000 GiB added. (Assuming float32 precision.)\n",
      "Prefixing sentence1: 100%|██████████| 3200/3200 [00:00<00:00, 170667.10 examples/s]\n",
      "Prefixing sentence1: 100%|██████████| 800/800 [00:00<00:00, 273980.83 examples/s]\n",
      "2025-05-20 10:16:17,335 - sentence_transformers.SentenceTransformer - INFO - Use pytorch device_name: mps\n",
      "2025-05-20 10:16:29,403 - sentence_transformers.trainer - INFO - Saving model checkpoint to ./models/demo_feat_tokens/checkpoint-400\n",
      "2025-05-20 10:16:29,403 - sentence_transformers.SentenceTransformer - INFO - Save model to ./models/demo_feat_tokens/checkpoint-400\n",
      "                                                   \n",
      "100%|██████████| 400/400 [00:12<00:00, 31.15it/s]s]"
     ]
    },
    {
     "name": "stdout",
     "output_type": "stream",
     "text": [
      "{'train_runtime': 12.8439, 'train_samples_per_second': 249.145, 'train_steps_per_second': 31.143, 'train_loss': 0.2536071968078613, 'epoch': 1.0}\n"
     ]
    },
    {
     "name": "stderr",
     "output_type": "stream",
     "text": [
      "\n"
     ]
    },
    {
     "data": {
      "text/plain": [
       "TrainOutput(global_step=400, training_loss=0.2536071968078613, metrics={'train_runtime': 12.8439, 'train_samples_per_second': 249.145, 'train_steps_per_second': 31.143, 'total_flos': 0.0, 'train_loss': 0.2536071968078613, 'epoch': 1.0})"
      ]
     },
     "execution_count": 25,
     "metadata": {},
     "output_type": "execute_result"
    }
   ],
   "source": [
    "from sentence_transformers import SentenceTransformerTrainer, SentenceTransformerTrainingArguments, losses\n",
    "\n",
    "enc = MMContextEncoder(\"prajjwal1/bert-tiny\", adapter_hidden_dim=32, adapter_output_dim=64)\n",
    "enc.register_initial_embeddings(token_df, data_origin=\"geneformer\")\n",
    "ds = enc.prepare_ds(raw_ds, cell_sentences_cols=\"sentence1\", caption_col=\"sentence2\")\n",
    "train, val = ds[\"train\"], ds[\"val\"]\n",
    "st = SentenceTransformer(modules=[enc])\n",
    "out_dir = \"./models/demo_feat_tokens\"\n",
    "\n",
    "loss = losses.ContrastiveLoss(model=st)\n",
    "args = SentenceTransformerTrainingArguments(\n",
    "    output_dir=out_dir,\n",
    "    num_train_epochs=1,\n",
    "    per_device_train_batch_size=8,\n",
    "    per_device_eval_batch_size=8,\n",
    ")\n",
    "trainer = SentenceTransformerTrainer(\n",
    "    model=st,\n",
    "    args=args,\n",
    "    train_dataset=train,\n",
    "    eval_dataset=val,\n",
    "    loss=loss,\n",
    ")\n",
    "trainer.train()"
   ]
  },
  {
   "cell_type": "markdown",
   "id": "801da917",
   "metadata": {},
   "source": [
    "## Sample‑level tokens"
   ]
  },
  {
   "cell_type": "code",
   "execution_count": 26,
   "id": "d3466ded",
   "metadata": {},
   "outputs": [
    {
     "name": "stderr",
     "output_type": "stream",
     "text": [
      "Filter: 100%|██████████| 4000/4000 [00:00<00:00, 593211.80 examples/s]\n",
      "Filter: 100%|██████████| 4000/4000 [00:00<00:00, 591872.43 examples/s]\n"
     ]
    }
   ],
   "source": [
    "sim = OmicsCaptionSimulator(n_samples=2000, n_genes=12, use_gene_level=False).simulate()\n",
    "token_df = sim.get_dataframe()\n",
    "raw_ds = sim.get_hf_dataset()"
   ]
  },
  {
   "cell_type": "code",
   "execution_count": 29,
   "id": "30fdc4b5",
   "metadata": {},
   "outputs": [
    {
     "name": "stderr",
     "output_type": "stream",
     "text": [
      "2025-05-20 10:18:15,455 - mmcontext.models.omicsencoder - INFO - Loaded embedding matrix with shape (2001, 32)\n",
      "2025-05-20 10:18:15,456 - mmcontext.models.mmcontextencoder - INFO - Registered 2001 new numeric samples (total 2001). ≈0.000 GiB added. (Assuming float32 precision.)\n",
      "Prefixing sentence1: 100%|██████████| 3200/3200 [00:00<00:00, 161346.53 examples/s]\n",
      "Prefixing sentence1: 100%|██████████| 800/800 [00:00<00:00, 258051.47 examples/s]\n",
      "2025-05-20 10:18:15,595 - sentence_transformers.SentenceTransformer - INFO - Use pytorch device_name: mps\n",
      " 98%|█████████▊| 49/50 [00:01<00:00, 32.73it/s]                      2025-05-20 10:18:17,402 - sentence_transformers.trainer - INFO - Saving model checkpoint to ./models/demo_sample_tokens/checkpoint-50\n",
      "2025-05-20 10:18:17,402 - sentence_transformers.SentenceTransformer - INFO - Save model to ./models/demo_sample_tokens/checkpoint-50\n",
      "100%|██████████| 50/50 [00:02<00:00, 19.37it/s]"
     ]
    },
    {
     "name": "stdout",
     "output_type": "stream",
     "text": [
      "{'train_runtime': 2.5823, 'train_samples_per_second': 1239.194, 'train_steps_per_second': 19.362, 'train_loss': 0.25574018478393556, 'epoch': 1.0}\n"
     ]
    },
    {
     "name": "stderr",
     "output_type": "stream",
     "text": [
      "\n"
     ]
    },
    {
     "data": {
      "text/plain": [
       "TrainOutput(global_step=50, training_loss=0.25574018478393556, metrics={'train_runtime': 2.5823, 'train_samples_per_second': 1239.194, 'train_steps_per_second': 19.362, 'total_flos': 0.0, 'train_loss': 0.25574018478393556, 'epoch': 1.0})"
      ]
     },
     "execution_count": 29,
     "metadata": {},
     "output_type": "execute_result"
    }
   ],
   "source": [
    "from sentence_transformers import SentenceTransformerTrainer, SentenceTransformerTrainingArguments, losses\n",
    "\n",
    "enc = MMContextEncoder(\"prajjwal1/bert-tiny\", adapter_hidden_dim=32, adapter_output_dim=64)\n",
    "enc.register_initial_embeddings(token_df, data_origin=\"pca\")\n",
    "ds = enc.prepare_ds(raw_ds, cell_sentences_cols=\"sentence1\", caption_col=\"sentence2\")\n",
    "train, val = ds[\"train\"], ds[\"val\"]\n",
    "st = SentenceTransformer(modules=[enc])\n",
    "out_dir = \"./models/demo_sample_tokens\"\n",
    "\n",
    "loss = losses.ContrastiveLoss(model=st)\n",
    "args = SentenceTransformerTrainingArguments(\n",
    "    output_dir=out_dir,\n",
    "    num_train_epochs=1,\n",
    "    per_device_train_batch_size=64,\n",
    "    per_device_eval_batch_size=64,\n",
    ")\n",
    "trainer = SentenceTransformerTrainer(\n",
    "    model=st,\n",
    "    args=args,\n",
    "    train_dataset=train,\n",
    "    eval_dataset=val,\n",
    "    loss=loss,\n",
    ")\n",
    "trainer.train()"
   ]
  },
  {
   "cell_type": "markdown",
   "id": "e9d389fc",
   "metadata": {},
   "source": [
    "## Random baseline"
   ]
  },
  {
   "cell_type": "code",
   "execution_count": 32,
   "id": "36ba4da1",
   "metadata": {},
   "outputs": [
    {
     "name": "stderr",
     "output_type": "stream",
     "text": [
      "2025-05-20 10:19:21,643 - mmcontext.models.omicsencoder - INFO - Loaded embedding matrix with shape (2001, 64)\n",
      "2025-05-20 10:19:21,644 - mmcontext.models.mmcontextencoder - INFO - Registered 2001 new numeric samples (total 2001). ≈0.000 GiB added. (Assuming float32 precision.)\n",
      "Prefixing sentence1: 100%|██████████| 3200/3200 [00:00<00:00, 161560.17 examples/s]\n",
      "Prefixing sentence1: 100%|██████████| 800/800 [00:00<00:00, 258051.47 examples/s]\n",
      "2025-05-20 10:19:21,779 - sentence_transformers.SentenceTransformer - INFO - Use pytorch device_name: mps\n"
     ]
    }
   ],
   "source": [
    "enc = MMContextEncoder(\"prajjwal1/bert-tiny\", adapter_hidden_dim=None, adapter_output_dim=128, freeze_text_encoder=True)\n",
    "enc.random_initial_embeddings(list(token_df[\"token\"]))\n",
    "ds = enc.prepare_ds(raw_ds, cell_sentences_cols=[\"sentence1\"], caption_col=\"sentence2\")\n",
    "train, val = ds[\"train\"], ds[\"val\"]\n",
    "st = SentenceTransformer(modules=[enc])"
   ]
  },
  {
   "cell_type": "code",
   "execution_count": 33,
   "id": "013cb416",
   "metadata": {},
   "outputs": [
    {
     "name": "stderr",
     "output_type": "stream",
     "text": [
      " 98%|█████████▊| 126/128 [00:06<00:00, 23.33it/s]                    2025-05-20 10:19:33,787 - sentence_transformers.trainer - INFO - Saving model checkpoint to ./models/demo_random/checkpoint-128\n",
      "2025-05-20 10:19:33,788 - sentence_transformers.SentenceTransformer - INFO - Save model to ./models/demo_random/checkpoint-128\n",
      "100%|██████████| 128/128 [00:07<00:00, 16.94it/s]"
     ]
    },
    {
     "name": "stdout",
     "output_type": "stream",
     "text": [
      "{'train_runtime': 7.5619, 'train_samples_per_second': 27083.051, 'train_steps_per_second': 16.927, 'train_loss': 0.24992215633392334, 'epoch': 64.0}\n"
     ]
    },
    {
     "name": "stderr",
     "output_type": "stream",
     "text": [
      "\n"
     ]
    },
    {
     "data": {
      "text/plain": [
       "TrainOutput(global_step=128, training_loss=0.24992215633392334, metrics={'train_runtime': 7.5619, 'train_samples_per_second': 27083.051, 'train_steps_per_second': 16.927, 'total_flos': 0.0, 'train_loss': 0.24992215633392334, 'epoch': 64.0})"
      ]
     },
     "execution_count": 33,
     "metadata": {},
     "output_type": "execute_result"
    }
   ],
   "source": [
    "from sentence_transformers import SentenceTransformerTrainer, SentenceTransformerTrainingArguments, losses\n",
    "\n",
    "out_dir = \"./models/demo_random\"\n",
    "\n",
    "\n",
    "loss = losses.ContrastiveLoss(model=st)\n",
    "args = SentenceTransformerTrainingArguments(\n",
    "    output_dir=out_dir,\n",
    "    num_train_epochs=64,\n",
    "    per_device_train_batch_size=2560,\n",
    "    per_device_eval_batch_size=2560,\n",
    ")\n",
    "trainer = SentenceTransformerTrainer(\n",
    "    model=st,\n",
    "    args=args,\n",
    "    train_dataset=train,\n",
    "    eval_dataset=val,\n",
    "    loss=loss,\n",
    ")\n",
    "trainer.train()"
   ]
  },
  {
   "cell_type": "markdown",
   "id": "3681b54a",
   "metadata": {},
   "source": [
    "### Further notes\n",
    "* Swap in other losses or multi‑positive datasets – see the [Sentence‑Transformers training docs](https://www.sbert.net/docs/training/overview.html).\n",
    "* Current ST release only recognises a second column named **`pixel_values`**. If you don't use my SentenceTransformer fork, rename `cell_sentence_2` (or whatever column of the dataset you want to use) to \"\n",
    "`pixel_values` accordingly."
   ]
  },
  {
   "cell_type": "markdown",
   "id": "91d542f2",
   "metadata": {},
   "source": []
  }
 ],
 "metadata": {
  "kernelspec": {
   "display_name": ".venv",
   "language": "python",
   "name": "python3"
  },
  "language_info": {
   "codemirror_mode": {
    "name": "ipython",
    "version": 3
   },
   "file_extension": ".py",
   "mimetype": "text/x-python",
   "name": "python",
   "nbconvert_exporter": "python",
   "pygments_lexer": "ipython3",
   "version": "3.11.6"
  }
 },
 "nbformat": 4,
 "nbformat_minor": 5
}

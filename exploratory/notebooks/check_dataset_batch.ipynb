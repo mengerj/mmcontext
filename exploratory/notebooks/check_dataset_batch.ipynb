{
 "cells": [
  {
   "cell_type": "code",
   "execution_count": 14,
   "metadata": {},
   "outputs": [],
   "source": [
    "DATASET_NAME = \"jo-mengr/cellxgene_pseudo_bulk_3_5k_pairs_cell_type\"\n",
    "BATCH_KEY = \"dataset_title\""
   ]
  },
  {
   "cell_type": "code",
   "execution_count": 27,
   "metadata": {},
   "outputs": [],
   "source": [
    "from datasets import load_dataset\n",
    "\n",
    "from mmcontext.utils import load_test_adata_from_hf_dataset"
   ]
  },
  {
   "cell_type": "code",
   "execution_count": 28,
   "metadata": {},
   "outputs": [],
   "source": [
    "dataset = load_dataset(DATASET_NAME)[\"train\"]"
   ]
  },
  {
   "cell_type": "code",
   "execution_count": 29,
   "metadata": {},
   "outputs": [],
   "source": [
    "adata = load_test_adata_from_hf_dataset(dataset)"
   ]
  },
  {
   "cell_type": "code",
   "execution_count": 30,
   "metadata": {},
   "outputs": [],
   "source": [
    "# If the dataset has \"pairs\" in the same, filter the label column for == 1.0\n",
    "if \"pairs\" in DATASET_NAME:\n",
    "    # pos_dataset = dataset.filter(lambda x: x[\"label\"] == 1.0)\n",
    "    neg_dataset = dataset.filter(lambda x: x[\"label\"] == 0.0)"
   ]
  },
  {
   "cell_type": "code",
   "execution_count": 31,
   "metadata": {},
   "outputs": [],
   "source": [
    "import json\n",
    "\n",
    "sample_ids = []\n",
    "for row in neg_dataset[\"anndata_ref\"]:\n",
    "    sample_id = json.loads(row)[\"sample_id\"]\n",
    "    current_batch = adata.obs[BATCH_KEY][sample_id]\n",
    "    adata_batch = adata[adata.obs[BATCH_KEY] == current_batch]\n",
    "    assert sample_id in adata_batch.obs.index"
   ]
  }
 ],
 "metadata": {
  "kernelspec": {
   "display_name": ".venv",
   "language": "python",
   "name": "python3"
  },
  "language_info": {
   "codemirror_mode": {
    "name": "ipython",
    "version": 3
   },
   "file_extension": ".py",
   "mimetype": "text/x-python",
   "name": "python",
   "nbconvert_exporter": "python",
   "pygments_lexer": "ipython3",
   "version": "3.11.6"
  }
 },
 "nbformat": 4,
 "nbformat_minor": 2
}

{
 "cells": [
  {
   "cell_type": "markdown",
   "id": "7fb27b941602401d91542211134fc71a",
   "metadata": {},
   "source": [
    "# Model and Dataset Evaluation\n",
    "\n",
    "This notebook demonstrates how to load and evaluate a model on a given dataset. It includes:\n",
    "\n",
    "1. Parameter configuration\n",
    "2. Data loading (both the dataset and any relevant AnnData objects)\n",
    "3. Generating embeddings via a model\n",
    "4. Visualizing embeddings with UMAP\n",
    "5. Pairwise embedding analysis (e.g., similarity)\n",
    "6. Metrics computation (e.g., scibEvaluator)\n",
    "7. Annotation and zero-shot classification\n",
    "\n",
    "You can adapt the parameters at the top to switch between different models and datasets."
   ]
  },
  {
   "cell_type": "markdown",
   "id": "acae54e37e7d407bbb7b55eff062a284",
   "metadata": {},
   "source": [
    "## 1. Imports and Configuration"
   ]
  },
  {
   "cell_type": "code",
   "execution_count": 3,
   "id": "9a63283cbaf04dbcab1f6479b197f3a8",
   "metadata": {
    "execution": {},
    "executionInfo": {}
   },
   "outputs": [],
   "source": [
    "import logging\n",
    "\n",
    "import anndata\n",
    "import numpy as np\n",
    "import pandas as pd\n",
    "from datasets import load_dataset\n",
    "from sentence_transformers import SentenceTransformer\n",
    "\n",
    "from mmcontext.engine import OmicsQueryAnnotator\n",
    "from mmcontext.eval import evaluate_annotation_accuracy, scibEvaluator, zero_shot_classification_roc\n",
    "from mmcontext.eval.utils import create_emb_pair_dataframe\n",
    "from mmcontext.pl import plot_umap, visualize_embedding_clusters\n",
    "from mmcontext.pl.plotting import plot_embedding_similarity, plot_query_scores_umap\n",
    "from mmcontext.pp.utils import consolidate_low_frequency_categories\n",
    "\n",
    "# mmcontext imports\n",
    "from mmcontext.utils import load_test_adata_from_hf_dataset\n",
    "\n",
    "logger = logging.getLogger(__name__)\n",
    "logger.setLevel(logging.INFO)\n",
    "\n",
    "############################################\n",
    "#           CONFIGURABLE PARAMETERS       #\n",
    "############################################\n",
    "\n",
    "SAVE_RESULTS = False  # Optionally toggle saving results\n",
    "SAVE_FIGURES = False  # Optionally toggle saving figures\n",
    "\n",
    "MODEL_NAME = \"jo-mengr/mmcontext-geo7k-cellxgene3.5k-multiplets\"  # Example model name\n",
    "DATASET_NAME = \"cellxgene_pseudo_bulk_3_5k_multiplets_natural_language_annotation\"  # Example dataset name\n",
    "\n",
    "# These keys can be adapted to your AnnData\n",
    "BATCH_KEY = \"_scvi_batch\"\n",
    "LABEL_KEY = \"cell_type\"  # The column used for cell type labels\n",
    "# Additional keys for scibEvaluator\n",
    "EMBEDDING_KEYS = [\"mmcontext_emb\", \"mmcontext_text_emb\", \"X_geneformer\", \"X_hvg\", \"X_pca\", \"X_scvi\"]\n",
    "\n",
    "# Zero-shot classification function parameters\n",
    "ZERO_SHOT_LABEL_KEY = LABEL_KEY\n",
    "ZERO_SHOT_EMB_KEY = \"mmcontext_emb\"\n",
    "ZERO_SHOT_TEXT_TEMPLATE = \"A sample of {} from a healthy individual\"\n",
    "\n",
    "logger.info(\"Configuration parameters set.\")"
   ]
  },
  {
   "cell_type": "markdown",
   "id": "8dd0d8092fe74a7c96281538738b07e2",
   "metadata": {},
   "source": [
    "## 2. Data Loading"
   ]
  },
  {
   "cell_type": "code",
   "execution_count": 2,
   "id": "72eea5119410473aa328ad9291626812",
   "metadata": {
    "execution": {},
    "executionInfo": {}
   },
   "outputs": [
    {
     "data": {
      "application/vnd.jupyter.widget-view+json": {
       "model_id": "2520987881db49e7a19c7707770ccfbb",
       "version_major": 2,
       "version_minor": 0
      },
      "text/plain": [
       "Downloading readme:   0%|          | 0.00/6.10k [00:00<?, ?B/s]"
      ]
     },
     "metadata": {},
     "output_type": "display_data"
    },
    {
     "data": {
      "application/vnd.jupyter.widget-view+json": {
       "model_id": "99e52b05047b4c9f86d32bc612c1d830",
       "version_major": 2,
       "version_minor": 0
      },
      "text/plain": [
       "Downloading data files:   0%|          | 0/2 [00:00<?, ?it/s]"
      ]
     },
     "metadata": {},
     "output_type": "display_data"
    },
    {
     "data": {
      "application/vnd.jupyter.widget-view+json": {
       "model_id": "518ac08e9f854ac28c3a5bfe8eec9e9c",
       "version_major": 2,
       "version_minor": 0
      },
      "text/plain": [
       "Downloading data:   0%|          | 0.00/755k [00:00<?, ?B/s]"
      ]
     },
     "metadata": {},
     "output_type": "display_data"
    },
    {
     "data": {
      "application/vnd.jupyter.widget-view+json": {
       "model_id": "9583b2e6ca204fb18de5264246ec23fd",
       "version_major": 2,
       "version_minor": 0
      },
      "text/plain": [
       "Downloading data:   0%|          | 0.00/78.3k [00:00<?, ?B/s]"
      ]
     },
     "metadata": {},
     "output_type": "display_data"
    },
    {
     "data": {
      "application/vnd.jupyter.widget-view+json": {
       "model_id": "9f6aa9b79933412db40831d9f3328757",
       "version_major": 2,
       "version_minor": 0
      },
      "text/plain": [
       "Extracting data files:   0%|          | 0/2 [00:00<?, ?it/s]"
      ]
     },
     "metadata": {},
     "output_type": "display_data"
    },
    {
     "data": {
      "application/vnd.jupyter.widget-view+json": {
       "model_id": "3c120ad05dda4225b6e3305d84655fda",
       "version_major": 2,
       "version_minor": 0
      },
      "text/plain": [
       "Generating train split: 0 examples [00:00, ? examples/s]"
      ]
     },
     "metadata": {},
     "output_type": "display_data"
    },
    {
     "data": {
      "application/vnd.jupyter.widget-view+json": {
       "model_id": "9cc19fab67e94f1e932cb84673ae1e7b",
       "version_major": 2,
       "version_minor": 0
      },
      "text/plain": [
       "Generating val split: 0 examples [00:00, ? examples/s]"
      ]
     },
     "metadata": {},
     "output_type": "display_data"
    },
    {
     "ename": "MissingSchema",
     "evalue": "Invalid URL 'data/RNA/processed/train/cellxgene_pseudo_bulk_3_5k/val.h5ad': No scheme supplied. Perhaps you meant https://data/RNA/processed/train/cellxgene_pseudo_bulk_3_5k/val.h5ad?",
     "output_type": "error",
     "traceback": [
      "\u001b[0;31m---------------------------------------------------------------------------\u001b[0m",
      "\u001b[0;31mMissingSchema\u001b[0m                             Traceback (most recent call last)",
      "Cell \u001b[0;32mIn[2], line 11\u001b[0m\n\u001b[1;32m      8\u001b[0m model \u001b[38;5;241m=\u001b[39m SentenceTransformer(MODEL_NAME)\n\u001b[1;32m     10\u001b[0m logger\u001b[38;5;241m.\u001b[39minfo(\u001b[38;5;124m\"\u001b[39m\u001b[38;5;124mLoading AnnData from dataset...\u001b[39m\u001b[38;5;124m\"\u001b[39m)\n\u001b[0;32m---> 11\u001b[0m adata \u001b[38;5;241m=\u001b[39m \u001b[43mload_test_adata_from_hf_dataset\u001b[49m\u001b[43m(\u001b[49m\u001b[43mtest_dataset\u001b[49m\u001b[43m)\u001b[49m\n\u001b[1;32m     13\u001b[0m logger\u001b[38;5;241m.\u001b[39minfo(\u001b[38;5;124m\"\u001b[39m\u001b[38;5;124mEnsuring batch_key is categorical...\u001b[39m\u001b[38;5;124m\"\u001b[39m)\n\u001b[1;32m     14\u001b[0m adata\u001b[38;5;241m.\u001b[39mobs[BATCH_KEY] \u001b[38;5;241m=\u001b[39m adata\u001b[38;5;241m.\u001b[39mobs[BATCH_KEY]\u001b[38;5;241m.\u001b[39mastype(\u001b[38;5;124m\"\u001b[39m\u001b[38;5;124mcategory\u001b[39m\u001b[38;5;124m\"\u001b[39m)\n",
      "File \u001b[0;32m~/repos/mmcontext/src/mmcontext/utils.py:72\u001b[0m, in \u001b[0;36mload_test_adata_from_hf_dataset\u001b[0;34m(test_dataset, sample_size)\u001b[0m\n\u001b[1;32m     70\u001b[0m \u001b[38;5;28;01mwith\u001b[39;00m tempfile\u001b[38;5;241m.\u001b[39mTemporaryDirectory() \u001b[38;5;28;01mas\u001b[39;00m tmpdir:\n\u001b[1;32m     71\u001b[0m     save_path \u001b[38;5;241m=\u001b[39m Path(tmpdir) \u001b[38;5;241m/\u001b[39m \u001b[38;5;124m\"\u001b[39m\u001b[38;5;124mtest.h5ad\u001b[39m\u001b[38;5;124m\"\u001b[39m\n\u001b[0;32m---> 72\u001b[0m     \u001b[43mdownload_file_from_share_link\u001b[49m\u001b[43m(\u001b[49m\u001b[43mfirst_path\u001b[49m\u001b[43m,\u001b[49m\u001b[43m \u001b[49m\u001b[38;5;28;43mstr\u001b[39;49m\u001b[43m(\u001b[49m\u001b[43msave_path\u001b[49m\u001b[43m)\u001b[49m\u001b[43m)\u001b[49m\n\u001b[1;32m     73\u001b[0m     adata \u001b[38;5;241m=\u001b[39m anndata\u001b[38;5;241m.\u001b[39mread_h5ad(save_path)\n\u001b[1;32m     75\u001b[0m \u001b[38;5;28;01mreturn\u001b[39;00m adata\n",
      "File \u001b[0;32m~/repos/mmcontext/src/mmcontext/utils.py:101\u001b[0m, in \u001b[0;36mdownload_file_from_share_link\u001b[0;34m(share_link, save_path)\u001b[0m\n\u001b[1;32m     78\u001b[0m \u001b[38;5;28;01mdef\u001b[39;00m\u001b[38;5;250m \u001b[39m\u001b[38;5;21mdownload_file_from_share_link\u001b[39m(share_link, save_path):\n\u001b[1;32m     79\u001b[0m \u001b[38;5;250m    \u001b[39m\u001b[38;5;124;03m\"\"\"\u001b[39;00m\n\u001b[1;32m     80\u001b[0m \u001b[38;5;124;03m    Downloads a file from a Nextcloud share link and checks if it's a valid .h5ad file.\u001b[39;00m\n\u001b[1;32m     81\u001b[0m \n\u001b[0;32m   (...)\u001b[0m\n\u001b[1;32m     99\u001b[0m \u001b[38;5;124;03m    >>> print(\"Download successful:\", success)\u001b[39;00m\n\u001b[1;32m    100\u001b[0m \u001b[38;5;124;03m    \"\"\"\u001b[39;00m\n\u001b[0;32m--> 101\u001b[0m     response \u001b[38;5;241m=\u001b[39m \u001b[43mrequests\u001b[49m\u001b[38;5;241;43m.\u001b[39;49m\u001b[43mget\u001b[49m\u001b[43m(\u001b[49m\u001b[43mshare_link\u001b[49m\u001b[43m)\u001b[49m\n\u001b[1;32m    102\u001b[0m     \u001b[38;5;28;01mif\u001b[39;00m response\u001b[38;5;241m.\u001b[39mstatus_code \u001b[38;5;241m==\u001b[39m \u001b[38;5;241m200\u001b[39m:\n\u001b[1;32m    103\u001b[0m         \u001b[38;5;28;01mwith\u001b[39;00m \u001b[38;5;28mopen\u001b[39m(save_path, \u001b[38;5;124m\"\u001b[39m\u001b[38;5;124mwb\u001b[39m\u001b[38;5;124m\"\u001b[39m) \u001b[38;5;28;01mas\u001b[39;00m file:\n",
      "File \u001b[0;32m~/repos/mmcontext/.venv/lib/python3.11/site-packages/requests/api.py:73\u001b[0m, in \u001b[0;36mget\u001b[0;34m(url, params, **kwargs)\u001b[0m\n\u001b[1;32m     62\u001b[0m \u001b[38;5;28;01mdef\u001b[39;00m\u001b[38;5;250m \u001b[39m\u001b[38;5;21mget\u001b[39m(url, params\u001b[38;5;241m=\u001b[39m\u001b[38;5;28;01mNone\u001b[39;00m, \u001b[38;5;241m*\u001b[39m\u001b[38;5;241m*\u001b[39mkwargs):\n\u001b[1;32m     63\u001b[0m \u001b[38;5;250m    \u001b[39m\u001b[38;5;124mr\u001b[39m\u001b[38;5;124;03m\"\"\"Sends a GET request.\u001b[39;00m\n\u001b[1;32m     64\u001b[0m \n\u001b[1;32m     65\u001b[0m \u001b[38;5;124;03m    :param url: URL for the new :class:`Request` object.\u001b[39;00m\n\u001b[0;32m   (...)\u001b[0m\n\u001b[1;32m     70\u001b[0m \u001b[38;5;124;03m    :rtype: requests.Response\u001b[39;00m\n\u001b[1;32m     71\u001b[0m \u001b[38;5;124;03m    \"\"\"\u001b[39;00m\n\u001b[0;32m---> 73\u001b[0m     \u001b[38;5;28;01mreturn\u001b[39;00m \u001b[43mrequest\u001b[49m\u001b[43m(\u001b[49m\u001b[38;5;124;43m\"\u001b[39;49m\u001b[38;5;124;43mget\u001b[39;49m\u001b[38;5;124;43m\"\u001b[39;49m\u001b[43m,\u001b[49m\u001b[43m \u001b[49m\u001b[43murl\u001b[49m\u001b[43m,\u001b[49m\u001b[43m \u001b[49m\u001b[43mparams\u001b[49m\u001b[38;5;241;43m=\u001b[39;49m\u001b[43mparams\u001b[49m\u001b[43m,\u001b[49m\u001b[43m \u001b[49m\u001b[38;5;241;43m*\u001b[39;49m\u001b[38;5;241;43m*\u001b[39;49m\u001b[43mkwargs\u001b[49m\u001b[43m)\u001b[49m\n",
      "File \u001b[0;32m~/repos/mmcontext/.venv/lib/python3.11/site-packages/requests/api.py:59\u001b[0m, in \u001b[0;36mrequest\u001b[0;34m(method, url, **kwargs)\u001b[0m\n\u001b[1;32m     55\u001b[0m \u001b[38;5;66;03m# By using the 'with' statement we are sure the session is closed, thus we\u001b[39;00m\n\u001b[1;32m     56\u001b[0m \u001b[38;5;66;03m# avoid leaving sockets open which can trigger a ResourceWarning in some\u001b[39;00m\n\u001b[1;32m     57\u001b[0m \u001b[38;5;66;03m# cases, and look like a memory leak in others.\u001b[39;00m\n\u001b[1;32m     58\u001b[0m \u001b[38;5;28;01mwith\u001b[39;00m sessions\u001b[38;5;241m.\u001b[39mSession() \u001b[38;5;28;01mas\u001b[39;00m session:\n\u001b[0;32m---> 59\u001b[0m     \u001b[38;5;28;01mreturn\u001b[39;00m \u001b[43msession\u001b[49m\u001b[38;5;241;43m.\u001b[39;49m\u001b[43mrequest\u001b[49m\u001b[43m(\u001b[49m\u001b[43mmethod\u001b[49m\u001b[38;5;241;43m=\u001b[39;49m\u001b[43mmethod\u001b[49m\u001b[43m,\u001b[49m\u001b[43m \u001b[49m\u001b[43murl\u001b[49m\u001b[38;5;241;43m=\u001b[39;49m\u001b[43murl\u001b[49m\u001b[43m,\u001b[49m\u001b[43m \u001b[49m\u001b[38;5;241;43m*\u001b[39;49m\u001b[38;5;241;43m*\u001b[39;49m\u001b[43mkwargs\u001b[49m\u001b[43m)\u001b[49m\n",
      "File \u001b[0;32m~/repos/mmcontext/.venv/lib/python3.11/site-packages/requests/sessions.py:575\u001b[0m, in \u001b[0;36mSession.request\u001b[0;34m(self, method, url, params, data, headers, cookies, files, auth, timeout, allow_redirects, proxies, hooks, stream, verify, cert, json)\u001b[0m\n\u001b[1;32m    562\u001b[0m \u001b[38;5;66;03m# Create the Request.\u001b[39;00m\n\u001b[1;32m    563\u001b[0m req \u001b[38;5;241m=\u001b[39m Request(\n\u001b[1;32m    564\u001b[0m     method\u001b[38;5;241m=\u001b[39mmethod\u001b[38;5;241m.\u001b[39mupper(),\n\u001b[1;32m    565\u001b[0m     url\u001b[38;5;241m=\u001b[39murl,\n\u001b[0;32m   (...)\u001b[0m\n\u001b[1;32m    573\u001b[0m     hooks\u001b[38;5;241m=\u001b[39mhooks,\n\u001b[1;32m    574\u001b[0m )\n\u001b[0;32m--> 575\u001b[0m prep \u001b[38;5;241m=\u001b[39m \u001b[38;5;28;43mself\u001b[39;49m\u001b[38;5;241;43m.\u001b[39;49m\u001b[43mprepare_request\u001b[49m\u001b[43m(\u001b[49m\u001b[43mreq\u001b[49m\u001b[43m)\u001b[49m\n\u001b[1;32m    577\u001b[0m proxies \u001b[38;5;241m=\u001b[39m proxies \u001b[38;5;129;01mor\u001b[39;00m {}\n\u001b[1;32m    579\u001b[0m settings \u001b[38;5;241m=\u001b[39m \u001b[38;5;28mself\u001b[39m\u001b[38;5;241m.\u001b[39mmerge_environment_settings(\n\u001b[1;32m    580\u001b[0m     prep\u001b[38;5;241m.\u001b[39murl, proxies, stream, verify, cert\n\u001b[1;32m    581\u001b[0m )\n",
      "File \u001b[0;32m~/repos/mmcontext/.venv/lib/python3.11/site-packages/requests/sessions.py:484\u001b[0m, in \u001b[0;36mSession.prepare_request\u001b[0;34m(self, request)\u001b[0m\n\u001b[1;32m    481\u001b[0m     auth \u001b[38;5;241m=\u001b[39m get_netrc_auth(request\u001b[38;5;241m.\u001b[39murl)\n\u001b[1;32m    483\u001b[0m p \u001b[38;5;241m=\u001b[39m PreparedRequest()\n\u001b[0;32m--> 484\u001b[0m \u001b[43mp\u001b[49m\u001b[38;5;241;43m.\u001b[39;49m\u001b[43mprepare\u001b[49m\u001b[43m(\u001b[49m\n\u001b[1;32m    485\u001b[0m \u001b[43m    \u001b[49m\u001b[43mmethod\u001b[49m\u001b[38;5;241;43m=\u001b[39;49m\u001b[43mrequest\u001b[49m\u001b[38;5;241;43m.\u001b[39;49m\u001b[43mmethod\u001b[49m\u001b[38;5;241;43m.\u001b[39;49m\u001b[43mupper\u001b[49m\u001b[43m(\u001b[49m\u001b[43m)\u001b[49m\u001b[43m,\u001b[49m\n\u001b[1;32m    486\u001b[0m \u001b[43m    \u001b[49m\u001b[43murl\u001b[49m\u001b[38;5;241;43m=\u001b[39;49m\u001b[43mrequest\u001b[49m\u001b[38;5;241;43m.\u001b[39;49m\u001b[43murl\u001b[49m\u001b[43m,\u001b[49m\n\u001b[1;32m    487\u001b[0m \u001b[43m    \u001b[49m\u001b[43mfiles\u001b[49m\u001b[38;5;241;43m=\u001b[39;49m\u001b[43mrequest\u001b[49m\u001b[38;5;241;43m.\u001b[39;49m\u001b[43mfiles\u001b[49m\u001b[43m,\u001b[49m\n\u001b[1;32m    488\u001b[0m \u001b[43m    \u001b[49m\u001b[43mdata\u001b[49m\u001b[38;5;241;43m=\u001b[39;49m\u001b[43mrequest\u001b[49m\u001b[38;5;241;43m.\u001b[39;49m\u001b[43mdata\u001b[49m\u001b[43m,\u001b[49m\n\u001b[1;32m    489\u001b[0m \u001b[43m    \u001b[49m\u001b[43mjson\u001b[49m\u001b[38;5;241;43m=\u001b[39;49m\u001b[43mrequest\u001b[49m\u001b[38;5;241;43m.\u001b[39;49m\u001b[43mjson\u001b[49m\u001b[43m,\u001b[49m\n\u001b[1;32m    490\u001b[0m \u001b[43m    \u001b[49m\u001b[43mheaders\u001b[49m\u001b[38;5;241;43m=\u001b[39;49m\u001b[43mmerge_setting\u001b[49m\u001b[43m(\u001b[49m\n\u001b[1;32m    491\u001b[0m \u001b[43m        \u001b[49m\u001b[43mrequest\u001b[49m\u001b[38;5;241;43m.\u001b[39;49m\u001b[43mheaders\u001b[49m\u001b[43m,\u001b[49m\u001b[43m \u001b[49m\u001b[38;5;28;43mself\u001b[39;49m\u001b[38;5;241;43m.\u001b[39;49m\u001b[43mheaders\u001b[49m\u001b[43m,\u001b[49m\u001b[43m \u001b[49m\u001b[43mdict_class\u001b[49m\u001b[38;5;241;43m=\u001b[39;49m\u001b[43mCaseInsensitiveDict\u001b[49m\n\u001b[1;32m    492\u001b[0m \u001b[43m    \u001b[49m\u001b[43m)\u001b[49m\u001b[43m,\u001b[49m\n\u001b[1;32m    493\u001b[0m \u001b[43m    \u001b[49m\u001b[43mparams\u001b[49m\u001b[38;5;241;43m=\u001b[39;49m\u001b[43mmerge_setting\u001b[49m\u001b[43m(\u001b[49m\u001b[43mrequest\u001b[49m\u001b[38;5;241;43m.\u001b[39;49m\u001b[43mparams\u001b[49m\u001b[43m,\u001b[49m\u001b[43m \u001b[49m\u001b[38;5;28;43mself\u001b[39;49m\u001b[38;5;241;43m.\u001b[39;49m\u001b[43mparams\u001b[49m\u001b[43m)\u001b[49m\u001b[43m,\u001b[49m\n\u001b[1;32m    494\u001b[0m \u001b[43m    \u001b[49m\u001b[43mauth\u001b[49m\u001b[38;5;241;43m=\u001b[39;49m\u001b[43mmerge_setting\u001b[49m\u001b[43m(\u001b[49m\u001b[43mauth\u001b[49m\u001b[43m,\u001b[49m\u001b[43m \u001b[49m\u001b[38;5;28;43mself\u001b[39;49m\u001b[38;5;241;43m.\u001b[39;49m\u001b[43mauth\u001b[49m\u001b[43m)\u001b[49m\u001b[43m,\u001b[49m\n\u001b[1;32m    495\u001b[0m \u001b[43m    \u001b[49m\u001b[43mcookies\u001b[49m\u001b[38;5;241;43m=\u001b[39;49m\u001b[43mmerged_cookies\u001b[49m\u001b[43m,\u001b[49m\n\u001b[1;32m    496\u001b[0m \u001b[43m    \u001b[49m\u001b[43mhooks\u001b[49m\u001b[38;5;241;43m=\u001b[39;49m\u001b[43mmerge_hooks\u001b[49m\u001b[43m(\u001b[49m\u001b[43mrequest\u001b[49m\u001b[38;5;241;43m.\u001b[39;49m\u001b[43mhooks\u001b[49m\u001b[43m,\u001b[49m\u001b[43m \u001b[49m\u001b[38;5;28;43mself\u001b[39;49m\u001b[38;5;241;43m.\u001b[39;49m\u001b[43mhooks\u001b[49m\u001b[43m)\u001b[49m\u001b[43m,\u001b[49m\n\u001b[1;32m    497\u001b[0m \u001b[43m\u001b[49m\u001b[43m)\u001b[49m\n\u001b[1;32m    498\u001b[0m \u001b[38;5;28;01mreturn\u001b[39;00m p\n",
      "File \u001b[0;32m~/repos/mmcontext/.venv/lib/python3.11/site-packages/requests/models.py:367\u001b[0m, in \u001b[0;36mPreparedRequest.prepare\u001b[0;34m(self, method, url, headers, files, data, params, auth, cookies, hooks, json)\u001b[0m\n\u001b[1;32m    364\u001b[0m \u001b[38;5;250m\u001b[39m\u001b[38;5;124;03m\"\"\"Prepares the entire request with the given parameters.\"\"\"\u001b[39;00m\n\u001b[1;32m    366\u001b[0m \u001b[38;5;28mself\u001b[39m\u001b[38;5;241m.\u001b[39mprepare_method(method)\n\u001b[0;32m--> 367\u001b[0m \u001b[38;5;28;43mself\u001b[39;49m\u001b[38;5;241;43m.\u001b[39;49m\u001b[43mprepare_url\u001b[49m\u001b[43m(\u001b[49m\u001b[43murl\u001b[49m\u001b[43m,\u001b[49m\u001b[43m \u001b[49m\u001b[43mparams\u001b[49m\u001b[43m)\u001b[49m\n\u001b[1;32m    368\u001b[0m \u001b[38;5;28mself\u001b[39m\u001b[38;5;241m.\u001b[39mprepare_headers(headers)\n\u001b[1;32m    369\u001b[0m \u001b[38;5;28mself\u001b[39m\u001b[38;5;241m.\u001b[39mprepare_cookies(cookies)\n",
      "File \u001b[0;32m~/repos/mmcontext/.venv/lib/python3.11/site-packages/requests/models.py:438\u001b[0m, in \u001b[0;36mPreparedRequest.prepare_url\u001b[0;34m(self, url, params)\u001b[0m\n\u001b[1;32m    435\u001b[0m     \u001b[38;5;28;01mraise\u001b[39;00m InvalidURL(\u001b[38;5;241m*\u001b[39me\u001b[38;5;241m.\u001b[39margs)\n\u001b[1;32m    437\u001b[0m \u001b[38;5;28;01mif\u001b[39;00m \u001b[38;5;129;01mnot\u001b[39;00m scheme:\n\u001b[0;32m--> 438\u001b[0m     \u001b[38;5;28;01mraise\u001b[39;00m MissingSchema(\n\u001b[1;32m    439\u001b[0m         \u001b[38;5;124mf\u001b[39m\u001b[38;5;124m\"\u001b[39m\u001b[38;5;124mInvalid URL \u001b[39m\u001b[38;5;132;01m{\u001b[39;00murl\u001b[38;5;132;01m!r}\u001b[39;00m\u001b[38;5;124m: No scheme supplied. \u001b[39m\u001b[38;5;124m\"\u001b[39m\n\u001b[1;32m    440\u001b[0m         \u001b[38;5;124mf\u001b[39m\u001b[38;5;124m\"\u001b[39m\u001b[38;5;124mPerhaps you meant https://\u001b[39m\u001b[38;5;132;01m{\u001b[39;00murl\u001b[38;5;132;01m}\u001b[39;00m\u001b[38;5;124m?\u001b[39m\u001b[38;5;124m\"\u001b[39m\n\u001b[1;32m    441\u001b[0m     )\n\u001b[1;32m    443\u001b[0m \u001b[38;5;28;01mif\u001b[39;00m \u001b[38;5;129;01mnot\u001b[39;00m host:\n\u001b[1;32m    444\u001b[0m     \u001b[38;5;28;01mraise\u001b[39;00m InvalidURL(\u001b[38;5;124mf\u001b[39m\u001b[38;5;124m\"\u001b[39m\u001b[38;5;124mInvalid URL \u001b[39m\u001b[38;5;132;01m{\u001b[39;00murl\u001b[38;5;132;01m!r}\u001b[39;00m\u001b[38;5;124m: No host supplied\u001b[39m\u001b[38;5;124m\"\u001b[39m)\n",
      "\u001b[0;31mMissingSchema\u001b[0m: Invalid URL 'data/RNA/processed/train/cellxgene_pseudo_bulk_3_5k/val.h5ad': No scheme supplied. Perhaps you meant https://data/RNA/processed/train/cellxgene_pseudo_bulk_3_5k/val.h5ad?"
     ]
    }
   ],
   "source": [
    "logger.info(\"Loading dataset from HuggingFace...\")\n",
    "dataset = load_dataset(f\"jo-mengr/{DATASET_NAME}\")\n",
    "\n",
    "logger.info(\"Splitting to test subset...\")\n",
    "test_dataset = dataset[\"val\"]\n",
    "\n",
    "logger.info(\"Loading model...\")\n",
    "model = SentenceTransformer(MODEL_NAME)\n",
    "\n",
    "logger.info(\"Loading AnnData from dataset...\")\n",
    "adata = load_test_adata_from_hf_dataset(test_dataset)\n",
    "\n",
    "logger.info(\"Ensuring batch_key is categorical...\")\n",
    "adata.obs[BATCH_KEY] = adata.obs[BATCH_KEY].astype(\"category\")\n",
    "\n",
    "logger.info(\"Data loading complete.\")\n",
    "adata"
   ]
  },
  {
   "cell_type": "markdown",
   "id": "8edb47106e1a46a883d545849b8ab81b",
   "metadata": {},
   "source": [
    "## 3. Generate Embeddings\n",
    "\n",
    "We generate:\n",
    "\n",
    "- `mmcontext_emb` from the omics data\n",
    "- `mmcontext_text_emb` from the text annotation"
   ]
  },
  {
   "cell_type": "code",
   "execution_count": null,
   "id": "10185d26023b46108eb7d9f57d49d2b3",
   "metadata": {},
   "outputs": [],
   "source": [
    "logger.info(\"Generating omics embeddings...\")\n",
    "omics_embeddings = model.encode(test_dataset[\"anndata_ref\"])\n",
    "\n",
    "logger.info(\"Generating text embeddings...\")\n",
    "text_annotations = adata.obs[\"natural_language_annotation\"].values.tolist()\n",
    "text_embeddings = model.encode(text_annotations)\n",
    "\n",
    "logger.info(\"Storing embeddings in AnnData...\")\n",
    "adata.obsm[\"mmcontext_emb\"] = omics_embeddings\n",
    "adata.obsm[\"mmcontext_text_emb\"] = text_embeddings\n",
    "\n",
    "logger.info(\"Embedding generation complete.\")\n",
    "adata"
   ]
  },
  {
   "cell_type": "markdown",
   "id": "8763a12b2bbd4a93a75aff182afb95dc",
   "metadata": {},
   "source": [
    "## 4. UMAP Visualization\n",
    "\n",
    "Here, we visualize one of the embeddings (e.g., `mmcontext_text_emb`) with UMAP. We also remove low-frequency categories for better clarity in the plot."
   ]
  },
  {
   "cell_type": "code",
   "execution_count": null,
   "id": "7623eae2785240b9bd12b16a66d81610",
   "metadata": {},
   "outputs": [],
   "source": [
    "logger.info(\"Consolidating low-frequency categories...\")\n",
    "adata_cut = consolidate_low_frequency_categories(adata, [LABEL_KEY], threshold=10)\n",
    "\n",
    "# The color_key can be changed to anything in adata.obs, e.g. BATCH_KEY or LABEL_KEY.\n",
    "color_key = BATCH_KEY\n",
    "\n",
    "logger.info(\"Plotting UMAP...\")\n",
    "plot_umap(adata_cut, color_key=color_key, embedding_key=\"mmcontext_text_emb\")\n",
    "\n",
    "if SAVE_FIGURES:\n",
    "    import matplotlib.pyplot as plt\n",
    "\n",
    "    plt.savefig(\"umap_visualization.png\", dpi=150)\n",
    "    logger.info(\"UMAP plot saved to umap_visualization.png\")"
   ]
  },
  {
   "cell_type": "markdown",
   "id": "7cdc8c89c7104fffa095e18ddfef8986",
   "metadata": {},
   "source": [
    "## 5. Pairwise Embedding Analysis\n",
    "\n",
    "We use `create_emb_pair_dataframe` to create a paired DataFrame of two embeddings (omics vs text). Then:\n",
    "\n",
    "- `visualize_embedding_clusters` to see how clusters form in a joint space.\n",
    "- `plot_embedding_similarity` to examine similarity distributions for subsets."
   ]
  },
  {
   "cell_type": "code",
   "execution_count": null,
   "id": "b118ea5561624da68c537baed56e602f",
   "metadata": {},
   "outputs": [],
   "source": [
    "logger.info(\"Creating embedding pair dataframe...\")\n",
    "emb_pair_df = create_emb_pair_dataframe(\n",
    "    adata,\n",
    "    emb1_key=\"mmcontext_emb\",\n",
    "    emb2_key=\"mmcontext_text_emb\",\n",
    "    subset_size=20,\n",
    "    label_keys=[BATCH_KEY, LABEL_KEY],\n",
    ")\n",
    "\n",
    "logger.info(\"Visualizing embedding clusters with UMAP...\")\n",
    "visualize_embedding_clusters(emb_pair_df, method=\"umap\", metric=\"cosine\", n_neighbors=15, min_dist=0.1, random_state=42)\n",
    "\n",
    "if SAVE_FIGURES:\n",
    "    import matplotlib.pyplot as plt\n",
    "\n",
    "    plt.savefig(\"emb_clusters.png\", dpi=150)\n",
    "    logger.info(\"Embedding clusters plot saved to emb_clusters.png\")"
   ]
  },
  {
   "cell_type": "code",
   "execution_count": null,
   "id": "938c804e27f84196a10c8828c723f798",
   "metadata": {},
   "outputs": [],
   "source": [
    "logger.info(\"Plot embedding similarity with subset=10...\")\n",
    "plot_embedding_similarity(emb_pair_df, emb1_type=\"omics\", emb2_type=\"text\", subset=10, label_key=BATCH_KEY)\n",
    "\n",
    "if SAVE_FIGURES:\n",
    "    import matplotlib.pyplot as plt\n",
    "\n",
    "    plt.savefig(\"similarity_subset10_batch.png\", dpi=150)\n",
    "    logger.info(\"Similarity plot (subset=10, batch) saved.\")\n",
    "\n",
    "logger.info(\"Plot embedding similarity with subset=10 using cell_type...\")\n",
    "plot_embedding_similarity(emb_pair_df, emb1_type=\"omics\", emb2_type=\"text\", subset=10, label_key=LABEL_KEY)\n",
    "\n",
    "if SAVE_FIGURES:\n",
    "    import matplotlib.pyplot as plt\n",
    "\n",
    "    plt.savefig(\"similarity_subset10_celltype.png\", dpi=150)\n",
    "    logger.info(\"Similarity plot (subset=10, cell_type) saved.\")"
   ]
  },
  {
   "cell_type": "markdown",
   "id": "504fb2a444614c0babb325280ed9130a",
   "metadata": {},
   "source": [
    "If you want a larger subset for the similarity visualization (e.g., 200 samples):"
   ]
  },
  {
   "cell_type": "code",
   "execution_count": null,
   "id": "59bbdb311c014d738909a11f9e486628",
   "metadata": {},
   "outputs": [],
   "source": [
    "# Example: subset of 200\n",
    "logger.info(\"Plot embedding similarity with subset=200...\")\n",
    "plot_embedding_similarity(emb_pair_df, emb1_type=\"omics\", emb2_type=\"text\", subset=200, label_key=LABEL_KEY)\n",
    "\n",
    "if SAVE_FIGURES:\n",
    "    import matplotlib.pyplot as plt\n",
    "\n",
    "    plt.savefig(\"similarity_subset200_celltype.png\", dpi=150)\n",
    "    logger.info(\"Similarity plot (subset=200, cell_type) saved.\")"
   ]
  },
  {
   "cell_type": "markdown",
   "id": "b43b363d81ae4b689946ece5c682cd59",
   "metadata": {},
   "source": [
    "## 6. scibEvaluator\n",
    "\n",
    "We can use scibEvaluator for evaluating batch integration and bio-conservation metrics (Luecken et al.)."
   ]
  },
  {
   "cell_type": "code",
   "execution_count": null,
   "id": "8a65eabff63a45729fe45fb5ade58bdc",
   "metadata": {},
   "outputs": [],
   "source": [
    "logger.info(\"Initializing scibEvaluator...\")\n",
    "evaluator = scibEvaluator(\n",
    "    adata=adata,\n",
    "    batch_key=BATCH_KEY,\n",
    "    label_key=LABEL_KEY,\n",
    "    embedding_key=EMBEDDING_KEYS,\n",
    "    n_top_genes=5000,\n",
    "    max_cells=5000,\n",
    ")\n",
    "\n",
    "logger.info(\"Running scibEvaluator...\")\n",
    "res = evaluator.evaluate()\n",
    "res_df = pd.DataFrame(res)\n",
    "res_df"
   ]
  },
  {
   "cell_type": "markdown",
   "id": "c3933fab20d04ec698c2621248eb3be0",
   "metadata": {},
   "source": [
    "## 7. Annotation and Query\n",
    "\n",
    "We can annotate and query our omics data using `OmicsQueryAnnotator`."
   ]
  },
  {
   "cell_type": "code",
   "execution_count": null,
   "id": "4dd4641cc4064e0191573fe9c69df29b",
   "metadata": {},
   "outputs": [],
   "source": [
    "logger.info(\"Annotating omics data...\")\n",
    "annotator = OmicsQueryAnnotator(model)\n",
    "\n",
    "# Suppose we have some labels to annotate, e.g. from an external source\n",
    "labels = [\"T-Cell\", \"B-Cell\"]\n",
    "annotator.annotate_omics_data(adata, labels)\n",
    "\n",
    "logger.info(\"Plotting annotated data...\")\n",
    "plot_umap(adata, color_key=\"best_label\", embedding_key=\"mmcontext_emb\")\n",
    "\n",
    "logger.info(\"Evaluating annotation accuracy...\")\n",
    "score = evaluate_annotation_accuracy(\n",
    "    adata,\n",
    "    true_key=BATCH_KEY,  # or whichever key is ground truth for your scenario\n",
    "    inferred_key=\"best_label\",\n",
    ")\n",
    "logger.info(f\"Accuracy of annotation: {score}\")"
   ]
  },
  {
   "cell_type": "markdown",
   "id": "8309879909854d7188b41380fd92a7c3",
   "metadata": {},
   "source": [
    "### Example: Query with text\n",
    "You can query the dataset with text prompts and then visualize the result."
   ]
  },
  {
   "cell_type": "code",
   "execution_count": null,
   "id": "3ed186c9a28b402fb0bc4494df01f08d",
   "metadata": {},
   "outputs": [],
   "source": [
    "# Example usage\n",
    "qa = annotator  # if the OmicsQueryAnnotator has a method query_with_text\n",
    "logger.info(\"Querying dataset for 'B-Cell' and 'macrophage'...\")\n",
    "adata_new = qa.query_with_text(adata, [\"B-Cell\", \"macrophage\"])\n",
    "\n",
    "# Visualize\n",
    "plot_query_scores_umap(adata_new)\n",
    "if SAVE_FIGURES:\n",
    "    import matplotlib.pyplot as plt\n",
    "\n",
    "    plt.savefig(\"query_scores_umap.png\", dpi=150)\n",
    "    logger.info(\"Query scores UMAP saved.\")"
   ]
  },
  {
   "cell_type": "markdown",
   "id": "cb1e1581032b452c9409d6c6813c49d1",
   "metadata": {},
   "source": [
    "## 8. Zero-Shot Classification ROC\n",
    "\n",
    "Below is a function to compute a ROC-AUC for cell-type prediction (or any label) in a zero-shot manner."
   ]
  },
  {
   "cell_type": "code",
   "execution_count": null,
   "id": "db7b79bc585a40fcaf58bf750017e135",
   "metadata": {},
   "outputs": [],
   "source": [
    "logger.info(\"Computing zero-shot classification ROC...\")\n",
    "macro_auc, auc_details = zero_shot_classification_roc(\n",
    "    adata,\n",
    "    model,\n",
    "    label_key=ZERO_SHOT_LABEL_KEY,\n",
    "    emb_key=ZERO_SHOT_EMB_KEY,\n",
    "    text_template=ZERO_SHOT_TEXT_TEMPLATE,\n",
    "    device=\"cpu\",\n",
    ")\n",
    "logger.info(f\"Macro AUC: {macro_auc}\")\n",
    "logger.info(f\"Detail per label: {auc_details}\")"
   ]
  },
  {
   "cell_type": "markdown",
   "id": "916684f9a58a4a2aa5f864670399430d",
   "metadata": {},
   "source": [
    "## 9. (Optional) Saving Notebook Outputs\n",
    "\n",
    "If you wish to programmatically save this notebook (e.g., for batch runs or CI/CD), you can use a dedicated library like `nbformat` or `papermill`. Here's a small snippet as an example (commented out by default)."
   ]
  },
  {
   "cell_type": "code",
   "execution_count": null,
   "id": "1671c31a24314836a5b85d7ef7fbf015",
   "metadata": {},
   "outputs": [],
   "source": [
    "# Uncomment and adapt if you want to save the executed notebook programmatically\n",
    "# import nbformat\n",
    "# from nbformat.v4 import new_notebook\n",
    "# from nbconvert.preprocessors import ExecutePreprocessor\n",
    "# from nbconvert import HTMLExporter\n",
    "#\n",
    "# if SAVE_RESULTS:\n",
    "#     logger.info(\"Saving notebook...\")\n",
    "#     with open(\"evaluation_notebook.ipynb\", \"r\") as f:\n",
    "#         nb = nbformat.read(f, as_version=4)\n",
    "#     ep = ExecutePreprocessor(timeout=600)\n",
    "#     ep.preprocess(nb, {'metadata': {'path': './'}})\n",
    "#     with open(\"evaluation_notebook_executed.ipynb\", \"w\") as f:\n",
    "#         nbformat.write(nb, f)\n",
    "#\n",
    "#     # Optionally export to HTML\n",
    "#     html_exporter = HTMLExporter()\n",
    "#     body, _ = html_exporter.from_notebook_node(nb)\n",
    "#     with open(\"evaluation_notebook_executed.html\", \"w\") as f:\n",
    "#         f.write(body)\n",
    "#\n",
    "#     logger.info(\"Notebook saved as evaluation_notebook_executed.ipynb and HTML version.\")\n"
   ]
  }
 ],
 "metadata": {
  "kernelspec": {
   "display_name": "Python 3",
   "name": "python3"
  },
  "language_info": {
   "codemirror_mode": {
    "name": "ipython",
    "version": 3
   },
   "file_extension": ".py",
   "mimetype": "text/x-python",
   "name": "python",
   "nbconvert_exporter": "python",
   "pygments_lexer": "ipython3",
   "version": "3.11.6"
  },
  "name": "Model and Dataset Evaluation Notebook"
 },
 "nbformat": 4,
 "nbformat_minor": 5
}

{
 "cells": [
  {
   "cell_type": "code",
   "execution_count": 10,
   "metadata": {},
   "outputs": [],
   "source": [
    "%load_ext autoreload\n",
    "%autoreload 2"
   ]
  },
  {
   "cell_type": "code",
   "execution_count": 1,
   "metadata": {},
   "outputs": [
    {
     "name": "stderr",
     "output_type": "stream",
     "text": [
      "/Users/mengerj/repos/mmcontext/.venv/lib/python3.11/site-packages/tqdm/auto.py:21: TqdmWarning: IProgress not found. Please update jupyter and ipywidgets. See https://ipywidgets.readthedocs.io/en/stable/user_install.html\n",
      "  from .autonotebook import tqdm as notebook_tqdm\n"
     ]
    },
    {
     "data": {
      "text/plain": [
       "<RootLogger root (INFO)>"
      ]
     },
     "execution_count": 1,
     "metadata": {},
     "output_type": "execute_result"
    }
   ],
   "source": [
    "from mmcontext.utils import setup_logging\n",
    "\n",
    "setup_logging()"
   ]
  },
  {
   "cell_type": "code",
   "execution_count": 3,
   "metadata": {},
   "outputs": [
    {
     "name": "stderr",
     "output_type": "stream",
     "text": [
      "2025-02-07 13:37:56,406 - mmcontext.data.download_and_split_data - INFO - Downloading File: human_pancreas_norm_complexBatch.h5ad, Size: 0.29 GB\n",
      "2025-02-07 13:37:56,408 - mmcontext.data.download_and_split_data - INFO - Starting download from Figshare...\n",
      "Downloading: 100%|██████████| 316M/316M [00:53<00:00, 5.89MiB/s] \n",
      "2025-02-07 13:38:50,504 - mmcontext.data.download_and_split_data - INFO - Data downloaded successfully and saved to ../../data/test/human_pancreas_norm_complexBatch.h5ad.\n",
      "2025-02-07 13:38:50,508 - mmcontext.data.download_and_split_data - INFO - Downloading File: Lung_atlas_public.h5ad, Size: 0.95 GB\n",
      "2025-02-07 13:38:50,508 - mmcontext.data.download_and_split_data - INFO - Starting download from Figshare...\n",
      "Downloading: 100%|██████████| 1.02G/1.02G [03:03<00:00, 5.54MiB/s]\n",
      "2025-02-07 13:41:54,910 - mmcontext.data.download_and_split_data - INFO - Data downloaded successfully and saved to ../../data/test/Lung_atlas_public.h5ad.\n",
      "2025-02-07 13:41:54,912 - mmcontext.data.download_and_split_data - INFO - Downloading File: Immune_ALL_hum_mou.h5ad, Size: 3.97 GB\n",
      "2025-02-07 13:41:54,912 - mmcontext.data.download_and_split_data - INFO - Starting download from Figshare...\n",
      "Downloading: 100%|██████████| 4.27G/4.27G [07:27<00:00, 9.55MiB/s]\n",
      "2025-02-07 13:49:22,498 - mmcontext.data.download_and_split_data - INFO - Data downloaded successfully and saved to ../../data/test/Immune_ALL_hum_mou.h5ad.\n",
      "2025-02-07 13:49:22,500 - mmcontext.data.download_and_split_data - INFO - Downloading File: Immune_ALL_human.h5ad, Size: 1.92 GB\n",
      "2025-02-07 13:49:22,500 - mmcontext.data.download_and_split_data - INFO - Starting download from Figshare...\n",
      "Downloading: 100%|██████████| 2.06G/2.06G [04:10<00:00, 8.26MiB/s]\n",
      "2025-02-07 13:53:33,037 - mmcontext.data.download_and_split_data - INFO - Data downloaded successfully and saved to ../../data/test/Immune_ALL_human.h5ad.\n",
      "2025-02-07 13:53:33,043 - mmcontext.data.download_and_split_data - INFO - Downloading File: large_atac_peaks.h5ad, Size: 2.27 GB\n",
      "2025-02-07 13:53:33,043 - mmcontext.data.download_and_split_data - INFO - Starting download from Figshare...\n",
      "Downloading: 100%|██████████| 2.43G/2.43G [04:03<00:00, 9.99MiB/s]\n",
      "2025-02-07 13:57:36,947 - mmcontext.data.download_and_split_data - INFO - Data downloaded successfully and saved to ../../data/test/large_atac_peaks.h5ad.\n",
      "2025-02-07 13:57:36,953 - mmcontext.data.download_and_split_data - INFO - Downloading File: large_atac_windows.h5ad, Size: 2.30 GB\n",
      "2025-02-07 13:57:36,954 - mmcontext.data.download_and_split_data - INFO - Starting download from Figshare...\n",
      "Downloading: 100%|██████████| 2.47G/2.47G [03:44<00:00, 11.0MiB/s]\n",
      "2025-02-07 14:01:21,758 - mmcontext.data.download_and_split_data - INFO - Data downloaded successfully and saved to ../../data/test/large_atac_windows.h5ad.\n",
      "2025-02-07 14:01:21,762 - mmcontext.data.download_and_split_data - INFO - Downloading File: large_atac_gene_activity.h5ad, Size: 0.14 GB\n",
      "2025-02-07 14:01:21,762 - mmcontext.data.download_and_split_data - INFO - Starting download from Figshare...\n",
      "Downloading: 100%|██████████| 149M/149M [00:14<00:00, 10.3MiB/s] \n",
      "2025-02-07 14:01:36,844 - mmcontext.data.download_and_split_data - INFO - Data downloaded successfully and saved to ../../data/test/large_atac_gene_activity.h5ad.\n",
      "2025-02-07 14:01:36,847 - mmcontext.data.download_and_split_data - INFO - Downloading File: small_atac_gene_activity.h5ad, Size: 0.03 GB\n",
      "2025-02-07 14:01:36,848 - mmcontext.data.download_and_split_data - INFO - Starting download from Figshare...\n",
      "Downloading: 100%|██████████| 27.0M/27.0M [00:02<00:00, 12.6MiB/s]\n",
      "2025-02-07 14:01:39,444 - mmcontext.data.download_and_split_data - INFO - Data downloaded successfully and saved to ../../data/test/small_atac_gene_activity.h5ad.\n",
      "2025-02-07 14:01:39,446 - mmcontext.data.download_and_split_data - INFO - Downloading File: small_atac_peaks.h5ad, Size: 0.39 GB\n",
      "2025-02-07 14:01:39,447 - mmcontext.data.download_and_split_data - INFO - Starting download from Figshare...\n",
      "Downloading: 100%|██████████| 420M/420M [00:41<00:00, 10.0MiB/s] \n",
      "2025-02-07 14:02:21,764 - mmcontext.data.download_and_split_data - INFO - Data downloaded successfully and saved to ../../data/test/small_atac_peaks.h5ad.\n",
      "2025-02-07 14:02:21,766 - mmcontext.data.download_and_split_data - INFO - Downloading File: small_atac_windows.h5ad, Size: 0.51 GB\n",
      "2025-02-07 14:02:21,767 - mmcontext.data.download_and_split_data - INFO - Starting download from Figshare...\n",
      "Downloading: 100%|██████████| 544M/544M [00:48<00:00, 11.2MiB/s] \n",
      "2025-02-07 14:03:10,780 - mmcontext.data.download_and_split_data - INFO - Data downloaded successfully and saved to ../../data/test/small_atac_windows.h5ad.\n",
      "2025-02-07 14:03:10,782 - mmcontext.data.download_and_split_data - INFO - Downloading File: sim1_1_norm.h5ad, Size: 2.06 GB\n",
      "2025-02-07 14:03:10,783 - mmcontext.data.download_and_split_data - INFO - Starting download from Figshare...\n",
      "Downloading: 100%|██████████| 2.21G/2.21G [05:13<00:00, 7.03MiB/s]\n",
      "2025-02-07 14:08:25,338 - mmcontext.data.download_and_split_data - INFO - Data downloaded successfully and saved to ../../data/test/sim1_1_norm.h5ad.\n",
      "2025-02-07 14:08:25,341 - mmcontext.data.download_and_split_data - INFO - Downloading File: sim2_norm.h5ad, Size: 3.92 GB\n",
      "2025-02-07 14:08:25,342 - mmcontext.data.download_and_split_data - INFO - Starting download from Figshare...\n",
      "Downloading: 100%|██████████| 4.21G/4.21G [07:03<00:00, 9.94MiB/s]\n",
      "2025-02-07 14:15:29,149 - mmcontext.data.download_and_split_data - INFO - Data downloaded successfully and saved to ../../data/test/sim2_norm.h5ad.\n",
      "/Users/mengerj/repos/mmcontext/.venv/lib/python3.11/site-packages/anndata/_io/specs/registry.py:281: OldFormatWarning: Element '/X' was written without encoding metadata.\n",
      "  return self.callback(read_func, elem.name, elem, iospec=iospec)\n",
      "/Users/mengerj/repos/mmcontext/.venv/lib/python3.11/site-packages/anndata/_io/specs/registry.py:281: OldFormatWarning: Element '/layers' was written without encoding metadata.\n",
      "  return self.callback(read_func, elem.name, elem, iospec=iospec)\n",
      "/Users/mengerj/repos/mmcontext/.venv/lib/python3.11/site-packages/anndata/_io/specs/registry.py:281: OldFormatWarning: Element '/layers/counts' was written without encoding metadata.\n",
      "  return self.callback(read_func, elem.name, elem, iospec=iospec)\n",
      "/Users/mengerj/repos/mmcontext/.venv/lib/python3.11/site-packages/anndata/_io/utils.py:213: OldFormatWarning: Element '/obs/__categories/tech' was written without encoding metadata.\n",
      "  return func(*args, **kwargs)\n",
      "/Users/mengerj/repos/mmcontext/.venv/lib/python3.11/site-packages/anndata/_io/utils.py:213: OldFormatWarning: Element '/obs/tech' was written without encoding metadata.\n",
      "  return func(*args, **kwargs)\n",
      "/Users/mengerj/repos/mmcontext/.venv/lib/python3.11/site-packages/anndata/_io/utils.py:213: OldFormatWarning: Element '/obs/__categories/celltype' was written without encoding metadata.\n",
      "  return func(*args, **kwargs)\n",
      "/Users/mengerj/repos/mmcontext/.venv/lib/python3.11/site-packages/anndata/_io/utils.py:213: OldFormatWarning: Element '/obs/celltype' was written without encoding metadata.\n",
      "  return func(*args, **kwargs)\n",
      "/Users/mengerj/repos/mmcontext/.venv/lib/python3.11/site-packages/anndata/_io/utils.py:213: OldFormatWarning: Element '/obs/size_factors' was written without encoding metadata.\n",
      "  return func(*args, **kwargs)\n",
      "/Users/mengerj/repos/mmcontext/.venv/lib/python3.11/site-packages/anndata/_io/utils.py:213: OldFormatWarning: Element '/obs/_index' was written without encoding metadata.\n",
      "  return func(*args, **kwargs)\n",
      "/Users/mengerj/repos/mmcontext/.venv/lib/python3.11/site-packages/anndata/_io/utils.py:213: OldFormatWarning: Element '/var/_index' was written without encoding metadata.\n",
      "  return func(*args, **kwargs)\n",
      "2025-02-07 14:15:32,745 - mmcontext.data.download_and_split_data - INFO - Loaded AnnData object with 16382 samples and 19093 features.\n"
     ]
    }
   ],
   "source": [
    "from mmcontext.data.download_and_split_data import download_figshare_data\n",
    "\n",
    "download_dir = \"../../data/test\"\n",
    "download_figshare_data(download_dir)"
   ]
  }
 ],
 "metadata": {
  "kernelspec": {
   "display_name": ".venv",
   "language": "python",
   "name": "python3"
  },
  "language_info": {
   "codemirror_mode": {
    "name": "ipython",
    "version": 3
   },
   "file_extension": ".py",
   "mimetype": "text/x-python",
   "name": "python",
   "nbconvert_exporter": "python",
   "pygments_lexer": "ipython3",
   "version": "3.11.6"
  }
 },
 "nbformat": 4,
 "nbformat_minor": 2
}

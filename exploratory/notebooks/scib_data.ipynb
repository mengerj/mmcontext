{
 "cells": [
  {
   "cell_type": "code",
   "execution_count": 10,
   "metadata": {},
   "outputs": [],
   "source": [
    "%load_ext autoreload\n",
    "%autoreload 2"
   ]
  },
  {
   "cell_type": "code",
   "execution_count": 14,
   "metadata": {},
   "outputs": [
    {
     "name": "stdout",
     "output_type": "stream",
     "text": [
      "mmcontext.utils - INFO - mmcontext logging configured using the specified configuration file.\n"
     ]
    }
   ],
   "source": [
    "from mmcontext.utils import setup_logging\n",
    "\n",
    "setup_logging()"
   ]
  },
  {
   "cell_type": "code",
   "execution_count": 15,
   "metadata": {},
   "outputs": [
    {
     "name": "stdout",
     "output_type": "stream",
     "text": [
      "File: human_pancreas_norm_complexBatch.h5ad, Size: 0.29 GB\n",
      "mmcontext.data.download_and_split_data - INFO - Starting download from Figshare...\n",
      "mmcontext.data.download_and_split_data - INFO - File already exists at ../..//data/scib_data/original/human_pancreas_norm_complexBatch.h5ad. Skipping download.\n",
      "File: Lung_atlas_public.h5ad, Size: 0.95 GB\n",
      "mmcontext.data.download_and_split_data - INFO - Starting download from Figshare...\n",
      "mmcontext.data.download_and_split_data - INFO - File already exists at ../..//data/scib_data/original/Lung_atlas_public.h5ad. Skipping download.\n"
     ]
    },
    {
     "name": "stderr",
     "output_type": "stream",
     "text": [
      "/Users/mengerj/repos/mmcontext/.venv/lib/python3.12/site-packages/anndata/_io/specs/registry.py:281: OldFormatWarning: Element '/X' was written without encoding metadata.\n",
      "  return self.callback(read_func, elem.name, elem, iospec=iospec)\n",
      "/Users/mengerj/repos/mmcontext/.venv/lib/python3.12/site-packages/anndata/_io/specs/registry.py:281: OldFormatWarning: Element '/layers' was written without encoding metadata.\n",
      "  return self.callback(read_func, elem.name, elem, iospec=iospec)\n",
      "/Users/mengerj/repos/mmcontext/.venv/lib/python3.12/site-packages/anndata/_io/specs/registry.py:281: OldFormatWarning: Element '/layers/counts' was written without encoding metadata.\n",
      "  return self.callback(read_func, elem.name, elem, iospec=iospec)\n"
     ]
    },
    {
     "name": "stdout",
     "output_type": "stream",
     "text": [
      "mmcontext.data.download_and_split_data - INFO - Loaded AnnData object with 16382 samples and 19093 features.\n"
     ]
    },
    {
     "name": "stderr",
     "output_type": "stream",
     "text": [
      "/Users/mengerj/repos/mmcontext/.venv/lib/python3.12/site-packages/anndata/_io/utils.py:213: OldFormatWarning: Element '/obs/__categories/tech' was written without encoding metadata.\n",
      "  return func(*args, **kwargs)\n",
      "/Users/mengerj/repos/mmcontext/.venv/lib/python3.12/site-packages/anndata/_io/utils.py:213: OldFormatWarning: Element '/obs/tech' was written without encoding metadata.\n",
      "  return func(*args, **kwargs)\n",
      "/Users/mengerj/repos/mmcontext/.venv/lib/python3.12/site-packages/anndata/_io/utils.py:213: OldFormatWarning: Element '/obs/__categories/celltype' was written without encoding metadata.\n",
      "  return func(*args, **kwargs)\n",
      "/Users/mengerj/repos/mmcontext/.venv/lib/python3.12/site-packages/anndata/_io/utils.py:213: OldFormatWarning: Element '/obs/celltype' was written without encoding metadata.\n",
      "  return func(*args, **kwargs)\n",
      "/Users/mengerj/repos/mmcontext/.venv/lib/python3.12/site-packages/anndata/_io/utils.py:213: OldFormatWarning: Element '/obs/size_factors' was written without encoding metadata.\n",
      "  return func(*args, **kwargs)\n",
      "/Users/mengerj/repos/mmcontext/.venv/lib/python3.12/site-packages/anndata/_io/utils.py:213: OldFormatWarning: Element '/obs/_index' was written without encoding metadata.\n",
      "  return func(*args, **kwargs)\n",
      "/Users/mengerj/repos/mmcontext/.venv/lib/python3.12/site-packages/anndata/_io/utils.py:213: OldFormatWarning: Element '/var/_index' was written without encoding metadata.\n",
      "  return func(*args, **kwargs)\n"
     ]
    },
    {
     "name": "stdout",
     "output_type": "stream",
     "text": [
      "mmcontext.data.download_and_split_data - INFO - Split completed: 14743 train samples, 1639 test samples.\n",
      "mmcontext.data.download_and_split_data - INFO - Train data saved to ../..//data/scib_data/split_random/train/human_pancreas_norm_complexBatch.zarr\n",
      "mmcontext.data.download_and_split_data - INFO - Test data saved to ../..//data/scib_data/split_random/test/human_pancreas_norm_complexBatch.zarr\n",
      "mmcontext.data.download_and_split_data - ERROR - dataset_id not found in .obs.\n",
      "mmcontext.data.download_and_split_data - ERROR - Failed to split and save data for split_by=dataset_id: \"dataset_id must be present in .obs to use 'dataset_id' splitting.\"\n",
      "mmcontext.data.download_and_split_data - INFO - Loaded AnnData object with 32472 samples and 15148 features.\n"
     ]
    },
    {
     "name": "stderr",
     "output_type": "stream",
     "text": [
      "/Users/mengerj/repos/mmcontext/.venv/lib/python3.12/site-packages/anndata/_io/specs/registry.py:281: OldFormatWarning: Element '/layers' was written without encoding metadata.\n",
      "  return self.callback(read_func, elem.name, elem, iospec=iospec)\n",
      "/Users/mengerj/repos/mmcontext/.venv/lib/python3.12/site-packages/anndata/_io/utils.py:213: OldFormatWarning: Element '/obs/__categories/dataset' was written without encoding metadata.\n",
      "  return func(*args, **kwargs)\n",
      "/Users/mengerj/repos/mmcontext/.venv/lib/python3.12/site-packages/anndata/_io/utils.py:213: OldFormatWarning: Element '/obs/dataset' was written without encoding metadata.\n",
      "  return func(*args, **kwargs)\n",
      "/Users/mengerj/repos/mmcontext/.venv/lib/python3.12/site-packages/anndata/_io/utils.py:213: OldFormatWarning: Element '/obs/__categories/location' was written without encoding metadata.\n",
      "  return func(*args, **kwargs)\n",
      "/Users/mengerj/repos/mmcontext/.venv/lib/python3.12/site-packages/anndata/_io/utils.py:213: OldFormatWarning: Element '/obs/location' was written without encoding metadata.\n",
      "  return func(*args, **kwargs)\n",
      "/Users/mengerj/repos/mmcontext/.venv/lib/python3.12/site-packages/anndata/_io/utils.py:213: OldFormatWarning: Element '/obs/nGene' was written without encoding metadata.\n",
      "  return func(*args, **kwargs)\n",
      "/Users/mengerj/repos/mmcontext/.venv/lib/python3.12/site-packages/anndata/_io/utils.py:213: OldFormatWarning: Element '/obs/nUMI' was written without encoding metadata.\n",
      "  return func(*args, **kwargs)\n",
      "/Users/mengerj/repos/mmcontext/.venv/lib/python3.12/site-packages/anndata/_io/utils.py:213: OldFormatWarning: Element '/obs/__categories/patientGroup' was written without encoding metadata.\n",
      "  return func(*args, **kwargs)\n",
      "/Users/mengerj/repos/mmcontext/.venv/lib/python3.12/site-packages/anndata/_io/utils.py:213: OldFormatWarning: Element '/obs/patientGroup' was written without encoding metadata.\n",
      "  return func(*args, **kwargs)\n",
      "/Users/mengerj/repos/mmcontext/.venv/lib/python3.12/site-packages/anndata/_io/utils.py:213: OldFormatWarning: Element '/obs/percent.mito' was written without encoding metadata.\n",
      "  return func(*args, **kwargs)\n",
      "/Users/mengerj/repos/mmcontext/.venv/lib/python3.12/site-packages/anndata/_io/utils.py:213: OldFormatWarning: Element '/obs/__categories/protocol' was written without encoding metadata.\n",
      "  return func(*args, **kwargs)\n",
      "/Users/mengerj/repos/mmcontext/.venv/lib/python3.12/site-packages/anndata/_io/utils.py:213: OldFormatWarning: Element '/obs/protocol' was written without encoding metadata.\n",
      "  return func(*args, **kwargs)\n",
      "/Users/mengerj/repos/mmcontext/.venv/lib/python3.12/site-packages/anndata/_io/utils.py:213: OldFormatWarning: Element '/obs/__categories/sanger_type' was written without encoding metadata.\n",
      "  return func(*args, **kwargs)\n",
      "/Users/mengerj/repos/mmcontext/.venv/lib/python3.12/site-packages/anndata/_io/utils.py:213: OldFormatWarning: Element '/obs/sanger_type' was written without encoding metadata.\n",
      "  return func(*args, **kwargs)\n",
      "/Users/mengerj/repos/mmcontext/.venv/lib/python3.12/site-packages/anndata/_io/utils.py:213: OldFormatWarning: Element '/obs/size_factors' was written without encoding metadata.\n",
      "  return func(*args, **kwargs)\n",
      "/Users/mengerj/repos/mmcontext/.venv/lib/python3.12/site-packages/anndata/_io/utils.py:213: OldFormatWarning: Element '/obs/__categories/sampling_method' was written without encoding metadata.\n",
      "  return func(*args, **kwargs)\n",
      "/Users/mengerj/repos/mmcontext/.venv/lib/python3.12/site-packages/anndata/_io/utils.py:213: OldFormatWarning: Element '/obs/sampling_method' was written without encoding metadata.\n",
      "  return func(*args, **kwargs)\n",
      "/Users/mengerj/repos/mmcontext/.venv/lib/python3.12/site-packages/anndata/_io/utils.py:213: OldFormatWarning: Element '/obs/__categories/batch' was written without encoding metadata.\n",
      "  return func(*args, **kwargs)\n",
      "/Users/mengerj/repos/mmcontext/.venv/lib/python3.12/site-packages/anndata/_io/utils.py:213: OldFormatWarning: Element '/obs/batch' was written without encoding metadata.\n",
      "  return func(*args, **kwargs)\n",
      "/Users/mengerj/repos/mmcontext/.venv/lib/python3.12/site-packages/anndata/_io/utils.py:213: OldFormatWarning: Element '/obs/__categories/cell_type' was written without encoding metadata.\n",
      "  return func(*args, **kwargs)\n",
      "/Users/mengerj/repos/mmcontext/.venv/lib/python3.12/site-packages/anndata/_io/utils.py:213: OldFormatWarning: Element '/obs/cell_type' was written without encoding metadata.\n",
      "  return func(*args, **kwargs)\n",
      "/Users/mengerj/repos/mmcontext/.venv/lib/python3.12/site-packages/anndata/_io/utils.py:213: OldFormatWarning: Element '/obs/__categories/donor' was written without encoding metadata.\n",
      "  return func(*args, **kwargs)\n",
      "/Users/mengerj/repos/mmcontext/.venv/lib/python3.12/site-packages/anndata/_io/utils.py:213: OldFormatWarning: Element '/obs/donor' was written without encoding metadata.\n",
      "  return func(*args, **kwargs)\n",
      "/Users/mengerj/repos/mmcontext/.venv/lib/python3.12/site-packages/anndata/_io/utils.py:213: OldFormatWarning: Element '/obs/index' was written without encoding metadata.\n",
      "  return func(*args, **kwargs)\n",
      "/Users/mengerj/repos/mmcontext/.venv/lib/python3.12/site-packages/anndata/_io/utils.py:213: OldFormatWarning: Element '/var/index' was written without encoding metadata.\n",
      "  return func(*args, **kwargs)\n"
     ]
    },
    {
     "name": "stdout",
     "output_type": "stream",
     "text": [
      "mmcontext.data.download_and_split_data - INFO - Split completed: 29224 train samples, 3248 test samples.\n",
      "mmcontext.data.download_and_split_data - INFO - Train data saved to ../..//data/scib_data/split_random/train/Lung_atlas_public.zarr\n",
      "mmcontext.data.download_and_split_data - INFO - Test data saved to ../..//data/scib_data/split_random/test/Lung_atlas_public.zarr\n",
      "mmcontext.data.download_and_split_data - ERROR - dataset_id not found in .obs.\n",
      "mmcontext.data.download_and_split_data - ERROR - Failed to split and save data for split_by=dataset_id: \"dataset_id must be present in .obs to use 'dataset_id' splitting.\"\n"
     ]
    }
   ],
   "source": [
    "from mmcontext.data.download_and_split_data import download_and_split\n",
    "\n",
    "repo_dir = \"../../\"\n",
    "download_and_split(repo_dir)"
   ]
  }
 ],
 "metadata": {
  "kernelspec": {
   "display_name": ".venv",
   "language": "python",
   "name": "python3"
  },
  "language_info": {
   "codemirror_mode": {
    "name": "ipython",
    "version": 3
   },
   "file_extension": ".py",
   "mimetype": "text/x-python",
   "name": "python",
   "nbconvert_exporter": "python",
   "pygments_lexer": "ipython3",
   "version": "3.11.6"
  }
 },
 "nbformat": 4,
 "nbformat_minor": 2
}

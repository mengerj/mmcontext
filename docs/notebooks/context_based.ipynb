{
 "cells": [
  {
   "cell_type": "markdown",
   "metadata": {},
   "source": [
    "# Tutorial: Learning to reconstruct data based on context information"
   ]
  },
  {
   "cell_type": "markdown",
   "metadata": {},
   "source": [
    "## Contents of Tutorial\n",
    "\n",
    "This tutorial demonstrates how to use the mmcontext package to construct and train a deep learning network which takes AnnData objects and learns joint representations of context and data information. Here we focus on reconstructing experimental data from the modified context embeddings. The learning objective includes contrastive learning which allows the model learn the realtionship between context and data. The trained model can then be used to predict data for novel contexts.\n",
    "\n",
    "We'll walk through the steps of:\n",
    "\n",
    "**Preprocessing**:\n",
    "1. Loading the Dataset\n",
    "2. Generating Embeddings\n",
    "3. Normalizing Embeddings\n",
    "4. Aligning Embeddings\n",
    "5. Constructing the Dataset\n",
    "6. Creating a Data Loader\n",
    "\n",
    "**Model fitting**:\n",
    "1. Initialize the model\n",
    "2. Configure the loss\n",
    "3. Train the model\n",
    "\n",
    "**Evaluation**\n",
    "1. Visual evaluation of reconstruction quality\n",
    "2. scib based metrics on data and embedding space\n",
    "3. Data properties of orignal and reconstructed data"
   ]
  },
  {
   "cell_type": "code",
   "execution_count": 213,
   "metadata": {},
   "outputs": [
    {
     "name": "stdout",
     "output_type": "stream",
     "text": [
      "The autoreload extension is already loaded. To reload it, use:\n",
      "  %reload_ext autoreload\n"
     ]
    }
   ],
   "source": [
    "%load_ext autoreload\n",
    "%autoreload 2"
   ]
  },
  {
   "cell_type": "markdown",
   "metadata": {},
   "source": [
    "### Preprocessing\n",
    "#### 1. Loading the Dataset\n",
    "\n",
    "The input data has to be an {class}`anndata.AnnData` object. First, we'll load the example dataset provided in data/small_cellxgene.h5ad. It is derived from the cellxgene census {cite:p}`czi2023cz` and contains cells of various tissues and celltypes from different studys. It is a custom made dataset that contains data from various tissues originating from different datasets. The scvi embedding included is provided by cellxgene and contains embeddings computed with the scvi variational autoencoder trained on the cellxgene corpus. "
   ]
  },
  {
   "cell_type": "code",
   "execution_count": 2,
   "metadata": {},
   "outputs": [
    {
     "name": "stdout",
     "output_type": "stream",
     "text": [
      "AnnData object with n_obs × n_vars = 280000 × 5000\n",
      "    obs: 'soma_joinid', 'donor_id', 'disease', 'sex', 'dataset_id', 'cell_type', 'assay', 'tissue', 'cell_type_ontology_term_id', 'assay_ontology_term_id', 'tissue_ontology_term_id', 'suspension_type', 'is_primary_data'\n",
      "    var: 'soma_joinid', 'feature_id', 'feature_name', 'feature_length', 'nnz', 'n_measured_obs'\n",
      "    obsm: 'scvi'\n"
     ]
    }
   ],
   "source": [
    "# Import necessary libraries\n",
    "import anndata\n",
    "import scanpy as sc\n",
    "\n",
    "data_path = \"../../data/raw/large_cellxgene.h5ad\"\n",
    "# Load the dataset\n",
    "adata = anndata.read_h5ad(data_path)\n",
    "# Display basic information about the dataset\n",
    "print(adata)"
   ]
  },
  {
   "cell_type": "code",
   "execution_count": 3,
   "metadata": {},
   "outputs": [],
   "source": [
    "# Log transformation for reconstruction\n",
    "sc.pp.log1p(adata)"
   ]
  },
  {
   "cell_type": "code",
   "execution_count": 4,
   "metadata": {},
   "outputs": [],
   "source": [
    "import numpy as np\n",
    "from pathlib import Path\n",
    "\n",
    "# subset 20000 cells from the dataset and save both the remaining and the removed cells\n",
    "n_test = 20000\n",
    "test_path = \"../../data/raw/test/\"\n",
    "train_path = \"../../data/raw/train/\"\n",
    "# Create random index for test cells\n",
    "random_indices = np.random.choice(adata.n_obs, size=n_test, replace=False)\n",
    "\n",
    "# Create boolean mask and slice the original AnnData\n",
    "test_mask = np.zeros(adata.n_obs, dtype=bool)\n",
    "test_mask[random_indices] = True\n",
    "\n",
    "test_adata = adata[test_mask].copy()\n",
    "train_adata = adata[~test_mask].copy()\n",
    "# Ensure output directories exist\n",
    "Path(test_path).mkdir(parents=True, exist_ok=True)\n",
    "Path(train_path).mkdir(parents=True, exist_ok=True)\n",
    "\n",
    "# Write subsets to disk\n",
    "test_file_path = Path(test_path) / \"adata_test.h5ad\"\n",
    "train_file_path = Path(train_path) / \"adata_train.h5ad\"\n",
    "\n",
    "test_adata.write(test_file_path)\n",
    "train_adata.write(train_file_path)"
   ]
  },
  {
   "cell_type": "code",
   "execution_count": 5,
   "metadata": {},
   "outputs": [
    {
     "name": "stdout",
     "output_type": "stream",
     "text": [
      "mmcontext - INFO - mmcontext logging configured using the specified configuration file.\n"
     ]
    },
    {
     "name": "stderr",
     "output_type": "stream",
     "text": [
      "/Users/mengerj/Library/Application Support/hatch/env/virtual/mmcontext/NDS_X2Wf/mmcontext/lib/python3.10/site-packages/pythonjsonlogger/jsonlogger.py:11: DeprecationWarning: pythonjsonlogger.jsonlogger has been moved to pythonjsonlogger.json\n",
      "  warnings.warn(\n"
     ]
    },
    {
     "name": "stdout",
     "output_type": "stream",
     "text": [
      "mmcontext.pp.utils - INFO - No cells with zero variance found.\n",
      "mmcontext.pp.utils - INFO - No cells with zero variance found.\n"
     ]
    }
   ],
   "source": [
    "from mmcontext.pp.utils import remove_entries, consolidate_low_frequency_categories\n",
    "\n",
    "# split anndata into train and test\n",
    "# train_adata, test_adata = split_anndata(adata, train_size=0.8)\n",
    "remove_entries(train_adata)\n",
    "remove_entries(test_adata)\n",
    "# remove cells and datasets with less than 5 appearances\n",
    "train_adata = consolidate_low_frequency_categories(\n",
    "    train_adata, columns=[\"cell_type\", \"dataset_id\"], threshold=5, remove=True\n",
    ")\n",
    "# remove cells and datasets with less than 5 appearances\n",
    "test_adata = consolidate_low_frequency_categories(\n",
    "    test_adata, columns=[\"cell_type\", \"dataset_id\"], threshold=5, remove=True\n",
    ")"
   ]
  },
  {
   "cell_type": "markdown",
   "metadata": {},
   "source": [
    "#### 2. Generate Embeddings\n",
    "\n",
    "We will generate context embeddings based on the categorical metadata fields cell_type and tissue using the {class}`mmcontext.pp.CategoryEmbedder` class.\n",
    "The method is based on creating an embedding of the individual categories of a cell with a text model. The `embeddings_file_path` points to a dictionary that contains embeddings for a range of cell types and tissues from the cellxgene corpus, thereby allowing the method to work without needing an API call. Only if some categories are not found in the dictionary the api will be used. If only a few are unknown, these will just be filled with a zero embedding. The `unkown_threshold` parameter controls how many new categories are needed to use the API. For that of course an API Key will be needed, which has to be set as an environmental variable \"OPENAI_API_KEY\". \n",
    "\n",
    "We will use the precomputed data embeddings stored in `adata.obsm['scvi']` as our data embeddings"
   ]
  },
  {
   "cell_type": "code",
   "execution_count": 6,
   "metadata": {},
   "outputs": [
    {
     "name": "stdout",
     "output_type": "stream",
     "text": [
      "mmcontext.pp.context_embedder - INFO - Loaded embeddings from file.\n",
      "mmcontext.pp.context_embedder - INFO - Embeddings dictionary contains the following categories: dict_keys(['cell_type', 'tissue', 'assay']) with a total of 947 elements.\n",
      "mmcontext.pp.embedder - INFO - Using external data embeddings provided.\n",
      "mmcontext.pp.embedder - INFO - Creating context embeddings...\n",
      "mmcontext.pp.context_embedder - INFO - Embeddings for 'cell_type' stored in adata.obsm['cell_type_emb']\n",
      "mmcontext.pp.context_embedder - INFO - Combined context embeddings stored in adata.obsm['c_emb']\n",
      "Context Embeddings Shape: (259879, 1536)\n",
      "Data Embeddings Shape: (259879, 50)\n",
      "mmcontext.pp.embedder - INFO - Using external data embeddings provided.\n",
      "mmcontext.pp.embedder - INFO - Creating context embeddings...\n",
      "mmcontext.pp.context_embedder - INFO - Embeddings for 'cell_type' stored in adata.obsm['cell_type_emb']\n",
      "mmcontext.pp.context_embedder - INFO - Combined context embeddings stored in adata.obsm['c_emb']\n",
      "Context Embeddings Shape: (19839, 1536)\n",
      "Data Embeddings Shape: (19839, 50)\n"
     ]
    }
   ],
   "source": [
    "# Import the CategoryEmbedder class\n",
    "from mmcontext.pp import CategoryEmbedder, Embedder, AnnDataStoredEmbedder\n",
    "\n",
    "# Specify the categories to embed\n",
    "categories = [\"cell_type\"]\n",
    "one_hot = False\n",
    "# Initialize the CategoryEmbedder\n",
    "category_embedder = CategoryEmbedder(\n",
    "    metadata_categories=categories,\n",
    "    model=\"text-embedding-3-small\",\n",
    "    combination_method=\"concatenate\",\n",
    "    embeddings_file_path=\"../../data/emb_dicts/category_embeddings_text-embedding-3-small_metadata_embeddings.pkl.gz\",\n",
    "    one_hot=one_hot,\n",
    ")\n",
    "data_embedder = AnnDataStoredEmbedder(obsm_key=\"scvi\")\n",
    "# Initialize the Embedder without embedders\n",
    "embedder = Embedder(context_embedder=category_embedder, data_embedder=data_embedder)\n",
    "\n",
    "# Create embeddings using external embeddings\n",
    "for adata in [train_adata, test_adata]:\n",
    "    embedder.create_embeddings(adata)\n",
    "    # Confirm the shape of the context embeddings\n",
    "    print(\"Context Embeddings Shape:\", adata.obsm[\"c_emb\"].shape)\n",
    "    print(\"Data Embeddings Shape:\", adata.obsm[\"d_emb\"].shape)"
   ]
  },
  {
   "cell_type": "markdown",
   "metadata": {},
   "source": [
    "#### 3. Normalize Embeddings \n",
    "\n",
    "Now that the embeddings are created and stored in the adata object we can apply normalization. We will use the {class}`mmcontext.pp.MinMaxNormalizer` here. "
   ]
  },
  {
   "cell_type": "code",
   "execution_count": 7,
   "metadata": {},
   "outputs": [
    {
     "name": "stdout",
     "output_type": "stream",
     "text": [
      "mmcontext.pp.embedding_normalizer - INFO - Normalizing embeddings using min-max normalization...\n",
      "Normalized Data Embeddings Shape: (259879, 50)\n",
      "Normalized Context Embeddings Shape: (259879, 1536)\n",
      "mmcontext.pp.embedding_normalizer - INFO - Normalizing embeddings using min-max normalization...\n",
      "Normalized Data Embeddings Shape: (19839, 50)\n",
      "Normalized Context Embeddings Shape: (19839, 1536)\n"
     ]
    }
   ],
   "source": [
    "# Import the MinMaxNormalizer class\n",
    "from mmcontext.pp import MinMaxNormalizer\n",
    "\n",
    "# Initialize the MinMaxNormalizer\n",
    "normalizer = MinMaxNormalizer()\n",
    "# Normalize the embeddings\n",
    "for adata in [train_adata, test_adata]:\n",
    "    normalizer.normalize(adata)\n",
    "\n",
    "    # Confirm that normalized embeddings are stored\n",
    "    print(\"Normalized Data Embeddings Shape:\", adata.obsm[\"d_emb_norm\"].shape)\n",
    "    print(\"Normalized Context Embeddings Shape:\", adata.obsm[\"c_emb_norm\"].shape)"
   ]
  },
  {
   "cell_type": "markdown",
   "metadata": {},
   "source": [
    "#### 4. Aligning Embeddings\n",
    "\n",
    "After normalization we will now use a {class}`mmcontext.pp.DimAligner` to make sure the dimensions of both data and context embeddings are equal, as this will be nescessary for the model. We will use the {class}`mmcontext.pp.PCAReducer` for this. If embeddings are larger than target latent dimension, they will be reduced via PCA. If there are smaller, padding with zeros will be applied. If using the {class}`mmcontext.pp.PCAReducer`, you can evaluate the principal components with some plots and metrics."
   ]
  },
  {
   "cell_type": "code",
   "execution_count": 8,
   "metadata": {},
   "outputs": [],
   "source": [
    "from omegaconf import DictConfig\n",
    "\n",
    "# Create a DictConfig object for the configuration\n",
    "config = DictConfig(\n",
    "    {\n",
    "        \"evaluate_pca\": True,\n",
    "        \"save_path\": \"pca_eval_oh\",\n",
    "        \"scree_plot\": True,\n",
    "        \"cumulative_variance_plot\": True,\n",
    "        \"loadings_heatmap\": True,\n",
    "        \"loadings_heatmap_options\": {\n",
    "            \"threshold\": 0,  # Only include loadings above this threshold\n",
    "            \"top_n_components\": 64,  # Number of principal components to include in the heatmap\n",
    "            \"top_n_variables\": 1000,  # Number of variables to display in the heatmap\n",
    "        },\n",
    "    }\n",
    ")\n",
    "# Configuration dictionary for PCA evaluation\n",
    "\n",
    "if config.evaluate_pca and one_hot:\n",
    "    config.one_hot_order = adata.uns[\"one_hot_order\"]"
   ]
  },
  {
   "cell_type": "code",
   "execution_count": 9,
   "metadata": {},
   "outputs": [
    {
     "name": "stdout",
     "output_type": "stream",
     "text": [
      "mmcontext.pp.dim_aligner - INFO - one_hot_order not provided. Using default feature indices.\n",
      "mmcontext.pp.dim_aligner - INFO - Applied threshold: 0\n",
      "mmcontext.pp.dim_aligner - INFO - Selected top 1000 variables based on importance.\n",
      "mmcontext.pp.dim_aligner - INFO - Loadings heatmap saved to pca_eval_oh/loadings_heatmap.png\n",
      "mmcontext.pp.dim_aligner - INFO - Loadings heatmap generation complete.\n",
      "Aligned Data Embeddings Shape: (259879, 64)\n",
      "Aligned Context Embeddings Shape: (259879, 64)\n",
      "mmcontext.pp.dim_aligner - INFO - one_hot_order not provided. Using default feature indices.\n",
      "mmcontext.pp.dim_aligner - INFO - Applied threshold: 0\n",
      "mmcontext.pp.dim_aligner - INFO - Selected top 1000 variables based on importance.\n",
      "mmcontext.pp.dim_aligner - INFO - Loadings heatmap saved to pca_eval_oh/loadings_heatmap.png\n",
      "mmcontext.pp.dim_aligner - INFO - Loadings heatmap generation complete.\n",
      "Aligned Data Embeddings Shape: (19839, 64)\n",
      "Aligned Context Embeddings Shape: (19839, 64)\n"
     ]
    }
   ],
   "source": [
    "# Import the PCAReducer class\n",
    "from mmcontext.pp import PCAReducer\n",
    "\n",
    "# Initialize the PCAReducer with the desired latent dimension\n",
    "latent_dim = 64\n",
    "aligner = PCAReducer(latent_dim=latent_dim, config=config)\n",
    "\n",
    "# Align the embeddings\n",
    "for adata in [train_adata, test_adata]:\n",
    "    aligner.align(adata)\n",
    "\n",
    "    # Confirm that aligned embeddings are stored\n",
    "    print(\"Aligned Data Embeddings Shape:\", adata.obsm[\"d_emb_aligned\"].shape)\n",
    "    print(\"Aligned Context Embeddings Shape:\", adata.obsm[\"c_emb_aligned\"].shape)"
   ]
  },
  {
   "cell_type": "markdown",
   "metadata": {},
   "source": [
    "#### 5. Constructing the Dataset\n",
    "\n",
    "Finally, we will construct a dataset using the aligned embeddings, suitable for training models with PyTorch."
   ]
  },
  {
   "cell_type": "code",
   "execution_count": 41,
   "metadata": {},
   "outputs": [],
   "source": [
    "# Import the DataSetConstructor class\n",
    "from mmcontext.pp import DataSetConstructor\n",
    "\n",
    "# The sequence length for the dataset. Since attention mechanisms will be used, samples can be grouped into sequences to perform attention within the sequence.\n",
    "seq_length = 64\n",
    "batch_size = 32\n",
    "# Initialize the DataSetConstructor\n",
    "train_dataset_constructor = DataSetConstructor(\n",
    "    out_emb_keys={\"data_embedding\": \"d_emb\", \"context_embedding\": \"c_emb\"},\n",
    "    use_raw=True,\n",
    "    chunk_size=seq_length * batch_size,\n",
    "    batch_size=batch_size,\n",
    ")\n",
    "test_dataset_constructor = DataSetConstructor(\n",
    "    out_emb_keys={\"data_embedding\": \"d_emb\", \"context_embedding\": \"c_emb\"},\n",
    "    use_raw=True,\n",
    "    chunk_size=seq_length * batch_size,\n",
    "    batch_size=batch_size,\n",
    ")\n",
    "\n",
    "# Add the AnnData object to the dataset\n",
    "train_dataset_constructor.add_anndata(\n",
    "    train_adata,\n",
    "    emb_keys={\"data_embedding\": \"d_emb_aligned\", \"context_embedding\": \"c_emb_aligned\"},\n",
    "    sample_id_key=\"soma_joinid\",\n",
    ")\n",
    "test_dataset_constructor.add_anndata(\n",
    "    test_adata,\n",
    "    emb_keys={\"data_embedding\": \"d_emb_aligned\", \"context_embedding\": \"c_emb_aligned\"},\n",
    "    sample_id_key=\"soma_joinid\",\n",
    ")\n",
    "\n",
    "\n",
    "# Construct the dataset\n",
    "train_dataset = train_dataset_constructor.construct_dataset(seq_length=seq_length)\n",
    "test_dataset = test_dataset_constructor.construct_dataset(seq_length=seq_length)"
   ]
  },
  {
   "cell_type": "markdown",
   "metadata": {},
   "source": [
    "#### 6. Create a Dataloader\n",
    "Create a pyTorch Dataloader which can be iterated over"
   ]
  },
  {
   "cell_type": "code",
   "execution_count": 42,
   "metadata": {},
   "outputs": [
    {
     "name": "stderr",
     "output_type": "stream",
     "text": [
      "/Users/mengerj/Library/Application Support/hatch/env/virtual/mmcontext/NDS_X2Wf/mmcontext/lib/python3.10/site-packages/pythonjsonlogger/jsonlogger.py:11: DeprecationWarning: pythonjsonlogger.jsonlogger has been moved to pythonjsonlogger.json\n",
      "  warnings.warn(\n"
     ]
    },
    {
     "name": "stdout",
     "output_type": "stream",
     "text": [
      "mmcontext - INFO - mmcontext logging configured using the specified configuration file.\n"
     ]
    },
    {
     "name": "stderr",
     "output_type": "stream",
     "text": [
      "/Users/mengerj/Library/Application Support/hatch/env/virtual/mmcontext/NDS_X2Wf/mmcontext/lib/python3.10/site-packages/pythonjsonlogger/jsonlogger.py:11: DeprecationWarning: pythonjsonlogger.jsonlogger has been moved to pythonjsonlogger.json\n",
      "  warnings.warn(\n"
     ]
    },
    {
     "name": "stdout",
     "output_type": "stream",
     "text": [
      "mmcontext - INFO - mmcontext logging configured using the specified configuration file.\n"
     ]
    },
    {
     "name": "stderr",
     "output_type": "stream",
     "text": [
      "/Users/mengerj/Library/Application Support/hatch/env/virtual/mmcontext/NDS_X2Wf/mmcontext/lib/python3.10/site-packages/pythonjsonlogger/jsonlogger.py:11: DeprecationWarning: pythonjsonlogger.jsonlogger has been moved to pythonjsonlogger.json\n",
      "  warnings.warn(\n"
     ]
    },
    {
     "name": "stdout",
     "output_type": "stream",
     "text": [
      "mmcontext - INFO - mmcontext logging configured using the specified configuration file.\n"
     ]
    },
    {
     "name": "stderr",
     "output_type": "stream",
     "text": [
      "/Users/mengerj/Library/Application Support/hatch/env/virtual/mmcontext/NDS_X2Wf/mmcontext/lib/python3.10/site-packages/pythonjsonlogger/jsonlogger.py:11: DeprecationWarning: pythonjsonlogger.jsonlogger has been moved to pythonjsonlogger.json\n",
      "  warnings.warn(\n"
     ]
    },
    {
     "name": "stdout",
     "output_type": "stream",
     "text": [
      "mmcontext - INFO - mmcontext logging configured using the specified configuration file.\n",
      "torch.Size([32, 64, 64])\n",
      "torch.Size([32, 64, 64])\n",
      "torch.Size([32, 64])\n",
      "torch.Size([32, 64, 5000])\n"
     ]
    }
   ],
   "source": [
    "from torch.utils.data import DataLoader\n",
    "\n",
    "# Create DataLoader\n",
    "train_loader = DataLoader(train_dataset, batch_size=batch_size, shuffle=False, num_workers=4)\n",
    "# For now use the test data as validation data\n",
    "val_loader = DataLoader(test_dataset, batch_size=batch_size, shuffle=False, num_workers=4)\n",
    "\n",
    "# Iterate over DataLoader and verify batch shapes\n",
    "for batch in train_loader:\n",
    "    data_embeddings = batch[\"d_emb\"]  # Shape: (batch_size, seq_length, embedding_dim)\n",
    "    context_embeddings = batch[\"c_emb\"]  # Shape: (batch_size, seq_length, embedding_dim)\n",
    "    sample_ids = batch[\"sample_id\"]  # Shape: (batch_size, seq_length)\n",
    "    raw_data = batch[\"raw_data\"]  # Shape: (batch_size, seq_length, num_features)\n",
    "\n",
    "    print(data_embeddings.shape)\n",
    "    print(context_embeddings.shape)\n",
    "    print(sample_ids.shape)\n",
    "    print(raw_data.shape)\n",
    "    break  # Only need to check the first batch"
   ]
  },
  {
   "cell_type": "markdown",
   "metadata": {},
   "source": [
    "### Model fitting\n",
    "#### 1. Initializing the Model\n",
    "The {class}`mmcontext.engine.MMContextEncoder` is the main encoder which will be used to create embeddings based on the available data and context embeddings. It's structure is flexible and is build upon torchs {class}`torch.nn.TransformerEncoder` which creates stacks of the {class}`mmcontext.engine.CustomTransformerEncoderLayer` which can be configured to be \n",
    "\n",
    "1. To apply self attention (use_self_attention = True)\n",
    "2. To apply cross attention (use_cross_attention = True)\n",
    "3. To use both self and cross attention (both True)\n",
    "4. An MLP only model (both False)\n",
    "\n",
    "The model takes two matrix inputs, `in_main` and `in_cross`. in_main will be passed through the MLP and optionally the self-attention layers, while in_cross is only used if cross-attention is used. In the end the model outputs embeddings of the same shape as in_main, updated based on the learning objective. The inputs are handled in the {class}`mmcontext.engine.Trainer` in dependancy with the settings used for the loss. "
   ]
  },
  {
   "cell_type": "code",
   "execution_count": 43,
   "metadata": {},
   "outputs": [
    {
     "name": "stdout",
     "output_type": "stream",
     "text": [
      "mmcontext.engine.models - INFO - MMContextEncoder initialized with embedding_dim = 64, num_layers = 1, use_self_attention = False, use_cross_attention = False.\n",
      "ZINBDecoder\n",
      "mmcontext.engine.models - INFO - ZINBDecoder initialized with input_dim = 64, hidden_dims = [64, 128], output_dim = 5000.\n"
     ]
    }
   ],
   "source": [
    "from mmcontext.engine import MMContextEncoder, ZINBDecoder\n",
    "\n",
    "hidden_dim = 64\n",
    "num_layers = 1\n",
    "num_heads = 1\n",
    "encoder = MMContextEncoder(\n",
    "    embedding_dim=latent_dim,  # this has to be the same dimension as the latent dimension of the aligner\n",
    "    hidden_dim=hidden_dim,\n",
    "    num_layers=num_layers,\n",
    "    num_heads=num_heads,\n",
    "    use_self_attention=False,\n",
    "    use_cross_attention=False,\n",
    "    activation=\"relu\",\n",
    "    dropout=0.1,\n",
    ")\n",
    "encoder2 = MMContextEncoder(\n",
    "    embedding_dim=latent_dim,  # this has to be the same dimension as the latent dimension of the aligner\n",
    "    hidden_dim=hidden_dim,\n",
    "    num_layers=num_layers,\n",
    "    num_heads=num_heads,\n",
    "    use_self_attention=False,\n",
    "    use_cross_attention=False,\n",
    "    activation=\"relu\",\n",
    "    dropout=0.1,\n",
    ")\n",
    "decoder = ZINBDecoder(\n",
    "    input_dim=latent_dim,\n",
    "    hidden_dims=[64, 128],\n",
    "    output_dim=train_adata.shape[1],  # number of genes\n",
    ")"
   ]
  },
  {
   "cell_type": "markdown",
   "metadata": {},
   "source": [
    "#### 2. Configure the loss\n",
    "The loss function is a central part of this project. The loss is implemented to be extendable and customizable by having a {class}`mmcontext.engine.LossManager` which you can use to add different losses to and which will be passed to the {class}`mmcontext.engine.Trainer` to compute the total loss (as a weighted average of the components) during Training. The current main implementation of a {class}`mmcontext.engine.LossFunction` is the {class}`mmcontext.engine.ContrastiveLoss`, which is a custom approach to contrastive learning. It's main configuration parameters are `target_mode` and `current_mode` which refer to the way in which the target similarity matrix and the current (during model training) similarity matrix are constructed. For example if `target_mode = 'context_context'`, the original context embeddings are used to create the target similarity matrix. Therefore during training, the loss is calcualted as the mean squared error between the current similarity matrix and the one based on the context. If `current_mode = 'data_data'`, the model would learn to find representations of the data that represent similarity found in the respective context.  "
   ]
  },
  {
   "cell_type": "code",
   "execution_count": 44,
   "metadata": {},
   "outputs": [
    {
     "name": "stdout",
     "output_type": "stream",
     "text": [
      "mmcontext.engine.losses - INFO - Adding loss function: ContrastiveLoss(target_mode=infoNCE, current_mode=data_context, similarity_metric=cosine) with weight 1.00\n",
      "mmcontext.engine.losses - INFO - Adding loss function: ZINBLoss with weight 0.01\n"
     ]
    }
   ],
   "source": [
    "from mmcontext.engine import LossManager, ContrastiveLoss, ZINBLoss\n",
    "\n",
    "loss_manager = LossManager()\n",
    "loss_manager.add_loss(ContrastiveLoss(target_mode=\"infoNCE\", current_mode=\"data_context\", similarity_metric=\"cosine\"))\n",
    "loss_manager.add_loss(ZINBLoss(), weight=0.01)"
   ]
  },
  {
   "cell_type": "markdown",
   "metadata": {},
   "source": [
    "#### 3. Train the Model\n",
    "The Trainer uses the defined model and loss the conduct training, aiming to iterativly minimize the loss. The {func}`mmcontext.engine.Trainer.fit` method can take a training and a validation dataloader as input. If a validation loader is given and a save_path is used, the weights of the best performing model can be saved to file. The {class}`mmcontext.engine.MMContextEncoder` has a method `load` to load weights from file.\n",
    "Per default data embeddings are used for in_main while context embeddings are used as in_cross."
   ]
  },
  {
   "cell_type": "code",
   "execution_count": 45,
   "metadata": {},
   "outputs": [
    {
     "name": "stdout",
     "output_type": "stream",
     "text": [
      "mmcontext.engine.trainer - INFO - Running on device: mps\n"
     ]
    }
   ],
   "source": [
    "from mmcontext.engine import Trainer\n",
    "import torch\n",
    "\n",
    "model_parameters = list(encoder.parameters()) + list(decoder.parameters())\n",
    "trainer = Trainer(\n",
    "    encoders={\"context_encoder\": encoder},\n",
    "    decoder=decoder,\n",
    "    loss_manager=loss_manager,\n",
    "    optimizer=torch.optim.Adam(model_parameters),\n",
    "    encoder_inputs={\n",
    "        \"context_encoder\": {\"in_main\": \"c_emb\"},\n",
    "    },\n",
    "    temperature=0.07,\n",
    ")"
   ]
  },
  {
   "cell_type": "markdown",
   "metadata": {},
   "source": [
    "The {class}`mmcontext.eval.SystemMonitor` is used to track CPU and GPU usage as well as file reading/writing speed."
   ]
  },
  {
   "cell_type": "code",
   "execution_count": 46,
   "metadata": {},
   "outputs": [
    {
     "name": "stdout",
     "output_type": "stream",
     "text": [
      "mmcontext.engine.trainer - INFO - Starting Epoch 1/50\n"
     ]
    },
    {
     "name": "stderr",
     "output_type": "stream",
     "text": [
      "/Users/mengerj/Library/Application Support/hatch/env/virtual/mmcontext/NDS_X2Wf/mmcontext/lib/python3.10/site-packages/pythonjsonlogger/jsonlogger.py:11: DeprecationWarning: pythonjsonlogger.jsonlogger has been moved to pythonjsonlogger.json\n",
      "  warnings.warn(\n"
     ]
    },
    {
     "name": "stdout",
     "output_type": "stream",
     "text": [
      "mmcontext - INFO - mmcontext logging configured using the specified configuration file.\n"
     ]
    },
    {
     "name": "stderr",
     "output_type": "stream",
     "text": [
      "/Users/mengerj/Library/Application Support/hatch/env/virtual/mmcontext/NDS_X2Wf/mmcontext/lib/python3.10/site-packages/pythonjsonlogger/jsonlogger.py:11: DeprecationWarning: pythonjsonlogger.jsonlogger has been moved to pythonjsonlogger.json\n",
      "  warnings.warn(\n"
     ]
    },
    {
     "name": "stdout",
     "output_type": "stream",
     "text": [
      "mmcontext - INFO - mmcontext logging configured using the specified configuration file.\n"
     ]
    },
    {
     "name": "stderr",
     "output_type": "stream",
     "text": [
      "/Users/mengerj/Library/Application Support/hatch/env/virtual/mmcontext/NDS_X2Wf/mmcontext/lib/python3.10/site-packages/pythonjsonlogger/jsonlogger.py:11: DeprecationWarning: pythonjsonlogger.jsonlogger has been moved to pythonjsonlogger.json\n",
      "  warnings.warn(\n"
     ]
    },
    {
     "name": "stdout",
     "output_type": "stream",
     "text": [
      "mmcontext - INFO - mmcontext logging configured using the specified configuration file.\n"
     ]
    },
    {
     "name": "stderr",
     "output_type": "stream",
     "text": [
      "/Users/mengerj/Library/Application Support/hatch/env/virtual/mmcontext/NDS_X2Wf/mmcontext/lib/python3.10/site-packages/pythonjsonlogger/jsonlogger.py:11: DeprecationWarning: pythonjsonlogger.jsonlogger has been moved to pythonjsonlogger.json\n",
      "  warnings.warn(\n"
     ]
    },
    {
     "name": "stdout",
     "output_type": "stream",
     "text": [
      "mmcontext - INFO - mmcontext logging configured using the specified configuration file.\n",
      "mmcontext.engine.trainer - INFO - Batch 10/127, Loss: 66.8042, Time per sample: 21.90µs\n",
      "mmcontext.engine.trainer - INFO - Batch 20/127, Loss: 50.3439, Time per sample: 21.98µs\n",
      "mmcontext.engine.trainer - INFO - Batch 30/127, Loss: 32.4117, Time per sample: 21.90µs\n",
      "mmcontext.engine.trainer - INFO - Batch 40/127, Loss: 15.1864, Time per sample: 21.83µs\n",
      "mmcontext.engine.trainer - INFO - Batch 50/127, Loss: 15.0598, Time per sample: 21.89µs\n",
      "mmcontext.engine.trainer - INFO - Batch 60/127, Loss: 18.6651, Time per sample: 21.98µs\n",
      "mmcontext.engine.trainer - INFO - Batch 70/127, Loss: 15.6293, Time per sample: 21.89µs\n",
      "mmcontext.engine.trainer - INFO - Batch 80/127, Loss: 17.5922, Time per sample: 21.85µs\n",
      "mmcontext.engine.trainer - INFO - Batch 90/127, Loss: 12.6169, Time per sample: 21.90µs\n",
      "mmcontext.engine.trainer - INFO - Batch 100/127, Loss: 24.0582, Time per sample: 21.79µs\n",
      "mmcontext.engine.trainer - INFO - Batch 110/127, Loss: 17.8084, Time per sample: 21.81µs\n",
      "mmcontext.engine.trainer - INFO - Batch 120/127, Loss: 20.6282, Time per sample: 22.45µs\n",
      "mmcontext.engine.trainer - INFO - Batch 127/127, Loss: 22.0610, Time per sample: 22.44µs\n",
      "mmcontext.engine.trainer - INFO - Training Epoch Complete. Average Loss: 28.5083\n",
      "mmcontext - INFO - mmcontext logging configured using the specified configuration file.\n"
     ]
    },
    {
     "name": "stderr",
     "output_type": "stream",
     "text": [
      "/Users/mengerj/Library/Application Support/hatch/env/virtual/mmcontext/NDS_X2Wf/mmcontext/lib/python3.10/site-packages/pythonjsonlogger/jsonlogger.py:11: DeprecationWarning: pythonjsonlogger.jsonlogger has been moved to pythonjsonlogger.json\n",
      "  warnings.warn(\n"
     ]
    },
    {
     "name": "stdout",
     "output_type": "stream",
     "text": [
      "mmcontext - INFO - mmcontext logging configured using the specified configuration file.\n"
     ]
    },
    {
     "name": "stderr",
     "output_type": "stream",
     "text": [
      "/Users/mengerj/Library/Application Support/hatch/env/virtual/mmcontext/NDS_X2Wf/mmcontext/lib/python3.10/site-packages/pythonjsonlogger/jsonlogger.py:11: DeprecationWarning: pythonjsonlogger.jsonlogger has been moved to pythonjsonlogger.json\n",
      "  warnings.warn(\n"
     ]
    },
    {
     "name": "stdout",
     "output_type": "stream",
     "text": [
      "mmcontext - INFO - mmcontext logging configured using the specified configuration file.\n"
     ]
    },
    {
     "name": "stderr",
     "output_type": "stream",
     "text": [
      "/Users/mengerj/Library/Application Support/hatch/env/virtual/mmcontext/NDS_X2Wf/mmcontext/lib/python3.10/site-packages/pythonjsonlogger/jsonlogger.py:11: DeprecationWarning: pythonjsonlogger.jsonlogger has been moved to pythonjsonlogger.json\n",
      "  warnings.warn(\n",
      "/Users/mengerj/Library/Application Support/hatch/env/virtual/mmcontext/NDS_X2Wf/mmcontext/lib/python3.10/site-packages/pythonjsonlogger/jsonlogger.py:11: DeprecationWarning: pythonjsonlogger.jsonlogger has been moved to pythonjsonlogger.json\n",
      "  warnings.warn(\n"
     ]
    },
    {
     "name": "stdout",
     "output_type": "stream",
     "text": [
      "mmcontext - INFO - mmcontext logging configured using the specified configuration file.\n",
      "mmcontext.engine.trainer - INFO - Validation Complete. Average Loss: 19.8248\n",
      "mmcontext.engine.trainer - INFO - Epoch 1/50 - Train Loss: 28.5083, Val Loss: 19.8248\n",
      "mmcontext.engine.models - INFO - Saving model state dictionary to best_encoder_weights/best_context_encoder_weights.pth\n",
      "mmcontext.engine.trainer - INFO - Validation loss improved. Encoder 'context_encoder' weights saved.\n",
      "mmcontext.engine.models - INFO - Saving model state dictionary to best_decoder_weights/best_decoder_weights.pth\n",
      "mmcontext.engine.trainer - INFO - Validation loss improved. Decoder weights saved.\n",
      "mmcontext.engine.trainer - INFO - Temperature: 0.07\n",
      "mmcontext.engine.trainer - INFO - Starting Epoch 2/50\n"
     ]
    },
    {
     "name": "stderr",
     "output_type": "stream",
     "text": [
      "/Users/mengerj/Library/Application Support/hatch/env/virtual/mmcontext/NDS_X2Wf/mmcontext/lib/python3.10/site-packages/pythonjsonlogger/jsonlogger.py:11: DeprecationWarning: pythonjsonlogger.jsonlogger has been moved to pythonjsonlogger.json\n",
      "  warnings.warn(\n"
     ]
    },
    {
     "name": "stdout",
     "output_type": "stream",
     "text": [
      "mmcontext - INFO - mmcontext logging configured using the specified configuration file.\n"
     ]
    },
    {
     "name": "stderr",
     "output_type": "stream",
     "text": [
      "/Users/mengerj/Library/Application Support/hatch/env/virtual/mmcontext/NDS_X2Wf/mmcontext/lib/python3.10/site-packages/pythonjsonlogger/jsonlogger.py:11: DeprecationWarning: pythonjsonlogger.jsonlogger has been moved to pythonjsonlogger.json\n",
      "  warnings.warn(\n"
     ]
    },
    {
     "name": "stdout",
     "output_type": "stream",
     "text": [
      "mmcontext - INFO - mmcontext logging configured using the specified configuration file.\n"
     ]
    },
    {
     "name": "stderr",
     "output_type": "stream",
     "text": [
      "/Users/mengerj/Library/Application Support/hatch/env/virtual/mmcontext/NDS_X2Wf/mmcontext/lib/python3.10/site-packages/pythonjsonlogger/jsonlogger.py:11: DeprecationWarning: pythonjsonlogger.jsonlogger has been moved to pythonjsonlogger.json\n",
      "  warnings.warn(\n"
     ]
    },
    {
     "name": "stdout",
     "output_type": "stream",
     "text": [
      "mmcontext - INFO - mmcontext logging configured using the specified configuration file.\n"
     ]
    },
    {
     "name": "stderr",
     "output_type": "stream",
     "text": [
      "/Users/mengerj/Library/Application Support/hatch/env/virtual/mmcontext/NDS_X2Wf/mmcontext/lib/python3.10/site-packages/pythonjsonlogger/jsonlogger.py:11: DeprecationWarning: pythonjsonlogger.jsonlogger has been moved to pythonjsonlogger.json\n",
      "  warnings.warn(\n"
     ]
    },
    {
     "name": "stdout",
     "output_type": "stream",
     "text": [
      "mmcontext - INFO - mmcontext logging configured using the specified configuration file.\n",
      "mmcontext.engine.trainer - INFO - Batch 10/127, Loss: 20.9336, Time per sample: 21.33µs\n",
      "mmcontext.engine.trainer - INFO - Batch 20/127, Loss: 19.4617, Time per sample: 21.77µs\n",
      "mmcontext.engine.trainer - INFO - Batch 30/127, Loss: 20.6199, Time per sample: 21.61µs\n",
      "mmcontext.engine.trainer - INFO - Batch 40/127, Loss: 14.3115, Time per sample: 21.65µs\n",
      "mmcontext.engine.trainer - INFO - Batch 50/127, Loss: 14.3851, Time per sample: 21.57µs\n",
      "mmcontext.engine.trainer - INFO - Batch 60/127, Loss: 17.1552, Time per sample: 21.67µs\n",
      "mmcontext.engine.trainer - INFO - Batch 70/127, Loss: 14.9441, Time per sample: 21.72µs\n",
      "mmcontext.engine.trainer - INFO - Batch 80/127, Loss: 16.7703, Time per sample: 21.66µs\n",
      "mmcontext.engine.trainer - INFO - Batch 90/127, Loss: 12.6509, Time per sample: 21.37µs\n",
      "mmcontext.engine.trainer - INFO - Batch 100/127, Loss: 23.0828, Time per sample: 21.58µs\n",
      "mmcontext.engine.trainer - INFO - Batch 110/127, Loss: 17.0847, Time per sample: 21.62µs\n",
      "mmcontext.engine.trainer - INFO - Batch 120/127, Loss: 19.7013, Time per sample: 21.81µs\n",
      "mmcontext.engine.trainer - INFO - Batch 127/127, Loss: 21.6309, Time per sample: 21.59µs\n",
      "mmcontext.engine.trainer - INFO - Training Epoch Complete. Average Loss: 19.0407\n",
      "mmcontext - INFO - mmcontext logging configured using the specified configuration file.\n"
     ]
    },
    {
     "name": "stderr",
     "output_type": "stream",
     "text": [
      "/Users/mengerj/Library/Application Support/hatch/env/virtual/mmcontext/NDS_X2Wf/mmcontext/lib/python3.10/site-packages/pythonjsonlogger/jsonlogger.py:11: DeprecationWarning: pythonjsonlogger.jsonlogger has been moved to pythonjsonlogger.json\n",
      "  warnings.warn(\n"
     ]
    },
    {
     "name": "stdout",
     "output_type": "stream",
     "text": [
      "mmcontext - INFO - mmcontext logging configured using the specified configuration file.\n"
     ]
    },
    {
     "name": "stderr",
     "output_type": "stream",
     "text": [
      "/Users/mengerj/Library/Application Support/hatch/env/virtual/mmcontext/NDS_X2Wf/mmcontext/lib/python3.10/site-packages/pythonjsonlogger/jsonlogger.py:11: DeprecationWarning: pythonjsonlogger.jsonlogger has been moved to pythonjsonlogger.json\n",
      "  warnings.warn(\n"
     ]
    },
    {
     "name": "stdout",
     "output_type": "stream",
     "text": [
      "mmcontext - INFO - mmcontext logging configured using the specified configuration file.\n"
     ]
    },
    {
     "name": "stderr",
     "output_type": "stream",
     "text": [
      "/Users/mengerj/Library/Application Support/hatch/env/virtual/mmcontext/NDS_X2Wf/mmcontext/lib/python3.10/site-packages/pythonjsonlogger/jsonlogger.py:11: DeprecationWarning: pythonjsonlogger.jsonlogger has been moved to pythonjsonlogger.json\n",
      "  warnings.warn(\n",
      "/Users/mengerj/Library/Application Support/hatch/env/virtual/mmcontext/NDS_X2Wf/mmcontext/lib/python3.10/site-packages/pythonjsonlogger/jsonlogger.py:11: DeprecationWarning: pythonjsonlogger.jsonlogger has been moved to pythonjsonlogger.json\n",
      "  warnings.warn(\n"
     ]
    },
    {
     "name": "stdout",
     "output_type": "stream",
     "text": [
      "mmcontext - INFO - mmcontext logging configured using the specified configuration file.\n",
      "mmcontext.engine.trainer - INFO - Validation Complete. Average Loss: 19.2873\n",
      "mmcontext.engine.trainer - INFO - Epoch 2/50 - Train Loss: 19.0407, Val Loss: 19.2873\n",
      "mmcontext.engine.models - INFO - Saving model state dictionary to best_encoder_weights/best_context_encoder_weights.pth\n",
      "mmcontext.engine.trainer - INFO - Validation loss improved. Encoder 'context_encoder' weights saved.\n",
      "mmcontext.engine.models - INFO - Saving model state dictionary to best_decoder_weights/best_decoder_weights.pth\n",
      "mmcontext.engine.trainer - INFO - Validation loss improved. Decoder weights saved.\n",
      "mmcontext.engine.trainer - INFO - Temperature: 0.07\n",
      "mmcontext.engine.trainer - INFO - Starting Epoch 3/50\n"
     ]
    },
    {
     "name": "stderr",
     "output_type": "stream",
     "text": [
      "/Users/mengerj/Library/Application Support/hatch/env/virtual/mmcontext/NDS_X2Wf/mmcontext/lib/python3.10/site-packages/pythonjsonlogger/jsonlogger.py:11: DeprecationWarning: pythonjsonlogger.jsonlogger has been moved to pythonjsonlogger.json\n",
      "  warnings.warn(\n"
     ]
    },
    {
     "name": "stdout",
     "output_type": "stream",
     "text": [
      "mmcontext - INFO - mmcontext logging configured using the specified configuration file.\n"
     ]
    },
    {
     "name": "stderr",
     "output_type": "stream",
     "text": [
      "/Users/mengerj/Library/Application Support/hatch/env/virtual/mmcontext/NDS_X2Wf/mmcontext/lib/python3.10/site-packages/pythonjsonlogger/jsonlogger.py:11: DeprecationWarning: pythonjsonlogger.jsonlogger has been moved to pythonjsonlogger.json\n",
      "  warnings.warn(\n"
     ]
    },
    {
     "name": "stdout",
     "output_type": "stream",
     "text": [
      "mmcontext - INFO - mmcontext logging configured using the specified configuration file.\n"
     ]
    },
    {
     "name": "stderr",
     "output_type": "stream",
     "text": [
      "/Users/mengerj/Library/Application Support/hatch/env/virtual/mmcontext/NDS_X2Wf/mmcontext/lib/python3.10/site-packages/pythonjsonlogger/jsonlogger.py:11: DeprecationWarning: pythonjsonlogger.jsonlogger has been moved to pythonjsonlogger.json\n",
      "  warnings.warn(\n"
     ]
    },
    {
     "name": "stdout",
     "output_type": "stream",
     "text": [
      "mmcontext - INFO - mmcontext logging configured using the specified configuration file.\n"
     ]
    },
    {
     "name": "stderr",
     "output_type": "stream",
     "text": [
      "/Users/mengerj/Library/Application Support/hatch/env/virtual/mmcontext/NDS_X2Wf/mmcontext/lib/python3.10/site-packages/pythonjsonlogger/jsonlogger.py:11: DeprecationWarning: pythonjsonlogger.jsonlogger has been moved to pythonjsonlogger.json\n",
      "  warnings.warn(\n"
     ]
    },
    {
     "name": "stdout",
     "output_type": "stream",
     "text": [
      "mmcontext - INFO - mmcontext logging configured using the specified configuration file.\n",
      "mmcontext.engine.trainer - INFO - Batch 10/127, Loss: 20.3946, Time per sample: 23.13µs\n",
      "mmcontext.engine.trainer - INFO - Batch 20/127, Loss: 19.1121, Time per sample: 22.38µs\n",
      "mmcontext.engine.trainer - INFO - Batch 30/127, Loss: 20.2844, Time per sample: 21.85µs\n",
      "mmcontext.engine.trainer - INFO - Batch 40/127, Loss: 14.2348, Time per sample: 22.36µs\n",
      "mmcontext.engine.trainer - INFO - Batch 50/127, Loss: 13.9528, Time per sample: 21.80µs\n",
      "mmcontext.engine.trainer - INFO - Batch 60/127, Loss: 16.8240, Time per sample: 21.72µs\n",
      "mmcontext.engine.trainer - INFO - Batch 70/127, Loss: 14.7794, Time per sample: 21.61µs\n",
      "mmcontext.engine.trainer - INFO - Batch 80/127, Loss: 15.8070, Time per sample: 21.70µs\n",
      "mmcontext.engine.trainer - INFO - Batch 90/127, Loss: 12.1750, Time per sample: 21.92µs\n",
      "mmcontext.engine.trainer - INFO - Batch 100/127, Loss: 21.6264, Time per sample: 21.93µs\n",
      "mmcontext.engine.trainer - INFO - Batch 110/127, Loss: 17.6754, Time per sample: 21.77µs\n",
      "mmcontext.engine.trainer - INFO - Batch 120/127, Loss: 19.4141, Time per sample: 22.51µs\n",
      "mmcontext.engine.trainer - INFO - Batch 127/127, Loss: 21.4160, Time per sample: 21.88µs\n",
      "mmcontext.engine.trainer - INFO - Training Epoch Complete. Average Loss: 18.5268\n",
      "mmcontext - INFO - mmcontext logging configured using the specified configuration file.\n"
     ]
    },
    {
     "name": "stderr",
     "output_type": "stream",
     "text": [
      "/Users/mengerj/Library/Application Support/hatch/env/virtual/mmcontext/NDS_X2Wf/mmcontext/lib/python3.10/site-packages/pythonjsonlogger/jsonlogger.py:11: DeprecationWarning: pythonjsonlogger.jsonlogger has been moved to pythonjsonlogger.json\n",
      "  warnings.warn(\n"
     ]
    },
    {
     "name": "stdout",
     "output_type": "stream",
     "text": [
      "mmcontext - INFO - mmcontext logging configured using the specified configuration file.\n"
     ]
    },
    {
     "name": "stderr",
     "output_type": "stream",
     "text": [
      "/Users/mengerj/Library/Application Support/hatch/env/virtual/mmcontext/NDS_X2Wf/mmcontext/lib/python3.10/site-packages/pythonjsonlogger/jsonlogger.py:11: DeprecationWarning: pythonjsonlogger.jsonlogger has been moved to pythonjsonlogger.json\n",
      "  warnings.warn(\n"
     ]
    },
    {
     "name": "stdout",
     "output_type": "stream",
     "text": [
      "mmcontext - INFO - mmcontext logging configured using the specified configuration file.\n"
     ]
    },
    {
     "name": "stderr",
     "output_type": "stream",
     "text": [
      "/Users/mengerj/Library/Application Support/hatch/env/virtual/mmcontext/NDS_X2Wf/mmcontext/lib/python3.10/site-packages/pythonjsonlogger/jsonlogger.py:11: DeprecationWarning: pythonjsonlogger.jsonlogger has been moved to pythonjsonlogger.json\n",
      "  warnings.warn(\n",
      "/Users/mengerj/Library/Application Support/hatch/env/virtual/mmcontext/NDS_X2Wf/mmcontext/lib/python3.10/site-packages/pythonjsonlogger/jsonlogger.py:11: DeprecationWarning: pythonjsonlogger.jsonlogger has been moved to pythonjsonlogger.json\n",
      "  warnings.warn(\n"
     ]
    },
    {
     "name": "stdout",
     "output_type": "stream",
     "text": [
      "mmcontext - INFO - mmcontext logging configured using the specified configuration file.\n",
      "mmcontext.engine.trainer - INFO - Validation Complete. Average Loss: 19.0684\n",
      "mmcontext.engine.trainer - INFO - Epoch 3/50 - Train Loss: 18.5268, Val Loss: 19.0684\n",
      "mmcontext.engine.models - INFO - Saving model state dictionary to best_encoder_weights/best_context_encoder_weights.pth\n",
      "mmcontext.engine.trainer - INFO - Validation loss improved. Encoder 'context_encoder' weights saved.\n",
      "mmcontext.engine.models - INFO - Saving model state dictionary to best_decoder_weights/best_decoder_weights.pth\n",
      "mmcontext.engine.trainer - INFO - Validation loss improved. Decoder weights saved.\n",
      "mmcontext.engine.trainer - INFO - Temperature: 0.07\n",
      "mmcontext.engine.trainer - INFO - Starting Epoch 4/50\n"
     ]
    },
    {
     "name": "stderr",
     "output_type": "stream",
     "text": [
      "/Users/mengerj/Library/Application Support/hatch/env/virtual/mmcontext/NDS_X2Wf/mmcontext/lib/python3.10/site-packages/pythonjsonlogger/jsonlogger.py:11: DeprecationWarning: pythonjsonlogger.jsonlogger has been moved to pythonjsonlogger.json\n",
      "  warnings.warn(\n"
     ]
    },
    {
     "name": "stdout",
     "output_type": "stream",
     "text": [
      "mmcontext - INFO - mmcontext logging configured using the specified configuration file.\n"
     ]
    },
    {
     "name": "stderr",
     "output_type": "stream",
     "text": [
      "/Users/mengerj/Library/Application Support/hatch/env/virtual/mmcontext/NDS_X2Wf/mmcontext/lib/python3.10/site-packages/pythonjsonlogger/jsonlogger.py:11: DeprecationWarning: pythonjsonlogger.jsonlogger has been moved to pythonjsonlogger.json\n",
      "  warnings.warn(\n"
     ]
    },
    {
     "name": "stdout",
     "output_type": "stream",
     "text": [
      "mmcontext - INFO - mmcontext logging configured using the specified configuration file.\n"
     ]
    },
    {
     "name": "stderr",
     "output_type": "stream",
     "text": [
      "/Users/mengerj/Library/Application Support/hatch/env/virtual/mmcontext/NDS_X2Wf/mmcontext/lib/python3.10/site-packages/pythonjsonlogger/jsonlogger.py:11: DeprecationWarning: pythonjsonlogger.jsonlogger has been moved to pythonjsonlogger.json\n",
      "  warnings.warn(\n"
     ]
    },
    {
     "name": "stdout",
     "output_type": "stream",
     "text": [
      "mmcontext - INFO - mmcontext logging configured using the specified configuration file.\n"
     ]
    },
    {
     "name": "stderr",
     "output_type": "stream",
     "text": [
      "/Users/mengerj/Library/Application Support/hatch/env/virtual/mmcontext/NDS_X2Wf/mmcontext/lib/python3.10/site-packages/pythonjsonlogger/jsonlogger.py:11: DeprecationWarning: pythonjsonlogger.jsonlogger has been moved to pythonjsonlogger.json\n",
      "  warnings.warn(\n"
     ]
    },
    {
     "name": "stdout",
     "output_type": "stream",
     "text": [
      "mmcontext - INFO - mmcontext logging configured using the specified configuration file.\n",
      "mmcontext.engine.trainer - INFO - Batch 10/127, Loss: 20.2442, Time per sample: 21.42µs\n",
      "mmcontext.engine.trainer - INFO - Batch 20/127, Loss: 18.8594, Time per sample: 21.33µs\n",
      "mmcontext.engine.trainer - INFO - Batch 30/127, Loss: 20.0976, Time per sample: 21.46µs\n",
      "mmcontext.engine.trainer - INFO - Batch 40/127, Loss: 14.1996, Time per sample: 21.65µs\n",
      "mmcontext.engine.trainer - INFO - Batch 50/127, Loss: 13.3812, Time per sample: 21.55µs\n",
      "mmcontext.engine.trainer - INFO - Batch 60/127, Loss: 16.2420, Time per sample: 21.44µs\n",
      "mmcontext.engine.trainer - INFO - Batch 70/127, Loss: 14.6300, Time per sample: 21.39µs\n",
      "mmcontext.engine.trainer - INFO - Batch 80/127, Loss: 15.1657, Time per sample: 21.52µs\n",
      "mmcontext.engine.trainer - INFO - Batch 90/127, Loss: 11.9845, Time per sample: 21.39µs\n",
      "mmcontext.engine.trainer - INFO - Batch 100/127, Loss: 20.7898, Time per sample: 21.46µs\n",
      "mmcontext.engine.trainer - INFO - Batch 110/127, Loss: 18.0225, Time per sample: 22.45µs\n",
      "mmcontext.engine.trainer - INFO - Batch 120/127, Loss: 19.2172, Time per sample: 22.21µs\n",
      "mmcontext.engine.trainer - INFO - Batch 127/127, Loss: 21.2813, Time per sample: 21.52µs\n",
      "mmcontext.engine.trainer - INFO - Training Epoch Complete. Average Loss: 18.1453\n",
      "mmcontext - INFO - mmcontext logging configured using the specified configuration file.\n"
     ]
    },
    {
     "name": "stderr",
     "output_type": "stream",
     "text": [
      "/Users/mengerj/Library/Application Support/hatch/env/virtual/mmcontext/NDS_X2Wf/mmcontext/lib/python3.10/site-packages/pythonjsonlogger/jsonlogger.py:11: DeprecationWarning: pythonjsonlogger.jsonlogger has been moved to pythonjsonlogger.json\n",
      "  warnings.warn(\n"
     ]
    },
    {
     "name": "stdout",
     "output_type": "stream",
     "text": [
      "mmcontext - INFO - mmcontext logging configured using the specified configuration file.\n"
     ]
    },
    {
     "name": "stderr",
     "output_type": "stream",
     "text": [
      "/Users/mengerj/Library/Application Support/hatch/env/virtual/mmcontext/NDS_X2Wf/mmcontext/lib/python3.10/site-packages/pythonjsonlogger/jsonlogger.py:11: DeprecationWarning: pythonjsonlogger.jsonlogger has been moved to pythonjsonlogger.json\n",
      "  warnings.warn(\n"
     ]
    },
    {
     "name": "stdout",
     "output_type": "stream",
     "text": [
      "mmcontext - INFO - mmcontext logging configured using the specified configuration file.\n"
     ]
    },
    {
     "name": "stderr",
     "output_type": "stream",
     "text": [
      "/Users/mengerj/Library/Application Support/hatch/env/virtual/mmcontext/NDS_X2Wf/mmcontext/lib/python3.10/site-packages/pythonjsonlogger/jsonlogger.py:11: DeprecationWarning: pythonjsonlogger.jsonlogger has been moved to pythonjsonlogger.json\n",
      "  warnings.warn(\n",
      "/Users/mengerj/Library/Application Support/hatch/env/virtual/mmcontext/NDS_X2Wf/mmcontext/lib/python3.10/site-packages/pythonjsonlogger/jsonlogger.py:11: DeprecationWarning: pythonjsonlogger.jsonlogger has been moved to pythonjsonlogger.json\n",
      "  warnings.warn(\n"
     ]
    },
    {
     "name": "stdout",
     "output_type": "stream",
     "text": [
      "mmcontext - INFO - mmcontext logging configured using the specified configuration file.\n",
      "mmcontext.engine.trainer - INFO - Validation Complete. Average Loss: 19.0472\n",
      "mmcontext.engine.trainer - INFO - Epoch 4/50 - Train Loss: 18.1453, Val Loss: 19.0472\n",
      "mmcontext.engine.models - INFO - Saving model state dictionary to best_encoder_weights/best_context_encoder_weights.pth\n",
      "mmcontext.engine.trainer - INFO - Validation loss improved. Encoder 'context_encoder' weights saved.\n",
      "mmcontext.engine.models - INFO - Saving model state dictionary to best_decoder_weights/best_decoder_weights.pth\n",
      "mmcontext.engine.trainer - INFO - Validation loss improved. Decoder weights saved.\n",
      "mmcontext.engine.trainer - INFO - Temperature: 0.07\n",
      "mmcontext.engine.trainer - INFO - Starting Epoch 5/50\n"
     ]
    },
    {
     "name": "stderr",
     "output_type": "stream",
     "text": [
      "/Users/mengerj/Library/Application Support/hatch/env/virtual/mmcontext/NDS_X2Wf/mmcontext/lib/python3.10/site-packages/pythonjsonlogger/jsonlogger.py:11: DeprecationWarning: pythonjsonlogger.jsonlogger has been moved to pythonjsonlogger.json\n",
      "  warnings.warn(\n"
     ]
    },
    {
     "name": "stdout",
     "output_type": "stream",
     "text": [
      "mmcontext - INFO - mmcontext logging configured using the specified configuration file.\n"
     ]
    },
    {
     "name": "stderr",
     "output_type": "stream",
     "text": [
      "/Users/mengerj/Library/Application Support/hatch/env/virtual/mmcontext/NDS_X2Wf/mmcontext/lib/python3.10/site-packages/pythonjsonlogger/jsonlogger.py:11: DeprecationWarning: pythonjsonlogger.jsonlogger has been moved to pythonjsonlogger.json\n",
      "  warnings.warn(\n"
     ]
    },
    {
     "name": "stdout",
     "output_type": "stream",
     "text": [
      "mmcontext - INFO - mmcontext logging configured using the specified configuration file.\n"
     ]
    },
    {
     "name": "stderr",
     "output_type": "stream",
     "text": [
      "/Users/mengerj/Library/Application Support/hatch/env/virtual/mmcontext/NDS_X2Wf/mmcontext/lib/python3.10/site-packages/pythonjsonlogger/jsonlogger.py:11: DeprecationWarning: pythonjsonlogger.jsonlogger has been moved to pythonjsonlogger.json\n",
      "  warnings.warn(\n"
     ]
    },
    {
     "name": "stdout",
     "output_type": "stream",
     "text": [
      "mmcontext - INFO - mmcontext logging configured using the specified configuration file.\n"
     ]
    },
    {
     "name": "stderr",
     "output_type": "stream",
     "text": [
      "/Users/mengerj/Library/Application Support/hatch/env/virtual/mmcontext/NDS_X2Wf/mmcontext/lib/python3.10/site-packages/pythonjsonlogger/jsonlogger.py:11: DeprecationWarning: pythonjsonlogger.jsonlogger has been moved to pythonjsonlogger.json\n",
      "  warnings.warn(\n"
     ]
    },
    {
     "name": "stdout",
     "output_type": "stream",
     "text": [
      "mmcontext - INFO - mmcontext logging configured using the specified configuration file.\n",
      "mmcontext.engine.trainer - INFO - Batch 10/127, Loss: 20.1729, Time per sample: 21.46µs\n",
      "mmcontext.engine.trainer - INFO - Batch 20/127, Loss: 18.5092, Time per sample: 21.32µs\n",
      "mmcontext.engine.trainer - INFO - Batch 30/127, Loss: 19.9259, Time per sample: 21.26µs\n",
      "mmcontext.engine.trainer - INFO - Batch 40/127, Loss: 14.2005, Time per sample: 21.41µs\n",
      "mmcontext.engine.trainer - INFO - Batch 50/127, Loss: 13.1920, Time per sample: 21.59µs\n",
      "mmcontext.engine.trainer - INFO - Batch 60/127, Loss: 16.1007, Time per sample: 21.51µs\n",
      "mmcontext.engine.trainer - INFO - Batch 70/127, Loss: 14.4706, Time per sample: 21.55µs\n",
      "mmcontext.engine.trainer - INFO - Batch 80/127, Loss: 15.1149, Time per sample: 21.89µs\n",
      "mmcontext.engine.trainer - INFO - Batch 90/127, Loss: 11.9528, Time per sample: 21.88µs\n",
      "mmcontext.engine.trainer - INFO - Batch 100/127, Loss: 20.4805, Time per sample: 21.75µs\n",
      "mmcontext.engine.trainer - INFO - Batch 110/127, Loss: 18.0362, Time per sample: 21.75µs\n",
      "mmcontext.engine.trainer - INFO - Batch 120/127, Loss: 18.8407, Time per sample: 21.99µs\n",
      "mmcontext.engine.trainer - INFO - Batch 127/127, Loss: 21.2308, Time per sample: 21.86µs\n",
      "mmcontext.engine.trainer - INFO - Training Epoch Complete. Average Loss: 17.9710\n",
      "mmcontext - INFO - mmcontext logging configured using the specified configuration file.\n"
     ]
    },
    {
     "name": "stderr",
     "output_type": "stream",
     "text": [
      "/Users/mengerj/Library/Application Support/hatch/env/virtual/mmcontext/NDS_X2Wf/mmcontext/lib/python3.10/site-packages/pythonjsonlogger/jsonlogger.py:11: DeprecationWarning: pythonjsonlogger.jsonlogger has been moved to pythonjsonlogger.json\n",
      "  warnings.warn(\n"
     ]
    },
    {
     "name": "stdout",
     "output_type": "stream",
     "text": [
      "mmcontext - INFO - mmcontext logging configured using the specified configuration file.\n"
     ]
    },
    {
     "name": "stderr",
     "output_type": "stream",
     "text": [
      "/Users/mengerj/Library/Application Support/hatch/env/virtual/mmcontext/NDS_X2Wf/mmcontext/lib/python3.10/site-packages/pythonjsonlogger/jsonlogger.py:11: DeprecationWarning: pythonjsonlogger.jsonlogger has been moved to pythonjsonlogger.json\n",
      "  warnings.warn(\n"
     ]
    },
    {
     "name": "stdout",
     "output_type": "stream",
     "text": [
      "mmcontext - INFO - mmcontext logging configured using the specified configuration file.\n"
     ]
    },
    {
     "name": "stderr",
     "output_type": "stream",
     "text": [
      "/Users/mengerj/Library/Application Support/hatch/env/virtual/mmcontext/NDS_X2Wf/mmcontext/lib/python3.10/site-packages/pythonjsonlogger/jsonlogger.py:11: DeprecationWarning: pythonjsonlogger.jsonlogger has been moved to pythonjsonlogger.json\n",
      "  warnings.warn(\n",
      "/Users/mengerj/Library/Application Support/hatch/env/virtual/mmcontext/NDS_X2Wf/mmcontext/lib/python3.10/site-packages/pythonjsonlogger/jsonlogger.py:11: DeprecationWarning: pythonjsonlogger.jsonlogger has been moved to pythonjsonlogger.json\n",
      "  warnings.warn(\n"
     ]
    },
    {
     "name": "stdout",
     "output_type": "stream",
     "text": [
      "mmcontext - INFO - mmcontext logging configured using the specified configuration file.\n",
      "mmcontext.engine.trainer - INFO - Validation Complete. Average Loss: 19.0572\n",
      "mmcontext.engine.trainer - INFO - Epoch 5/50 - Train Loss: 17.9710, Val Loss: 19.0572\n",
      "mmcontext.engine.trainer - INFO - Temperature: 0.07\n",
      "mmcontext.engine.trainer - INFO - Starting Epoch 6/50\n"
     ]
    },
    {
     "name": "stderr",
     "output_type": "stream",
     "text": [
      "/Users/mengerj/Library/Application Support/hatch/env/virtual/mmcontext/NDS_X2Wf/mmcontext/lib/python3.10/site-packages/pythonjsonlogger/jsonlogger.py:11: DeprecationWarning: pythonjsonlogger.jsonlogger has been moved to pythonjsonlogger.json\n",
      "  warnings.warn(\n"
     ]
    },
    {
     "name": "stdout",
     "output_type": "stream",
     "text": [
      "mmcontext - INFO - mmcontext logging configured using the specified configuration file.\n"
     ]
    },
    {
     "name": "stderr",
     "output_type": "stream",
     "text": [
      "/Users/mengerj/Library/Application Support/hatch/env/virtual/mmcontext/NDS_X2Wf/mmcontext/lib/python3.10/site-packages/pythonjsonlogger/jsonlogger.py:11: DeprecationWarning: pythonjsonlogger.jsonlogger has been moved to pythonjsonlogger.json\n",
      "  warnings.warn(\n"
     ]
    },
    {
     "name": "stdout",
     "output_type": "stream",
     "text": [
      "mmcontext - INFO - mmcontext logging configured using the specified configuration file.\n"
     ]
    },
    {
     "name": "stderr",
     "output_type": "stream",
     "text": [
      "/Users/mengerj/Library/Application Support/hatch/env/virtual/mmcontext/NDS_X2Wf/mmcontext/lib/python3.10/site-packages/pythonjsonlogger/jsonlogger.py:11: DeprecationWarning: pythonjsonlogger.jsonlogger has been moved to pythonjsonlogger.json\n",
      "  warnings.warn(\n"
     ]
    },
    {
     "name": "stdout",
     "output_type": "stream",
     "text": [
      "mmcontext - INFO - mmcontext logging configured using the specified configuration file.\n"
     ]
    },
    {
     "name": "stderr",
     "output_type": "stream",
     "text": [
      "/Users/mengerj/Library/Application Support/hatch/env/virtual/mmcontext/NDS_X2Wf/mmcontext/lib/python3.10/site-packages/pythonjsonlogger/jsonlogger.py:11: DeprecationWarning: pythonjsonlogger.jsonlogger has been moved to pythonjsonlogger.json\n",
      "  warnings.warn(\n"
     ]
    },
    {
     "name": "stdout",
     "output_type": "stream",
     "text": [
      "mmcontext - INFO - mmcontext logging configured using the specified configuration file.\n",
      "mmcontext.engine.trainer - INFO - Batch 10/127, Loss: 20.0910, Time per sample: 21.44µs\n",
      "mmcontext.engine.trainer - INFO - Batch 20/127, Loss: 18.1838, Time per sample: 21.53µs\n",
      "mmcontext.engine.trainer - INFO - Batch 30/127, Loss: 19.7561, Time per sample: 21.38µs\n",
      "mmcontext.engine.trainer - INFO - Batch 40/127, Loss: 14.3362, Time per sample: 21.46µs\n",
      "mmcontext.engine.trainer - INFO - Batch 50/127, Loss: 13.1140, Time per sample: 21.62µs\n",
      "mmcontext.engine.trainer - INFO - Batch 60/127, Loss: 15.8561, Time per sample: 21.59µs\n",
      "mmcontext.engine.trainer - INFO - Batch 70/127, Loss: 14.2150, Time per sample: 21.71µs\n",
      "mmcontext.engine.trainer - INFO - Batch 80/127, Loss: 15.1024, Time per sample: 21.55µs\n",
      "mmcontext.engine.trainer - INFO - Batch 90/127, Loss: 11.9417, Time per sample: 21.71µs\n",
      "mmcontext.engine.trainer - INFO - Batch 100/127, Loss: 20.4093, Time per sample: 22.39µs\n",
      "mmcontext.engine.trainer - INFO - Batch 110/127, Loss: 17.9045, Time per sample: 21.84µs\n",
      "mmcontext.engine.trainer - INFO - Batch 120/127, Loss: 18.5386, Time per sample: 22.16µs\n",
      "mmcontext.engine.trainer - INFO - Batch 127/127, Loss: 21.1701, Time per sample: 21.86µs\n",
      "mmcontext.engine.trainer - INFO - Training Epoch Complete. Average Loss: 17.8533\n",
      "mmcontext - INFO - mmcontext logging configured using the specified configuration file.\n"
     ]
    },
    {
     "name": "stderr",
     "output_type": "stream",
     "text": [
      "/Users/mengerj/Library/Application Support/hatch/env/virtual/mmcontext/NDS_X2Wf/mmcontext/lib/python3.10/site-packages/pythonjsonlogger/jsonlogger.py:11: DeprecationWarning: pythonjsonlogger.jsonlogger has been moved to pythonjsonlogger.json\n",
      "  warnings.warn(\n"
     ]
    },
    {
     "name": "stdout",
     "output_type": "stream",
     "text": [
      "mmcontext - INFO - mmcontext logging configured using the specified configuration file.\n"
     ]
    },
    {
     "name": "stderr",
     "output_type": "stream",
     "text": [
      "/Users/mengerj/Library/Application Support/hatch/env/virtual/mmcontext/NDS_X2Wf/mmcontext/lib/python3.10/site-packages/pythonjsonlogger/jsonlogger.py:11: DeprecationWarning: pythonjsonlogger.jsonlogger has been moved to pythonjsonlogger.json\n",
      "  warnings.warn(\n"
     ]
    },
    {
     "name": "stdout",
     "output_type": "stream",
     "text": [
      "mmcontext - INFO - mmcontext logging configured using the specified configuration file.\n"
     ]
    },
    {
     "name": "stderr",
     "output_type": "stream",
     "text": [
      "/Users/mengerj/Library/Application Support/hatch/env/virtual/mmcontext/NDS_X2Wf/mmcontext/lib/python3.10/site-packages/pythonjsonlogger/jsonlogger.py:11: DeprecationWarning: pythonjsonlogger.jsonlogger has been moved to pythonjsonlogger.json\n",
      "  warnings.warn(\n",
      "/Users/mengerj/Library/Application Support/hatch/env/virtual/mmcontext/NDS_X2Wf/mmcontext/lib/python3.10/site-packages/pythonjsonlogger/jsonlogger.py:11: DeprecationWarning: pythonjsonlogger.jsonlogger has been moved to pythonjsonlogger.json\n",
      "  warnings.warn(\n"
     ]
    },
    {
     "name": "stdout",
     "output_type": "stream",
     "text": [
      "mmcontext - INFO - mmcontext logging configured using the specified configuration file.\n",
      "mmcontext.engine.trainer - INFO - Validation Complete. Average Loss: 19.0834\n",
      "mmcontext.engine.trainer - INFO - Epoch 6/50 - Train Loss: 17.8533, Val Loss: 19.0834\n",
      "mmcontext.engine.trainer - INFO - Temperature: 0.07\n",
      "mmcontext.engine.trainer - INFO - Starting Epoch 7/50\n"
     ]
    },
    {
     "name": "stderr",
     "output_type": "stream",
     "text": [
      "/Users/mengerj/Library/Application Support/hatch/env/virtual/mmcontext/NDS_X2Wf/mmcontext/lib/python3.10/site-packages/pythonjsonlogger/jsonlogger.py:11: DeprecationWarning: pythonjsonlogger.jsonlogger has been moved to pythonjsonlogger.json\n",
      "  warnings.warn(\n"
     ]
    },
    {
     "name": "stdout",
     "output_type": "stream",
     "text": [
      "mmcontext - INFO - mmcontext logging configured using the specified configuration file.\n"
     ]
    },
    {
     "name": "stderr",
     "output_type": "stream",
     "text": [
      "/Users/mengerj/Library/Application Support/hatch/env/virtual/mmcontext/NDS_X2Wf/mmcontext/lib/python3.10/site-packages/pythonjsonlogger/jsonlogger.py:11: DeprecationWarning: pythonjsonlogger.jsonlogger has been moved to pythonjsonlogger.json\n",
      "  warnings.warn(\n"
     ]
    },
    {
     "name": "stdout",
     "output_type": "stream",
     "text": [
      "mmcontext - INFO - mmcontext logging configured using the specified configuration file.\n"
     ]
    },
    {
     "name": "stderr",
     "output_type": "stream",
     "text": [
      "/Users/mengerj/Library/Application Support/hatch/env/virtual/mmcontext/NDS_X2Wf/mmcontext/lib/python3.10/site-packages/pythonjsonlogger/jsonlogger.py:11: DeprecationWarning: pythonjsonlogger.jsonlogger has been moved to pythonjsonlogger.json\n",
      "  warnings.warn(\n"
     ]
    },
    {
     "name": "stdout",
     "output_type": "stream",
     "text": [
      "mmcontext - INFO - mmcontext logging configured using the specified configuration file.\n"
     ]
    },
    {
     "name": "stderr",
     "output_type": "stream",
     "text": [
      "/Users/mengerj/Library/Application Support/hatch/env/virtual/mmcontext/NDS_X2Wf/mmcontext/lib/python3.10/site-packages/pythonjsonlogger/jsonlogger.py:11: DeprecationWarning: pythonjsonlogger.jsonlogger has been moved to pythonjsonlogger.json\n",
      "  warnings.warn(\n"
     ]
    },
    {
     "name": "stdout",
     "output_type": "stream",
     "text": [
      "mmcontext - INFO - mmcontext logging configured using the specified configuration file.\n",
      "mmcontext.engine.trainer - INFO - Batch 10/127, Loss: 20.0126, Time per sample: 21.46µs\n",
      "mmcontext.engine.trainer - INFO - Batch 20/127, Loss: 17.8316, Time per sample: 21.28µs\n",
      "mmcontext.engine.trainer - INFO - Batch 30/127, Loss: 19.5650, Time per sample: 21.40µs\n",
      "mmcontext.engine.trainer - INFO - Batch 40/127, Loss: 14.4297, Time per sample: 21.65µs\n",
      "mmcontext.engine.trainer - INFO - Batch 50/127, Loss: 13.0392, Time per sample: 21.43µs\n",
      "mmcontext.engine.trainer - INFO - Batch 60/127, Loss: 15.7608, Time per sample: 21.39µs\n",
      "mmcontext.engine.trainer - INFO - Batch 70/127, Loss: 14.0797, Time per sample: 21.32µs\n",
      "mmcontext.engine.trainer - INFO - Batch 80/127, Loss: 15.1457, Time per sample: 21.55µs\n",
      "mmcontext.engine.trainer - INFO - Batch 90/127, Loss: 11.9564, Time per sample: 21.42µs\n",
      "mmcontext.engine.trainer - INFO - Batch 100/127, Loss: 20.2887, Time per sample: 21.44µs\n",
      "mmcontext.engine.trainer - INFO - Batch 110/127, Loss: 17.7959, Time per sample: 21.44µs\n",
      "mmcontext.engine.trainer - INFO - Batch 120/127, Loss: 18.2218, Time per sample: 21.28µs\n",
      "mmcontext.engine.trainer - INFO - Batch 127/127, Loss: 21.1172, Time per sample: 21.33µs\n",
      "mmcontext.engine.trainer - INFO - Training Epoch Complete. Average Loss: 17.7565\n",
      "mmcontext - INFO - mmcontext logging configured using the specified configuration file.\n"
     ]
    },
    {
     "name": "stderr",
     "output_type": "stream",
     "text": [
      "/Users/mengerj/Library/Application Support/hatch/env/virtual/mmcontext/NDS_X2Wf/mmcontext/lib/python3.10/site-packages/pythonjsonlogger/jsonlogger.py:11: DeprecationWarning: pythonjsonlogger.jsonlogger has been moved to pythonjsonlogger.json\n",
      "  warnings.warn(\n"
     ]
    },
    {
     "name": "stdout",
     "output_type": "stream",
     "text": [
      "mmcontext - INFO - mmcontext logging configured using the specified configuration file.\n"
     ]
    },
    {
     "name": "stderr",
     "output_type": "stream",
     "text": [
      "/Users/mengerj/Library/Application Support/hatch/env/virtual/mmcontext/NDS_X2Wf/mmcontext/lib/python3.10/site-packages/pythonjsonlogger/jsonlogger.py:11: DeprecationWarning: pythonjsonlogger.jsonlogger has been moved to pythonjsonlogger.json\n",
      "  warnings.warn(\n"
     ]
    },
    {
     "name": "stdout",
     "output_type": "stream",
     "text": [
      "mmcontext - INFO - mmcontext logging configured using the specified configuration file.\n"
     ]
    },
    {
     "name": "stderr",
     "output_type": "stream",
     "text": [
      "/Users/mengerj/Library/Application Support/hatch/env/virtual/mmcontext/NDS_X2Wf/mmcontext/lib/python3.10/site-packages/pythonjsonlogger/jsonlogger.py:11: DeprecationWarning: pythonjsonlogger.jsonlogger has been moved to pythonjsonlogger.json\n",
      "  warnings.warn(\n",
      "/Users/mengerj/Library/Application Support/hatch/env/virtual/mmcontext/NDS_X2Wf/mmcontext/lib/python3.10/site-packages/pythonjsonlogger/jsonlogger.py:11: DeprecationWarning: pythonjsonlogger.jsonlogger has been moved to pythonjsonlogger.json\n",
      "  warnings.warn(\n"
     ]
    },
    {
     "name": "stdout",
     "output_type": "stream",
     "text": [
      "mmcontext - INFO - mmcontext logging configured using the specified configuration file.\n",
      "mmcontext.engine.trainer - INFO - Validation Complete. Average Loss: 19.0549\n",
      "mmcontext.engine.trainer - INFO - Epoch 7/50 - Train Loss: 17.7565, Val Loss: 19.0549\n",
      "mmcontext.engine.trainer - INFO - Temperature: 0.07\n",
      "mmcontext.engine.trainer - INFO - Starting Epoch 8/50\n"
     ]
    },
    {
     "name": "stderr",
     "output_type": "stream",
     "text": [
      "/Users/mengerj/Library/Application Support/hatch/env/virtual/mmcontext/NDS_X2Wf/mmcontext/lib/python3.10/site-packages/pythonjsonlogger/jsonlogger.py:11: DeprecationWarning: pythonjsonlogger.jsonlogger has been moved to pythonjsonlogger.json\n",
      "  warnings.warn(\n"
     ]
    },
    {
     "name": "stdout",
     "output_type": "stream",
     "text": [
      "mmcontext - INFO - mmcontext logging configured using the specified configuration file.\n"
     ]
    },
    {
     "name": "stderr",
     "output_type": "stream",
     "text": [
      "/Users/mengerj/Library/Application Support/hatch/env/virtual/mmcontext/NDS_X2Wf/mmcontext/lib/python3.10/site-packages/pythonjsonlogger/jsonlogger.py:11: DeprecationWarning: pythonjsonlogger.jsonlogger has been moved to pythonjsonlogger.json\n",
      "  warnings.warn(\n"
     ]
    },
    {
     "name": "stdout",
     "output_type": "stream",
     "text": [
      "mmcontext - INFO - mmcontext logging configured using the specified configuration file.\n"
     ]
    },
    {
     "name": "stderr",
     "output_type": "stream",
     "text": [
      "/Users/mengerj/Library/Application Support/hatch/env/virtual/mmcontext/NDS_X2Wf/mmcontext/lib/python3.10/site-packages/pythonjsonlogger/jsonlogger.py:11: DeprecationWarning: pythonjsonlogger.jsonlogger has been moved to pythonjsonlogger.json\n",
      "  warnings.warn(\n"
     ]
    },
    {
     "name": "stdout",
     "output_type": "stream",
     "text": [
      "mmcontext - INFO - mmcontext logging configured using the specified configuration file.\n"
     ]
    },
    {
     "name": "stderr",
     "output_type": "stream",
     "text": [
      "/Users/mengerj/Library/Application Support/hatch/env/virtual/mmcontext/NDS_X2Wf/mmcontext/lib/python3.10/site-packages/pythonjsonlogger/jsonlogger.py:11: DeprecationWarning: pythonjsonlogger.jsonlogger has been moved to pythonjsonlogger.json\n",
      "  warnings.warn(\n"
     ]
    },
    {
     "name": "stdout",
     "output_type": "stream",
     "text": [
      "mmcontext - INFO - mmcontext logging configured using the specified configuration file.\n",
      "mmcontext.engine.trainer - INFO - Batch 10/127, Loss: 19.9452, Time per sample: 21.70µs\n",
      "mmcontext.engine.trainer - INFO - Batch 20/127, Loss: 17.6061, Time per sample: 21.65µs\n",
      "mmcontext.engine.trainer - INFO - Batch 30/127, Loss: 19.4331, Time per sample: 24.80µs\n",
      "mmcontext.engine.trainer - INFO - Batch 40/127, Loss: 14.5602, Time per sample: 21.72µs\n",
      "mmcontext.engine.trainer - INFO - Batch 50/127, Loss: 12.9721, Time per sample: 21.61µs\n",
      "mmcontext.engine.trainer - INFO - Batch 60/127, Loss: 15.6486, Time per sample: 21.61µs\n",
      "mmcontext.engine.trainer - INFO - Batch 70/127, Loss: 13.9503, Time per sample: 21.65µs\n",
      "mmcontext.engine.trainer - INFO - Batch 80/127, Loss: 15.1136, Time per sample: 21.59µs\n",
      "mmcontext.engine.trainer - INFO - Batch 90/127, Loss: 11.9380, Time per sample: 21.75µs\n",
      "mmcontext.engine.trainer - INFO - Batch 100/127, Loss: 20.2813, Time per sample: 21.38µs\n",
      "mmcontext.engine.trainer - INFO - Batch 110/127, Loss: 17.6448, Time per sample: 21.75µs\n",
      "mmcontext.engine.trainer - INFO - Batch 120/127, Loss: 17.9581, Time per sample: 21.35µs\n",
      "mmcontext.engine.trainer - INFO - Batch 127/127, Loss: 21.0535, Time per sample: 21.59µs\n",
      "mmcontext.engine.trainer - INFO - Training Epoch Complete. Average Loss: 17.6729\n",
      "mmcontext - INFO - mmcontext logging configured using the specified configuration file.\n"
     ]
    },
    {
     "name": "stderr",
     "output_type": "stream",
     "text": [
      "/Users/mengerj/Library/Application Support/hatch/env/virtual/mmcontext/NDS_X2Wf/mmcontext/lib/python3.10/site-packages/pythonjsonlogger/jsonlogger.py:11: DeprecationWarning: pythonjsonlogger.jsonlogger has been moved to pythonjsonlogger.json\n",
      "  warnings.warn(\n"
     ]
    },
    {
     "name": "stdout",
     "output_type": "stream",
     "text": [
      "mmcontext - INFO - mmcontext logging configured using the specified configuration file.\n"
     ]
    },
    {
     "name": "stderr",
     "output_type": "stream",
     "text": [
      "/Users/mengerj/Library/Application Support/hatch/env/virtual/mmcontext/NDS_X2Wf/mmcontext/lib/python3.10/site-packages/pythonjsonlogger/jsonlogger.py:11: DeprecationWarning: pythonjsonlogger.jsonlogger has been moved to pythonjsonlogger.json\n",
      "  warnings.warn(\n"
     ]
    },
    {
     "name": "stdout",
     "output_type": "stream",
     "text": [
      "mmcontext - INFO - mmcontext logging configured using the specified configuration file.\n"
     ]
    },
    {
     "name": "stderr",
     "output_type": "stream",
     "text": [
      "/Users/mengerj/Library/Application Support/hatch/env/virtual/mmcontext/NDS_X2Wf/mmcontext/lib/python3.10/site-packages/pythonjsonlogger/jsonlogger.py:11: DeprecationWarning: pythonjsonlogger.jsonlogger has been moved to pythonjsonlogger.json\n",
      "  warnings.warn(\n",
      "/Users/mengerj/Library/Application Support/hatch/env/virtual/mmcontext/NDS_X2Wf/mmcontext/lib/python3.10/site-packages/pythonjsonlogger/jsonlogger.py:11: DeprecationWarning: pythonjsonlogger.jsonlogger has been moved to pythonjsonlogger.json\n",
      "  warnings.warn(\n"
     ]
    },
    {
     "name": "stdout",
     "output_type": "stream",
     "text": [
      "mmcontext - INFO - mmcontext logging configured using the specified configuration file.\n",
      "mmcontext.engine.trainer - INFO - Validation Complete. Average Loss: 19.0141\n",
      "mmcontext.engine.trainer - INFO - Epoch 8/50 - Train Loss: 17.6729, Val Loss: 19.0141\n",
      "mmcontext.engine.models - INFO - Saving model state dictionary to best_encoder_weights/best_context_encoder_weights.pth\n",
      "mmcontext.engine.trainer - INFO - Validation loss improved. Encoder 'context_encoder' weights saved.\n",
      "mmcontext.engine.models - INFO - Saving model state dictionary to best_decoder_weights/best_decoder_weights.pth\n",
      "mmcontext.engine.trainer - INFO - Validation loss improved. Decoder weights saved.\n",
      "mmcontext.engine.trainer - INFO - Temperature: 0.07\n",
      "mmcontext.engine.trainer - INFO - Starting Epoch 9/50\n"
     ]
    },
    {
     "name": "stderr",
     "output_type": "stream",
     "text": [
      "/Users/mengerj/Library/Application Support/hatch/env/virtual/mmcontext/NDS_X2Wf/mmcontext/lib/python3.10/site-packages/pythonjsonlogger/jsonlogger.py:11: DeprecationWarning: pythonjsonlogger.jsonlogger has been moved to pythonjsonlogger.json\n",
      "  warnings.warn(\n"
     ]
    },
    {
     "name": "stdout",
     "output_type": "stream",
     "text": [
      "mmcontext - INFO - mmcontext logging configured using the specified configuration file.\n"
     ]
    },
    {
     "name": "stderr",
     "output_type": "stream",
     "text": [
      "/Users/mengerj/Library/Application Support/hatch/env/virtual/mmcontext/NDS_X2Wf/mmcontext/lib/python3.10/site-packages/pythonjsonlogger/jsonlogger.py:11: DeprecationWarning: pythonjsonlogger.jsonlogger has been moved to pythonjsonlogger.json\n",
      "  warnings.warn(\n"
     ]
    },
    {
     "name": "stdout",
     "output_type": "stream",
     "text": [
      "mmcontext - INFO - mmcontext logging configured using the specified configuration file.\n"
     ]
    },
    {
     "name": "stderr",
     "output_type": "stream",
     "text": [
      "/Users/mengerj/Library/Application Support/hatch/env/virtual/mmcontext/NDS_X2Wf/mmcontext/lib/python3.10/site-packages/pythonjsonlogger/jsonlogger.py:11: DeprecationWarning: pythonjsonlogger.jsonlogger has been moved to pythonjsonlogger.json\n",
      "  warnings.warn(\n"
     ]
    },
    {
     "name": "stdout",
     "output_type": "stream",
     "text": [
      "mmcontext - INFO - mmcontext logging configured using the specified configuration file.\n"
     ]
    },
    {
     "name": "stderr",
     "output_type": "stream",
     "text": [
      "/Users/mengerj/Library/Application Support/hatch/env/virtual/mmcontext/NDS_X2Wf/mmcontext/lib/python3.10/site-packages/pythonjsonlogger/jsonlogger.py:11: DeprecationWarning: pythonjsonlogger.jsonlogger has been moved to pythonjsonlogger.json\n",
      "  warnings.warn(\n"
     ]
    },
    {
     "name": "stdout",
     "output_type": "stream",
     "text": [
      "mmcontext - INFO - mmcontext logging configured using the specified configuration file.\n",
      "mmcontext.engine.trainer - INFO - Batch 10/127, Loss: 19.8641, Time per sample: 21.36µs\n",
      "mmcontext.engine.trainer - INFO - Batch 20/127, Loss: 17.3506, Time per sample: 21.42µs\n",
      "mmcontext.engine.trainer - INFO - Batch 30/127, Loss: 19.3298, Time per sample: 21.32µs\n",
      "mmcontext.engine.trainer - INFO - Batch 40/127, Loss: 14.6711, Time per sample: 21.52µs\n",
      "mmcontext.engine.trainer - INFO - Batch 50/127, Loss: 12.9031, Time per sample: 21.52µs\n",
      "mmcontext.engine.trainer - INFO - Batch 60/127, Loss: 15.5974, Time per sample: 21.36µs\n",
      "mmcontext.engine.trainer - INFO - Batch 70/127, Loss: 13.8809, Time per sample: 21.46µs\n",
      "mmcontext.engine.trainer - INFO - Batch 80/127, Loss: 15.1179, Time per sample: 21.54µs\n",
      "mmcontext.engine.trainer - INFO - Batch 90/127, Loss: 11.9324, Time per sample: 21.48µs\n",
      "mmcontext.engine.trainer - INFO - Batch 100/127, Loss: 20.2596, Time per sample: 21.45µs\n",
      "mmcontext.engine.trainer - INFO - Batch 110/127, Loss: 17.4808, Time per sample: 21.37µs\n",
      "mmcontext.engine.trainer - INFO - Batch 120/127, Loss: 17.7113, Time per sample: 21.31µs\n",
      "mmcontext.engine.trainer - INFO - Batch 127/127, Loss: 20.9644, Time per sample: 21.70µs\n",
      "mmcontext.engine.trainer - INFO - Training Epoch Complete. Average Loss: 17.5960\n",
      "mmcontext - INFO - mmcontext logging configured using the specified configuration file.\n"
     ]
    },
    {
     "name": "stderr",
     "output_type": "stream",
     "text": [
      "/Users/mengerj/Library/Application Support/hatch/env/virtual/mmcontext/NDS_X2Wf/mmcontext/lib/python3.10/site-packages/pythonjsonlogger/jsonlogger.py:11: DeprecationWarning: pythonjsonlogger.jsonlogger has been moved to pythonjsonlogger.json\n",
      "  warnings.warn(\n"
     ]
    },
    {
     "name": "stdout",
     "output_type": "stream",
     "text": [
      "mmcontext - INFO - mmcontext logging configured using the specified configuration file.\n"
     ]
    },
    {
     "name": "stderr",
     "output_type": "stream",
     "text": [
      "/Users/mengerj/Library/Application Support/hatch/env/virtual/mmcontext/NDS_X2Wf/mmcontext/lib/python3.10/site-packages/pythonjsonlogger/jsonlogger.py:11: DeprecationWarning: pythonjsonlogger.jsonlogger has been moved to pythonjsonlogger.json\n",
      "  warnings.warn(\n"
     ]
    },
    {
     "name": "stdout",
     "output_type": "stream",
     "text": [
      "mmcontext - INFO - mmcontext logging configured using the specified configuration file.\n"
     ]
    },
    {
     "name": "stderr",
     "output_type": "stream",
     "text": [
      "/Users/mengerj/Library/Application Support/hatch/env/virtual/mmcontext/NDS_X2Wf/mmcontext/lib/python3.10/site-packages/pythonjsonlogger/jsonlogger.py:11: DeprecationWarning: pythonjsonlogger.jsonlogger has been moved to pythonjsonlogger.json\n",
      "  warnings.warn(\n",
      "/Users/mengerj/Library/Application Support/hatch/env/virtual/mmcontext/NDS_X2Wf/mmcontext/lib/python3.10/site-packages/pythonjsonlogger/jsonlogger.py:11: DeprecationWarning: pythonjsonlogger.jsonlogger has been moved to pythonjsonlogger.json\n",
      "  warnings.warn(\n"
     ]
    },
    {
     "name": "stdout",
     "output_type": "stream",
     "text": [
      "mmcontext - INFO - mmcontext logging configured using the specified configuration file.\n",
      "mmcontext.engine.trainer - INFO - Validation Complete. Average Loss: 18.9764\n",
      "mmcontext.engine.trainer - INFO - Epoch 9/50 - Train Loss: 17.5960, Val Loss: 18.9764\n",
      "mmcontext.engine.models - INFO - Saving model state dictionary to best_encoder_weights/best_context_encoder_weights.pth\n",
      "mmcontext.engine.trainer - INFO - Validation loss improved. Encoder 'context_encoder' weights saved.\n",
      "mmcontext.engine.models - INFO - Saving model state dictionary to best_decoder_weights/best_decoder_weights.pth\n",
      "mmcontext.engine.trainer - INFO - Validation loss improved. Decoder weights saved.\n",
      "mmcontext.engine.trainer - INFO - Temperature: 0.07\n",
      "mmcontext.engine.trainer - INFO - Starting Epoch 10/50\n"
     ]
    },
    {
     "name": "stderr",
     "output_type": "stream",
     "text": [
      "/Users/mengerj/Library/Application Support/hatch/env/virtual/mmcontext/NDS_X2Wf/mmcontext/lib/python3.10/site-packages/pythonjsonlogger/jsonlogger.py:11: DeprecationWarning: pythonjsonlogger.jsonlogger has been moved to pythonjsonlogger.json\n",
      "  warnings.warn(\n"
     ]
    },
    {
     "name": "stdout",
     "output_type": "stream",
     "text": [
      "mmcontext - INFO - mmcontext logging configured using the specified configuration file.\n"
     ]
    },
    {
     "name": "stderr",
     "output_type": "stream",
     "text": [
      "/Users/mengerj/Library/Application Support/hatch/env/virtual/mmcontext/NDS_X2Wf/mmcontext/lib/python3.10/site-packages/pythonjsonlogger/jsonlogger.py:11: DeprecationWarning: pythonjsonlogger.jsonlogger has been moved to pythonjsonlogger.json\n",
      "  warnings.warn(\n"
     ]
    },
    {
     "name": "stdout",
     "output_type": "stream",
     "text": [
      "mmcontext - INFO - mmcontext logging configured using the specified configuration file.\n"
     ]
    },
    {
     "name": "stderr",
     "output_type": "stream",
     "text": [
      "/Users/mengerj/Library/Application Support/hatch/env/virtual/mmcontext/NDS_X2Wf/mmcontext/lib/python3.10/site-packages/pythonjsonlogger/jsonlogger.py:11: DeprecationWarning: pythonjsonlogger.jsonlogger has been moved to pythonjsonlogger.json\n",
      "  warnings.warn(\n"
     ]
    },
    {
     "name": "stdout",
     "output_type": "stream",
     "text": [
      "mmcontext - INFO - mmcontext logging configured using the specified configuration file.\n"
     ]
    },
    {
     "name": "stderr",
     "output_type": "stream",
     "text": [
      "/Users/mengerj/Library/Application Support/hatch/env/virtual/mmcontext/NDS_X2Wf/mmcontext/lib/python3.10/site-packages/pythonjsonlogger/jsonlogger.py:11: DeprecationWarning: pythonjsonlogger.jsonlogger has been moved to pythonjsonlogger.json\n",
      "  warnings.warn(\n"
     ]
    },
    {
     "name": "stdout",
     "output_type": "stream",
     "text": [
      "mmcontext - INFO - mmcontext logging configured using the specified configuration file.\n",
      "mmcontext.engine.trainer - INFO - Batch 10/127, Loss: 19.8077, Time per sample: 21.59µs\n",
      "mmcontext.engine.trainer - INFO - Batch 20/127, Loss: 17.1029, Time per sample: 21.19µs\n",
      "mmcontext.engine.trainer - INFO - Batch 30/127, Loss: 19.2640, Time per sample: 21.46µs\n",
      "mmcontext.engine.trainer - INFO - Batch 40/127, Loss: 14.7339, Time per sample: 21.49µs\n",
      "mmcontext.engine.trainer - INFO - Batch 50/127, Loss: 12.8439, Time per sample: 21.37µs\n",
      "mmcontext.engine.trainer - INFO - Batch 60/127, Loss: 15.6211, Time per sample: 21.36µs\n",
      "mmcontext.engine.trainer - INFO - Batch 70/127, Loss: 13.8328, Time per sample: 21.71µs\n",
      "mmcontext.engine.trainer - INFO - Batch 80/127, Loss: 15.0541, Time per sample: 21.57µs\n",
      "mmcontext.engine.trainer - INFO - Batch 90/127, Loss: 11.9045, Time per sample: 21.69µs\n",
      "mmcontext.engine.trainer - INFO - Batch 100/127, Loss: 20.2163, Time per sample: 22.03µs\n",
      "mmcontext.engine.trainer - INFO - Batch 110/127, Loss: 17.3656, Time per sample: 21.89µs\n",
      "mmcontext.engine.trainer - INFO - Batch 120/127, Loss: 17.4763, Time per sample: 22.12µs\n",
      "mmcontext.engine.trainer - INFO - Batch 127/127, Loss: 20.8740, Time per sample: 21.88µs\n",
      "mmcontext.engine.trainer - INFO - Training Epoch Complete. Average Loss: 17.5228\n",
      "mmcontext - INFO - mmcontext logging configured using the specified configuration file.\n"
     ]
    },
    {
     "name": "stderr",
     "output_type": "stream",
     "text": [
      "/Users/mengerj/Library/Application Support/hatch/env/virtual/mmcontext/NDS_X2Wf/mmcontext/lib/python3.10/site-packages/pythonjsonlogger/jsonlogger.py:11: DeprecationWarning: pythonjsonlogger.jsonlogger has been moved to pythonjsonlogger.json\n",
      "  warnings.warn(\n"
     ]
    },
    {
     "name": "stdout",
     "output_type": "stream",
     "text": [
      "mmcontext - INFO - mmcontext logging configured using the specified configuration file.\n"
     ]
    },
    {
     "name": "stderr",
     "output_type": "stream",
     "text": [
      "/Users/mengerj/Library/Application Support/hatch/env/virtual/mmcontext/NDS_X2Wf/mmcontext/lib/python3.10/site-packages/pythonjsonlogger/jsonlogger.py:11: DeprecationWarning: pythonjsonlogger.jsonlogger has been moved to pythonjsonlogger.json\n",
      "  warnings.warn(\n"
     ]
    },
    {
     "name": "stdout",
     "output_type": "stream",
     "text": [
      "mmcontext - INFO - mmcontext logging configured using the specified configuration file.\n"
     ]
    },
    {
     "name": "stderr",
     "output_type": "stream",
     "text": [
      "/Users/mengerj/Library/Application Support/hatch/env/virtual/mmcontext/NDS_X2Wf/mmcontext/lib/python3.10/site-packages/pythonjsonlogger/jsonlogger.py:11: DeprecationWarning: pythonjsonlogger.jsonlogger has been moved to pythonjsonlogger.json\n",
      "  warnings.warn(\n",
      "/Users/mengerj/Library/Application Support/hatch/env/virtual/mmcontext/NDS_X2Wf/mmcontext/lib/python3.10/site-packages/pythonjsonlogger/jsonlogger.py:11: DeprecationWarning: pythonjsonlogger.jsonlogger has been moved to pythonjsonlogger.json\n",
      "  warnings.warn(\n"
     ]
    },
    {
     "name": "stdout",
     "output_type": "stream",
     "text": [
      "mmcontext - INFO - mmcontext logging configured using the specified configuration file.\n",
      "mmcontext.engine.trainer - INFO - Validation Complete. Average Loss: 18.9331\n",
      "mmcontext.engine.trainer - INFO - Epoch 10/50 - Train Loss: 17.5228, Val Loss: 18.9331\n",
      "mmcontext.engine.models - INFO - Saving model state dictionary to best_encoder_weights/best_context_encoder_weights.pth\n",
      "mmcontext.engine.trainer - INFO - Validation loss improved. Encoder 'context_encoder' weights saved.\n",
      "mmcontext.engine.models - INFO - Saving model state dictionary to best_decoder_weights/best_decoder_weights.pth\n",
      "mmcontext.engine.trainer - INFO - Validation loss improved. Decoder weights saved.\n",
      "mmcontext.engine.trainer - INFO - Temperature: 0.07\n",
      "mmcontext.engine.trainer - INFO - Starting Epoch 11/50\n"
     ]
    },
    {
     "name": "stderr",
     "output_type": "stream",
     "text": [
      "/Users/mengerj/Library/Application Support/hatch/env/virtual/mmcontext/NDS_X2Wf/mmcontext/lib/python3.10/site-packages/pythonjsonlogger/jsonlogger.py:11: DeprecationWarning: pythonjsonlogger.jsonlogger has been moved to pythonjsonlogger.json\n",
      "  warnings.warn(\n"
     ]
    },
    {
     "name": "stdout",
     "output_type": "stream",
     "text": [
      "mmcontext - INFO - mmcontext logging configured using the specified configuration file.\n"
     ]
    },
    {
     "name": "stderr",
     "output_type": "stream",
     "text": [
      "/Users/mengerj/Library/Application Support/hatch/env/virtual/mmcontext/NDS_X2Wf/mmcontext/lib/python3.10/site-packages/pythonjsonlogger/jsonlogger.py:11: DeprecationWarning: pythonjsonlogger.jsonlogger has been moved to pythonjsonlogger.json\n",
      "  warnings.warn(\n"
     ]
    },
    {
     "name": "stdout",
     "output_type": "stream",
     "text": [
      "mmcontext - INFO - mmcontext logging configured using the specified configuration file.\n"
     ]
    },
    {
     "name": "stderr",
     "output_type": "stream",
     "text": [
      "/Users/mengerj/Library/Application Support/hatch/env/virtual/mmcontext/NDS_X2Wf/mmcontext/lib/python3.10/site-packages/pythonjsonlogger/jsonlogger.py:11: DeprecationWarning: pythonjsonlogger.jsonlogger has been moved to pythonjsonlogger.json\n",
      "  warnings.warn(\n"
     ]
    },
    {
     "name": "stdout",
     "output_type": "stream",
     "text": [
      "mmcontext - INFO - mmcontext logging configured using the specified configuration file.\n"
     ]
    },
    {
     "name": "stderr",
     "output_type": "stream",
     "text": [
      "/Users/mengerj/Library/Application Support/hatch/env/virtual/mmcontext/NDS_X2Wf/mmcontext/lib/python3.10/site-packages/pythonjsonlogger/jsonlogger.py:11: DeprecationWarning: pythonjsonlogger.jsonlogger has been moved to pythonjsonlogger.json\n",
      "  warnings.warn(\n"
     ]
    },
    {
     "name": "stdout",
     "output_type": "stream",
     "text": [
      "mmcontext - INFO - mmcontext logging configured using the specified configuration file.\n",
      "mmcontext.engine.trainer - INFO - Batch 10/127, Loss: 19.7222, Time per sample: 21.47µs\n",
      "mmcontext.engine.trainer - INFO - Batch 20/127, Loss: 16.8473, Time per sample: 21.30µs\n",
      "mmcontext.engine.trainer - INFO - Batch 30/127, Loss: 19.2003, Time per sample: 21.45µs\n",
      "mmcontext.engine.trainer - INFO - Batch 40/127, Loss: 14.7410, Time per sample: 21.46µs\n",
      "mmcontext.engine.trainer - INFO - Batch 50/127, Loss: 12.7844, Time per sample: 21.39µs\n",
      "mmcontext.engine.trainer - INFO - Batch 60/127, Loss: 15.5858, Time per sample: 21.34µs\n",
      "mmcontext.engine.trainer - INFO - Batch 70/127, Loss: 13.7950, Time per sample: 21.39µs\n",
      "mmcontext.engine.trainer - INFO - Batch 80/127, Loss: 14.9874, Time per sample: 21.38µs\n",
      "mmcontext.engine.trainer - INFO - Batch 90/127, Loss: 11.8764, Time per sample: 21.39µs\n",
      "mmcontext.engine.trainer - INFO - Batch 100/127, Loss: 20.1695, Time per sample: 21.29µs\n",
      "mmcontext.engine.trainer - INFO - Batch 110/127, Loss: 17.2886, Time per sample: 21.22µs\n",
      "mmcontext.engine.trainer - INFO - Batch 120/127, Loss: 17.2879, Time per sample: 21.08µs\n",
      "mmcontext.engine.trainer - INFO - Batch 127/127, Loss: 20.8048, Time per sample: 21.64µs\n",
      "mmcontext.engine.trainer - INFO - Training Epoch Complete. Average Loss: 17.4450\n",
      "mmcontext - INFO - mmcontext logging configured using the specified configuration file.\n"
     ]
    },
    {
     "name": "stderr",
     "output_type": "stream",
     "text": [
      "/Users/mengerj/Library/Application Support/hatch/env/virtual/mmcontext/NDS_X2Wf/mmcontext/lib/python3.10/site-packages/pythonjsonlogger/jsonlogger.py:11: DeprecationWarning: pythonjsonlogger.jsonlogger has been moved to pythonjsonlogger.json\n",
      "  warnings.warn(\n"
     ]
    },
    {
     "name": "stdout",
     "output_type": "stream",
     "text": [
      "mmcontext - INFO - mmcontext logging configured using the specified configuration file.\n"
     ]
    },
    {
     "name": "stderr",
     "output_type": "stream",
     "text": [
      "/Users/mengerj/Library/Application Support/hatch/env/virtual/mmcontext/NDS_X2Wf/mmcontext/lib/python3.10/site-packages/pythonjsonlogger/jsonlogger.py:11: DeprecationWarning: pythonjsonlogger.jsonlogger has been moved to pythonjsonlogger.json\n",
      "  warnings.warn(\n"
     ]
    },
    {
     "name": "stdout",
     "output_type": "stream",
     "text": [
      "mmcontext - INFO - mmcontext logging configured using the specified configuration file.\n"
     ]
    },
    {
     "name": "stderr",
     "output_type": "stream",
     "text": [
      "/Users/mengerj/Library/Application Support/hatch/env/virtual/mmcontext/NDS_X2Wf/mmcontext/lib/python3.10/site-packages/pythonjsonlogger/jsonlogger.py:11: DeprecationWarning: pythonjsonlogger.jsonlogger has been moved to pythonjsonlogger.json\n",
      "  warnings.warn(\n",
      "/Users/mengerj/Library/Application Support/hatch/env/virtual/mmcontext/NDS_X2Wf/mmcontext/lib/python3.10/site-packages/pythonjsonlogger/jsonlogger.py:11: DeprecationWarning: pythonjsonlogger.jsonlogger has been moved to pythonjsonlogger.json\n",
      "  warnings.warn(\n"
     ]
    },
    {
     "name": "stdout",
     "output_type": "stream",
     "text": [
      "mmcontext - INFO - mmcontext logging configured using the specified configuration file.\n",
      "mmcontext.engine.trainer - INFO - Validation Complete. Average Loss: 18.9065\n",
      "mmcontext.engine.trainer - INFO - Epoch 11/50 - Train Loss: 17.4450, Val Loss: 18.9065\n",
      "mmcontext.engine.models - INFO - Saving model state dictionary to best_encoder_weights/best_context_encoder_weights.pth\n",
      "mmcontext.engine.trainer - INFO - Validation loss improved. Encoder 'context_encoder' weights saved.\n",
      "mmcontext.engine.models - INFO - Saving model state dictionary to best_decoder_weights/best_decoder_weights.pth\n",
      "mmcontext.engine.trainer - INFO - Validation loss improved. Decoder weights saved.\n",
      "mmcontext.engine.trainer - INFO - Temperature: 0.07\n",
      "mmcontext.engine.trainer - INFO - Starting Epoch 12/50\n"
     ]
    },
    {
     "name": "stderr",
     "output_type": "stream",
     "text": [
      "/Users/mengerj/Library/Application Support/hatch/env/virtual/mmcontext/NDS_X2Wf/mmcontext/lib/python3.10/site-packages/pythonjsonlogger/jsonlogger.py:11: DeprecationWarning: pythonjsonlogger.jsonlogger has been moved to pythonjsonlogger.json\n",
      "  warnings.warn(\n"
     ]
    },
    {
     "name": "stdout",
     "output_type": "stream",
     "text": [
      "mmcontext - INFO - mmcontext logging configured using the specified configuration file.\n"
     ]
    },
    {
     "name": "stderr",
     "output_type": "stream",
     "text": [
      "/Users/mengerj/Library/Application Support/hatch/env/virtual/mmcontext/NDS_X2Wf/mmcontext/lib/python3.10/site-packages/pythonjsonlogger/jsonlogger.py:11: DeprecationWarning: pythonjsonlogger.jsonlogger has been moved to pythonjsonlogger.json\n",
      "  warnings.warn(\n"
     ]
    },
    {
     "name": "stdout",
     "output_type": "stream",
     "text": [
      "mmcontext - INFO - mmcontext logging configured using the specified configuration file.\n"
     ]
    },
    {
     "name": "stderr",
     "output_type": "stream",
     "text": [
      "/Users/mengerj/Library/Application Support/hatch/env/virtual/mmcontext/NDS_X2Wf/mmcontext/lib/python3.10/site-packages/pythonjsonlogger/jsonlogger.py:11: DeprecationWarning: pythonjsonlogger.jsonlogger has been moved to pythonjsonlogger.json\n",
      "  warnings.warn(\n"
     ]
    },
    {
     "name": "stdout",
     "output_type": "stream",
     "text": [
      "mmcontext - INFO - mmcontext logging configured using the specified configuration file.\n"
     ]
    },
    {
     "name": "stderr",
     "output_type": "stream",
     "text": [
      "/Users/mengerj/Library/Application Support/hatch/env/virtual/mmcontext/NDS_X2Wf/mmcontext/lib/python3.10/site-packages/pythonjsonlogger/jsonlogger.py:11: DeprecationWarning: pythonjsonlogger.jsonlogger has been moved to pythonjsonlogger.json\n",
      "  warnings.warn(\n"
     ]
    },
    {
     "name": "stdout",
     "output_type": "stream",
     "text": [
      "mmcontext - INFO - mmcontext logging configured using the specified configuration file.\n",
      "mmcontext.engine.trainer - INFO - Batch 10/127, Loss: 19.6767, Time per sample: 21.59µs\n",
      "mmcontext.engine.trainer - INFO - Batch 20/127, Loss: 16.6319, Time per sample: 22.00µs\n",
      "mmcontext.engine.trainer - INFO - Batch 30/127, Loss: 19.1443, Time per sample: 22.03µs\n",
      "mmcontext.engine.trainer - INFO - Batch 40/127, Loss: 14.7076, Time per sample: 21.88µs\n",
      "mmcontext.engine.trainer - INFO - Batch 50/127, Loss: 12.7292, Time per sample: 21.86µs\n",
      "mmcontext.engine.trainer - INFO - Batch 60/127, Loss: 15.5714, Time per sample: 21.81µs\n",
      "mmcontext.engine.trainer - INFO - Batch 70/127, Loss: 13.7620, Time per sample: 21.70µs\n",
      "mmcontext.engine.trainer - INFO - Batch 80/127, Loss: 14.9179, Time per sample: 21.81µs\n",
      "mmcontext.engine.trainer - INFO - Batch 90/127, Loss: 11.8515, Time per sample: 21.81µs\n",
      "mmcontext.engine.trainer - INFO - Batch 100/127, Loss: 20.1322, Time per sample: 21.74µs\n",
      "mmcontext.engine.trainer - INFO - Batch 110/127, Loss: 17.2219, Time per sample: 21.73µs\n",
      "mmcontext.engine.trainer - INFO - Batch 120/127, Loss: 17.1104, Time per sample: 22.07µs\n",
      "mmcontext.engine.trainer - INFO - Batch 127/127, Loss: 20.7335, Time per sample: 22.13µs\n",
      "mmcontext.engine.trainer - INFO - Training Epoch Complete. Average Loss: 17.3728\n",
      "mmcontext - INFO - mmcontext logging configured using the specified configuration file.\n"
     ]
    },
    {
     "name": "stderr",
     "output_type": "stream",
     "text": [
      "/Users/mengerj/Library/Application Support/hatch/env/virtual/mmcontext/NDS_X2Wf/mmcontext/lib/python3.10/site-packages/pythonjsonlogger/jsonlogger.py:11: DeprecationWarning: pythonjsonlogger.jsonlogger has been moved to pythonjsonlogger.json\n",
      "  warnings.warn(\n"
     ]
    },
    {
     "name": "stdout",
     "output_type": "stream",
     "text": [
      "mmcontext - INFO - mmcontext logging configured using the specified configuration file.\n"
     ]
    },
    {
     "name": "stderr",
     "output_type": "stream",
     "text": [
      "/Users/mengerj/Library/Application Support/hatch/env/virtual/mmcontext/NDS_X2Wf/mmcontext/lib/python3.10/site-packages/pythonjsonlogger/jsonlogger.py:11: DeprecationWarning: pythonjsonlogger.jsonlogger has been moved to pythonjsonlogger.json\n",
      "  warnings.warn(\n"
     ]
    },
    {
     "name": "stdout",
     "output_type": "stream",
     "text": [
      "mmcontext - INFO - mmcontext logging configured using the specified configuration file.\n"
     ]
    },
    {
     "name": "stderr",
     "output_type": "stream",
     "text": [
      "/Users/mengerj/Library/Application Support/hatch/env/virtual/mmcontext/NDS_X2Wf/mmcontext/lib/python3.10/site-packages/pythonjsonlogger/jsonlogger.py:11: DeprecationWarning: pythonjsonlogger.jsonlogger has been moved to pythonjsonlogger.json\n",
      "  warnings.warn(\n",
      "/Users/mengerj/Library/Application Support/hatch/env/virtual/mmcontext/NDS_X2Wf/mmcontext/lib/python3.10/site-packages/pythonjsonlogger/jsonlogger.py:11: DeprecationWarning: pythonjsonlogger.jsonlogger has been moved to pythonjsonlogger.json\n",
      "  warnings.warn(\n"
     ]
    },
    {
     "name": "stdout",
     "output_type": "stream",
     "text": [
      "mmcontext - INFO - mmcontext logging configured using the specified configuration file.\n",
      "mmcontext.engine.trainer - INFO - Validation Complete. Average Loss: 18.8950\n",
      "mmcontext.engine.trainer - INFO - Epoch 12/50 - Train Loss: 17.3728, Val Loss: 18.8950\n",
      "mmcontext.engine.models - INFO - Saving model state dictionary to best_encoder_weights/best_context_encoder_weights.pth\n",
      "mmcontext.engine.trainer - INFO - Validation loss improved. Encoder 'context_encoder' weights saved.\n",
      "mmcontext.engine.models - INFO - Saving model state dictionary to best_decoder_weights/best_decoder_weights.pth\n",
      "mmcontext.engine.trainer - INFO - Validation loss improved. Decoder weights saved.\n",
      "mmcontext.engine.trainer - INFO - Temperature: 0.07\n",
      "mmcontext.engine.trainer - INFO - Starting Epoch 13/50\n"
     ]
    },
    {
     "name": "stderr",
     "output_type": "stream",
     "text": [
      "/Users/mengerj/Library/Application Support/hatch/env/virtual/mmcontext/NDS_X2Wf/mmcontext/lib/python3.10/site-packages/pythonjsonlogger/jsonlogger.py:11: DeprecationWarning: pythonjsonlogger.jsonlogger has been moved to pythonjsonlogger.json\n",
      "  warnings.warn(\n"
     ]
    },
    {
     "name": "stdout",
     "output_type": "stream",
     "text": [
      "mmcontext - INFO - mmcontext logging configured using the specified configuration file.\n"
     ]
    },
    {
     "name": "stderr",
     "output_type": "stream",
     "text": [
      "/Users/mengerj/Library/Application Support/hatch/env/virtual/mmcontext/NDS_X2Wf/mmcontext/lib/python3.10/site-packages/pythonjsonlogger/jsonlogger.py:11: DeprecationWarning: pythonjsonlogger.jsonlogger has been moved to pythonjsonlogger.json\n",
      "  warnings.warn(\n"
     ]
    },
    {
     "name": "stdout",
     "output_type": "stream",
     "text": [
      "mmcontext - INFO - mmcontext logging configured using the specified configuration file.\n"
     ]
    },
    {
     "name": "stderr",
     "output_type": "stream",
     "text": [
      "/Users/mengerj/Library/Application Support/hatch/env/virtual/mmcontext/NDS_X2Wf/mmcontext/lib/python3.10/site-packages/pythonjsonlogger/jsonlogger.py:11: DeprecationWarning: pythonjsonlogger.jsonlogger has been moved to pythonjsonlogger.json\n",
      "  warnings.warn(\n"
     ]
    },
    {
     "name": "stdout",
     "output_type": "stream",
     "text": [
      "mmcontext - INFO - mmcontext logging configured using the specified configuration file.\n"
     ]
    },
    {
     "name": "stderr",
     "output_type": "stream",
     "text": [
      "/Users/mengerj/Library/Application Support/hatch/env/virtual/mmcontext/NDS_X2Wf/mmcontext/lib/python3.10/site-packages/pythonjsonlogger/jsonlogger.py:11: DeprecationWarning: pythonjsonlogger.jsonlogger has been moved to pythonjsonlogger.json\n",
      "  warnings.warn(\n"
     ]
    },
    {
     "name": "stdout",
     "output_type": "stream",
     "text": [
      "mmcontext - INFO - mmcontext logging configured using the specified configuration file.\n",
      "mmcontext.engine.trainer - INFO - Batch 10/127, Loss: 19.6251, Time per sample: 21.39µs\n",
      "mmcontext.engine.trainer - INFO - Batch 20/127, Loss: 16.4500, Time per sample: 21.69µs\n",
      "mmcontext.engine.trainer - INFO - Batch 30/127, Loss: 19.1211, Time per sample: 21.75µs\n",
      "mmcontext.engine.trainer - INFO - Batch 40/127, Loss: 14.6990, Time per sample: 21.97µs\n",
      "mmcontext.engine.trainer - INFO - Batch 50/127, Loss: 12.6837, Time per sample: 21.79µs\n",
      "mmcontext.engine.trainer - INFO - Batch 60/127, Loss: 15.5397, Time per sample: 22.24µs\n",
      "mmcontext.engine.trainer - INFO - Batch 70/127, Loss: 13.7374, Time per sample: 21.87µs\n",
      "mmcontext.engine.trainer - INFO - Batch 80/127, Loss: 14.8937, Time per sample: 22.01µs\n",
      "mmcontext.engine.trainer - INFO - Batch 90/127, Loss: 11.8446, Time per sample: 21.98µs\n",
      "mmcontext.engine.trainer - INFO - Batch 100/127, Loss: 20.1004, Time per sample: 22.30µs\n",
      "mmcontext.engine.trainer - INFO - Batch 110/127, Loss: 17.1704, Time per sample: 22.27µs\n",
      "mmcontext.engine.trainer - INFO - Batch 120/127, Loss: 16.9465, Time per sample: 21.85µs\n",
      "mmcontext.engine.trainer - INFO - Batch 127/127, Loss: 20.6717, Time per sample: 22.12µs\n",
      "mmcontext.engine.trainer - INFO - Training Epoch Complete. Average Loss: 17.3520\n",
      "mmcontext - INFO - mmcontext logging configured using the specified configuration file.\n"
     ]
    },
    {
     "name": "stderr",
     "output_type": "stream",
     "text": [
      "/Users/mengerj/Library/Application Support/hatch/env/virtual/mmcontext/NDS_X2Wf/mmcontext/lib/python3.10/site-packages/pythonjsonlogger/jsonlogger.py:11: DeprecationWarning: pythonjsonlogger.jsonlogger has been moved to pythonjsonlogger.json\n",
      "  warnings.warn(\n"
     ]
    },
    {
     "name": "stdout",
     "output_type": "stream",
     "text": [
      "mmcontext - INFO - mmcontext logging configured using the specified configuration file.\n"
     ]
    },
    {
     "name": "stderr",
     "output_type": "stream",
     "text": [
      "/Users/mengerj/Library/Application Support/hatch/env/virtual/mmcontext/NDS_X2Wf/mmcontext/lib/python3.10/site-packages/pythonjsonlogger/jsonlogger.py:11: DeprecationWarning: pythonjsonlogger.jsonlogger has been moved to pythonjsonlogger.json\n",
      "  warnings.warn(\n"
     ]
    },
    {
     "name": "stdout",
     "output_type": "stream",
     "text": [
      "mmcontext - INFO - mmcontext logging configured using the specified configuration file.\n"
     ]
    },
    {
     "name": "stderr",
     "output_type": "stream",
     "text": [
      "/Users/mengerj/Library/Application Support/hatch/env/virtual/mmcontext/NDS_X2Wf/mmcontext/lib/python3.10/site-packages/pythonjsonlogger/jsonlogger.py:11: DeprecationWarning: pythonjsonlogger.jsonlogger has been moved to pythonjsonlogger.json\n",
      "  warnings.warn(\n",
      "/Users/mengerj/Library/Application Support/hatch/env/virtual/mmcontext/NDS_X2Wf/mmcontext/lib/python3.10/site-packages/pythonjsonlogger/jsonlogger.py:11: DeprecationWarning: pythonjsonlogger.jsonlogger has been moved to pythonjsonlogger.json\n",
      "  warnings.warn(\n"
     ]
    },
    {
     "name": "stdout",
     "output_type": "stream",
     "text": [
      "mmcontext - INFO - mmcontext logging configured using the specified configuration file.\n",
      "mmcontext.engine.trainer - INFO - Validation Complete. Average Loss: 18.8927\n",
      "mmcontext.engine.trainer - INFO - Epoch 13/50 - Train Loss: 17.3520, Val Loss: 18.8927\n",
      "mmcontext.engine.models - INFO - Saving model state dictionary to best_encoder_weights/best_context_encoder_weights.pth\n",
      "mmcontext.engine.trainer - INFO - Validation loss improved. Encoder 'context_encoder' weights saved.\n",
      "mmcontext.engine.models - INFO - Saving model state dictionary to best_decoder_weights/best_decoder_weights.pth\n",
      "mmcontext.engine.trainer - INFO - Validation loss improved. Decoder weights saved.\n",
      "mmcontext.engine.trainer - INFO - Temperature: 0.07\n",
      "mmcontext.engine.trainer - INFO - Starting Epoch 14/50\n"
     ]
    },
    {
     "name": "stderr",
     "output_type": "stream",
     "text": [
      "/Users/mengerj/Library/Application Support/hatch/env/virtual/mmcontext/NDS_X2Wf/mmcontext/lib/python3.10/site-packages/pythonjsonlogger/jsonlogger.py:11: DeprecationWarning: pythonjsonlogger.jsonlogger has been moved to pythonjsonlogger.json\n",
      "  warnings.warn(\n"
     ]
    },
    {
     "name": "stdout",
     "output_type": "stream",
     "text": [
      "mmcontext - INFO - mmcontext logging configured using the specified configuration file.\n"
     ]
    },
    {
     "name": "stderr",
     "output_type": "stream",
     "text": [
      "/Users/mengerj/Library/Application Support/hatch/env/virtual/mmcontext/NDS_X2Wf/mmcontext/lib/python3.10/site-packages/pythonjsonlogger/jsonlogger.py:11: DeprecationWarning: pythonjsonlogger.jsonlogger has been moved to pythonjsonlogger.json\n",
      "  warnings.warn(\n"
     ]
    },
    {
     "name": "stdout",
     "output_type": "stream",
     "text": [
      "mmcontext - INFO - mmcontext logging configured using the specified configuration file.\n"
     ]
    },
    {
     "name": "stderr",
     "output_type": "stream",
     "text": [
      "/Users/mengerj/Library/Application Support/hatch/env/virtual/mmcontext/NDS_X2Wf/mmcontext/lib/python3.10/site-packages/pythonjsonlogger/jsonlogger.py:11: DeprecationWarning: pythonjsonlogger.jsonlogger has been moved to pythonjsonlogger.json\n",
      "  warnings.warn(\n"
     ]
    },
    {
     "name": "stdout",
     "output_type": "stream",
     "text": [
      "mmcontext - INFO - mmcontext logging configured using the specified configuration file.\n"
     ]
    },
    {
     "name": "stderr",
     "output_type": "stream",
     "text": [
      "/Users/mengerj/Library/Application Support/hatch/env/virtual/mmcontext/NDS_X2Wf/mmcontext/lib/python3.10/site-packages/pythonjsonlogger/jsonlogger.py:11: DeprecationWarning: pythonjsonlogger.jsonlogger has been moved to pythonjsonlogger.json\n",
      "  warnings.warn(\n"
     ]
    },
    {
     "name": "stdout",
     "output_type": "stream",
     "text": [
      "mmcontext - INFO - mmcontext logging configured using the specified configuration file.\n",
      "mmcontext.engine.trainer - INFO - Batch 10/127, Loss: 19.5684, Time per sample: 21.80µs\n",
      "mmcontext.engine.trainer - INFO - Batch 20/127, Loss: 16.2988, Time per sample: 21.84µs\n",
      "mmcontext.engine.trainer - INFO - Batch 30/127, Loss: 19.1044, Time per sample: 21.67µs\n",
      "mmcontext.engine.trainer - INFO - Batch 40/127, Loss: 14.6461, Time per sample: 21.65µs\n",
      "mmcontext.engine.trainer - INFO - Batch 50/127, Loss: 12.6395, Time per sample: 21.64µs\n",
      "mmcontext.engine.trainer - INFO - Batch 60/127, Loss: 15.5028, Time per sample: 21.79µs\n",
      "mmcontext.engine.trainer - INFO - Batch 70/127, Loss: 13.7297, Time per sample: 22.04µs\n",
      "mmcontext.engine.trainer - INFO - Batch 80/127, Loss: 14.8617, Time per sample: 21.97µs\n",
      "mmcontext.engine.trainer - INFO - Batch 90/127, Loss: 11.8279, Time per sample: 22.03µs\n",
      "mmcontext.engine.trainer - INFO - Batch 100/127, Loss: 20.0804, Time per sample: 21.87µs\n",
      "mmcontext.engine.trainer - INFO - Batch 110/127, Loss: 17.1430, Time per sample: 21.80µs\n",
      "mmcontext.engine.trainer - INFO - Batch 120/127, Loss: 16.8018, Time per sample: 21.96µs\n",
      "mmcontext.engine.trainer - INFO - Batch 127/127, Loss: 20.6166, Time per sample: 22.08µs\n",
      "mmcontext.engine.trainer - INFO - Training Epoch Complete. Average Loss: 17.2555\n",
      "mmcontext - INFO - mmcontext logging configured using the specified configuration file.\n"
     ]
    },
    {
     "name": "stderr",
     "output_type": "stream",
     "text": [
      "/Users/mengerj/Library/Application Support/hatch/env/virtual/mmcontext/NDS_X2Wf/mmcontext/lib/python3.10/site-packages/pythonjsonlogger/jsonlogger.py:11: DeprecationWarning: pythonjsonlogger.jsonlogger has been moved to pythonjsonlogger.json\n",
      "  warnings.warn(\n"
     ]
    },
    {
     "name": "stdout",
     "output_type": "stream",
     "text": [
      "mmcontext - INFO - mmcontext logging configured using the specified configuration file.\n"
     ]
    },
    {
     "name": "stderr",
     "output_type": "stream",
     "text": [
      "/Users/mengerj/Library/Application Support/hatch/env/virtual/mmcontext/NDS_X2Wf/mmcontext/lib/python3.10/site-packages/pythonjsonlogger/jsonlogger.py:11: DeprecationWarning: pythonjsonlogger.jsonlogger has been moved to pythonjsonlogger.json\n",
      "  warnings.warn(\n"
     ]
    },
    {
     "name": "stdout",
     "output_type": "stream",
     "text": [
      "mmcontext - INFO - mmcontext logging configured using the specified configuration file.\n"
     ]
    },
    {
     "name": "stderr",
     "output_type": "stream",
     "text": [
      "/Users/mengerj/Library/Application Support/hatch/env/virtual/mmcontext/NDS_X2Wf/mmcontext/lib/python3.10/site-packages/pythonjsonlogger/jsonlogger.py:11: DeprecationWarning: pythonjsonlogger.jsonlogger has been moved to pythonjsonlogger.json\n",
      "  warnings.warn(\n",
      "/Users/mengerj/Library/Application Support/hatch/env/virtual/mmcontext/NDS_X2Wf/mmcontext/lib/python3.10/site-packages/pythonjsonlogger/jsonlogger.py:11: DeprecationWarning: pythonjsonlogger.jsonlogger has been moved to pythonjsonlogger.json\n",
      "  warnings.warn(\n"
     ]
    },
    {
     "name": "stdout",
     "output_type": "stream",
     "text": [
      "mmcontext - INFO - mmcontext logging configured using the specified configuration file.\n",
      "mmcontext.engine.trainer - INFO - Validation Complete. Average Loss: 18.8988\n",
      "mmcontext.engine.trainer - INFO - Epoch 14/50 - Train Loss: 17.2555, Val Loss: 18.8988\n",
      "mmcontext.engine.trainer - INFO - Temperature: 0.07\n",
      "mmcontext.engine.trainer - INFO - Starting Epoch 15/50\n"
     ]
    },
    {
     "name": "stderr",
     "output_type": "stream",
     "text": [
      "/Users/mengerj/Library/Application Support/hatch/env/virtual/mmcontext/NDS_X2Wf/mmcontext/lib/python3.10/site-packages/pythonjsonlogger/jsonlogger.py:11: DeprecationWarning: pythonjsonlogger.jsonlogger has been moved to pythonjsonlogger.json\n",
      "  warnings.warn(\n"
     ]
    },
    {
     "name": "stdout",
     "output_type": "stream",
     "text": [
      "mmcontext - INFO - mmcontext logging configured using the specified configuration file.\n"
     ]
    },
    {
     "name": "stderr",
     "output_type": "stream",
     "text": [
      "/Users/mengerj/Library/Application Support/hatch/env/virtual/mmcontext/NDS_X2Wf/mmcontext/lib/python3.10/site-packages/pythonjsonlogger/jsonlogger.py:11: DeprecationWarning: pythonjsonlogger.jsonlogger has been moved to pythonjsonlogger.json\n",
      "  warnings.warn(\n"
     ]
    },
    {
     "name": "stdout",
     "output_type": "stream",
     "text": [
      "mmcontext - INFO - mmcontext logging configured using the specified configuration file.\n"
     ]
    },
    {
     "name": "stderr",
     "output_type": "stream",
     "text": [
      "/Users/mengerj/Library/Application Support/hatch/env/virtual/mmcontext/NDS_X2Wf/mmcontext/lib/python3.10/site-packages/pythonjsonlogger/jsonlogger.py:11: DeprecationWarning: pythonjsonlogger.jsonlogger has been moved to pythonjsonlogger.json\n",
      "  warnings.warn(\n"
     ]
    },
    {
     "name": "stdout",
     "output_type": "stream",
     "text": [
      "mmcontext - INFO - mmcontext logging configured using the specified configuration file.\n"
     ]
    },
    {
     "name": "stderr",
     "output_type": "stream",
     "text": [
      "/Users/mengerj/Library/Application Support/hatch/env/virtual/mmcontext/NDS_X2Wf/mmcontext/lib/python3.10/site-packages/pythonjsonlogger/jsonlogger.py:11: DeprecationWarning: pythonjsonlogger.jsonlogger has been moved to pythonjsonlogger.json\n",
      "  warnings.warn(\n"
     ]
    },
    {
     "name": "stdout",
     "output_type": "stream",
     "text": [
      "mmcontext - INFO - mmcontext logging configured using the specified configuration file.\n",
      "mmcontext.engine.trainer - INFO - Batch 10/127, Loss: 19.5159, Time per sample: 21.47µs\n",
      "mmcontext.engine.trainer - INFO - Batch 20/127, Loss: 16.1735, Time per sample: 21.53µs\n",
      "mmcontext.engine.trainer - INFO - Batch 30/127, Loss: 19.0645, Time per sample: 21.49µs\n",
      "mmcontext.engine.trainer - INFO - Batch 40/127, Loss: 14.6048, Time per sample: 21.56µs\n",
      "mmcontext.engine.trainer - INFO - Batch 50/127, Loss: 12.5981, Time per sample: 21.52µs\n",
      "mmcontext.engine.trainer - INFO - Batch 60/127, Loss: 15.4706, Time per sample: 21.50µs\n",
      "mmcontext.engine.trainer - INFO - Batch 70/127, Loss: 13.7161, Time per sample: 21.57µs\n",
      "mmcontext.engine.trainer - INFO - Batch 80/127, Loss: 14.8486, Time per sample: 21.55µs\n",
      "mmcontext.engine.trainer - INFO - Batch 90/127, Loss: 11.8206, Time per sample: 21.69µs\n",
      "mmcontext.engine.trainer - INFO - Batch 100/127, Loss: 20.0599, Time per sample: 21.59µs\n",
      "mmcontext.engine.trainer - INFO - Batch 110/127, Loss: 17.1197, Time per sample: 21.58µs\n",
      "mmcontext.engine.trainer - INFO - Batch 120/127, Loss: 16.6971, Time per sample: 21.40µs\n",
      "mmcontext.engine.trainer - INFO - Batch 127/127, Loss: 20.5644, Time per sample: 21.47µs\n",
      "mmcontext.engine.trainer - INFO - Training Epoch Complete. Average Loss: 17.2049\n",
      "mmcontext - INFO - mmcontext logging configured using the specified configuration file.\n"
     ]
    },
    {
     "name": "stderr",
     "output_type": "stream",
     "text": [
      "/Users/mengerj/Library/Application Support/hatch/env/virtual/mmcontext/NDS_X2Wf/mmcontext/lib/python3.10/site-packages/pythonjsonlogger/jsonlogger.py:11: DeprecationWarning: pythonjsonlogger.jsonlogger has been moved to pythonjsonlogger.json\n",
      "  warnings.warn(\n"
     ]
    },
    {
     "name": "stdout",
     "output_type": "stream",
     "text": [
      "mmcontext - INFO - mmcontext logging configured using the specified configuration file.\n"
     ]
    },
    {
     "name": "stderr",
     "output_type": "stream",
     "text": [
      "/Users/mengerj/Library/Application Support/hatch/env/virtual/mmcontext/NDS_X2Wf/mmcontext/lib/python3.10/site-packages/pythonjsonlogger/jsonlogger.py:11: DeprecationWarning: pythonjsonlogger.jsonlogger has been moved to pythonjsonlogger.json\n",
      "  warnings.warn(\n"
     ]
    },
    {
     "name": "stdout",
     "output_type": "stream",
     "text": [
      "mmcontext - INFO - mmcontext logging configured using the specified configuration file.\n"
     ]
    },
    {
     "name": "stderr",
     "output_type": "stream",
     "text": [
      "/Users/mengerj/Library/Application Support/hatch/env/virtual/mmcontext/NDS_X2Wf/mmcontext/lib/python3.10/site-packages/pythonjsonlogger/jsonlogger.py:11: DeprecationWarning: pythonjsonlogger.jsonlogger has been moved to pythonjsonlogger.json\n",
      "  warnings.warn(\n",
      "/Users/mengerj/Library/Application Support/hatch/env/virtual/mmcontext/NDS_X2Wf/mmcontext/lib/python3.10/site-packages/pythonjsonlogger/jsonlogger.py:11: DeprecationWarning: pythonjsonlogger.jsonlogger has been moved to pythonjsonlogger.json\n",
      "  warnings.warn(\n"
     ]
    },
    {
     "name": "stdout",
     "output_type": "stream",
     "text": [
      "mmcontext - INFO - mmcontext logging configured using the specified configuration file.\n",
      "mmcontext.engine.trainer - INFO - Validation Complete. Average Loss: 18.9026\n",
      "mmcontext.engine.trainer - INFO - Epoch 15/50 - Train Loss: 17.2049, Val Loss: 18.9026\n",
      "mmcontext.engine.trainer - INFO - Temperature: 0.07\n",
      "mmcontext.engine.trainer - INFO - Starting Epoch 16/50\n"
     ]
    },
    {
     "name": "stderr",
     "output_type": "stream",
     "text": [
      "/Users/mengerj/Library/Application Support/hatch/env/virtual/mmcontext/NDS_X2Wf/mmcontext/lib/python3.10/site-packages/pythonjsonlogger/jsonlogger.py:11: DeprecationWarning: pythonjsonlogger.jsonlogger has been moved to pythonjsonlogger.json\n",
      "  warnings.warn(\n"
     ]
    },
    {
     "name": "stdout",
     "output_type": "stream",
     "text": [
      "mmcontext - INFO - mmcontext logging configured using the specified configuration file.\n"
     ]
    },
    {
     "name": "stderr",
     "output_type": "stream",
     "text": [
      "/Users/mengerj/Library/Application Support/hatch/env/virtual/mmcontext/NDS_X2Wf/mmcontext/lib/python3.10/site-packages/pythonjsonlogger/jsonlogger.py:11: DeprecationWarning: pythonjsonlogger.jsonlogger has been moved to pythonjsonlogger.json\n",
      "  warnings.warn(\n"
     ]
    },
    {
     "name": "stdout",
     "output_type": "stream",
     "text": [
      "mmcontext - INFO - mmcontext logging configured using the specified configuration file.\n"
     ]
    },
    {
     "name": "stderr",
     "output_type": "stream",
     "text": [
      "/Users/mengerj/Library/Application Support/hatch/env/virtual/mmcontext/NDS_X2Wf/mmcontext/lib/python3.10/site-packages/pythonjsonlogger/jsonlogger.py:11: DeprecationWarning: pythonjsonlogger.jsonlogger has been moved to pythonjsonlogger.json\n",
      "  warnings.warn(\n"
     ]
    },
    {
     "name": "stdout",
     "output_type": "stream",
     "text": [
      "mmcontext - INFO - mmcontext logging configured using the specified configuration file.\n"
     ]
    },
    {
     "name": "stderr",
     "output_type": "stream",
     "text": [
      "/Users/mengerj/Library/Application Support/hatch/env/virtual/mmcontext/NDS_X2Wf/mmcontext/lib/python3.10/site-packages/pythonjsonlogger/jsonlogger.py:11: DeprecationWarning: pythonjsonlogger.jsonlogger has been moved to pythonjsonlogger.json\n",
      "  warnings.warn(\n"
     ]
    },
    {
     "name": "stdout",
     "output_type": "stream",
     "text": [
      "mmcontext - INFO - mmcontext logging configured using the specified configuration file.\n",
      "mmcontext.engine.trainer - INFO - Batch 10/127, Loss: 19.4542, Time per sample: 21.64µs\n",
      "mmcontext.engine.trainer - INFO - Batch 20/127, Loss: 16.0706, Time per sample: 25.51µs\n",
      "mmcontext.engine.trainer - INFO - Batch 30/127, Loss: 19.0561, Time per sample: 22.42µs\n",
      "mmcontext.engine.trainer - INFO - Batch 40/127, Loss: 14.5634, Time per sample: 22.73µs\n",
      "mmcontext.engine.trainer - INFO - Batch 50/127, Loss: 12.5542, Time per sample: 21.98µs\n",
      "mmcontext.engine.trainer - INFO - Batch 60/127, Loss: 15.4429, Time per sample: 22.21µs\n",
      "mmcontext.engine.trainer - INFO - Batch 70/127, Loss: 13.6987, Time per sample: 22.32µs\n",
      "mmcontext.engine.trainer - INFO - Batch 80/127, Loss: 14.8274, Time per sample: 21.75µs\n",
      "mmcontext.engine.trainer - INFO - Batch 90/127, Loss: 11.8092, Time per sample: 21.84µs\n",
      "mmcontext.engine.trainer - INFO - Batch 100/127, Loss: 20.0492, Time per sample: 21.61µs\n",
      "mmcontext.engine.trainer - INFO - Batch 110/127, Loss: 17.1050, Time per sample: 21.67µs\n",
      "mmcontext.engine.trainer - INFO - Batch 120/127, Loss: 16.5893, Time per sample: 21.58µs\n",
      "mmcontext.engine.trainer - INFO - Batch 127/127, Loss: 20.5044, Time per sample: 21.92µs\n",
      "mmcontext.engine.trainer - INFO - Training Epoch Complete. Average Loss: 17.1571\n",
      "mmcontext - INFO - mmcontext logging configured using the specified configuration file.\n"
     ]
    },
    {
     "name": "stderr",
     "output_type": "stream",
     "text": [
      "/Users/mengerj/Library/Application Support/hatch/env/virtual/mmcontext/NDS_X2Wf/mmcontext/lib/python3.10/site-packages/pythonjsonlogger/jsonlogger.py:11: DeprecationWarning: pythonjsonlogger.jsonlogger has been moved to pythonjsonlogger.json\n",
      "  warnings.warn(\n"
     ]
    },
    {
     "name": "stdout",
     "output_type": "stream",
     "text": [
      "mmcontext - INFO - mmcontext logging configured using the specified configuration file.\n"
     ]
    },
    {
     "name": "stderr",
     "output_type": "stream",
     "text": [
      "/Users/mengerj/Library/Application Support/hatch/env/virtual/mmcontext/NDS_X2Wf/mmcontext/lib/python3.10/site-packages/pythonjsonlogger/jsonlogger.py:11: DeprecationWarning: pythonjsonlogger.jsonlogger has been moved to pythonjsonlogger.json\n",
      "  warnings.warn(\n"
     ]
    },
    {
     "name": "stdout",
     "output_type": "stream",
     "text": [
      "mmcontext - INFO - mmcontext logging configured using the specified configuration file.\n"
     ]
    },
    {
     "name": "stderr",
     "output_type": "stream",
     "text": [
      "/Users/mengerj/Library/Application Support/hatch/env/virtual/mmcontext/NDS_X2Wf/mmcontext/lib/python3.10/site-packages/pythonjsonlogger/jsonlogger.py:11: DeprecationWarning: pythonjsonlogger.jsonlogger has been moved to pythonjsonlogger.json\n",
      "  warnings.warn(\n",
      "/Users/mengerj/Library/Application Support/hatch/env/virtual/mmcontext/NDS_X2Wf/mmcontext/lib/python3.10/site-packages/pythonjsonlogger/jsonlogger.py:11: DeprecationWarning: pythonjsonlogger.jsonlogger has been moved to pythonjsonlogger.json\n",
      "  warnings.warn(\n"
     ]
    },
    {
     "name": "stdout",
     "output_type": "stream",
     "text": [
      "mmcontext - INFO - mmcontext logging configured using the specified configuration file.\n",
      "mmcontext.engine.trainer - INFO - Validation Complete. Average Loss: 18.9177\n",
      "mmcontext.engine.trainer - INFO - Epoch 16/50 - Train Loss: 17.1571, Val Loss: 18.9177\n",
      "mmcontext.engine.trainer - INFO - Temperature: 0.07\n",
      "mmcontext.engine.trainer - INFO - Starting Epoch 17/50\n"
     ]
    },
    {
     "name": "stderr",
     "output_type": "stream",
     "text": [
      "/Users/mengerj/Library/Application Support/hatch/env/virtual/mmcontext/NDS_X2Wf/mmcontext/lib/python3.10/site-packages/pythonjsonlogger/jsonlogger.py:11: DeprecationWarning: pythonjsonlogger.jsonlogger has been moved to pythonjsonlogger.json\n",
      "  warnings.warn(\n"
     ]
    },
    {
     "name": "stdout",
     "output_type": "stream",
     "text": [
      "mmcontext - INFO - mmcontext logging configured using the specified configuration file.\n"
     ]
    },
    {
     "name": "stderr",
     "output_type": "stream",
     "text": [
      "/Users/mengerj/Library/Application Support/hatch/env/virtual/mmcontext/NDS_X2Wf/mmcontext/lib/python3.10/site-packages/pythonjsonlogger/jsonlogger.py:11: DeprecationWarning: pythonjsonlogger.jsonlogger has been moved to pythonjsonlogger.json\n",
      "  warnings.warn(\n"
     ]
    },
    {
     "name": "stdout",
     "output_type": "stream",
     "text": [
      "mmcontext - INFO - mmcontext logging configured using the specified configuration file.\n"
     ]
    },
    {
     "name": "stderr",
     "output_type": "stream",
     "text": [
      "/Users/mengerj/Library/Application Support/hatch/env/virtual/mmcontext/NDS_X2Wf/mmcontext/lib/python3.10/site-packages/pythonjsonlogger/jsonlogger.py:11: DeprecationWarning: pythonjsonlogger.jsonlogger has been moved to pythonjsonlogger.json\n",
      "  warnings.warn(\n"
     ]
    },
    {
     "name": "stdout",
     "output_type": "stream",
     "text": [
      "mmcontext - INFO - mmcontext logging configured using the specified configuration file.\n"
     ]
    },
    {
     "name": "stderr",
     "output_type": "stream",
     "text": [
      "/Users/mengerj/Library/Application Support/hatch/env/virtual/mmcontext/NDS_X2Wf/mmcontext/lib/python3.10/site-packages/pythonjsonlogger/jsonlogger.py:11: DeprecationWarning: pythonjsonlogger.jsonlogger has been moved to pythonjsonlogger.json\n",
      "  warnings.warn(\n"
     ]
    },
    {
     "name": "stdout",
     "output_type": "stream",
     "text": [
      "mmcontext - INFO - mmcontext logging configured using the specified configuration file.\n",
      "mmcontext.engine.trainer - INFO - Batch 10/127, Loss: 19.3978, Time per sample: 21.68µs\n",
      "mmcontext.engine.trainer - INFO - Batch 20/127, Loss: 15.9876, Time per sample: 21.51µs\n",
      "mmcontext.engine.trainer - INFO - Batch 30/127, Loss: 19.0314, Time per sample: 21.61µs\n",
      "mmcontext.engine.trainer - INFO - Batch 40/127, Loss: 14.5305, Time per sample: 21.68µs\n",
      "mmcontext.engine.trainer - INFO - Batch 50/127, Loss: 12.5175, Time per sample: 21.63µs\n",
      "mmcontext.engine.trainer - INFO - Batch 60/127, Loss: 15.4190, Time per sample: 21.44µs\n",
      "mmcontext.engine.trainer - INFO - Batch 70/127, Loss: 13.6880, Time per sample: 21.77µs\n",
      "mmcontext.engine.trainer - INFO - Batch 80/127, Loss: 14.8271, Time per sample: 21.86µs\n",
      "mmcontext.engine.trainer - INFO - Batch 90/127, Loss: 11.8044, Time per sample: 21.47µs\n",
      "mmcontext.engine.trainer - INFO - Batch 100/127, Loss: 20.0300, Time per sample: 21.79µs\n",
      "mmcontext.engine.trainer - INFO - Batch 110/127, Loss: 17.0926, Time per sample: 21.73µs\n",
      "mmcontext.engine.trainer - INFO - Batch 120/127, Loss: 16.5054, Time per sample: 21.86µs\n",
      "mmcontext.engine.trainer - INFO - Batch 127/127, Loss: 20.4534, Time per sample: 21.59µs\n",
      "mmcontext.engine.trainer - INFO - Training Epoch Complete. Average Loss: 17.1179\n",
      "mmcontext - INFO - mmcontext logging configured using the specified configuration file.\n"
     ]
    },
    {
     "name": "stderr",
     "output_type": "stream",
     "text": [
      "/Users/mengerj/Library/Application Support/hatch/env/virtual/mmcontext/NDS_X2Wf/mmcontext/lib/python3.10/site-packages/pythonjsonlogger/jsonlogger.py:11: DeprecationWarning: pythonjsonlogger.jsonlogger has been moved to pythonjsonlogger.json\n",
      "  warnings.warn(\n"
     ]
    },
    {
     "name": "stdout",
     "output_type": "stream",
     "text": [
      "mmcontext - INFO - mmcontext logging configured using the specified configuration file.\n"
     ]
    },
    {
     "name": "stderr",
     "output_type": "stream",
     "text": [
      "/Users/mengerj/Library/Application Support/hatch/env/virtual/mmcontext/NDS_X2Wf/mmcontext/lib/python3.10/site-packages/pythonjsonlogger/jsonlogger.py:11: DeprecationWarning: pythonjsonlogger.jsonlogger has been moved to pythonjsonlogger.json\n",
      "  warnings.warn(\n"
     ]
    },
    {
     "name": "stdout",
     "output_type": "stream",
     "text": [
      "mmcontext - INFO - mmcontext logging configured using the specified configuration file.\n"
     ]
    },
    {
     "name": "stderr",
     "output_type": "stream",
     "text": [
      "/Users/mengerj/Library/Application Support/hatch/env/virtual/mmcontext/NDS_X2Wf/mmcontext/lib/python3.10/site-packages/pythonjsonlogger/jsonlogger.py:11: DeprecationWarning: pythonjsonlogger.jsonlogger has been moved to pythonjsonlogger.json\n",
      "  warnings.warn(\n",
      "/Users/mengerj/Library/Application Support/hatch/env/virtual/mmcontext/NDS_X2Wf/mmcontext/lib/python3.10/site-packages/pythonjsonlogger/jsonlogger.py:11: DeprecationWarning: pythonjsonlogger.jsonlogger has been moved to pythonjsonlogger.json\n",
      "  warnings.warn(\n"
     ]
    },
    {
     "name": "stdout",
     "output_type": "stream",
     "text": [
      "mmcontext - INFO - mmcontext logging configured using the specified configuration file.\n",
      "mmcontext.engine.trainer - INFO - Validation Complete. Average Loss: 18.9296\n",
      "mmcontext.engine.trainer - INFO - Epoch 17/50 - Train Loss: 17.1179, Val Loss: 18.9296\n",
      "mmcontext.engine.trainer - INFO - Temperature: 0.07\n",
      "mmcontext.engine.trainer - INFO - Starting Epoch 18/50\n"
     ]
    },
    {
     "name": "stderr",
     "output_type": "stream",
     "text": [
      "/Users/mengerj/Library/Application Support/hatch/env/virtual/mmcontext/NDS_X2Wf/mmcontext/lib/python3.10/site-packages/pythonjsonlogger/jsonlogger.py:11: DeprecationWarning: pythonjsonlogger.jsonlogger has been moved to pythonjsonlogger.json\n",
      "  warnings.warn(\n"
     ]
    },
    {
     "name": "stdout",
     "output_type": "stream",
     "text": [
      "mmcontext - INFO - mmcontext logging configured using the specified configuration file.\n"
     ]
    },
    {
     "name": "stderr",
     "output_type": "stream",
     "text": [
      "/Users/mengerj/Library/Application Support/hatch/env/virtual/mmcontext/NDS_X2Wf/mmcontext/lib/python3.10/site-packages/pythonjsonlogger/jsonlogger.py:11: DeprecationWarning: pythonjsonlogger.jsonlogger has been moved to pythonjsonlogger.json\n",
      "  warnings.warn(\n"
     ]
    },
    {
     "name": "stdout",
     "output_type": "stream",
     "text": [
      "mmcontext - INFO - mmcontext logging configured using the specified configuration file.\n"
     ]
    },
    {
     "name": "stderr",
     "output_type": "stream",
     "text": [
      "/Users/mengerj/Library/Application Support/hatch/env/virtual/mmcontext/NDS_X2Wf/mmcontext/lib/python3.10/site-packages/pythonjsonlogger/jsonlogger.py:11: DeprecationWarning: pythonjsonlogger.jsonlogger has been moved to pythonjsonlogger.json\n",
      "  warnings.warn(\n"
     ]
    },
    {
     "name": "stdout",
     "output_type": "stream",
     "text": [
      "mmcontext - INFO - mmcontext logging configured using the specified configuration file.\n"
     ]
    },
    {
     "name": "stderr",
     "output_type": "stream",
     "text": [
      "/Users/mengerj/Library/Application Support/hatch/env/virtual/mmcontext/NDS_X2Wf/mmcontext/lib/python3.10/site-packages/pythonjsonlogger/jsonlogger.py:11: DeprecationWarning: pythonjsonlogger.jsonlogger has been moved to pythonjsonlogger.json\n",
      "  warnings.warn(\n"
     ]
    },
    {
     "name": "stdout",
     "output_type": "stream",
     "text": [
      "mmcontext - INFO - mmcontext logging configured using the specified configuration file.\n",
      "mmcontext.engine.trainer - INFO - Batch 10/127, Loss: 19.3360, Time per sample: 21.35µs\n",
      "mmcontext.engine.trainer - INFO - Batch 20/127, Loss: 15.9215, Time per sample: 21.43µs\n",
      "mmcontext.engine.trainer - INFO - Batch 30/127, Loss: 18.9924, Time per sample: 21.35µs\n",
      "mmcontext.engine.trainer - INFO - Batch 40/127, Loss: 14.4880, Time per sample: 21.54µs\n",
      "mmcontext.engine.trainer - INFO - Batch 50/127, Loss: 12.4839, Time per sample: 21.47µs\n",
      "mmcontext.engine.trainer - INFO - Batch 60/127, Loss: 15.3900, Time per sample: 21.44µs\n",
      "mmcontext.engine.trainer - INFO - Batch 70/127, Loss: 13.6809, Time per sample: 21.69µs\n",
      "mmcontext.engine.trainer - INFO - Batch 80/127, Loss: 14.8176, Time per sample: 21.47µs\n",
      "mmcontext.engine.trainer - INFO - Batch 90/127, Loss: 11.7957, Time per sample: 21.48µs\n",
      "mmcontext.engine.trainer - INFO - Batch 100/127, Loss: 20.0195, Time per sample: 21.41µs\n",
      "mmcontext.engine.trainer - INFO - Batch 110/127, Loss: 17.0920, Time per sample: 21.48µs\n",
      "mmcontext.engine.trainer - INFO - Batch 120/127, Loss: 16.4514, Time per sample: 21.26µs\n",
      "mmcontext.engine.trainer - INFO - Batch 127/127, Loss: 20.3986, Time per sample: 21.66µs\n",
      "mmcontext.engine.trainer - INFO - Training Epoch Complete. Average Loss: 17.0773\n",
      "mmcontext - INFO - mmcontext logging configured using the specified configuration file.\n"
     ]
    },
    {
     "name": "stderr",
     "output_type": "stream",
     "text": [
      "/Users/mengerj/Library/Application Support/hatch/env/virtual/mmcontext/NDS_X2Wf/mmcontext/lib/python3.10/site-packages/pythonjsonlogger/jsonlogger.py:11: DeprecationWarning: pythonjsonlogger.jsonlogger has been moved to pythonjsonlogger.json\n",
      "  warnings.warn(\n"
     ]
    },
    {
     "name": "stdout",
     "output_type": "stream",
     "text": [
      "mmcontext - INFO - mmcontext logging configured using the specified configuration file.\n"
     ]
    },
    {
     "name": "stderr",
     "output_type": "stream",
     "text": [
      "/Users/mengerj/Library/Application Support/hatch/env/virtual/mmcontext/NDS_X2Wf/mmcontext/lib/python3.10/site-packages/pythonjsonlogger/jsonlogger.py:11: DeprecationWarning: pythonjsonlogger.jsonlogger has been moved to pythonjsonlogger.json\n",
      "  warnings.warn(\n"
     ]
    },
    {
     "name": "stdout",
     "output_type": "stream",
     "text": [
      "mmcontext - INFO - mmcontext logging configured using the specified configuration file.\n"
     ]
    },
    {
     "name": "stderr",
     "output_type": "stream",
     "text": [
      "/Users/mengerj/Library/Application Support/hatch/env/virtual/mmcontext/NDS_X2Wf/mmcontext/lib/python3.10/site-packages/pythonjsonlogger/jsonlogger.py:11: DeprecationWarning: pythonjsonlogger.jsonlogger has been moved to pythonjsonlogger.json\n",
      "  warnings.warn(\n",
      "/Users/mengerj/Library/Application Support/hatch/env/virtual/mmcontext/NDS_X2Wf/mmcontext/lib/python3.10/site-packages/pythonjsonlogger/jsonlogger.py:11: DeprecationWarning: pythonjsonlogger.jsonlogger has been moved to pythonjsonlogger.json\n",
      "  warnings.warn(\n"
     ]
    },
    {
     "name": "stdout",
     "output_type": "stream",
     "text": [
      "mmcontext - INFO - mmcontext logging configured using the specified configuration file.\n",
      "mmcontext.engine.trainer - INFO - Validation Complete. Average Loss: 18.9370\n",
      "mmcontext.engine.trainer - INFO - Epoch 18/50 - Train Loss: 17.0773, Val Loss: 18.9370\n",
      "mmcontext.engine.trainer - INFO - Temperature: 0.07\n",
      "mmcontext.engine.trainer - INFO - Starting Epoch 19/50\n"
     ]
    },
    {
     "name": "stderr",
     "output_type": "stream",
     "text": [
      "/Users/mengerj/Library/Application Support/hatch/env/virtual/mmcontext/NDS_X2Wf/mmcontext/lib/python3.10/site-packages/pythonjsonlogger/jsonlogger.py:11: DeprecationWarning: pythonjsonlogger.jsonlogger has been moved to pythonjsonlogger.json\n",
      "  warnings.warn(\n"
     ]
    },
    {
     "name": "stdout",
     "output_type": "stream",
     "text": [
      "mmcontext - INFO - mmcontext logging configured using the specified configuration file.\n"
     ]
    },
    {
     "name": "stderr",
     "output_type": "stream",
     "text": [
      "/Users/mengerj/Library/Application Support/hatch/env/virtual/mmcontext/NDS_X2Wf/mmcontext/lib/python3.10/site-packages/pythonjsonlogger/jsonlogger.py:11: DeprecationWarning: pythonjsonlogger.jsonlogger has been moved to pythonjsonlogger.json\n",
      "  warnings.warn(\n"
     ]
    },
    {
     "name": "stdout",
     "output_type": "stream",
     "text": [
      "mmcontext - INFO - mmcontext logging configured using the specified configuration file.\n"
     ]
    },
    {
     "name": "stderr",
     "output_type": "stream",
     "text": [
      "/Users/mengerj/Library/Application Support/hatch/env/virtual/mmcontext/NDS_X2Wf/mmcontext/lib/python3.10/site-packages/pythonjsonlogger/jsonlogger.py:11: DeprecationWarning: pythonjsonlogger.jsonlogger has been moved to pythonjsonlogger.json\n",
      "  warnings.warn(\n"
     ]
    },
    {
     "name": "stdout",
     "output_type": "stream",
     "text": [
      "mmcontext - INFO - mmcontext logging configured using the specified configuration file.\n"
     ]
    },
    {
     "name": "stderr",
     "output_type": "stream",
     "text": [
      "/Users/mengerj/Library/Application Support/hatch/env/virtual/mmcontext/NDS_X2Wf/mmcontext/lib/python3.10/site-packages/pythonjsonlogger/jsonlogger.py:11: DeprecationWarning: pythonjsonlogger.jsonlogger has been moved to pythonjsonlogger.json\n",
      "  warnings.warn(\n"
     ]
    },
    {
     "name": "stdout",
     "output_type": "stream",
     "text": [
      "mmcontext - INFO - mmcontext logging configured using the specified configuration file.\n",
      "mmcontext.engine.trainer - INFO - Batch 10/127, Loss: 19.2919, Time per sample: 21.32µs\n",
      "mmcontext.engine.trainer - INFO - Batch 20/127, Loss: 15.8681, Time per sample: 21.42µs\n",
      "mmcontext.engine.trainer - INFO - Batch 30/127, Loss: 18.9795, Time per sample: 21.26µs\n",
      "mmcontext.engine.trainer - INFO - Batch 40/127, Loss: 14.4643, Time per sample: 21.29µs\n",
      "mmcontext.engine.trainer - INFO - Batch 50/127, Loss: 12.4540, Time per sample: 21.48µs\n",
      "mmcontext.engine.trainer - INFO - Batch 60/127, Loss: 15.3709, Time per sample: 21.36µs\n",
      "mmcontext.engine.trainer - INFO - Batch 70/127, Loss: 13.6765, Time per sample: 21.81µs\n",
      "mmcontext.engine.trainer - INFO - Batch 80/127, Loss: 14.7879, Time per sample: 21.80µs\n",
      "mmcontext.engine.trainer - INFO - Batch 90/127, Loss: 11.7831, Time per sample: 21.73µs\n",
      "mmcontext.engine.trainer - INFO - Batch 100/127, Loss: 20.0057, Time per sample: 21.73µs\n",
      "mmcontext.engine.trainer - INFO - Batch 110/127, Loss: 17.0777, Time per sample: 21.82µs\n",
      "mmcontext.engine.trainer - INFO - Batch 120/127, Loss: 16.4089, Time per sample: 21.69µs\n",
      "mmcontext.engine.trainer - INFO - Batch 127/127, Loss: 20.3687, Time per sample: 21.86µs\n",
      "mmcontext.engine.trainer - INFO - Training Epoch Complete. Average Loss: 17.0474\n",
      "mmcontext - INFO - mmcontext logging configured using the specified configuration file.\n"
     ]
    },
    {
     "name": "stderr",
     "output_type": "stream",
     "text": [
      "/Users/mengerj/Library/Application Support/hatch/env/virtual/mmcontext/NDS_X2Wf/mmcontext/lib/python3.10/site-packages/pythonjsonlogger/jsonlogger.py:11: DeprecationWarning: pythonjsonlogger.jsonlogger has been moved to pythonjsonlogger.json\n",
      "  warnings.warn(\n"
     ]
    },
    {
     "name": "stdout",
     "output_type": "stream",
     "text": [
      "mmcontext - INFO - mmcontext logging configured using the specified configuration file.\n"
     ]
    },
    {
     "name": "stderr",
     "output_type": "stream",
     "text": [
      "/Users/mengerj/Library/Application Support/hatch/env/virtual/mmcontext/NDS_X2Wf/mmcontext/lib/python3.10/site-packages/pythonjsonlogger/jsonlogger.py:11: DeprecationWarning: pythonjsonlogger.jsonlogger has been moved to pythonjsonlogger.json\n",
      "  warnings.warn(\n"
     ]
    },
    {
     "name": "stdout",
     "output_type": "stream",
     "text": [
      "mmcontext - INFO - mmcontext logging configured using the specified configuration file.\n"
     ]
    },
    {
     "name": "stderr",
     "output_type": "stream",
     "text": [
      "/Users/mengerj/Library/Application Support/hatch/env/virtual/mmcontext/NDS_X2Wf/mmcontext/lib/python3.10/site-packages/pythonjsonlogger/jsonlogger.py:11: DeprecationWarning: pythonjsonlogger.jsonlogger has been moved to pythonjsonlogger.json\n",
      "  warnings.warn(\n",
      "/Users/mengerj/Library/Application Support/hatch/env/virtual/mmcontext/NDS_X2Wf/mmcontext/lib/python3.10/site-packages/pythonjsonlogger/jsonlogger.py:11: DeprecationWarning: pythonjsonlogger.jsonlogger has been moved to pythonjsonlogger.json\n",
      "  warnings.warn(\n"
     ]
    },
    {
     "name": "stdout",
     "output_type": "stream",
     "text": [
      "mmcontext - INFO - mmcontext logging configured using the specified configuration file.\n",
      "mmcontext.engine.trainer - INFO - Validation Complete. Average Loss: 18.9509\n",
      "mmcontext.engine.trainer - INFO - Epoch 19/50 - Train Loss: 17.0474, Val Loss: 18.9509\n",
      "mmcontext.engine.trainer - INFO - Temperature: 0.07\n",
      "mmcontext.engine.trainer - INFO - Starting Epoch 20/50\n"
     ]
    },
    {
     "name": "stderr",
     "output_type": "stream",
     "text": [
      "/Users/mengerj/Library/Application Support/hatch/env/virtual/mmcontext/NDS_X2Wf/mmcontext/lib/python3.10/site-packages/pythonjsonlogger/jsonlogger.py:11: DeprecationWarning: pythonjsonlogger.jsonlogger has been moved to pythonjsonlogger.json\n",
      "  warnings.warn(\n"
     ]
    },
    {
     "name": "stdout",
     "output_type": "stream",
     "text": [
      "mmcontext - INFO - mmcontext logging configured using the specified configuration file.\n"
     ]
    },
    {
     "name": "stderr",
     "output_type": "stream",
     "text": [
      "/Users/mengerj/Library/Application Support/hatch/env/virtual/mmcontext/NDS_X2Wf/mmcontext/lib/python3.10/site-packages/pythonjsonlogger/jsonlogger.py:11: DeprecationWarning: pythonjsonlogger.jsonlogger has been moved to pythonjsonlogger.json\n",
      "  warnings.warn(\n"
     ]
    },
    {
     "name": "stdout",
     "output_type": "stream",
     "text": [
      "mmcontext - INFO - mmcontext logging configured using the specified configuration file.\n"
     ]
    },
    {
     "name": "stderr",
     "output_type": "stream",
     "text": [
      "/Users/mengerj/Library/Application Support/hatch/env/virtual/mmcontext/NDS_X2Wf/mmcontext/lib/python3.10/site-packages/pythonjsonlogger/jsonlogger.py:11: DeprecationWarning: pythonjsonlogger.jsonlogger has been moved to pythonjsonlogger.json\n",
      "  warnings.warn(\n"
     ]
    },
    {
     "name": "stdout",
     "output_type": "stream",
     "text": [
      "mmcontext - INFO - mmcontext logging configured using the specified configuration file.\n"
     ]
    },
    {
     "name": "stderr",
     "output_type": "stream",
     "text": [
      "/Users/mengerj/Library/Application Support/hatch/env/virtual/mmcontext/NDS_X2Wf/mmcontext/lib/python3.10/site-packages/pythonjsonlogger/jsonlogger.py:11: DeprecationWarning: pythonjsonlogger.jsonlogger has been moved to pythonjsonlogger.json\n",
      "  warnings.warn(\n"
     ]
    },
    {
     "name": "stdout",
     "output_type": "stream",
     "text": [
      "mmcontext - INFO - mmcontext logging configured using the specified configuration file.\n",
      "mmcontext.engine.trainer - INFO - Batch 10/127, Loss: 19.2587, Time per sample: 21.43µs\n",
      "mmcontext.engine.trainer - INFO - Batch 20/127, Loss: 15.8254, Time per sample: 21.63µs\n",
      "mmcontext.engine.trainer - INFO - Batch 30/127, Loss: 18.9374, Time per sample: 21.47µs\n",
      "mmcontext.engine.trainer - INFO - Batch 40/127, Loss: 14.4491, Time per sample: 21.51µs\n",
      "mmcontext.engine.trainer - INFO - Batch 50/127, Loss: 12.4271, Time per sample: 21.82µs\n",
      "mmcontext.engine.trainer - INFO - Batch 60/127, Loss: 15.3415, Time per sample: 21.42µs\n",
      "mmcontext.engine.trainer - INFO - Batch 70/127, Loss: 13.6804, Time per sample: 21.39µs\n",
      "mmcontext.engine.trainer - INFO - Batch 80/127, Loss: 14.7850, Time per sample: 21.59µs\n",
      "mmcontext.engine.trainer - INFO - Batch 90/127, Loss: 11.7830, Time per sample: 21.43µs\n",
      "mmcontext.engine.trainer - INFO - Batch 100/127, Loss: 19.9976, Time per sample: 21.67µs\n",
      "mmcontext.engine.trainer - INFO - Batch 110/127, Loss: 17.0754, Time per sample: 21.56µs\n",
      "mmcontext.engine.trainer - INFO - Batch 120/127, Loss: 16.3730, Time per sample: 21.43µs\n",
      "mmcontext.engine.trainer - INFO - Batch 127/127, Loss: 20.3220, Time per sample: 21.71µs\n",
      "mmcontext.engine.trainer - INFO - Training Epoch Complete. Average Loss: 17.0129\n",
      "mmcontext - INFO - mmcontext logging configured using the specified configuration file.\n"
     ]
    },
    {
     "name": "stderr",
     "output_type": "stream",
     "text": [
      "/Users/mengerj/Library/Application Support/hatch/env/virtual/mmcontext/NDS_X2Wf/mmcontext/lib/python3.10/site-packages/pythonjsonlogger/jsonlogger.py:11: DeprecationWarning: pythonjsonlogger.jsonlogger has been moved to pythonjsonlogger.json\n",
      "  warnings.warn(\n"
     ]
    },
    {
     "name": "stdout",
     "output_type": "stream",
     "text": [
      "mmcontext - INFO - mmcontext logging configured using the specified configuration file.\n"
     ]
    },
    {
     "name": "stderr",
     "output_type": "stream",
     "text": [
      "/Users/mengerj/Library/Application Support/hatch/env/virtual/mmcontext/NDS_X2Wf/mmcontext/lib/python3.10/site-packages/pythonjsonlogger/jsonlogger.py:11: DeprecationWarning: pythonjsonlogger.jsonlogger has been moved to pythonjsonlogger.json\n",
      "  warnings.warn(\n"
     ]
    },
    {
     "name": "stdout",
     "output_type": "stream",
     "text": [
      "mmcontext - INFO - mmcontext logging configured using the specified configuration file.\n"
     ]
    },
    {
     "name": "stderr",
     "output_type": "stream",
     "text": [
      "/Users/mengerj/Library/Application Support/hatch/env/virtual/mmcontext/NDS_X2Wf/mmcontext/lib/python3.10/site-packages/pythonjsonlogger/jsonlogger.py:11: DeprecationWarning: pythonjsonlogger.jsonlogger has been moved to pythonjsonlogger.json\n",
      "  warnings.warn(\n",
      "/Users/mengerj/Library/Application Support/hatch/env/virtual/mmcontext/NDS_X2Wf/mmcontext/lib/python3.10/site-packages/pythonjsonlogger/jsonlogger.py:11: DeprecationWarning: pythonjsonlogger.jsonlogger has been moved to pythonjsonlogger.json\n",
      "  warnings.warn(\n"
     ]
    },
    {
     "name": "stdout",
     "output_type": "stream",
     "text": [
      "mmcontext - INFO - mmcontext logging configured using the specified configuration file.\n",
      "mmcontext.engine.trainer - INFO - Validation Complete. Average Loss: 18.9562\n",
      "mmcontext.engine.trainer - INFO - Epoch 20/50 - Train Loss: 17.0129, Val Loss: 18.9562\n",
      "mmcontext.engine.trainer - INFO - Temperature: 0.07\n",
      "mmcontext.engine.trainer - INFO - Starting Epoch 21/50\n"
     ]
    },
    {
     "name": "stderr",
     "output_type": "stream",
     "text": [
      "/Users/mengerj/Library/Application Support/hatch/env/virtual/mmcontext/NDS_X2Wf/mmcontext/lib/python3.10/site-packages/pythonjsonlogger/jsonlogger.py:11: DeprecationWarning: pythonjsonlogger.jsonlogger has been moved to pythonjsonlogger.json\n",
      "  warnings.warn(\n"
     ]
    },
    {
     "name": "stdout",
     "output_type": "stream",
     "text": [
      "mmcontext - INFO - mmcontext logging configured using the specified configuration file.\n"
     ]
    },
    {
     "name": "stderr",
     "output_type": "stream",
     "text": [
      "/Users/mengerj/Library/Application Support/hatch/env/virtual/mmcontext/NDS_X2Wf/mmcontext/lib/python3.10/site-packages/pythonjsonlogger/jsonlogger.py:11: DeprecationWarning: pythonjsonlogger.jsonlogger has been moved to pythonjsonlogger.json\n",
      "  warnings.warn(\n"
     ]
    },
    {
     "name": "stdout",
     "output_type": "stream",
     "text": [
      "mmcontext - INFO - mmcontext logging configured using the specified configuration file.\n"
     ]
    },
    {
     "name": "stderr",
     "output_type": "stream",
     "text": [
      "/Users/mengerj/Library/Application Support/hatch/env/virtual/mmcontext/NDS_X2Wf/mmcontext/lib/python3.10/site-packages/pythonjsonlogger/jsonlogger.py:11: DeprecationWarning: pythonjsonlogger.jsonlogger has been moved to pythonjsonlogger.json\n",
      "  warnings.warn(\n"
     ]
    },
    {
     "name": "stdout",
     "output_type": "stream",
     "text": [
      "mmcontext - INFO - mmcontext logging configured using the specified configuration file.\n"
     ]
    },
    {
     "name": "stderr",
     "output_type": "stream",
     "text": [
      "/Users/mengerj/Library/Application Support/hatch/env/virtual/mmcontext/NDS_X2Wf/mmcontext/lib/python3.10/site-packages/pythonjsonlogger/jsonlogger.py:11: DeprecationWarning: pythonjsonlogger.jsonlogger has been moved to pythonjsonlogger.json\n",
      "  warnings.warn(\n"
     ]
    },
    {
     "name": "stdout",
     "output_type": "stream",
     "text": [
      "mmcontext - INFO - mmcontext logging configured using the specified configuration file.\n",
      "mmcontext.engine.trainer - INFO - Batch 10/127, Loss: 19.2263, Time per sample: 21.38µs\n",
      "mmcontext.engine.trainer - INFO - Batch 20/127, Loss: 15.7872, Time per sample: 21.48µs\n",
      "mmcontext.engine.trainer - INFO - Batch 30/127, Loss: 18.9291, Time per sample: 21.52µs\n",
      "mmcontext.engine.trainer - INFO - Batch 40/127, Loss: 14.4446, Time per sample: 21.56µs\n",
      "mmcontext.engine.trainer - INFO - Batch 50/127, Loss: 12.3996, Time per sample: 21.67µs\n",
      "mmcontext.engine.trainer - INFO - Batch 60/127, Loss: 15.3294, Time per sample: 21.54µs\n",
      "mmcontext.engine.trainer - INFO - Batch 70/127, Loss: 13.6663, Time per sample: 21.66µs\n",
      "mmcontext.engine.trainer - INFO - Batch 80/127, Loss: 14.7661, Time per sample: 21.68µs\n",
      "mmcontext.engine.trainer - INFO - Batch 90/127, Loss: 11.7768, Time per sample: 21.72µs\n",
      "mmcontext.engine.trainer - INFO - Batch 100/127, Loss: 19.9868, Time per sample: 21.39µs\n",
      "mmcontext.engine.trainer - INFO - Batch 110/127, Loss: 17.0689, Time per sample: 21.72µs\n",
      "mmcontext.engine.trainer - INFO - Batch 120/127, Loss: 16.3398, Time per sample: 21.43µs\n",
      "mmcontext.engine.trainer - INFO - Batch 127/127, Loss: 20.2927, Time per sample: 21.90µs\n",
      "mmcontext.engine.trainer - INFO - Training Epoch Complete. Average Loss: 16.9887\n",
      "mmcontext - INFO - mmcontext logging configured using the specified configuration file.\n"
     ]
    },
    {
     "name": "stderr",
     "output_type": "stream",
     "text": [
      "/Users/mengerj/Library/Application Support/hatch/env/virtual/mmcontext/NDS_X2Wf/mmcontext/lib/python3.10/site-packages/pythonjsonlogger/jsonlogger.py:11: DeprecationWarning: pythonjsonlogger.jsonlogger has been moved to pythonjsonlogger.json\n",
      "  warnings.warn(\n"
     ]
    },
    {
     "name": "stdout",
     "output_type": "stream",
     "text": [
      "mmcontext - INFO - mmcontext logging configured using the specified configuration file.\n"
     ]
    },
    {
     "name": "stderr",
     "output_type": "stream",
     "text": [
      "/Users/mengerj/Library/Application Support/hatch/env/virtual/mmcontext/NDS_X2Wf/mmcontext/lib/python3.10/site-packages/pythonjsonlogger/jsonlogger.py:11: DeprecationWarning: pythonjsonlogger.jsonlogger has been moved to pythonjsonlogger.json\n",
      "  warnings.warn(\n"
     ]
    },
    {
     "name": "stdout",
     "output_type": "stream",
     "text": [
      "mmcontext - INFO - mmcontext logging configured using the specified configuration file.\n"
     ]
    },
    {
     "name": "stderr",
     "output_type": "stream",
     "text": [
      "/Users/mengerj/Library/Application Support/hatch/env/virtual/mmcontext/NDS_X2Wf/mmcontext/lib/python3.10/site-packages/pythonjsonlogger/jsonlogger.py:11: DeprecationWarning: pythonjsonlogger.jsonlogger has been moved to pythonjsonlogger.json\n",
      "  warnings.warn(\n",
      "/Users/mengerj/Library/Application Support/hatch/env/virtual/mmcontext/NDS_X2Wf/mmcontext/lib/python3.10/site-packages/pythonjsonlogger/jsonlogger.py:11: DeprecationWarning: pythonjsonlogger.jsonlogger has been moved to pythonjsonlogger.json\n",
      "  warnings.warn(\n"
     ]
    },
    {
     "name": "stdout",
     "output_type": "stream",
     "text": [
      "mmcontext - INFO - mmcontext logging configured using the specified configuration file.\n",
      "mmcontext.engine.trainer - INFO - Validation Complete. Average Loss: 18.9736\n",
      "mmcontext.engine.trainer - INFO - Epoch 21/50 - Train Loss: 16.9887, Val Loss: 18.9736\n",
      "mmcontext.engine.trainer - INFO - Temperature: 0.07\n",
      "mmcontext.engine.trainer - INFO - Starting Epoch 22/50\n"
     ]
    },
    {
     "name": "stderr",
     "output_type": "stream",
     "text": [
      "/Users/mengerj/Library/Application Support/hatch/env/virtual/mmcontext/NDS_X2Wf/mmcontext/lib/python3.10/site-packages/pythonjsonlogger/jsonlogger.py:11: DeprecationWarning: pythonjsonlogger.jsonlogger has been moved to pythonjsonlogger.json\n",
      "  warnings.warn(\n"
     ]
    },
    {
     "name": "stdout",
     "output_type": "stream",
     "text": [
      "mmcontext - INFO - mmcontext logging configured using the specified configuration file.\n"
     ]
    },
    {
     "name": "stderr",
     "output_type": "stream",
     "text": [
      "/Users/mengerj/Library/Application Support/hatch/env/virtual/mmcontext/NDS_X2Wf/mmcontext/lib/python3.10/site-packages/pythonjsonlogger/jsonlogger.py:11: DeprecationWarning: pythonjsonlogger.jsonlogger has been moved to pythonjsonlogger.json\n",
      "  warnings.warn(\n"
     ]
    },
    {
     "name": "stdout",
     "output_type": "stream",
     "text": [
      "mmcontext - INFO - mmcontext logging configured using the specified configuration file.\n"
     ]
    },
    {
     "name": "stderr",
     "output_type": "stream",
     "text": [
      "/Users/mengerj/Library/Application Support/hatch/env/virtual/mmcontext/NDS_X2Wf/mmcontext/lib/python3.10/site-packages/pythonjsonlogger/jsonlogger.py:11: DeprecationWarning: pythonjsonlogger.jsonlogger has been moved to pythonjsonlogger.json\n",
      "  warnings.warn(\n"
     ]
    },
    {
     "name": "stdout",
     "output_type": "stream",
     "text": [
      "mmcontext - INFO - mmcontext logging configured using the specified configuration file.\n"
     ]
    },
    {
     "name": "stderr",
     "output_type": "stream",
     "text": [
      "/Users/mengerj/Library/Application Support/hatch/env/virtual/mmcontext/NDS_X2Wf/mmcontext/lib/python3.10/site-packages/pythonjsonlogger/jsonlogger.py:11: DeprecationWarning: pythonjsonlogger.jsonlogger has been moved to pythonjsonlogger.json\n",
      "  warnings.warn(\n"
     ]
    },
    {
     "name": "stdout",
     "output_type": "stream",
     "text": [
      "mmcontext - INFO - mmcontext logging configured using the specified configuration file.\n",
      "mmcontext.engine.trainer - INFO - Batch 10/127, Loss: 19.2028, Time per sample: 21.39µs\n",
      "mmcontext.engine.trainer - INFO - Batch 20/127, Loss: 15.7658, Time per sample: 21.61µs\n",
      "mmcontext.engine.trainer - INFO - Batch 30/127, Loss: 18.8989, Time per sample: 21.44µs\n",
      "mmcontext.engine.trainer - INFO - Batch 40/127, Loss: 14.4194, Time per sample: 21.49µs\n",
      "mmcontext.engine.trainer - INFO - Batch 50/127, Loss: 12.3799, Time per sample: 21.52µs\n",
      "mmcontext.engine.trainer - INFO - Batch 60/127, Loss: 15.3099, Time per sample: 21.65µs\n",
      "mmcontext.engine.trainer - INFO - Batch 70/127, Loss: 13.6680, Time per sample: 21.54µs\n",
      "mmcontext.engine.trainer - INFO - Batch 80/127, Loss: 14.7551, Time per sample: 21.72µs\n",
      "mmcontext.engine.trainer - INFO - Batch 90/127, Loss: 11.7720, Time per sample: 21.66µs\n",
      "mmcontext.engine.trainer - INFO - Batch 100/127, Loss: 19.9807, Time per sample: 21.68µs\n",
      "mmcontext.engine.trainer - INFO - Batch 110/127, Loss: 17.0688, Time per sample: 21.63µs\n",
      "mmcontext.engine.trainer - INFO - Batch 120/127, Loss: 16.3163, Time per sample: 21.60µs\n",
      "mmcontext.engine.trainer - INFO - Batch 127/127, Loss: 20.2641, Time per sample: 21.48µs\n",
      "mmcontext.engine.trainer - INFO - Training Epoch Complete. Average Loss: 16.9645\n",
      "mmcontext - INFO - mmcontext logging configured using the specified configuration file.\n"
     ]
    },
    {
     "name": "stderr",
     "output_type": "stream",
     "text": [
      "/Users/mengerj/Library/Application Support/hatch/env/virtual/mmcontext/NDS_X2Wf/mmcontext/lib/python3.10/site-packages/pythonjsonlogger/jsonlogger.py:11: DeprecationWarning: pythonjsonlogger.jsonlogger has been moved to pythonjsonlogger.json\n",
      "  warnings.warn(\n"
     ]
    },
    {
     "name": "stdout",
     "output_type": "stream",
     "text": [
      "mmcontext - INFO - mmcontext logging configured using the specified configuration file.\n"
     ]
    },
    {
     "name": "stderr",
     "output_type": "stream",
     "text": [
      "/Users/mengerj/Library/Application Support/hatch/env/virtual/mmcontext/NDS_X2Wf/mmcontext/lib/python3.10/site-packages/pythonjsonlogger/jsonlogger.py:11: DeprecationWarning: pythonjsonlogger.jsonlogger has been moved to pythonjsonlogger.json\n",
      "  warnings.warn(\n"
     ]
    },
    {
     "name": "stdout",
     "output_type": "stream",
     "text": [
      "mmcontext - INFO - mmcontext logging configured using the specified configuration file.\n"
     ]
    },
    {
     "name": "stderr",
     "output_type": "stream",
     "text": [
      "/Users/mengerj/Library/Application Support/hatch/env/virtual/mmcontext/NDS_X2Wf/mmcontext/lib/python3.10/site-packages/pythonjsonlogger/jsonlogger.py:11: DeprecationWarning: pythonjsonlogger.jsonlogger has been moved to pythonjsonlogger.json\n",
      "  warnings.warn(\n",
      "/Users/mengerj/Library/Application Support/hatch/env/virtual/mmcontext/NDS_X2Wf/mmcontext/lib/python3.10/site-packages/pythonjsonlogger/jsonlogger.py:11: DeprecationWarning: pythonjsonlogger.jsonlogger has been moved to pythonjsonlogger.json\n",
      "  warnings.warn(\n"
     ]
    },
    {
     "name": "stdout",
     "output_type": "stream",
     "text": [
      "mmcontext - INFO - mmcontext logging configured using the specified configuration file.\n",
      "mmcontext.engine.trainer - INFO - Validation Complete. Average Loss: 18.9847\n",
      "mmcontext.engine.trainer - INFO - Epoch 22/50 - Train Loss: 16.9645, Val Loss: 18.9847\n",
      "mmcontext.engine.trainer - INFO - Temperature: 0.07\n",
      "mmcontext.engine.trainer - INFO - Starting Epoch 23/50\n"
     ]
    },
    {
     "name": "stderr",
     "output_type": "stream",
     "text": [
      "/Users/mengerj/Library/Application Support/hatch/env/virtual/mmcontext/NDS_X2Wf/mmcontext/lib/python3.10/site-packages/pythonjsonlogger/jsonlogger.py:11: DeprecationWarning: pythonjsonlogger.jsonlogger has been moved to pythonjsonlogger.json\n",
      "  warnings.warn(\n"
     ]
    },
    {
     "name": "stdout",
     "output_type": "stream",
     "text": [
      "mmcontext - INFO - mmcontext logging configured using the specified configuration file.\n"
     ]
    },
    {
     "name": "stderr",
     "output_type": "stream",
     "text": [
      "/Users/mengerj/Library/Application Support/hatch/env/virtual/mmcontext/NDS_X2Wf/mmcontext/lib/python3.10/site-packages/pythonjsonlogger/jsonlogger.py:11: DeprecationWarning: pythonjsonlogger.jsonlogger has been moved to pythonjsonlogger.json\n",
      "  warnings.warn(\n"
     ]
    },
    {
     "name": "stdout",
     "output_type": "stream",
     "text": [
      "mmcontext - INFO - mmcontext logging configured using the specified configuration file.\n"
     ]
    },
    {
     "name": "stderr",
     "output_type": "stream",
     "text": [
      "/Users/mengerj/Library/Application Support/hatch/env/virtual/mmcontext/NDS_X2Wf/mmcontext/lib/python3.10/site-packages/pythonjsonlogger/jsonlogger.py:11: DeprecationWarning: pythonjsonlogger.jsonlogger has been moved to pythonjsonlogger.json\n",
      "  warnings.warn(\n"
     ]
    },
    {
     "name": "stdout",
     "output_type": "stream",
     "text": [
      "mmcontext - INFO - mmcontext logging configured using the specified configuration file.\n"
     ]
    },
    {
     "name": "stderr",
     "output_type": "stream",
     "text": [
      "/Users/mengerj/Library/Application Support/hatch/env/virtual/mmcontext/NDS_X2Wf/mmcontext/lib/python3.10/site-packages/pythonjsonlogger/jsonlogger.py:11: DeprecationWarning: pythonjsonlogger.jsonlogger has been moved to pythonjsonlogger.json\n",
      "  warnings.warn(\n"
     ]
    },
    {
     "name": "stdout",
     "output_type": "stream",
     "text": [
      "mmcontext - INFO - mmcontext logging configured using the specified configuration file.\n",
      "mmcontext.engine.trainer - INFO - Batch 10/127, Loss: 19.1802, Time per sample: 21.42µs\n",
      "mmcontext.engine.trainer - INFO - Batch 20/127, Loss: 15.7367, Time per sample: 21.65µs\n",
      "mmcontext.engine.trainer - INFO - Batch 30/127, Loss: 18.8736, Time per sample: 21.53µs\n",
      "mmcontext.engine.trainer - INFO - Batch 40/127, Loss: 14.4154, Time per sample: 21.61µs\n",
      "mmcontext.engine.trainer - INFO - Batch 50/127, Loss: 12.3619, Time per sample: 21.48µs\n",
      "mmcontext.engine.trainer - INFO - Batch 60/127, Loss: 15.2976, Time per sample: 21.43µs\n",
      "mmcontext.engine.trainer - INFO - Batch 70/127, Loss: 13.6638, Time per sample: 21.42µs\n",
      "mmcontext.engine.trainer - INFO - Batch 80/127, Loss: 14.7535, Time per sample: 21.39µs\n",
      "mmcontext.engine.trainer - INFO - Batch 90/127, Loss: 11.7725, Time per sample: 21.67µs\n",
      "mmcontext.engine.trainer - INFO - Batch 100/127, Loss: 19.9688, Time per sample: 21.55µs\n",
      "mmcontext.engine.trainer - INFO - Batch 110/127, Loss: 17.0646, Time per sample: 21.47µs\n",
      "mmcontext.engine.trainer - INFO - Batch 120/127, Loss: 16.2858, Time per sample: 21.92µs\n",
      "mmcontext.engine.trainer - INFO - Batch 127/127, Loss: 20.2354, Time per sample: 21.55µs\n",
      "mmcontext.engine.trainer - INFO - Training Epoch Complete. Average Loss: 16.9420\n",
      "mmcontext - INFO - mmcontext logging configured using the specified configuration file.\n"
     ]
    },
    {
     "name": "stderr",
     "output_type": "stream",
     "text": [
      "/Users/mengerj/Library/Application Support/hatch/env/virtual/mmcontext/NDS_X2Wf/mmcontext/lib/python3.10/site-packages/pythonjsonlogger/jsonlogger.py:11: DeprecationWarning: pythonjsonlogger.jsonlogger has been moved to pythonjsonlogger.json\n",
      "  warnings.warn(\n"
     ]
    },
    {
     "name": "stdout",
     "output_type": "stream",
     "text": [
      "mmcontext - INFO - mmcontext logging configured using the specified configuration file.\n"
     ]
    },
    {
     "name": "stderr",
     "output_type": "stream",
     "text": [
      "/Users/mengerj/Library/Application Support/hatch/env/virtual/mmcontext/NDS_X2Wf/mmcontext/lib/python3.10/site-packages/pythonjsonlogger/jsonlogger.py:11: DeprecationWarning: pythonjsonlogger.jsonlogger has been moved to pythonjsonlogger.json\n",
      "  warnings.warn(\n"
     ]
    },
    {
     "name": "stdout",
     "output_type": "stream",
     "text": [
      "mmcontext - INFO - mmcontext logging configured using the specified configuration file.\n"
     ]
    },
    {
     "name": "stderr",
     "output_type": "stream",
     "text": [
      "/Users/mengerj/Library/Application Support/hatch/env/virtual/mmcontext/NDS_X2Wf/mmcontext/lib/python3.10/site-packages/pythonjsonlogger/jsonlogger.py:11: DeprecationWarning: pythonjsonlogger.jsonlogger has been moved to pythonjsonlogger.json\n",
      "  warnings.warn(\n",
      "/Users/mengerj/Library/Application Support/hatch/env/virtual/mmcontext/NDS_X2Wf/mmcontext/lib/python3.10/site-packages/pythonjsonlogger/jsonlogger.py:11: DeprecationWarning: pythonjsonlogger.jsonlogger has been moved to pythonjsonlogger.json\n",
      "  warnings.warn(\n"
     ]
    },
    {
     "name": "stdout",
     "output_type": "stream",
     "text": [
      "mmcontext - INFO - mmcontext logging configured using the specified configuration file.\n",
      "mmcontext.engine.trainer - INFO - Validation Complete. Average Loss: 18.9781\n",
      "mmcontext.engine.trainer - INFO - Epoch 23/50 - Train Loss: 16.9420, Val Loss: 18.9781\n",
      "mmcontext.engine.trainer - INFO - Validation loss has not improved for 10 epochs. Stopping training.\n"
     ]
    }
   ],
   "source": [
    "from mmcontext.eval.system_usage import SystemMonitor\n",
    "\n",
    "monitor = SystemMonitor(interval=0.1)\n",
    "monitor.start()\n",
    "\n",
    "res = trainer.fit(train_loader, val_loader, epochs=50, save=True)\n",
    "\n",
    "monitor.stop()"
   ]
  },
  {
   "cell_type": "code",
   "execution_count": 17,
   "metadata": {},
   "outputs": [
    {
     "name": "stdout",
     "output_type": "stream",
     "text": [
      "\n",
      "System Resource Usage Summary:\n",
      "Core Utilization (mean/max % per core): 80.06/83.75% on 16 cores\n",
      "Memory Usage (mean/max GB): 0.94/1.01 GB\n",
      "Total System Memory: 128.00 GB\n",
      "Baseline Memory Usage: 34.68 GB\n",
      "Disk Read Rate (mean/max MB/s): 0.02/0.19 MB/s\n",
      "Disk Write Rate (mean/max MB/s): 3.11/15.54 MB/s\n",
      "No supported GPU detected.\n",
      "Number of Threads (mean/max): 42.00/42\n"
     ]
    }
   ],
   "source": [
    "monitor.print_summary()"
   ]
  },
  {
   "cell_type": "code",
   "execution_count": 47,
   "metadata": {},
   "outputs": [
    {
     "ename": "ValueError",
     "evalue": "not enough values to unpack (expected 2, got 0)",
     "output_type": "error",
     "traceback": [
      "\u001b[0;31m---------------------------------------------------------------------------\u001b[0m",
      "\u001b[0;31mValueError\u001b[0m                                Traceback (most recent call last)",
      "Cell \u001b[0;32mIn[47], line 1\u001b[0m\n\u001b[0;32m----> 1\u001b[0m \u001b[43mmonitor\u001b[49m\u001b[38;5;241;43m.\u001b[39;49m\u001b[43mplot_metrics\u001b[49m\u001b[43m(\u001b[49m\u001b[43m)\u001b[49m\n",
      "File \u001b[0;32m~/repos/mmcontext/src/mmcontext/eval/system_usage.py:276\u001b[0m, in \u001b[0;36mSystemMonitor.plot_metrics\u001b[0;34m(self, save_dir)\u001b[0m\n\u001b[1;32m    273\u001b[0m     \u001b[38;5;28;01mreturn\u001b[39;00m tick_positions, tick_labels\n\u001b[1;32m    275\u001b[0m \u001b[38;5;66;03m# CPU Usage Plot\u001b[39;00m\n\u001b[0;32m--> 276\u001b[0m timestamps, cpu_usages \u001b[38;5;241m=\u001b[39m \u001b[38;5;28mzip\u001b[39m(\u001b[38;5;241m*\u001b[39m\u001b[38;5;28mself\u001b[39m\u001b[38;5;241m.\u001b[39mcpu_per_core, strict\u001b[38;5;241m=\u001b[39m\u001b[38;5;28;01mFalse\u001b[39;00m)\n\u001b[1;32m    277\u001b[0m tick_positions, tick_labels \u001b[38;5;241m=\u001b[39m format_time_ticks(timestamps)\n\u001b[1;32m    278\u001b[0m plt\u001b[38;5;241m.\u001b[39mfigure()\n",
      "\u001b[0;31mValueError\u001b[0m: not enough values to unpack (expected 2, got 0)"
     ]
    }
   ],
   "source": [
    "monitor.plot_metrics()"
   ]
  },
  {
   "cell_type": "code",
   "execution_count": 49,
   "metadata": {},
   "outputs": [
    {
     "name": "stdout",
     "output_type": "stream",
     "text": [
      "mmcontext.engine.models - INFO - Loading model state dictionary from best_encoder_weights/best_context_encoder_weights.pth\n",
      "mmcontext.engine.models - INFO - Loading model state dictionary from best_decoder_weights/best_decoder_weights.pth\n",
      "mmcontext.engine.trainer - INFO - Running on device: cpu\n"
     ]
    }
   ],
   "source": [
    "# The fitted model can be used to create universial embeddings\n",
    "encoder.load(file_path=\"best_encoder_weights/best_context_encoder_weights.pth\")\n",
    "decoder.load(file_path=\"best_decoder_weights/best_decoder_weights.pth\")\n",
    "trainer = Trainer(\n",
    "    encoders={\"context_encoder\": encoder},\n",
    "    decoder=decoder,\n",
    "    encoder_inputs={\n",
    "        \"context_encoder\": {\"in_main\": \"c_emb\"},\n",
    "    },\n",
    "    device=torch.device(\"cpu\"),\n",
    ")\n",
    "trainer.infer_adata(\n",
    "    test_adata,\n",
    "    sample_id_key=\"soma_joinid\",\n",
    "    seq_length=seq_length,\n",
    "    batch_size=batch_size,\n",
    "    chunk_size=seq_length * batch_size,\n",
    "    output_zarr_path=\"inferred_adata.zarr\",\n",
    "    n_recon=2,\n",
    ")"
   ]
  },
  {
   "cell_type": "code",
   "execution_count": 50,
   "metadata": {},
   "outputs": [],
   "source": [
    "inferred_adata = anndata.read_zarr(\"inferred_adata.zarr\")"
   ]
  },
  {
   "cell_type": "code",
   "execution_count": 161,
   "metadata": {},
   "outputs": [
    {
     "data": {
      "text/plain": [
       "array([[0.       , 3.637586 , 0.       , ..., 0.       , 0.       ,\n",
       "        0.       ],\n",
       "       [0.       , 2.8903718, 0.       , ..., 0.       , 0.       ,\n",
       "        0.       ],\n",
       "       [0.       , 3.3672957, 0.       , ..., 0.       , 0.       ,\n",
       "        0.       ],\n",
       "       ...,\n",
       "       [0.       , 0.       , 0.       , ..., 0.       , 0.       ,\n",
       "        0.       ],\n",
       "       [0.       , 1.7917595, 0.6931472, ..., 0.       , 0.       ,\n",
       "        0.       ],\n",
       "       [0.       , 1.0986123, 0.       , ..., 0.       , 0.       ,\n",
       "        0.       ]], dtype=float32)"
      ]
     },
     "execution_count": 161,
     "metadata": {},
     "output_type": "execute_result"
    }
   ],
   "source": [
    "inferred_adata.X.toarray()"
   ]
  },
  {
   "cell_type": "markdown",
   "metadata": {},
   "source": [
    "### Evaluation\n",
    "#### 1. Visual Evaluation of reconstruction quality\n",
    "By clustering orignal and reconstructed data jointly, it can be analysed how closly the predicted data matches the actual data. The predictions are only based on context information and the pre-trained model. Both a umap and a clustered heatmap can be used to visualise this."
   ]
  },
  {
   "cell_type": "code",
   "execution_count": 152,
   "metadata": {},
   "outputs": [
    {
     "name": "stdout",
     "output_type": "stream",
     "text": [
      "mmcontext.eval.clustering - INFO - Combining original data with up to 3 reconstruction layers.\n",
      "mmcontext.eval.clustering - INFO - Processing reconstruction layer: reconstructed1\n",
      "mmcontext.eval.clustering - INFO - Processing reconstruction layer: reconstructed2\n",
      "mmcontext.eval.clustering - INFO - Concatenating 3 AnnData objects.\n",
      "mmcontext.eval.clustering - INFO - Combination complete. Returning combined AnnData with shape (47064, 5000).\n",
      "mmcontext.eval.clustering - INFO - Clustering combined AnnData with 47064 cells.\n"
     ]
    },
    {
     "name": "stderr",
     "output_type": "stream",
     "text": [
      "/Users/mengerj/Library/Application Support/hatch/env/virtual/mmcontext/NDS_X2Wf/mmcontext/lib/python3.10/site-packages/anndata/_core/anndata.py:1756: UserWarning: Observation names are not unique. To make them unique, call `.obs_names_make_unique`.\n",
      "  utils.warn_names_duplicates(\"obs\")\n"
     ]
    },
    {
     "name": "stdout",
     "output_type": "stream",
     "text": [
      "mmcontext.eval.clustering - INFO - Clustering complete. Found 54 clusters.\n"
     ]
    }
   ],
   "source": [
    "from mmcontext.eval.clustering import (\n",
    "    combine_original_and_reconstructions,\n",
    "    cluster_combined_adata,\n",
    ")\n",
    "from mmcontext.pl.plotting import plot_umap\n",
    "\n",
    "\n",
    "# Suppose `inferred_adata` has .X for the original data and multiple .layers for reconstructed data\n",
    "combined_adata = combine_original_and_reconstructions(inferred_adata, max_reconstructions=3)\n",
    "# Make sure we have unique IDs\n",
    "combined_adata.obs_names_make_unique()\n",
    "combined_adata.var_names_make_unique()\n",
    "\n",
    "combined_adata = cluster_combined_adata(combined_adata, clustering_method=\"leiden\", resolution=1.0)\n",
    "\n",
    "combined_adata_red = consolidate_low_frequency_categories(\n",
    "    combined_adata, columns=[\"cell_type\"], threshold=500, remove=True\n",
    ")\n",
    "plot_umap(combined_adata_red, color_key=[\"origin\", \"cell_type\"])"
   ]
  },
  {
   "cell_type": "code",
   "execution_count": 212,
   "metadata": {},
   "outputs": [
    {
     "name": "stdout",
     "output_type": "stream",
     "text": [
      "mmcontext.pl.plotting - INFO - Starting plot_cells_by_genes_heatmap.\n",
      "mmcontext.pl.plotting - INFO - Selected 30 HVGs based on cells with origin == '0'.\n"
     ]
    },
    {
     "name": "stderr",
     "output_type": "stream",
     "text": [
      "/Users/mengerj/Library/Application Support/hatch/env/virtual/mmcontext/NDS_X2Wf/mmcontext/lib/python3.10/site-packages/scanpy/preprocessing/_highly_variable_genes.py:305: RuntimeWarning: invalid value encountered in log\n",
      "  dispersion = np.log(dispersion)\n"
     ]
    },
    {
     "name": "stdout",
     "output_type": "stream",
     "text": [
      "mmcontext.pl.plotting - INFO - Heatmap saved at clustered_heatmap.png\n"
     ]
    },
    {
     "data": {
      "image/png": "[encoded data removed]",
      "text/plain": [
       "<Figure size 1500x1200 with 5 Axes>"
      ]
     },
     "metadata": {},
     "output_type": "display_data"
    }
   ],
   "source": [
    "from mmcontext.pl.plotting import plot_clustered_heatmap\n",
    "from mmcontext.eval.clustering import subsample_adata\n",
    "\n",
    "# Optionally subsample for heatmap clarity\n",
    "subsampled_adata = subsample_adata(combined_adata, subsample_size=50)\n",
    "# Assuming `combined_adata_red` is your AnnData object after preprocessing\n",
    "plot_clustered_heatmap(\n",
    "    adata=subsampled_adata,\n",
    "    num_hvgs=30,  # Select top 30 highly variable genes from original data\n",
    "    clustering_method=\"leiden\",\n",
    "    resolution=1.0,\n",
    "    figsize=(15, 12),\n",
    "    cmap=\"coolwarm\",\n",
    "    show=True,\n",
    "    save_path=\"clustered_heatmap.png\",\n",
    ")"
   ]
  },
  {
   "cell_type": "markdown",
   "metadata": {},
   "source": [
    "We can also directly visualise the modified context embeddings which serve as input to the decoder when reconstructing data."
   ]
  },
  {
   "cell_type": "code",
   "execution_count": 122,
   "metadata": {},
   "outputs": [
    {
     "name": "stdout",
     "output_type": "stream",
     "text": [
      "mmcontext.pl.plotting - INFO - Starting UMAP computation and plotting.\n",
      "mmcontext.pl.plotting - INFO - Computing neighbors with use_rep='context_encoder_mod_emb'.\n"
     ]
    },
    {
     "data": {
      "text/plain": [
       "<Figure size 800x800 with 0 Axes>"
      ]
     },
     "metadata": {},
     "output_type": "display_data"
    },
    {
     "data": {
      "image/png": "[encoded data removed]",
      "text/plain": [
       "<Figure size 640x480 with 1 Axes>"
      ]
     },
     "metadata": {},
     "output_type": "display_data"
    },
    {
     "name": "stdout",
     "output_type": "stream",
     "text": [
      "mmcontext.pl.plotting - INFO - Displayed UMAP plot interactively.\n"
     ]
    }
   ],
   "source": [
    "from mmcontext.pl import plot_umap\n",
    "\n",
    "inferred_adata_red = consolidate_low_frequency_categories(\n",
    "    inferred_adata, columns=[\"cell_type\"], threshold=100, remove=True\n",
    ")\n",
    "# inferred_adata_red.obsm[\"recon\"] = inferred_adata_red.layers[\"reconstructed1\"]\n",
    "plot_umap(inferred_adata_red, color_key=\"cell_type\", embedding_key=\"context_encoder_mod_emb\", save_plot=False)"
   ]
  },
  {
   "cell_type": "markdown",
   "metadata": {},
   "source": [
    "#### 2. Evaluation with scib metrics\n",
    "In order to assess the quality of the embeddings, the {class}`mmcontext.eval.scibEvaluator` can be used. It computes metrics from the scib package {cite:p}`luecken2022benchmarking` in order to asess bioconservation and batch integration."
   ]
  },
  {
   "cell_type": "code",
   "execution_count": 123,
   "metadata": {},
   "outputs": [],
   "source": [
    "from mmcontext.pl.plotting import plot_umap\n",
    "from mmcontext.eval import scibEvaluator\n",
    "\n",
    "# Initialize scibEvaluator\n",
    "evaluator = scibEvaluator(\n",
    "    adata=inferred_adata,\n",
    "    batch_key=\"dataset_id\",\n",
    "    label_key=\"cell_type\",\n",
    "    embedding_key=[\"scvi\", \"context_encoder_mod_emb\"],\n",
    "    reconstructed_keys=list(inferred_adata.layers),\n",
    "    max_cells=2000,  # subsample cells for faster computation\n",
    ")"
   ]
  },
  {
   "cell_type": "code",
   "execution_count": 124,
   "metadata": {},
   "outputs": [
    {
     "name": "stdout",
     "output_type": "stream",
     "text": [
      "mmcontext.eval.evaluate_scib - INFO - Computing metrics on raw data...\n",
      "mmcontext.eval.evaluate_scib - INFO - Subsampling to 2000 cells for raw...\n",
      "mmcontext.eval.evaluate_scib - INFO - Computing PCA on all genes...\n",
      "Cluster for cluster_0.2 with leiden\n",
      "resolution: 0.2, nmi: 0.5837422003374518\n",
      "Cluster for cluster_0.4 with leiden\n",
      "resolution: 0.4, nmi: 0.5973262380651712\n",
      "Cluster for cluster_0.6 with leiden\n",
      "resolution: 0.6, nmi: 0.6255260605758842\n",
      "Cluster for cluster_0.8 with leiden\n",
      "resolution: 0.8, nmi: 0.6329267566358945\n",
      "Cluster for cluster_1.0 with leiden\n",
      "resolution: 1.0, nmi: 0.6206719091425913\n",
      "Cluster for cluster_1.2 with leiden\n",
      "resolution: 1.2, nmi: 0.6286723653138676\n",
      "Cluster for cluster_1.4 with leiden\n",
      "resolution: 1.4, nmi: 0.6342547813761906\n",
      "Cluster for cluster_1.6 with leiden\n",
      "resolution: 1.6, nmi: 0.6375702683383434\n",
      "Cluster for cluster_1.8 with leiden\n",
      "resolution: 1.8, nmi: 0.6273763970807191\n",
      "Cluster for cluster_2.0 with leiden\n",
      "resolution: 2.0, nmi: 0.6287493174576342\n",
      "optimised clustering against cell_type\n",
      "optimal cluster resolution: 1.6\n",
      "optimal score: 0.6375702683383434\n",
      "isolated labels: no more than 1 batches per label\n",
      "isolated labels: ['GABAergic amacrine cell', 'Mueller cell', 'OFF-bipolar cell', 'ON-bipolar cell', 'Purkinje cell', 'cerebellar granule cell', 'cerebral cortex neuron', 'fibroblast of mammary gland', 'glycinergic amacrine cell', 'luminal adaptive secretory precursor cell of mammary gland', 'luminal hormone-sensing cell of mammary gland', 'macroglial cell', 'mature T cell', 'myoepithelial cell of mammary gland', 'regular ventricular cardiac myocyte']\n",
      "isolated labels: no more than 1 batches per label\n",
      "isolated labels: ['GABAergic amacrine cell', 'Mueller cell', 'OFF-bipolar cell', 'ON-bipolar cell', 'Purkinje cell', 'cerebellar granule cell', 'cerebral cortex neuron', 'fibroblast of mammary gland', 'glycinergic amacrine cell', 'luminal adaptive secretory precursor cell of mammary gland', 'luminal hormone-sensing cell of mammary gland', 'macroglial cell', 'mature T cell', 'myoepithelial cell of mammary gland', 'regular ventricular cardiac myocyte']\n",
      "Cluster for iso_label_0.2 with leiden\n",
      "mmcontext.eval.evaluate_scib - ERROR - Error computing cLISI: [Errno 8] Exec format error: '/Users/mengerj/Library/Application Support/hatch/env/virtual/mmcontext/NDS_X2Wf/mmcontext/lib/python3.10/site-packages/scib/knn_graph/knn_graph.o'\n",
      "resolution: 0.2, max_f1: 0.43037974683544306\n",
      "Cluster for iso_label_0.4 with leiden\n",
      "resolution: 0.4, max_f1: 0.43037974683544306\n",
      "Cluster for iso_label_0.6 with leiden\n",
      "GABAergic amacrine cell: 0.445699006319046\n",
      "resolution: 0.6, max_f1: 0.43037974683544306\n",
      "Cluster for iso_label_0.8 with leiden\n",
      "Mueller cell: 0.5998643040657043\n",
      "OFF-bipolar cell: 0.5000495910644531\n",
      "ON-bipolar cell: 0.4953162670135498\n",
      "Purkinje cell: 0.5856460332870483\n",
      "resolution: 0.8, max_f1: 0.43037974683544306\n",
      "Cluster for iso_label_1.0 with leiden\n",
      "cerebellar granule cell: 0.5175312757492065\n",
      "cerebral cortex neuron: 0.6493799090385437\n",
      "fibroblast of mammary gland: 0.5010149478912354\n",
      "glycinergic amacrine cell: 0.49095627665519714\n",
      "resolution: 1.0, max_f1: 0.43037974683544306\n",
      "Cluster for iso_label_1.2 with leiden\n",
      "luminal adaptive secretory precursor cell of mammary gland: 0.3939172327518463\n",
      "luminal hormone-sensing cell of mammary gland: 0.5658379793167114\n",
      "macroglial cell: 0.5531039237976074\n",
      "mature T cell: 0.459300696849823\n",
      "myoepithelial cell of mammary gland: 0.550186812877655\n",
      "regular ventricular cardiac myocyte: 0.7760177254676819\n",
      "resolution: 1.2, max_f1: 0.43037974683544306\n",
      "Cluster for iso_label_1.4 with leiden\n",
      "resolution: 1.4, max_f1: 0.4888888888888889\n",
      "Cluster for iso_label_1.6 with leiden\n",
      "resolution: 1.6, max_f1: 0.4888888888888889\n",
      "Cluster for iso_label_1.8 with leiden\n",
      "resolution: 1.8, max_f1: 0.5\n",
      "Cluster for iso_label_2.0 with leiden\n",
      "resolution: 2.0, max_f1: 0.5\n",
      "optimised clustering against cell_type\n",
      "optimal cluster resolution: 1.8\n",
      "optimal score: 0.5\n",
      "GABAergic amacrine cell: 0.5\n",
      "Cluster for iso_label_0.2 with leiden\n",
      "resolution: 0.2, max_f1: 0.18546365914786966\n",
      "Cluster for iso_label_0.4 with leiden\n",
      "resolution: 0.4, max_f1: 0.2578397212543554\n",
      "Cluster for iso_label_0.6 with leiden\n",
      "resolution: 0.6, max_f1: 0.37185929648241206\n",
      "Cluster for iso_label_0.8 with leiden\n",
      "resolution: 0.8, max_f1: 0.9736842105263158\n",
      "Cluster for iso_label_1.0 with leiden\n",
      "resolution: 1.0, max_f1: 0.9736842105263158\n",
      "Cluster for iso_label_1.2 with leiden\n",
      "resolution: 1.2, max_f1: 0.9736842105263158\n",
      "Cluster for iso_label_1.4 with leiden\n",
      "resolution: 1.4, max_f1: 0.9736842105263158\n",
      "Cluster for iso_label_1.6 with leiden\n",
      "resolution: 1.6, max_f1: 0.5894736842105263\n",
      "Cluster for iso_label_1.8 with leiden\n",
      "resolution: 1.8, max_f1: 0.835820895522388\n",
      "Cluster for iso_label_2.0 with leiden\n",
      "resolution: 2.0, max_f1: 0.5714285714285714\n",
      "optimised clustering against cell_type\n",
      "optimal cluster resolution: 0.8\n",
      "optimal score: 0.9736842105263158\n",
      "Mueller cell: 0.9736842105263158\n",
      "Cluster for iso_label_0.2 with leiden\n",
      "resolution: 0.2, max_f1: 0.22857142857142856\n",
      "Cluster for iso_label_0.4 with leiden\n",
      "resolution: 0.4, max_f1: 0.22857142857142856\n",
      "Cluster for iso_label_0.6 with leiden\n",
      "resolution: 0.6, max_f1: 0.22857142857142856\n",
      "Cluster for iso_label_0.8 with leiden\n",
      "resolution: 0.8, max_f1: 0.22857142857142856\n",
      "Cluster for iso_label_1.0 with leiden\n",
      "resolution: 1.0, max_f1: 0.22857142857142856\n",
      "Cluster for iso_label_1.2 with leiden\n",
      "resolution: 1.2, max_f1: 0.22857142857142856\n",
      "Cluster for iso_label_1.4 with leiden\n",
      "resolution: 1.4, max_f1: 0.24806201550387597\n",
      "Cluster for iso_label_1.6 with leiden\n",
      "resolution: 1.6, max_f1: 0.2601626016260163\n",
      "Cluster for iso_label_1.8 with leiden\n",
      "resolution: 1.8, max_f1: 0.28205128205128205\n",
      "Cluster for iso_label_2.0 with leiden\n",
      "resolution: 2.0, max_f1: 0.28205128205128205\n",
      "optimised clustering against cell_type\n",
      "optimal cluster resolution: 1.8\n",
      "optimal score: 0.28205128205128205\n",
      "OFF-bipolar cell: 0.28205128205128205\n",
      "Cluster for iso_label_0.2 with leiden\n",
      "resolution: 0.2, max_f1: 0.4\n",
      "Cluster for iso_label_0.4 with leiden\n",
      "resolution: 0.4, max_f1: 0.4\n",
      "Cluster for iso_label_0.6 with leiden\n",
      "resolution: 0.6, max_f1: 0.4\n",
      "Cluster for iso_label_0.8 with leiden\n",
      "resolution: 0.8, max_f1: 0.4\n",
      "Cluster for iso_label_1.0 with leiden\n",
      "resolution: 1.0, max_f1: 0.4\n",
      "Cluster for iso_label_1.2 with leiden\n",
      "resolution: 1.2, max_f1: 0.4\n",
      "Cluster for iso_label_1.4 with leiden\n",
      "resolution: 1.4, max_f1: 0.4305555555555556\n",
      "Cluster for iso_label_1.6 with leiden\n",
      "resolution: 1.6, max_f1: 0.4492753623188406\n",
      "Cluster for iso_label_1.8 with leiden\n",
      "resolution: 1.8, max_f1: 0.34408602150537637\n",
      "Cluster for iso_label_2.0 with leiden\n",
      "resolution: 2.0, max_f1: 0.34408602150537637\n",
      "optimised clustering against cell_type\n",
      "optimal cluster resolution: 1.6\n",
      "optimal score: 0.4492753623188406\n",
      "ON-bipolar cell: 0.4492753623188406\n",
      "Cluster for iso_label_0.2 with leiden\n",
      "resolution: 0.2, max_f1: 0.32996632996632996\n",
      "Cluster for iso_label_0.4 with leiden\n",
      "resolution: 0.4, max_f1: 0.3991769547325103\n",
      "Cluster for iso_label_0.6 with leiden\n",
      "resolution: 0.6, max_f1: 0.6038961038961039\n",
      "Cluster for iso_label_0.8 with leiden\n",
      "resolution: 0.8, max_f1: 0.6038961038961039\n",
      "Cluster for iso_label_1.0 with leiden\n",
      "resolution: 1.0, max_f1: 0.6038961038961039\n",
      "Cluster for iso_label_1.2 with leiden\n",
      "resolution: 1.2, max_f1: 0.7153846153846154\n",
      "Cluster for iso_label_1.4 with leiden\n",
      "resolution: 1.4, max_f1: 0.8122270742358079\n",
      "Cluster for iso_label_1.6 with leiden\n",
      "resolution: 1.6, max_f1: 0.8017241379310345\n",
      "Cluster for iso_label_1.8 with leiden\n",
      "resolution: 1.8, max_f1: 0.6892655367231638\n",
      "Cluster for iso_label_2.0 with leiden\n",
      "resolution: 2.0, max_f1: 0.6892655367231638\n",
      "optimised clustering against cell_type\n",
      "optimal cluster resolution: 1.4\n",
      "optimal score: 0.8122270742358079\n",
      "Purkinje cell: 0.8122270742358079\n",
      "Cluster for iso_label_0.2 with leiden\n",
      "resolution: 0.2, max_f1: 0.1350844277673546\n",
      "Cluster for iso_label_0.4 with leiden\n",
      "resolution: 0.4, max_f1: 0.16\n",
      "Cluster for iso_label_0.6 with leiden\n",
      "resolution: 0.6, max_f1: 0.16822429906542055\n",
      "Cluster for iso_label_0.8 with leiden\n",
      "resolution: 0.8, max_f1: 0.15135135135135136\n",
      "Cluster for iso_label_1.0 with leiden\n",
      "resolution: 1.0, max_f1: 0.15135135135135136\n",
      "Cluster for iso_label_1.2 with leiden\n",
      "resolution: 1.2, max_f1: 0.20930232558139536\n",
      "Cluster for iso_label_1.4 with leiden\n",
      "resolution: 1.4, max_f1: 0.1958041958041958\n",
      "Cluster for iso_label_1.6 with leiden\n",
      "resolution: 1.6, max_f1: 0.19718309859154928\n",
      "Cluster for iso_label_1.8 with leiden\n",
      "resolution: 1.8, max_f1: 0.19718309859154928\n",
      "Cluster for iso_label_2.0 with leiden\n",
      "resolution: 2.0, max_f1: 0.19858156028368795\n",
      "optimised clustering against cell_type\n",
      "optimal cluster resolution: 1.2\n",
      "optimal score: 0.20930232558139536\n",
      "cerebellar granule cell: 0.20930232558139536\n",
      "Cluster for iso_label_0.2 with leiden\n",
      "resolution: 0.2, max_f1: 0.07\n",
      "Cluster for iso_label_0.4 with leiden\n",
      "resolution: 0.4, max_f1: 0.07\n",
      "Cluster for iso_label_0.6 with leiden\n",
      "resolution: 0.6, max_f1: 0.07\n",
      "Cluster for iso_label_0.8 with leiden\n",
      "resolution: 0.8, max_f1: 0.07\n",
      "Cluster for iso_label_1.0 with leiden\n",
      "resolution: 1.0, max_f1: 0.10218978102189781\n",
      "Cluster for iso_label_1.2 with leiden\n",
      "resolution: 1.2, max_f1: 0.10218978102189781\n",
      "Cluster for iso_label_1.4 with leiden\n",
      "resolution: 1.4, max_f1: 0.11382113821138211\n",
      "Cluster for iso_label_1.6 with leiden\n",
      "resolution: 1.6, max_f1: 0.16666666666666666\n",
      "Cluster for iso_label_1.8 with leiden\n",
      "resolution: 1.8, max_f1: 0.16666666666666666\n",
      "Cluster for iso_label_2.0 with leiden\n",
      "resolution: 2.0, max_f1: 0.1686746987951807\n",
      "optimised clustering against cell_type\n",
      "optimal cluster resolution: 2.0\n",
      "optimal score: 0.1686746987951807\n",
      "cerebral cortex neuron: 0.1686746987951807\n",
      "Cluster for iso_label_0.2 with leiden\n",
      "resolution: 0.2, max_f1: 0.09947643979057591\n",
      "Cluster for iso_label_0.4 with leiden\n",
      "resolution: 0.4, max_f1: 0.25757575757575757\n",
      "Cluster for iso_label_0.6 with leiden\n",
      "resolution: 0.6, max_f1: 0.2556390977443609\n",
      "Cluster for iso_label_0.8 with leiden\n",
      "resolution: 0.8, max_f1: 0.2556390977443609\n",
      "Cluster for iso_label_1.0 with leiden\n",
      "resolution: 1.0, max_f1: 0.2556390977443609\n",
      "Cluster for iso_label_1.2 with leiden\n",
      "resolution: 1.2, max_f1: 0.26356589147286824\n",
      "Cluster for iso_label_1.4 with leiden\n",
      "resolution: 1.4, max_f1: 0.26356589147286824\n",
      "Cluster for iso_label_1.6 with leiden\n",
      "resolution: 1.6, max_f1: 0.26356589147286824\n",
      "Cluster for iso_label_1.8 with leiden\n",
      "resolution: 1.8, max_f1: 0.26356589147286824\n",
      "Cluster for iso_label_2.0 with leiden\n",
      "resolution: 2.0, max_f1: 0.2698412698412698\n",
      "optimised clustering against cell_type\n",
      "optimal cluster resolution: 2.0\n",
      "optimal score: 0.2698412698412698\n",
      "fibroblast of mammary gland: 0.2698412698412698\n",
      "Cluster for iso_label_0.2 with leiden\n",
      "resolution: 0.2, max_f1: 0.41025641025641024\n",
      "Cluster for iso_label_0.4 with leiden\n",
      "resolution: 0.4, max_f1: 0.41025641025641024\n",
      "Cluster for iso_label_0.6 with leiden\n",
      "resolution: 0.6, max_f1: 0.41025641025641024\n",
      "Cluster for iso_label_0.8 with leiden\n",
      "resolution: 0.8, max_f1: 0.41025641025641024\n",
      "Cluster for iso_label_1.0 with leiden\n",
      "resolution: 1.0, max_f1: 0.41025641025641024\n",
      "Cluster for iso_label_1.2 with leiden\n",
      "resolution: 1.2, max_f1: 0.41025641025641024\n",
      "Cluster for iso_label_1.4 with leiden\n",
      "resolution: 1.4, max_f1: 0.4413793103448276\n",
      "Cluster for iso_label_1.6 with leiden\n",
      "resolution: 1.6, max_f1: 0.460431654676259\n",
      "Cluster for iso_label_1.8 with leiden\n",
      "resolution: 1.8, max_f1: 0.425531914893617\n",
      "Cluster for iso_label_2.0 with leiden\n",
      "resolution: 2.0, max_f1: 0.425531914893617\n",
      "optimised clustering against cell_type\n",
      "optimal cluster resolution: 1.6\n",
      "optimal score: 0.460431654676259\n",
      "glycinergic amacrine cell: 0.460431654676259\n",
      "Cluster for iso_label_0.2 with leiden\n",
      "resolution: 0.2, max_f1: 0.09473684210526316\n",
      "Cluster for iso_label_0.4 with leiden\n",
      "resolution: 0.4, max_f1: 0.27692307692307694\n",
      "Cluster for iso_label_0.6 with leiden\n",
      "resolution: 0.6, max_f1: 0.2748091603053435\n",
      "Cluster for iso_label_0.8 with leiden\n",
      "resolution: 0.8, max_f1: 0.2748091603053435\n",
      "Cluster for iso_label_1.0 with leiden\n",
      "resolution: 1.0, max_f1: 0.2748091603053435\n",
      "Cluster for iso_label_1.2 with leiden\n",
      "resolution: 1.2, max_f1: 0.28346456692913385\n",
      "Cluster for iso_label_1.4 with leiden\n",
      "resolution: 1.4, max_f1: 0.28346456692913385\n",
      "Cluster for iso_label_1.6 with leiden\n",
      "resolution: 1.6, max_f1: 0.28346456692913385\n",
      "Cluster for iso_label_1.8 with leiden\n",
      "resolution: 1.8, max_f1: 0.28346456692913385\n",
      "Cluster for iso_label_2.0 with leiden\n",
      "resolution: 2.0, max_f1: 0.2903225806451613\n",
      "optimised clustering against cell_type\n",
      "optimal cluster resolution: 2.0\n",
      "optimal score: 0.2903225806451613\n",
      "luminal adaptive secretory precursor cell of mammary gland: 0.2903225806451613\n",
      "Cluster for iso_label_0.2 with leiden\n",
      "resolution: 0.2, max_f1: 0.08970976253298153\n",
      "Cluster for iso_label_0.4 with leiden\n",
      "resolution: 0.4, max_f1: 0.26356589147286824\n",
      "Cluster for iso_label_0.6 with leiden\n",
      "resolution: 0.6, max_f1: 0.26153846153846155\n",
      "Cluster for iso_label_0.8 with leiden\n",
      "resolution: 0.8, max_f1: 0.26153846153846155\n",
      "Cluster for iso_label_1.0 with leiden\n",
      "resolution: 1.0, max_f1: 0.26153846153846155\n",
      "Cluster for iso_label_1.2 with leiden\n",
      "resolution: 1.2, max_f1: 0.2698412698412698\n",
      "Cluster for iso_label_1.4 with leiden\n",
      "resolution: 1.4, max_f1: 0.2698412698412698\n",
      "Cluster for iso_label_1.6 with leiden\n",
      "resolution: 1.6, max_f1: 0.2698412698412698\n",
      "Cluster for iso_label_1.8 with leiden\n",
      "resolution: 1.8, max_f1: 0.2698412698412698\n",
      "Cluster for iso_label_2.0 with leiden\n",
      "resolution: 2.0, max_f1: 0.2764227642276423\n",
      "optimised clustering against cell_type\n",
      "optimal cluster resolution: 2.0\n",
      "optimal score: 0.2764227642276423\n",
      "luminal hormone-sensing cell of mammary gland: 0.2764227642276423\n",
      "Cluster for iso_label_0.2 with leiden\n",
      "resolution: 0.2, max_f1: 0.06627680311890838\n",
      "Cluster for iso_label_0.4 with leiden\n",
      "resolution: 0.4, max_f1: 0.08395061728395062\n",
      "Cluster for iso_label_0.6 with leiden\n",
      "resolution: 0.6, max_f1: 0.09691629955947137\n",
      "Cluster for iso_label_0.8 with leiden\n",
      "resolution: 0.8, max_f1: 0.09691629955947137\n",
      "Cluster for iso_label_1.0 with leiden\n",
      "resolution: 1.0, max_f1: 0.09691629955947137\n",
      "Cluster for iso_label_1.2 with leiden\n",
      "resolution: 1.2, max_f1: 0.1694915254237288\n",
      "Cluster for iso_label_1.4 with leiden\n",
      "resolution: 1.4, max_f1: 0.1694915254237288\n",
      "Cluster for iso_label_1.6 with leiden\n",
      "resolution: 1.6, max_f1: 0.1694915254237288\n",
      "Cluster for iso_label_1.8 with leiden\n",
      "resolution: 1.8, max_f1: 0.1694915254237288\n",
      "Cluster for iso_label_2.0 with leiden\n",
      "resolution: 2.0, max_f1: 0.16666666666666666\n",
      "optimised clustering against cell_type\n",
      "optimal cluster resolution: 1.2\n",
      "optimal score: 0.1694915254237288\n",
      "macroglial cell: 0.1694915254237288\n",
      "Cluster for iso_label_0.2 with leiden\n",
      "resolution: 0.2, max_f1: 0.175\n",
      "Cluster for iso_label_0.4 with leiden\n",
      "resolution: 0.4, max_f1: 0.175\n",
      "Cluster for iso_label_0.6 with leiden\n",
      "resolution: 0.6, max_f1: 0.175\n",
      "Cluster for iso_label_0.8 with leiden\n",
      "resolution: 0.8, max_f1: 0.175\n",
      "Cluster for iso_label_1.0 with leiden\n",
      "resolution: 1.0, max_f1: 0.175\n",
      "Cluster for iso_label_1.2 with leiden\n",
      "resolution: 1.2, max_f1: 0.175\n",
      "Cluster for iso_label_1.4 with leiden\n",
      "resolution: 1.4, max_f1: 0.175\n",
      "Cluster for iso_label_1.6 with leiden\n",
      "resolution: 1.6, max_f1: 0.175\n",
      "Cluster for iso_label_1.8 with leiden\n",
      "resolution: 1.8, max_f1: 0.175\n",
      "Cluster for iso_label_2.0 with leiden\n",
      "resolution: 2.0, max_f1: 0.175\n",
      "optimised clustering against cell_type\n",
      "optimal cluster resolution: 0.2\n",
      "optimal score: 0.175\n",
      "mature T cell: 0.175\n",
      "Cluster for iso_label_0.2 with leiden\n",
      "resolution: 0.2, max_f1: 0.12435233160621761\n",
      "Cluster for iso_label_0.4 with leiden\n",
      "resolution: 0.4, max_f1: 0.35294117647058826\n",
      "Cluster for iso_label_0.6 with leiden\n",
      "resolution: 0.6, max_f1: 0.35036496350364965\n",
      "Cluster for iso_label_0.8 with leiden\n",
      "resolution: 0.8, max_f1: 0.35036496350364965\n",
      "Cluster for iso_label_1.0 with leiden\n",
      "resolution: 1.0, max_f1: 0.35036496350364965\n",
      "Cluster for iso_label_1.2 with leiden\n",
      "resolution: 1.2, max_f1: 0.3609022556390977\n",
      "Cluster for iso_label_1.4 with leiden\n",
      "resolution: 1.4, max_f1: 0.3609022556390977\n",
      "Cluster for iso_label_1.6 with leiden\n",
      "resolution: 1.6, max_f1: 0.3609022556390977\n",
      "Cluster for iso_label_1.8 with leiden\n",
      "resolution: 1.8, max_f1: 0.3609022556390977\n",
      "Cluster for iso_label_2.0 with leiden\n",
      "resolution: 2.0, max_f1: 0.36923076923076925\n",
      "optimised clustering against cell_type\n",
      "optimal cluster resolution: 2.0\n",
      "optimal score: 0.36923076923076925\n",
      "myoepithelial cell of mammary gland: 0.36923076923076925\n",
      "Cluster for iso_label_0.2 with leiden\n",
      "resolution: 0.2, max_f1: 0.9241379310344827\n",
      "Cluster for iso_label_0.4 with leiden\n",
      "resolution: 0.4, max_f1: 0.9241379310344827\n",
      "Cluster for iso_label_0.6 with leiden\n",
      "resolution: 0.6, max_f1: 0.9241379310344827\n",
      "Cluster for iso_label_0.8 with leiden\n",
      "resolution: 0.8, max_f1: 0.9241379310344827\n",
      "Cluster for iso_label_1.0 with leiden\n",
      "resolution: 1.0, max_f1: 0.9241379310344827\n",
      "Cluster for iso_label_1.2 with leiden\n",
      "resolution: 1.2, max_f1: 0.9241379310344827\n",
      "Cluster for iso_label_1.4 with leiden\n",
      "resolution: 1.4, max_f1: 0.9241379310344827\n",
      "Cluster for iso_label_1.6 with leiden\n",
      "resolution: 1.6, max_f1: 0.9241379310344827\n",
      "Cluster for iso_label_1.8 with leiden\n",
      "resolution: 1.8, max_f1: 0.9241379310344827\n",
      "Cluster for iso_label_2.0 with leiden\n",
      "resolution: 2.0, max_f1: 0.9241379310344827\n",
      "optimised clustering against cell_type\n",
      "optimal cluster resolution: 0.2\n",
      "optimal score: 0.9241379310344827\n",
      "regular ventricular cardiac myocyte: 0.9241379310344827\n",
      "mean silhouette per group:                                                  silhouette_score\n",
      "group                                                            \n",
      "B cell                                                   0.818406\n",
      "CD4-positive, alpha-beta T cell                          0.704516\n",
      "CD8-positive, alpha-beta T cell                          0.637452\n",
      "T cell                                                   0.808210\n",
      "alveolar macrophage                                      0.830583\n",
      "astrocyte                                                0.612994\n",
      "capillary endothelial cell                               0.895079\n",
      "effector memory CD8-positive, alpha-beta T cell          0.761927\n",
      "endothelial cell                                         0.745862\n",
      "enterocyte                                               0.725188\n",
      "epithelial cell of proximal tubule                       0.789303\n",
      "erythrocyte                                              0.439540\n",
      "fibroblast                                               0.784957\n",
      "interneuron                                              0.704565\n",
      "macrophage                                               0.706957\n",
      "malignant cell                                           0.422993\n",
      "microglial cell                                          0.697725\n",
      "monocyte                                                 0.634118\n",
      "myeloid cell                                             0.701551\n",
      "natural killer cell                                      0.734696\n",
      "neural cell                                              0.728183\n",
      "neutrophil                                               0.573432\n",
      "oligodendrocyte                                          0.720855\n",
      "oligodendrocyte precursor cell                           0.702911\n",
      "pericyte                                                 0.756581\n",
      "plasma cell                                              0.547618\n",
      "precursor B cell                                         0.709140\n",
      "unknown                                                  0.704091\n",
      "vein endothelial cell                                    0.771206\n",
      "mmcontext.eval.evaluate_scib - ERROR - Error computing iLISI: [Errno 8] Exec format error: '/Users/mengerj/Library/Application Support/hatch/env/virtual/mmcontext/NDS_X2Wf/mmcontext/lib/python3.10/site-packages/scib/knn_graph/knn_graph.o'\n",
      "mmcontext.eval.evaluate_scib - INFO - Computing metrics on reconstructed data reconstructed1 ...\n",
      "mmcontext.eval.evaluate_scib - INFO - Subsampling to 2000 cells for reconstructed1...\n",
      "mmcontext.eval.evaluate_scib - INFO - Computing PCA on all genes...\n",
      "Cluster for cluster_0.2 with leiden\n",
      "resolution: 0.2, nmi: 0.40085748910965324\n",
      "Cluster for cluster_0.4 with leiden\n",
      "resolution: 0.4, nmi: 0.4825645083843291\n",
      "Cluster for cluster_0.6 with leiden\n",
      "resolution: 0.6, nmi: 0.48442363206953537\n",
      "Cluster for cluster_0.8 with leiden\n",
      "resolution: 0.8, nmi: 0.5251355977343752\n",
      "Cluster for cluster_1.0 with leiden\n",
      "resolution: 1.0, nmi: 0.5217979171547871\n",
      "Cluster for cluster_1.2 with leiden\n",
      "resolution: 1.2, nmi: 0.5233252543910246\n",
      "Cluster for cluster_1.4 with leiden\n",
      "resolution: 1.4, nmi: 0.5277949659899119\n",
      "Cluster for cluster_1.6 with leiden\n",
      "resolution: 1.6, nmi: 0.5206079031684537\n",
      "Cluster for cluster_1.8 with leiden\n",
      "resolution: 1.8, nmi: 0.5352760018012485\n",
      "Cluster for cluster_2.0 with leiden\n",
      "resolution: 2.0, nmi: 0.5182203828670376\n",
      "optimised clustering against cell_type\n",
      "optimal cluster resolution: 1.8\n",
      "optimal score: 0.5352760018012485\n",
      "isolated labels: no more than 1 batches per label\n",
      "isolated labels: ['GABAergic amacrine cell', 'Mueller cell', 'OFF-bipolar cell', 'ON-bipolar cell', 'Purkinje cell', 'cerebellar granule cell', 'cerebral cortex neuron', 'fibroblast of mammary gland', 'glycinergic amacrine cell', 'luminal adaptive secretory precursor cell of mammary gland', 'luminal hormone-sensing cell of mammary gland', 'macroglial cell', 'mature T cell', 'myoepithelial cell of mammary gland', 'neural cell', 'regular ventricular cardiac myocyte']\n",
      "isolated labels: no more than 1 batches per label\n",
      "isolated labels: ['GABAergic amacrine cell', 'Mueller cell', 'OFF-bipolar cell', 'ON-bipolar cell', 'Purkinje cell', 'cerebellar granule cell', 'cerebral cortex neuron', 'fibroblast of mammary gland', 'glycinergic amacrine cell', 'luminal adaptive secretory precursor cell of mammary gland', 'luminal hormone-sensing cell of mammary gland', 'macroglial cell', 'mature T cell', 'myoepithelial cell of mammary gland', 'neural cell', 'regular ventricular cardiac myocyte']\n",
      "Cluster for iso_label_0.2 with leiden\n",
      "resolution: 0.2, max_f1: 0.08636977058029689\n",
      "Cluster for iso_label_0.4 with leiden\n",
      "mmcontext.eval.evaluate_scib - ERROR - Error computing cLISI: [Errno 8] Exec format error: '/Users/mengerj/Library/Application Support/hatch/env/virtual/mmcontext/NDS_X2Wf/mmcontext/lib/python3.10/site-packages/scib/knn_graph/knn_graph.o'\n",
      "resolution: 0.4, max_f1: 0.08695652173913043\n",
      "Cluster for iso_label_0.6 with leiden\n",
      "resolution: 0.6, max_f1: 0.08943089430894309\n",
      "Cluster for iso_label_0.8 with leiden\n",
      "resolution: 0.8, max_f1: 0.08287292817679558\n",
      "Cluster for iso_label_1.0 with leiden\n",
      "GABAergic amacrine cell: 0.4459141790866852\n",
      "Mueller cell: 0.45476287603378296\n",
      "OFF-bipolar cell: 0.4379929304122925\n",
      "resolution: 1.0, max_f1: 0.08522727272727272\n",
      "Cluster for iso_label_1.2 with leiden\n",
      "ON-bipolar cell: 0.4460386037826538\n",
      "Purkinje cell: 0.47936052083969116\n",
      "resolution: 1.2, max_f1: 0.0851063829787234\n",
      "Cluster for iso_label_1.4 with leiden\n",
      "cerebellar granule cell: 0.4529625177383423\n",
      "cerebral cortex neuron: 0.4168240427970886\n",
      "fibroblast of mammary gland: 0.5226371884346008\n",
      "resolution: 1.4, max_f1: 0.10847457627118644\n",
      "Cluster for iso_label_1.6 with leiden\n",
      "glycinergic amacrine cell: 0.4953386187553406\n",
      "luminal adaptive secretory precursor cell of mammary gland: 0.529308021068573\n",
      "luminal hormone-sensing cell of mammary gland: 0.49551326036453247\n",
      "resolution: 1.6, max_f1: 0.15151515151515152\n",
      "Cluster for iso_label_1.8 with leiden\n",
      "macroglial cell: 0.485076367855072\n",
      "mature T cell: 0.4533717632293701\n",
      "myoepithelial cell of mammary gland: 0.4979797899723053\n",
      "neural cell: 0.7344549298286438\n",
      "resolution: 1.8, max_f1: 0.16541353383458646\n",
      "Cluster for iso_label_2.0 with leiden\n",
      "regular ventricular cardiac myocyte: 0.4434109926223755\n",
      "resolution: 2.0, max_f1: 0.14285714285714285\n",
      "optimised clustering against cell_type\n",
      "optimal cluster resolution: 1.8\n",
      "optimal score: 0.16541353383458646\n",
      "GABAergic amacrine cell: 0.16541353383458646\n",
      "Cluster for iso_label_0.2 with leiden\n",
      "resolution: 0.2, max_f1: 0.075046904315197\n",
      "Cluster for iso_label_0.4 with leiden\n",
      "resolution: 0.4, max_f1: 0.247557003257329\n",
      "Cluster for iso_label_0.6 with leiden\n",
      "resolution: 0.6, max_f1: 0.24437299035369775\n",
      "Cluster for iso_label_0.8 with leiden\n",
      "resolution: 0.8, max_f1: 0.24516129032258063\n",
      "Cluster for iso_label_1.0 with leiden\n",
      "resolution: 1.0, max_f1: 0.24358974358974358\n",
      "Cluster for iso_label_1.2 with leiden\n",
      "resolution: 1.2, max_f1: 0.24281150159744408\n",
      "Cluster for iso_label_1.4 with leiden\n",
      "resolution: 1.4, max_f1: 0.24516129032258063\n",
      "Cluster for iso_label_1.6 with leiden\n",
      "resolution: 1.6, max_f1: 0.24516129032258063\n",
      "Cluster for iso_label_1.8 with leiden\n",
      "resolution: 1.8, max_f1: 0.30434782608695654\n",
      "Cluster for iso_label_2.0 with leiden\n",
      "resolution: 2.0, max_f1: 0.3153153153153153\n",
      "optimised clustering against cell_type\n",
      "optimal cluster resolution: 2.0\n",
      "optimal score: 0.3153153153153153\n",
      "Mueller cell: 0.3153153153153153\n",
      "Cluster for iso_label_0.2 with leiden\n",
      "resolution: 0.2, max_f1: 0.02669208770257388\n",
      "Cluster for iso_label_0.4 with leiden\n",
      "resolution: 0.4, max_f1: 0.035578144853875476\n",
      "Cluster for iso_label_0.6 with leiden\n",
      "resolution: 0.6, max_f1: 0.03636363636363636\n",
      "Cluster for iso_label_0.8 with leiden\n",
      "resolution: 0.8, max_f1: 0.05045871559633028\n",
      "Cluster for iso_label_1.0 with leiden\n",
      "resolution: 1.0, max_f1: 0.045112781954887216\n",
      "Cluster for iso_label_1.2 with leiden\n",
      "resolution: 1.2, max_f1: 0.15730337078651685\n",
      "Cluster for iso_label_1.4 with leiden\n",
      "resolution: 1.4, max_f1: 0.18\n",
      "Cluster for iso_label_1.6 with leiden\n",
      "resolution: 1.6, max_f1: 0.1038961038961039\n",
      "Cluster for iso_label_1.8 with leiden\n",
      "resolution: 1.8, max_f1: 0.24561403508771928\n",
      "Cluster for iso_label_2.0 with leiden\n",
      "resolution: 2.0, max_f1: 0.14285714285714285\n",
      "optimised clustering against cell_type\n",
      "optimal cluster resolution: 1.8\n",
      "optimal score: 0.24561403508771928\n",
      "OFF-bipolar cell: 0.24561403508771928\n",
      "Cluster for iso_label_0.2 with leiden\n",
      "resolution: 0.2, max_f1: 0.06572769953051644\n",
      "Cluster for iso_label_0.4 with leiden\n",
      "resolution: 0.4, max_f1: 0.0896637608966376\n",
      "Cluster for iso_label_0.6 with leiden\n",
      "resolution: 0.6, max_f1: 0.08651399491094147\n",
      "Cluster for iso_label_0.8 with leiden\n",
      "resolution: 0.8, max_f1: 0.10909090909090909\n",
      "Cluster for iso_label_1.0 with leiden\n",
      "resolution: 1.0, max_f1: 0.2153846153846154\n",
      "Cluster for iso_label_1.2 with leiden\n",
      "resolution: 1.2, max_f1: 0.21333333333333335\n",
      "Cluster for iso_label_1.4 with leiden\n",
      "resolution: 1.4, max_f1: 0.208955223880597\n",
      "Cluster for iso_label_1.6 with leiden\n",
      "resolution: 1.6, max_f1: 0.25\n",
      "Cluster for iso_label_1.8 with leiden\n",
      "resolution: 1.8, max_f1: 0.23529411764705882\n",
      "Cluster for iso_label_2.0 with leiden\n",
      "resolution: 2.0, max_f1: 0.23880597014925373\n",
      "optimised clustering against cell_type\n",
      "optimal cluster resolution: 1.6\n",
      "optimal score: 0.25\n",
      "ON-bipolar cell: 0.25\n",
      "Cluster for iso_label_0.2 with leiden\n",
      "resolution: 0.2, max_f1: 0.1429864253393665\n",
      "Cluster for iso_label_0.4 with leiden\n",
      "resolution: 0.4, max_f1: 0.1874258600237248\n",
      "Cluster for iso_label_0.6 with leiden\n",
      "resolution: 0.6, max_f1: 0.19128329297820823\n",
      "Cluster for iso_label_0.8 with leiden\n",
      "resolution: 0.8, max_f1: 0.36879432624113473\n",
      "Cluster for iso_label_1.0 with leiden\n",
      "resolution: 1.0, max_f1: 0.33766233766233766\n",
      "Cluster for iso_label_1.2 with leiden\n",
      "resolution: 1.2, max_f1: 0.3413566739606127\n",
      "Cluster for iso_label_1.4 with leiden\n",
      "resolution: 1.4, max_f1: 0.3644859813084112\n",
      "Cluster for iso_label_1.6 with leiden\n",
      "resolution: 1.6, max_f1: 0.37772397094430993\n",
      "Cluster for iso_label_1.8 with leiden\n",
      "resolution: 1.8, max_f1: 0.3968668407310705\n",
      "Cluster for iso_label_2.0 with leiden\n",
      "resolution: 2.0, max_f1: 0.44528301886792454\n",
      "optimised clustering against cell_type\n",
      "optimal cluster resolution: 2.0\n",
      "optimal score: 0.44528301886792454\n",
      "Purkinje cell: 0.44528301886792454\n",
      "Cluster for iso_label_0.2 with leiden\n",
      "resolution: 0.2, max_f1: 0.06267029972752043\n",
      "Cluster for iso_label_0.4 with leiden\n",
      "resolution: 0.4, max_f1: 0.06310013717421124\n",
      "Cluster for iso_label_0.6 with leiden\n",
      "resolution: 0.6, max_f1: 0.06292749658002736\n",
      "Cluster for iso_label_0.8 with leiden\n",
      "resolution: 0.8, max_f1: 0.061366806136680614\n",
      "Cluster for iso_label_1.0 with leiden\n",
      "resolution: 1.0, max_f1: 0.06312769010043041\n",
      "Cluster for iso_label_1.2 with leiden\n",
      "resolution: 1.2, max_f1: 0.08602150537634409\n",
      "Cluster for iso_label_1.4 with leiden\n",
      "resolution: 1.4, max_f1: 0.09027777777777778\n",
      "Cluster for iso_label_1.6 with leiden\n",
      "resolution: 1.6, max_f1: 0.1256544502617801\n",
      "Cluster for iso_label_1.8 with leiden\n",
      "resolution: 1.8, max_f1: 0.19047619047619047\n",
      "Cluster for iso_label_2.0 with leiden\n",
      "resolution: 2.0, max_f1: 0.11428571428571428\n",
      "optimised clustering against cell_type\n",
      "optimal cluster resolution: 1.8\n",
      "optimal score: 0.19047619047619047\n",
      "cerebellar granule cell: 0.19047619047619047\n",
      "Cluster for iso_label_0.2 with leiden\n",
      "resolution: 0.2, max_f1: 0.016689847009735744\n",
      "Cluster for iso_label_0.4 with leiden\n",
      "resolution: 0.4, max_f1: 0.01804123711340206\n",
      "Cluster for iso_label_0.6 with leiden\n",
      "resolution: 0.6, max_f1: 0.01675977653631285\n",
      "Cluster for iso_label_0.8 with leiden\n",
      "resolution: 0.8, max_f1: 0.02823529411764706\n",
      "Cluster for iso_label_1.0 with leiden\n",
      "resolution: 1.0, max_f1: 0.05263157894736842\n",
      "Cluster for iso_label_1.2 with leiden\n",
      "resolution: 1.2, max_f1: 0.041666666666666664\n",
      "Cluster for iso_label_1.4 with leiden\n",
      "resolution: 1.4, max_f1: 0.06741573033707865\n",
      "Cluster for iso_label_1.6 with leiden\n",
      "resolution: 1.6, max_f1: 0.07407407407407407\n",
      "Cluster for iso_label_1.8 with leiden\n",
      "resolution: 1.8, max_f1: 0.08333333333333333\n",
      "Cluster for iso_label_2.0 with leiden\n",
      "resolution: 2.0, max_f1: 0.0975609756097561\n",
      "optimised clustering against cell_type\n",
      "optimal cluster resolution: 2.0\n",
      "optimal score: 0.0975609756097561\n",
      "cerebral cortex neuron: 0.0975609756097561\n",
      "Cluster for iso_label_0.2 with leiden\n",
      "resolution: 0.2, max_f1: 0.0586565752128666\n",
      "Cluster for iso_label_0.4 with leiden\n",
      "resolution: 0.4, max_f1: 0.2080536912751678\n",
      "Cluster for iso_label_0.6 with leiden\n",
      "resolution: 0.6, max_f1: 0.2052980132450331\n",
      "Cluster for iso_label_0.8 with leiden\n",
      "resolution: 0.8, max_f1: 0.2059800664451827\n",
      "Cluster for iso_label_1.0 with leiden\n",
      "resolution: 1.0, max_f1: 0.20462046204620463\n",
      "Cluster for iso_label_1.2 with leiden\n",
      "resolution: 1.2, max_f1: 0.20394736842105263\n",
      "Cluster for iso_label_1.4 with leiden\n",
      "resolution: 1.4, max_f1: 0.2059800664451827\n",
      "Cluster for iso_label_1.6 with leiden\n",
      "resolution: 1.6, max_f1: 0.2059800664451827\n",
      "Cluster for iso_label_1.8 with leiden\n",
      "resolution: 1.8, max_f1: 0.5263157894736842\n",
      "Cluster for iso_label_2.0 with leiden\n",
      "resolution: 2.0, max_f1: 0.5309734513274337\n",
      "optimised clustering against cell_type\n",
      "optimal cluster resolution: 2.0\n",
      "optimal score: 0.5309734513274337\n",
      "fibroblast of mammary gland: 0.5309734513274337\n",
      "Cluster for iso_label_0.2 with leiden\n",
      "resolution: 0.2, max_f1: 0.054976303317535544\n",
      "Cluster for iso_label_0.4 with leiden\n",
      "resolution: 0.4, max_f1: 0.07313997477931904\n",
      "Cluster for iso_label_0.6 with leiden\n",
      "resolution: 0.6, max_f1: 0.07474226804123711\n",
      "Cluster for iso_label_0.8 with leiden\n",
      "resolution: 0.8, max_f1: 0.1554959785522788\n",
      "Cluster for iso_label_1.0 with leiden\n",
      "resolution: 1.0, max_f1: 0.1407766990291262\n",
      "Cluster for iso_label_1.2 with leiden\n",
      "resolution: 1.2, max_f1: 0.14250614250614252\n",
      "Cluster for iso_label_1.4 with leiden\n",
      "resolution: 1.4, max_f1: 0.15343915343915343\n",
      "Cluster for iso_label_1.6 with leiden\n",
      "resolution: 1.6, max_f1: 0.15977961432506887\n",
      "Cluster for iso_label_1.8 with leiden\n",
      "resolution: 1.8, max_f1: 0.16816816816816818\n",
      "Cluster for iso_label_2.0 with leiden\n",
      "resolution: 2.0, max_f1: 0.13559322033898305\n",
      "optimised clustering against cell_type\n",
      "optimal cluster resolution: 1.8\n",
      "optimal score: 0.16816816816816818\n",
      "glycinergic amacrine cell: 0.16816816816816818\n",
      "Cluster for iso_label_0.2 with leiden\n",
      "resolution: 0.2, max_f1: 0.04198473282442748\n",
      "Cluster for iso_label_0.4 with leiden\n",
      "resolution: 0.4, max_f1: 0.05597964376590331\n",
      "Cluster for iso_label_0.6 with leiden\n",
      "resolution: 0.6, max_f1: 0.05721716514954486\n",
      "Cluster for iso_label_0.8 with leiden\n",
      "resolution: 0.8, max_f1: 0.12021857923497267\n",
      "Cluster for iso_label_1.0 with leiden\n",
      "resolution: 1.0, max_f1: 0.10864197530864197\n",
      "Cluster for iso_label_1.2 with leiden\n",
      "resolution: 1.2, max_f1: 0.11\n",
      "Cluster for iso_label_1.4 with leiden\n",
      "resolution: 1.4, max_f1: 0.11859838274932614\n",
      "Cluster for iso_label_1.6 with leiden\n",
      "resolution: 1.6, max_f1: 0.12359550561797752\n",
      "Cluster for iso_label_1.8 with leiden\n",
      "resolution: 1.8, max_f1: 0.13496932515337423\n",
      "Cluster for iso_label_2.0 with leiden\n",
      "resolution: 2.0, max_f1: 0.5185185185185185\n",
      "optimised clustering against cell_type\n",
      "optimal cluster resolution: 2.0\n",
      "optimal score: 0.5185185185185185\n",
      "luminal adaptive secretory precursor cell of mammary gland: 0.5185185185185185\n",
      "Cluster for iso_label_0.2 with leiden\n",
      "resolution: 0.2, max_f1: 0.030710172744721688\n",
      "Cluster for iso_label_0.4 with leiden\n",
      "resolution: 0.4, max_f1: 0.041025641025641026\n",
      "Cluster for iso_label_0.6 with leiden\n",
      "resolution: 0.6, max_f1: 0.04193971166448231\n",
      "Cluster for iso_label_0.8 with leiden\n",
      "resolution: 0.8, max_f1: 0.08888888888888889\n",
      "Cluster for iso_label_1.0 with leiden\n",
      "resolution: 1.0, max_f1: 0.08020050125313283\n",
      "Cluster for iso_label_1.2 with leiden\n",
      "resolution: 1.2, max_f1: 0.08121827411167512\n",
      "Cluster for iso_label_1.4 with leiden\n",
      "resolution: 1.4, max_f1: 0.08767123287671233\n",
      "Cluster for iso_label_1.6 with leiden\n",
      "resolution: 1.6, max_f1: 0.09142857142857143\n",
      "Cluster for iso_label_1.8 with leiden\n",
      "resolution: 1.8, max_f1: 0.1\n",
      "Cluster for iso_label_2.0 with leiden\n",
      "resolution: 2.0, max_f1: 0.26666666666666666\n",
      "optimised clustering against cell_type\n",
      "optimal cluster resolution: 2.0\n",
      "optimal score: 0.26666666666666666\n",
      "luminal hormone-sensing cell of mammary gland: 0.26666666666666666\n",
      "Cluster for iso_label_0.2 with leiden\n",
      "resolution: 0.2, max_f1: 0.032598274209012464\n",
      "Cluster for iso_label_0.4 with leiden\n",
      "resolution: 0.4, max_f1: 0.04353393085787452\n",
      "Cluster for iso_label_0.6 with leiden\n",
      "resolution: 0.6, max_f1: 0.04450261780104712\n",
      "Cluster for iso_label_0.8 with leiden\n",
      "resolution: 0.8, max_f1: 0.07906976744186046\n",
      "Cluster for iso_label_1.0 with leiden\n",
      "resolution: 1.0, max_f1: 0.08651399491094147\n",
      "Cluster for iso_label_1.2 with leiden\n",
      "resolution: 1.2, max_f1: 0.09115281501340483\n",
      "Cluster for iso_label_1.4 with leiden\n",
      "resolution: 1.4, max_f1: 0.09798270893371758\n",
      "Cluster for iso_label_1.6 with leiden\n",
      "resolution: 1.6, max_f1: 0.10625\n",
      "Cluster for iso_label_1.8 with leiden\n",
      "resolution: 1.8, max_f1: 0.1069182389937107\n",
      "Cluster for iso_label_2.0 with leiden\n",
      "resolution: 2.0, max_f1: 0.0873015873015873\n",
      "optimised clustering against cell_type\n",
      "optimal cluster resolution: 1.8\n",
      "optimal score: 0.1069182389937107\n",
      "macroglial cell: 0.1069182389937107\n",
      "Cluster for iso_label_0.2 with leiden\n",
      "resolution: 0.2, max_f1: 0.03872752420470263\n",
      "Cluster for iso_label_0.4 with leiden\n",
      "resolution: 0.4, max_f1: 0.036211699164345405\n",
      "Cluster for iso_label_0.6 with leiden\n",
      "resolution: 0.6, max_f1: 0.03611111111111111\n",
      "Cluster for iso_label_0.8 with leiden\n",
      "resolution: 0.8, max_f1: 0.0339943342776204\n",
      "Cluster for iso_label_1.0 with leiden\n",
      "resolution: 1.0, max_f1: 0.09090909090909091\n",
      "Cluster for iso_label_1.2 with leiden\n",
      "resolution: 1.2, max_f1: 0.0975609756097561\n",
      "Cluster for iso_label_1.4 with leiden\n",
      "resolution: 1.4, max_f1: 0.05054151624548736\n",
      "Cluster for iso_label_1.6 with leiden\n",
      "resolution: 1.6, max_f1: 0.10526315789473684\n",
      "Cluster for iso_label_1.8 with leiden\n",
      "resolution: 1.8, max_f1: 0.061068702290076333\n",
      "Cluster for iso_label_2.0 with leiden\n",
      "resolution: 2.0, max_f1: 0.07751937984496124\n",
      "optimised clustering against cell_type\n",
      "optimal cluster resolution: 1.6\n",
      "optimal score: 0.10526315789473684\n",
      "mature T cell: 0.10526315789473684\n",
      "Cluster for iso_label_0.2 with leiden\n",
      "resolution: 0.2, max_f1: 0.06597549481621112\n",
      "Cluster for iso_label_0.4 with leiden\n",
      "resolution: 0.4, max_f1: 0.08760951188986232\n",
      "Cluster for iso_label_0.6 with leiden\n",
      "resolution: 0.6, max_f1: 0.08695652173913043\n",
      "Cluster for iso_label_0.8 with leiden\n",
      "resolution: 0.8, max_f1: 0.1741424802110818\n",
      "Cluster for iso_label_1.0 with leiden\n",
      "resolution: 1.0, max_f1: 0.16267942583732056\n",
      "Cluster for iso_label_1.2 with leiden\n",
      "resolution: 1.2, max_f1: 0.16464891041162227\n",
      "Cluster for iso_label_1.4 with leiden\n",
      "resolution: 1.4, max_f1: 0.17708333333333334\n",
      "Cluster for iso_label_1.6 with leiden\n",
      "resolution: 1.6, max_f1: 0.1842818428184282\n",
      "Cluster for iso_label_1.8 with leiden\n",
      "resolution: 1.8, max_f1: 0.19469026548672566\n",
      "Cluster for iso_label_2.0 with leiden\n",
      "resolution: 2.0, max_f1: 0.15873015873015872\n",
      "optimised clustering against cell_type\n",
      "optimal cluster resolution: 1.8\n",
      "optimal score: 0.19469026548672566\n",
      "myoepithelial cell of mammary gland: 0.19469026548672566\n",
      "Cluster for iso_label_0.2 with leiden\n",
      "resolution: 0.2, max_f1: 1.0\n",
      "Cluster for iso_label_0.4 with leiden\n",
      "resolution: 0.4, max_f1: 1.0\n",
      "Cluster for iso_label_0.6 with leiden\n",
      "resolution: 0.6, max_f1: 1.0\n",
      "Cluster for iso_label_0.8 with leiden\n",
      "resolution: 0.8, max_f1: 1.0\n",
      "Cluster for iso_label_1.0 with leiden\n",
      "resolution: 1.0, max_f1: 1.0\n",
      "Cluster for iso_label_1.2 with leiden\n",
      "resolution: 1.2, max_f1: 1.0\n",
      "Cluster for iso_label_1.4 with leiden\n",
      "resolution: 1.4, max_f1: 1.0\n",
      "Cluster for iso_label_1.6 with leiden\n",
      "resolution: 1.6, max_f1: 1.0\n",
      "Cluster for iso_label_1.8 with leiden\n",
      "resolution: 1.8, max_f1: 1.0\n",
      "Cluster for iso_label_2.0 with leiden\n",
      "resolution: 2.0, max_f1: 0.9362549800796812\n",
      "optimised clustering against cell_type\n",
      "optimal cluster resolution: 0.2\n",
      "optimal score: 1.0\n",
      "neural cell: 1.0\n",
      "Cluster for iso_label_0.2 with leiden\n",
      "resolution: 0.2, max_f1: 0.13454545454545455\n",
      "Cluster for iso_label_0.4 with leiden\n",
      "resolution: 0.4, max_f1: 0.16467780429594273\n",
      "Cluster for iso_label_0.6 with leiden\n",
      "resolution: 0.6, max_f1: 0.1607795371498173\n",
      "Cluster for iso_label_0.8 with leiden\n",
      "resolution: 0.8, max_f1: 0.1806981519507187\n",
      "Cluster for iso_label_1.0 with leiden\n",
      "resolution: 1.0, max_f1: 0.14442013129102846\n",
      "Cluster for iso_label_1.2 with leiden\n",
      "resolution: 1.2, max_f1: 0.1504424778761062\n",
      "Cluster for iso_label_1.4 with leiden\n",
      "resolution: 1.4, max_f1: 0.1485148514851485\n",
      "Cluster for iso_label_1.6 with leiden\n",
      "resolution: 1.6, max_f1: 0.27586206896551724\n",
      "Cluster for iso_label_1.8 with leiden\n",
      "resolution: 1.8, max_f1: 0.2545454545454545\n",
      "Cluster for iso_label_2.0 with leiden\n",
      "resolution: 2.0, max_f1: 0.1941747572815534\n",
      "optimised clustering against cell_type\n",
      "optimal cluster resolution: 1.6\n",
      "optimal score: 0.27586206896551724\n",
      "regular ventricular cardiac myocyte: 0.27586206896551724\n",
      "mmcontext.eval.evaluate_scib - ERROR - Error computing PCR: pcr_comparison() got multiple values for argument 'adata_pre'\n",
      "mean silhouette per group:                                                  silhouette_score\n",
      "group                                                            \n",
      "B cell                                                   0.920342\n",
      "CD4-positive, alpha-beta T cell                          0.873663\n",
      "CD8-positive, alpha-beta T cell                          0.948489\n",
      "T cell                                                   0.932511\n",
      "alveolar macrophage                                      0.970614\n",
      "astrocyte                                                0.966155\n",
      "capillary endothelial cell                               0.921267\n",
      "effector memory CD8-positive, alpha-beta T cell          0.918312\n",
      "endothelial cell                                         0.882929\n",
      "enterocyte                                               0.953184\n",
      "epithelial cell of proximal tubule                       0.914253\n",
      "erythrocyte                                              0.956922\n",
      "fibroblast                                               0.868724\n",
      "interneuron                                              0.959554\n",
      "macrophage                                               0.886545\n",
      "malignant cell                                           0.967043\n",
      "microglial cell                                          0.950745\n",
      "monocyte                                                 0.933443\n",
      "myeloid cell                                             0.971784\n",
      "natural killer cell                                      0.908261\n",
      "neutrophil                                               0.914199\n",
      "oligodendrocyte                                          0.933780\n",
      "oligodendrocyte precursor cell                           0.953387\n",
      "pericyte                                                 0.852342\n",
      "plasma cell                                              0.889973\n",
      "precursor B cell                                         0.949341\n",
      "unknown                                                  0.953079\n",
      "vein endothelial cell                                    0.908631\n",
      "mmcontext.eval.evaluate_scib - ERROR - Error computing iLISI: [Errno 8] Exec format error: '/Users/mengerj/Library/Application Support/hatch/env/virtual/mmcontext/NDS_X2Wf/mmcontext/lib/python3.10/site-packages/scib/knn_graph/knn_graph.o'\n",
      "mmcontext.eval.evaluate_scib - INFO - Computing metrics on reconstructed data reconstructed2 ...\n",
      "mmcontext.eval.evaluate_scib - INFO - Subsampling to 2000 cells for reconstructed2...\n",
      "mmcontext.eval.evaluate_scib - INFO - Computing PCA on all genes...\n",
      "Cluster for cluster_0.2 with leiden\n",
      "resolution: 0.2, nmi: 0.3539648677159571\n",
      "Cluster for cluster_0.4 with leiden\n",
      "resolution: 0.4, nmi: 0.4929702027248891\n",
      "Cluster for cluster_0.6 with leiden\n",
      "resolution: 0.6, nmi: 0.5330047742382932\n",
      "Cluster for cluster_0.8 with leiden\n",
      "resolution: 0.8, nmi: 0.5341135513218488\n",
      "Cluster for cluster_1.0 with leiden\n",
      "resolution: 1.0, nmi: 0.533865361919747\n",
      "Cluster for cluster_1.2 with leiden\n",
      "resolution: 1.2, nmi: 0.5357077324502729\n",
      "Cluster for cluster_1.4 with leiden\n",
      "resolution: 1.4, nmi: 0.5299773155244221\n",
      "Cluster for cluster_1.6 with leiden\n",
      "resolution: 1.6, nmi: 0.5476023212856704\n",
      "Cluster for cluster_1.8 with leiden\n",
      "resolution: 1.8, nmi: 0.5246269546483951\n",
      "Cluster for cluster_2.0 with leiden\n",
      "resolution: 2.0, nmi: 0.5256494409515405\n",
      "optimised clustering against cell_type\n",
      "optimal cluster resolution: 1.6\n",
      "optimal score: 0.5476023212856704\n",
      "isolated labels: no more than 1 batches per label\n",
      "isolated labels: ['GABAergic amacrine cell', 'Mueller cell', 'OFF-bipolar cell', 'ON-bipolar cell', 'Purkinje cell', 'cerebellar granule cell', 'cerebral cortex neuron', 'fibroblast of mammary gland', 'glycinergic amacrine cell', 'luminal adaptive secretory precursor cell of mammary gland', 'luminal hormone-sensing cell of mammary gland', 'macroglial cell', 'mature T cell', 'myoepithelial cell of mammary gland', 'regular ventricular cardiac myocyte']\n",
      "isolated labels: no more than 1 batches per label\n",
      "isolated labels: ['GABAergic amacrine cell', 'Mueller cell', 'OFF-bipolar cell', 'ON-bipolar cell', 'Purkinje cell', 'cerebellar granule cell', 'cerebral cortex neuron', 'fibroblast of mammary gland', 'glycinergic amacrine cell', 'luminal adaptive secretory precursor cell of mammary gland', 'luminal hormone-sensing cell of mammary gland', 'macroglial cell', 'mature T cell', 'myoepithelial cell of mammary gland', 'regular ventricular cardiac myocyte']\n",
      "Cluster for iso_label_0.2 with leiden\n",
      "resolution: 0.2, max_f1: 0.0431266846361186\n",
      "Cluster for iso_label_0.4 with leiden\n",
      "mmcontext.eval.evaluate_scib - ERROR - Error computing cLISI: [Errno 8] Exec format error: '/Users/mengerj/Library/Application Support/hatch/env/virtual/mmcontext/NDS_X2Wf/mmcontext/lib/python3.10/site-packages/scib/knn_graph/knn_graph.o'\n",
      "resolution: 0.4, max_f1: 0.0877914951989026\n",
      "Cluster for iso_label_0.6 with leiden\n",
      "resolution: 0.6, max_f1: 0.08623087621696801\n",
      "Cluster for iso_label_0.8 with leiden\n",
      "GABAergic amacrine cell: 0.4801453948020935\n",
      "Mueller cell: 0.46920424699783325\n",
      "resolution: 0.8, max_f1: 0.08547008547008547\n",
      "Cluster for iso_label_1.0 with leiden\n",
      "OFF-bipolar cell: 0.4465087652206421\n",
      "resolution: 1.0, max_f1: 0.08571428571428572\n",
      "Cluster for iso_label_1.2 with leiden\n",
      "ON-bipolar cell: 0.4466162621974945\n",
      "Purkinje cell: 0.48231199383735657\n",
      "resolution: 1.2, max_f1: 0.07776049766718507\n",
      "Cluster for iso_label_1.4 with leiden\n",
      "cerebellar granule cell: 0.44810986518859863\n",
      "cerebral cortex neuron: 0.42831847071647644\n",
      "fibroblast of mammary gland: 0.5276324152946472\n",
      "resolution: 1.4, max_f1: 0.19834710743801653\n",
      "Cluster for iso_label_1.6 with leiden\n",
      "glycinergic amacrine cell: 0.48552173376083374\n",
      "luminal adaptive secretory precursor cell of mammary gland: 0.5213080048561096\n",
      "luminal hormone-sensing cell of mammary gland: 0.4750464856624603\n",
      "resolution: 1.6, max_f1: 0.12598425196850394\n",
      "Cluster for iso_label_1.8 with leiden\n",
      "macroglial cell: 0.4916231632232666\n",
      "mature T cell: 0.45341265201568604\n",
      "myoepithelial cell of mammary gland: 0.5068020224571228\n",
      "regular ventricular cardiac myocyte: 0.45426392555236816\n",
      "resolution: 1.8, max_f1: 0.1927710843373494\n",
      "Cluster for iso_label_2.0 with leiden\n",
      "resolution: 2.0, max_f1: 0.13186813186813187\n",
      "optimised clustering against cell_type\n",
      "optimal cluster resolution: 1.4\n",
      "optimal score: 0.19834710743801653\n",
      "GABAergic amacrine cell: 0.19834710743801653\n",
      "Cluster for iso_label_0.2 with leiden\n",
      "resolution: 0.2, max_f1: 0.28115015974440893\n",
      "Cluster for iso_label_0.4 with leiden\n",
      "resolution: 0.4, max_f1: 0.2765273311897106\n",
      "Cluster for iso_label_0.6 with leiden\n",
      "resolution: 0.6, max_f1: 0.27388535031847133\n",
      "Cluster for iso_label_0.8 with leiden\n",
      "resolution: 0.8, max_f1: 0.2732919254658385\n",
      "Cluster for iso_label_1.0 with leiden\n",
      "resolution: 1.0, max_f1: 0.27672955974842767\n",
      "Cluster for iso_label_1.2 with leiden\n",
      "resolution: 1.2, max_f1: 0.2634730538922156\n",
      "Cluster for iso_label_1.4 with leiden\n",
      "resolution: 1.4, max_f1: 0.2691131498470948\n",
      "Cluster for iso_label_1.6 with leiden\n",
      "resolution: 1.6, max_f1: 0.3022222222222222\n",
      "Cluster for iso_label_1.8 with leiden\n",
      "resolution: 1.8, max_f1: 0.3076923076923077\n",
      "Cluster for iso_label_2.0 with leiden\n",
      "resolution: 2.0, max_f1: 0.2731707317073171\n",
      "optimised clustering against cell_type\n",
      "optimal cluster resolution: 1.8\n",
      "optimal score: 0.3076923076923077\n",
      "Mueller cell: 0.3076923076923077\n",
      "Cluster for iso_label_0.2 with leiden\n",
      "resolution: 0.2, max_f1: 0.02717391304347826\n",
      "Cluster for iso_label_0.4 with leiden\n",
      "resolution: 0.4, max_f1: 0.03346203346203346\n",
      "Cluster for iso_label_0.6 with leiden\n",
      "resolution: 0.6, max_f1: 0.05572755417956656\n",
      "Cluster for iso_label_0.8 with leiden\n",
      "resolution: 0.8, max_f1: 0.047337278106508875\n",
      "Cluster for iso_label_1.0 with leiden\n",
      "resolution: 1.0, max_f1: 0.052478134110787174\n",
      "Cluster for iso_label_1.2 with leiden\n",
      "resolution: 1.2, max_f1: 0.07692307692307693\n",
      "Cluster for iso_label_1.4 with leiden\n",
      "resolution: 1.4, max_f1: 0.07339449541284404\n",
      "Cluster for iso_label_1.6 with leiden\n",
      "resolution: 1.6, max_f1: 0.16666666666666666\n",
      "Cluster for iso_label_1.8 with leiden\n",
      "resolution: 1.8, max_f1: 0.13333333333333333\n",
      "Cluster for iso_label_2.0 with leiden\n",
      "resolution: 2.0, max_f1: 0.10126582278481013\n",
      "optimised clustering against cell_type\n",
      "optimal cluster resolution: 1.6\n",
      "optimal score: 0.16666666666666666\n",
      "OFF-bipolar cell: 0.16666666666666666\n",
      "Cluster for iso_label_0.2 with leiden\n",
      "resolution: 0.2, max_f1: 0.03916272788656313\n",
      "Cluster for iso_label_0.4 with leiden\n",
      "resolution: 0.4, max_f1: 0.061068702290076333\n",
      "Cluster for iso_label_0.6 with leiden\n",
      "resolution: 0.6, max_f1: 0.08163265306122448\n",
      "Cluster for iso_label_0.8 with leiden\n",
      "resolution: 0.8, max_f1: 0.08677685950413223\n",
      "Cluster for iso_label_1.0 with leiden\n",
      "resolution: 1.0, max_f1: 0.0865979381443299\n",
      "Cluster for iso_label_1.2 with leiden\n",
      "resolution: 1.2, max_f1: 0.13333333333333333\n",
      "Cluster for iso_label_1.4 with leiden\n",
      "resolution: 1.4, max_f1: 0.10884353741496598\n",
      "Cluster for iso_label_1.6 with leiden\n",
      "resolution: 1.6, max_f1: 0.09929078014184398\n",
      "Cluster for iso_label_1.8 with leiden\n",
      "resolution: 1.8, max_f1: 0.125\n",
      "Cluster for iso_label_2.0 with leiden\n",
      "resolution: 2.0, max_f1: 0.07777777777777778\n",
      "optimised clustering against cell_type\n",
      "optimal cluster resolution: 1.2\n",
      "optimal score: 0.13333333333333333\n",
      "ON-bipolar cell: 0.13333333333333333\n",
      "Cluster for iso_label_0.2 with leiden\n",
      "resolution: 0.2, max_f1: 0.11917098445595854\n",
      "Cluster for iso_label_0.4 with leiden\n",
      "resolution: 0.4, max_f1: 0.21672555948174324\n",
      "Cluster for iso_label_0.6 with leiden\n",
      "resolution: 0.6, max_f1: 0.3291139240506329\n",
      "Cluster for iso_label_0.8 with leiden\n",
      "resolution: 0.8, max_f1: 0.3290676416819013\n",
      "Cluster for iso_label_1.0 with leiden\n",
      "resolution: 1.0, max_f1: 0.33211678832116787\n",
      "Cluster for iso_label_1.2 with leiden\n",
      "resolution: 1.2, max_f1: 0.3991031390134529\n",
      "Cluster for iso_label_1.4 with leiden\n",
      "resolution: 1.4, max_f1: 0.41299303944315546\n",
      "Cluster for iso_label_1.6 with leiden\n",
      "resolution: 1.6, max_f1: 0.42606516290726815\n",
      "Cluster for iso_label_1.8 with leiden\n",
      "resolution: 1.8, max_f1: 0.43478260869565216\n",
      "Cluster for iso_label_2.0 with leiden\n",
      "resolution: 2.0, max_f1: 0.6090534979423868\n",
      "optimised clustering against cell_type\n",
      "optimal cluster resolution: 2.0\n",
      "optimal score: 0.6090534979423868\n",
      "Purkinje cell: 0.6090534979423868\n",
      "Cluster for iso_label_0.2 with leiden\n",
      "resolution: 0.2, max_f1: 0.036511156186612576\n",
      "Cluster for iso_label_0.4 with leiden\n",
      "resolution: 0.4, max_f1: 0.06906077348066299\n",
      "Cluster for iso_label_0.6 with leiden\n",
      "resolution: 0.6, max_f1: 0.07282913165266107\n",
      "Cluster for iso_label_0.8 with leiden\n",
      "resolution: 0.8, max_f1: 0.06886657101865136\n",
      "Cluster for iso_label_1.0 with leiden\n",
      "resolution: 1.0, max_f1: 0.06906474820143885\n",
      "Cluster for iso_label_1.2 with leiden\n",
      "resolution: 1.2, max_f1: 0.08588957055214724\n",
      "Cluster for iso_label_1.4 with leiden\n",
      "resolution: 1.4, max_f1: 0.09375\n",
      "Cluster for iso_label_1.6 with leiden\n",
      "resolution: 1.6, max_f1: 0.10126582278481013\n",
      "Cluster for iso_label_1.8 with leiden\n",
      "resolution: 1.8, max_f1: 0.11940298507462686\n",
      "Cluster for iso_label_2.0 with leiden\n",
      "resolution: 2.0, max_f1: 0.09655172413793103\n",
      "optimised clustering against cell_type\n",
      "optimal cluster resolution: 1.8\n",
      "optimal score: 0.11940298507462686\n",
      "cerebellar granule cell: 0.11940298507462686\n",
      "Cluster for iso_label_0.2 with leiden\n",
      "resolution: 0.2, max_f1: 0.01639344262295082\n",
      "Cluster for iso_label_0.4 with leiden\n",
      "resolution: 0.4, max_f1: 0.019746121297602257\n",
      "Cluster for iso_label_0.6 with leiden\n",
      "resolution: 0.6, max_f1: 0.020028612303290415\n",
      "Cluster for iso_label_0.8 with leiden\n",
      "resolution: 0.8, max_f1: 0.024242424242424242\n",
      "Cluster for iso_label_1.0 with leiden\n",
      "resolution: 1.0, max_f1: 0.023880597014925373\n",
      "Cluster for iso_label_1.2 with leiden\n",
      "resolution: 1.2, max_f1: 0.04054054054054054\n",
      "Cluster for iso_label_1.4 with leiden\n",
      "resolution: 1.4, max_f1: 0.03076923076923077\n",
      "Cluster for iso_label_1.6 with leiden\n",
      "resolution: 1.6, max_f1: 0.1276595744680851\n",
      "Cluster for iso_label_1.8 with leiden\n",
      "resolution: 1.8, max_f1: 0.08333333333333333\n",
      "Cluster for iso_label_2.0 with leiden\n",
      "resolution: 2.0, max_f1: 0.04580152671755725\n",
      "optimised clustering against cell_type\n",
      "optimal cluster resolution: 1.6\n",
      "optimal score: 0.1276595744680851\n",
      "cerebral cortex neuron: 0.1276595744680851\n",
      "Cluster for iso_label_0.2 with leiden\n",
      "resolution: 0.2, max_f1: 0.2059800664451827\n",
      "Cluster for iso_label_0.4 with leiden\n",
      "resolution: 0.4, max_f1: 0.20735785953177258\n",
      "Cluster for iso_label_0.6 with leiden\n",
      "resolution: 0.6, max_f1: 0.2052980132450331\n",
      "Cluster for iso_label_0.8 with leiden\n",
      "resolution: 0.8, max_f1: 0.2\n",
      "Cluster for iso_label_1.0 with leiden\n",
      "resolution: 1.0, max_f1: 0.20261437908496732\n",
      "Cluster for iso_label_1.2 with leiden\n",
      "resolution: 1.2, max_f1: 0.19875776397515527\n",
      "Cluster for iso_label_1.4 with leiden\n",
      "resolution: 1.4, max_f1: 0.19682539682539682\n",
      "Cluster for iso_label_1.6 with leiden\n",
      "resolution: 1.6, max_f1: 0.4166666666666667\n",
      "Cluster for iso_label_1.8 with leiden\n",
      "resolution: 1.8, max_f1: 0.4217687074829932\n",
      "Cluster for iso_label_2.0 with leiden\n",
      "resolution: 2.0, max_f1: 0.40522875816993464\n",
      "optimised clustering against cell_type\n",
      "optimal cluster resolution: 1.8\n",
      "optimal score: 0.4217687074829932\n",
      "fibroblast of mammary gland: 0.4217687074829932\n",
      "Cluster for iso_label_0.2 with leiden\n",
      "resolution: 0.2, max_f1: 0.041807147673634526\n",
      "Cluster for iso_label_0.4 with leiden\n",
      "resolution: 0.4, max_f1: 0.07360406091370558\n",
      "Cluster for iso_label_0.6 with leiden\n",
      "resolution: 0.6, max_f1: 0.12601626016260162\n",
      "Cluster for iso_label_0.8 with leiden\n",
      "resolution: 0.8, max_f1: 0.12757201646090535\n",
      "Cluster for iso_label_1.0 with leiden\n",
      "resolution: 1.0, max_f1: 0.1273100616016427\n",
      "Cluster for iso_label_1.2 with leiden\n",
      "resolution: 1.2, max_f1: 0.15584415584415584\n",
      "Cluster for iso_label_1.4 with leiden\n",
      "resolution: 1.4, max_f1: 0.15675675675675677\n",
      "Cluster for iso_label_1.6 with leiden\n",
      "resolution: 1.6, max_f1: 0.17751479289940827\n",
      "Cluster for iso_label_1.8 with leiden\n",
      "resolution: 1.8, max_f1: 0.1498371335504886\n",
      "Cluster for iso_label_2.0 with leiden\n",
      "resolution: 2.0, max_f1: 0.2717391304347826\n",
      "optimised clustering against cell_type\n",
      "optimal cluster resolution: 2.0\n",
      "optimal score: 0.2717391304347826\n",
      "glycinergic amacrine cell: 0.2717391304347826\n",
      "Cluster for iso_label_0.2 with leiden\n",
      "resolution: 0.2, max_f1: 0.02583276682528892\n",
      "Cluster for iso_label_0.4 with leiden\n",
      "resolution: 0.4, max_f1: 0.04896907216494845\n",
      "Cluster for iso_label_0.6 with leiden\n",
      "resolution: 0.6, max_f1: 0.07916666666666666\n",
      "Cluster for iso_label_0.8 with leiden\n",
      "resolution: 0.8, max_f1: 0.08016877637130802\n",
      "Cluster for iso_label_1.0 with leiden\n",
      "resolution: 1.0, max_f1: 0.08\n",
      "Cluster for iso_label_1.2 with leiden\n",
      "resolution: 1.2, max_f1: 0.10187667560321716\n",
      "Cluster for iso_label_1.4 with leiden\n",
      "resolution: 1.4, max_f1: 0.10614525139664804\n",
      "Cluster for iso_label_1.6 with leiden\n",
      "resolution: 1.6, max_f1: 0.1165644171779141\n",
      "Cluster for iso_label_1.8 with leiden\n",
      "resolution: 1.8, max_f1: 0.1288135593220339\n",
      "Cluster for iso_label_2.0 with leiden\n",
      "resolution: 2.0, max_f1: 0.20930232558139536\n",
      "optimised clustering against cell_type\n",
      "optimal cluster resolution: 2.0\n",
      "optimal score: 0.20930232558139536\n",
      "luminal adaptive secretory precursor cell of mammary gland: 0.20930232558139536\n",
      "Cluster for iso_label_0.2 with leiden\n",
      "resolution: 0.2, max_f1: 0.020435967302452316\n",
      "Cluster for iso_label_0.4 with leiden\n",
      "resolution: 0.4, max_f1: 0.03880983182406209\n",
      "Cluster for iso_label_0.6 with leiden\n",
      "resolution: 0.6, max_f1: 0.06289308176100629\n",
      "Cluster for iso_label_0.8 with leiden\n",
      "resolution: 0.8, max_f1: 0.06369426751592357\n",
      "Cluster for iso_label_1.0 with leiden\n",
      "resolution: 1.0, max_f1: 0.0635593220338983\n",
      "Cluster for iso_label_1.2 with leiden\n",
      "resolution: 1.2, max_f1: 0.08108108108108109\n",
      "Cluster for iso_label_1.4 with leiden\n",
      "resolution: 1.4, max_f1: 0.08450704225352113\n",
      "Cluster for iso_label_1.6 with leiden\n",
      "resolution: 1.6, max_f1: 0.09287925696594428\n",
      "Cluster for iso_label_1.8 with leiden\n",
      "resolution: 1.8, max_f1: 0.10273972602739725\n",
      "Cluster for iso_label_2.0 with leiden\n",
      "resolution: 2.0, max_f1: 0.14201183431952663\n",
      "optimised clustering against cell_type\n",
      "optimal cluster resolution: 2.0\n",
      "optimal score: 0.14201183431952663\n",
      "luminal hormone-sensing cell of mammary gland: 0.14201183431952663\n",
      "Cluster for iso_label_0.2 with leiden\n",
      "resolution: 0.2, max_f1: 0.024489795918367346\n",
      "Cluster for iso_label_0.4 with leiden\n",
      "resolution: 0.4, max_f1: 0.04387096774193548\n",
      "Cluster for iso_label_0.6 with leiden\n",
      "resolution: 0.6, max_f1: 0.09968847352024922\n",
      "Cluster for iso_label_0.8 with leiden\n",
      "resolution: 0.8, max_f1: 0.09523809523809523\n",
      "Cluster for iso_label_1.0 with leiden\n",
      "resolution: 1.0, max_f1: 0.093841642228739\n",
      "Cluster for iso_label_1.2 with leiden\n",
      "resolution: 1.2, max_f1: 0.09770114942528736\n",
      "Cluster for iso_label_1.4 with leiden\n",
      "resolution: 1.4, max_f1: 0.09345794392523364\n",
      "Cluster for iso_label_1.6 with leiden\n",
      "resolution: 1.6, max_f1: 0.10126582278481013\n",
      "Cluster for iso_label_1.8 with leiden\n",
      "resolution: 1.8, max_f1: 0.11522633744855967\n",
      "Cluster for iso_label_2.0 with leiden\n",
      "resolution: 2.0, max_f1: 0.10480349344978165\n",
      "optimised clustering against cell_type\n",
      "optimal cluster resolution: 1.8\n",
      "optimal score: 0.11522633744855967\n",
      "macroglial cell: 0.11522633744855967\n",
      "Cluster for iso_label_0.2 with leiden\n",
      "resolution: 0.2, max_f1: 0.021798365122615803\n",
      "Cluster for iso_label_0.4 with leiden\n",
      "resolution: 0.4, max_f1: 0.0364656381486676\n",
      "Cluster for iso_label_0.6 with leiden\n",
      "resolution: 0.6, max_f1: 0.03698435277382646\n",
      "Cluster for iso_label_0.8 with leiden\n",
      "resolution: 0.8, max_f1: 0.037900874635568516\n",
      "Cluster for iso_label_1.0 with leiden\n",
      "resolution: 1.0, max_f1: 0.038011695906432746\n",
      "Cluster for iso_label_1.2 with leiden\n",
      "resolution: 1.2, max_f1: 0.04146730462519936\n",
      "Cluster for iso_label_1.4 with leiden\n",
      "resolution: 1.4, max_f1: 0.05177993527508091\n",
      "Cluster for iso_label_1.6 with leiden\n",
      "resolution: 1.6, max_f1: 0.0625\n",
      "Cluster for iso_label_1.8 with leiden\n",
      "resolution: 1.8, max_f1: 0.07179487179487179\n",
      "Cluster for iso_label_2.0 with leiden\n",
      "resolution: 2.0, max_f1: 0.07462686567164178\n",
      "optimised clustering against cell_type\n",
      "optimal cluster resolution: 2.0\n",
      "optimal score: 0.07462686567164178\n",
      "mature T cell: 0.07462686567164178\n",
      "Cluster for iso_label_0.2 with leiden\n",
      "resolution: 0.2, max_f1: 0.05100671140939597\n",
      "Cluster for iso_label_0.4 with leiden\n",
      "resolution: 0.4, max_f1: 0.09559748427672957\n",
      "Cluster for iso_label_0.6 with leiden\n",
      "resolution: 0.6, max_f1: 0.1523046092184369\n",
      "Cluster for iso_label_0.8 with leiden\n",
      "resolution: 0.8, max_f1: 0.15415821501014199\n",
      "Cluster for iso_label_1.0 with leiden\n",
      "resolution: 1.0, max_f1: 0.15384615384615385\n",
      "Cluster for iso_label_1.2 with leiden\n",
      "resolution: 1.2, max_f1: 0.19387755102040816\n",
      "Cluster for iso_label_1.4 with leiden\n",
      "resolution: 1.4, max_f1: 0.20159151193633953\n",
      "Cluster for iso_label_1.6 with leiden\n",
      "resolution: 1.6, max_f1: 0.2028985507246377\n",
      "Cluster for iso_label_1.8 with leiden\n",
      "resolution: 1.8, max_f1: 0.21019108280254778\n",
      "Cluster for iso_label_2.0 with leiden\n",
      "resolution: 2.0, max_f1: 0.2198952879581152\n",
      "optimised clustering against cell_type\n",
      "optimal cluster resolution: 2.0\n",
      "optimal score: 0.2198952879581152\n",
      "myoepithelial cell of mammary gland: 0.2198952879581152\n",
      "Cluster for iso_label_0.2 with leiden\n",
      "resolution: 0.2, max_f1: 0.08047493403693931\n",
      "Cluster for iso_label_0.4 with leiden\n",
      "resolution: 0.4, max_f1: 0.14859926918392205\n",
      "Cluster for iso_label_0.6 with leiden\n",
      "resolution: 0.6, max_f1: 0.18666666666666668\n",
      "Cluster for iso_label_0.8 with leiden\n",
      "resolution: 0.8, max_f1: 0.16570327552986513\n",
      "Cluster for iso_label_1.0 with leiden\n",
      "resolution: 1.0, max_f1: 0.17307692307692307\n",
      "Cluster for iso_label_1.2 with leiden\n",
      "resolution: 1.2, max_f1: 0.1339712918660287\n",
      "Cluster for iso_label_1.4 with leiden\n",
      "resolution: 1.4, max_f1: 0.1978021978021978\n",
      "Cluster for iso_label_1.6 with leiden\n",
      "resolution: 1.6, max_f1: 0.25\n",
      "Cluster for iso_label_1.8 with leiden\n",
      "resolution: 1.8, max_f1: 0.22818791946308725\n",
      "Cluster for iso_label_2.0 with leiden\n",
      "resolution: 2.0, max_f1: 0.15789473684210525\n",
      "optimised clustering against cell_type\n",
      "optimal cluster resolution: 1.6\n",
      "optimal score: 0.25\n",
      "regular ventricular cardiac myocyte: 0.25\n",
      "mmcontext.eval.evaluate_scib - ERROR - Error computing PCR: pcr_comparison() got multiple values for argument 'adata_pre'\n",
      "mean silhouette per group:                                                  silhouette_score\n",
      "group                                                            \n",
      "B cell                                                   0.901399\n",
      "CD4-positive, alpha-beta T cell                          0.949689\n",
      "CD8-positive, alpha-beta T cell                          0.938164\n",
      "T cell                                                   0.901931\n",
      "alveolar macrophage                                      0.925752\n",
      "astrocyte                                                0.967779\n",
      "capillary endothelial cell                               0.922784\n",
      "effector memory CD8-positive, alpha-beta T cell          0.932989\n",
      "endothelial cell                                         0.891778\n",
      "enterocyte                                               0.933693\n",
      "epithelial cell of proximal tubule                       0.951485\n",
      "erythrocyte                                              0.977367\n",
      "fibroblast                                               0.874986\n",
      "interneuron                                              0.965167\n",
      "macrophage                                               0.887680\n",
      "malignant cell                                           0.983462\n",
      "microglial cell                                          0.909728\n",
      "monocyte                                                 0.886487\n",
      "myeloid cell                                             0.958343\n",
      "natural killer cell                                      0.889162\n",
      "neural cell                                              0.774202\n",
      "neutrophil                                               0.934845\n",
      "oligodendrocyte                                          0.943443\n",
      "oligodendrocyte precursor cell                           0.882569\n",
      "pericyte                                                 0.869363\n",
      "plasma cell                                              0.959471\n",
      "precursor B cell                                         0.965083\n",
      "unknown                                                  0.830265\n",
      "vein endothelial cell                                    0.867595mmcontext.eval.evaluate_scib - ERROR - Error computing iLISI: [Errno 8] Exec format error: '/Users/mengerj/Library/Application Support/hatch/env/virtual/mmcontext/NDS_X2Wf/mmcontext/lib/python3.10/site-packages/scib/knn_graph/knn_graph.o'\n",
      "\n",
      "mmcontext.eval.evaluate_scib - INFO - Computing metrics on embedding 'scvi'...\n",
      "mmcontext.eval.evaluate_scib - INFO - Subsampling to 2000 cells for embedding_scvi...\n",
      "Cluster for cluster_0.2 with leiden\n",
      "resolution: 0.2, nmi: 0.5812645839492389\n",
      "Cluster for cluster_0.4 with leiden\n",
      "resolution: 0.4, nmi: 0.6530158436369039\n",
      "Cluster for cluster_0.6 with leiden\n",
      "resolution: 0.6, nmi: 0.6716304210167457\n",
      "Cluster for cluster_0.8 with leiden\n",
      "resolution: 0.8, nmi: 0.6794256719064504\n",
      "Cluster for cluster_1.0 with leiden\n",
      "resolution: 1.0, nmi: 0.6828686533945002\n",
      "Cluster for cluster_1.2 with leiden\n",
      "resolution: 1.2, nmi: 0.679938528726626\n",
      "Cluster for cluster_1.4 with leiden\n",
      "resolution: 1.4, nmi: 0.7052634715512839\n",
      "Cluster for cluster_1.6 with leiden\n",
      "resolution: 1.6, nmi: 0.6998536311430819\n",
      "Cluster for cluster_1.8 with leiden\n",
      "resolution: 1.8, nmi: 0.7036484666531668\n",
      "Cluster for cluster_2.0 with leiden\n",
      "resolution: 2.0, nmi: 0.7022647321634912\n",
      "optimised clustering against cell_type\n",
      "optimal cluster resolution: 1.4\n",
      "optimal score: 0.7052634715512839\n",
      "isolated labels: no more than 1 batches per label\n",
      "isolated labels: ['GABAergic amacrine cell', 'Mueller cell', 'OFF-bipolar cell', 'ON-bipolar cell', 'Purkinje cell', 'cerebellar granule cell', 'cerebral cortex neuron', 'fibroblast of mammary gland', 'glycinergic amacrine cell', 'luminal adaptive secretory precursor cell of mammary gland', 'luminal hormone-sensing cell of mammary gland', 'macroglial cell', 'mature T cell', 'myoepithelial cell of mammary gland', 'regular ventricular cardiac myocyte']\n",
      "isolated labels: no more than 1 batches per label\n",
      "isolated labels: ['GABAergic amacrine cell', 'Mueller cell', 'OFF-bipolar cell', 'ON-bipolar cell', 'Purkinje cell', 'cerebellar granule cell', 'cerebral cortex neuron', 'fibroblast of mammary gland', 'glycinergic amacrine cell', 'luminal adaptive secretory precursor cell of mammary gland', 'luminal hormone-sensing cell of mammary gland', 'macroglial cell', 'mature T cell', 'myoepithelial cell of mammary gland', 'regular ventricular cardiac myocyte']\n",
      "Cluster for iso_label_0.2 with leiden\n",
      "mmcontext.eval.evaluate_scib - ERROR - Error computing cLISI: [Errno 8] Exec format error: '/Users/mengerj/Library/Application Support/hatch/env/virtual/mmcontext/NDS_X2Wf/mmcontext/lib/python3.10/site-packages/scib/knn_graph/knn_graph.o'\n",
      "resolution: 0.2, max_f1: 0.07449856733524356\n",
      "Cluster for iso_label_0.4 with leiden\n",
      "resolution: 0.4, max_f1: 0.24390243902439024\n",
      "Cluster for iso_label_0.6 with leiden\n",
      "GABAergic amacrine cell: 0.548797607421875\n",
      "Mueller cell: 0.49272286891937256\n",
      "resolution: 0.6, max_f1: 0.34965034965034963\n",
      "Cluster for iso_label_0.8 with leiden\n",
      "OFF-bipolar cell: 0.5838613510131836\n",
      "ON-bipolar cell: 0.558111846446991\n",
      "Purkinje cell: 0.6582838892936707\n",
      "cerebellar granule cell: 0.637606680393219\n",
      "cerebral cortex neuron: 0.6361243724822998\n",
      "resolution: 0.8, max_f1: 0.34965034965034963\n",
      "Cluster for iso_label_1.0 with leiden\n",
      "fibroblast of mammary gland: 0.5390492081642151\n",
      "glycinergic amacrine cell: 0.5282081365585327\n",
      "luminal adaptive secretory precursor cell of mammary gland: 0.5038248300552368\n",
      "luminal hormone-sensing cell of mammary gland: 0.5413585305213928\n",
      "macroglial cell: 0.5570958256721497\n",
      "resolution: 1.0, max_f1: 0.34965034965034963\n",
      "Cluster for iso_label_1.2 with leiden\n",
      "mature T cell: 0.45462876558303833\n",
      "myoepithelial cell of mammary gland: 0.5409199595451355\n",
      "regular ventricular cardiac myocyte: 0.6174293756484985\n",
      "resolution: 1.2, max_f1: 0.3424657534246575\n",
      "Cluster for iso_label_1.4 with leiden\n",
      "resolution: 1.4, max_f1: 0.5617977528089888\n",
      "Cluster for iso_label_1.6 with leiden\n",
      "resolution: 1.6, max_f1: 0.5617977528089888\n",
      "Cluster for iso_label_1.8 with leiden\n",
      "resolution: 1.8, max_f1: 0.5617977528089888\n",
      "Cluster for iso_label_2.0 with leiden\n",
      "resolution: 2.0, max_f1: 0.5555555555555556\n",
      "optimised clustering against cell_type\n",
      "optimal cluster resolution: 1.4\n",
      "optimal score: 0.5617977528089888\n",
      "GABAergic amacrine cell: 0.5617977528089888\n",
      "Cluster for iso_label_0.2 with leiden\n",
      "resolution: 0.2, max_f1: 0.22869955156950672\n",
      "Cluster for iso_label_0.4 with leiden\n",
      "resolution: 0.4, max_f1: 0.3469387755102041\n",
      "Cluster for iso_label_0.6 with leiden\n",
      "resolution: 0.6, max_f1: 0.4307692307692308\n",
      "Cluster for iso_label_0.8 with leiden\n",
      "resolution: 0.8, max_f1: 0.4307692307692308\n",
      "Cluster for iso_label_1.0 with leiden\n",
      "resolution: 1.0, max_f1: 0.6493506493506493\n",
      "Cluster for iso_label_1.2 with leiden\n",
      "resolution: 1.2, max_f1: 0.6493506493506493\n",
      "Cluster for iso_label_1.4 with leiden\n",
      "resolution: 1.4, max_f1: 0.6493506493506493\n",
      "Cluster for iso_label_1.6 with leiden\n",
      "resolution: 1.6, max_f1: 0.6493506493506493\n",
      "Cluster for iso_label_1.8 with leiden\n",
      "resolution: 1.8, max_f1: 0.6493506493506493\n",
      "Cluster for iso_label_2.0 with leiden\n",
      "resolution: 2.0, max_f1: 0.6493506493506493\n",
      "optimised clustering against cell_type\n",
      "optimal cluster resolution: 1.0\n",
      "optimal score: 0.6493506493506493\n",
      "Mueller cell: 0.6493506493506493\n",
      "Cluster for iso_label_0.2 with leiden\n",
      "resolution: 0.2, max_f1: 0.043668122270742356\n",
      "Cluster for iso_label_0.4 with leiden\n",
      "resolution: 0.4, max_f1: 0.15463917525773196\n",
      "Cluster for iso_label_0.6 with leiden\n",
      "resolution: 0.6, max_f1: 0.22727272727272727\n",
      "Cluster for iso_label_0.8 with leiden\n",
      "resolution: 0.8, max_f1: 0.22727272727272727\n",
      "Cluster for iso_label_1.0 with leiden\n",
      "resolution: 1.0, max_f1: 0.22727272727272727\n",
      "Cluster for iso_label_1.2 with leiden\n",
      "resolution: 1.2, max_f1: 0.2222222222222222\n",
      "Cluster for iso_label_1.4 with leiden\n",
      "resolution: 1.4, max_f1: 0.42424242424242425\n",
      "Cluster for iso_label_1.6 with leiden\n",
      "resolution: 1.6, max_f1: 0.42424242424242425\n",
      "Cluster for iso_label_1.8 with leiden\n",
      "resolution: 1.8, max_f1: 0.42424242424242425\n",
      "Cluster for iso_label_2.0 with leiden\n",
      "resolution: 2.0, max_f1: 0.42424242424242425\n",
      "optimised clustering against cell_type\n",
      "optimal cluster resolution: 1.4\n",
      "optimal score: 0.42424242424242425\n",
      "OFF-bipolar cell: 0.42424242424242425\n",
      "Cluster for iso_label_0.2 with leiden\n",
      "resolution: 0.2, max_f1: 0.09090909090909091\n",
      "Cluster for iso_label_0.4 with leiden\n",
      "resolution: 0.4, max_f1: 0.3033175355450237\n",
      "Cluster for iso_label_0.6 with leiden\n",
      "resolution: 0.6, max_f1: 0.42953020134228187\n",
      "Cluster for iso_label_0.8 with leiden\n",
      "resolution: 0.8, max_f1: 0.42953020134228187\n",
      "Cluster for iso_label_1.0 with leiden\n",
      "resolution: 1.0, max_f1: 0.42953020134228187\n",
      "Cluster for iso_label_1.2 with leiden\n",
      "resolution: 1.2, max_f1: 0.42105263157894735\n",
      "Cluster for iso_label_1.4 with leiden\n",
      "resolution: 1.4, max_f1: 0.7710843373493976\n",
      "Cluster for iso_label_1.6 with leiden\n",
      "resolution: 1.6, max_f1: 0.7710843373493976\n",
      "Cluster for iso_label_1.8 with leiden\n",
      "resolution: 1.8, max_f1: 0.7710843373493976\n",
      "Cluster for iso_label_2.0 with leiden\n",
      "resolution: 2.0, max_f1: 0.7710843373493976\n",
      "optimised clustering against cell_type\n",
      "optimal cluster resolution: 1.4\n",
      "optimal score: 0.7710843373493976\n",
      "ON-bipolar cell: 0.7710843373493976\n",
      "Cluster for iso_label_0.2 with leiden\n",
      "resolution: 0.2, max_f1: 0.2151394422310757\n",
      "Cluster for iso_label_0.4 with leiden\n",
      "resolution: 0.4, max_f1: 0.5547945205479452\n",
      "Cluster for iso_label_0.6 with leiden\n",
      "resolution: 0.6, max_f1: 0.5547945205479452\n",
      "Cluster for iso_label_0.8 with leiden\n",
      "resolution: 0.8, max_f1: 0.5934065934065934\n",
      "Cluster for iso_label_1.0 with leiden\n",
      "resolution: 1.0, max_f1: 0.5977859778597786\n",
      "Cluster for iso_label_1.2 with leiden\n",
      "resolution: 1.2, max_f1: 0.6044776119402985\n",
      "Cluster for iso_label_1.4 with leiden\n",
      "resolution: 1.4, max_f1: 0.8795180722891566\n",
      "Cluster for iso_label_1.6 with leiden\n",
      "resolution: 1.6, max_f1: 0.8795180722891566\n",
      "Cluster for iso_label_1.8 with leiden\n",
      "resolution: 1.8, max_f1: 0.9012345679012346\n",
      "Cluster for iso_label_2.0 with leiden\n",
      "resolution: 2.0, max_f1: 0.9012345679012346\n",
      "optimised clustering against cell_type\n",
      "optimal cluster resolution: 1.8\n",
      "optimal score: 0.9012345679012346\n",
      "Purkinje cell: 0.9012345679012346\n",
      "Cluster for iso_label_0.2 with leiden\n",
      "resolution: 0.2, max_f1: 0.5321100917431193\n",
      "Cluster for iso_label_0.4 with leiden\n",
      "resolution: 0.4, max_f1: 0.5185185185185185\n",
      "Cluster for iso_label_0.6 with leiden\n",
      "resolution: 0.6, max_f1: 0.5185185185185185\n",
      "Cluster for iso_label_0.8 with leiden\n",
      "resolution: 0.8, max_f1: 0.5185185185185185\n",
      "Cluster for iso_label_1.0 with leiden\n",
      "resolution: 1.0, max_f1: 0.5321100917431193\n",
      "Cluster for iso_label_1.2 with leiden\n",
      "resolution: 1.2, max_f1: 0.5321100917431193\n",
      "Cluster for iso_label_1.4 with leiden\n",
      "resolution: 1.4, max_f1: 0.5321100917431193\n",
      "Cluster for iso_label_1.6 with leiden\n",
      "resolution: 1.6, max_f1: 0.5321100917431193\n",
      "Cluster for iso_label_1.8 with leiden\n",
      "resolution: 1.8, max_f1: 0.5321100917431193\n",
      "Cluster for iso_label_2.0 with leiden\n",
      "resolution: 2.0, max_f1: 0.5321100917431193\n",
      "optimised clustering against cell_type\n",
      "optimal cluster resolution: 0.2\n",
      "optimal score: 0.5321100917431193\n",
      "cerebellar granule cell: 0.5321100917431193\n",
      "Cluster for iso_label_0.2 with leiden\n",
      "resolution: 0.2, max_f1: 0.04644412191582003\n",
      "Cluster for iso_label_0.4 with leiden\n",
      "resolution: 0.4, max_f1: 0.09907120743034056\n",
      "Cluster for iso_label_0.6 with leiden\n",
      "resolution: 0.6, max_f1: 0.09846153846153846\n",
      "Cluster for iso_label_0.8 with leiden\n",
      "resolution: 0.8, max_f1: 0.19393939393939394\n",
      "Cluster for iso_label_1.0 with leiden\n",
      "resolution: 1.0, max_f1: 0.19393939393939394\n",
      "Cluster for iso_label_1.2 with leiden\n",
      "resolution: 1.2, max_f1: 0.19393939393939394\n",
      "Cluster for iso_label_1.4 with leiden\n",
      "resolution: 1.4, max_f1: 0.20382165605095542\n",
      "Cluster for iso_label_1.6 with leiden\n",
      "resolution: 1.6, max_f1: 0.2542372881355932\n",
      "Cluster for iso_label_1.8 with leiden\n",
      "resolution: 1.8, max_f1: 0.2777777777777778\n",
      "Cluster for iso_label_2.0 with leiden\n",
      "resolution: 2.0, max_f1: 0.2777777777777778\n",
      "optimised clustering against cell_type\n",
      "optimal cluster resolution: 1.8\n",
      "optimal score: 0.2777777777777778\n",
      "cerebral cortex neuron: 0.2777777777777778\n",
      "Cluster for iso_label_0.2 with leiden\n",
      "resolution: 0.2, max_f1: 0.11455847255369929\n",
      "Cluster for iso_label_0.4 with leiden\n",
      "resolution: 0.4, max_f1: 0.17228464419475656\n",
      "Cluster for iso_label_0.6 with leiden\n",
      "resolution: 0.6, max_f1: 0.1752988047808765\n",
      "Cluster for iso_label_0.8 with leiden\n",
      "resolution: 0.8, max_f1: 0.17886178861788618\n",
      "Cluster for iso_label_1.0 with leiden\n",
      "resolution: 1.0, max_f1: 0.18803418803418803\n",
      "Cluster for iso_label_1.2 with leiden\n",
      "resolution: 1.2, max_f1: 0.18803418803418803\n",
      "Cluster for iso_label_1.4 with leiden\n",
      "resolution: 1.4, max_f1: 0.18803418803418803\n",
      "Cluster for iso_label_1.6 with leiden\n",
      "resolution: 1.6, max_f1: 0.19469026548672566\n",
      "Cluster for iso_label_1.8 with leiden\n",
      "resolution: 1.8, max_f1: 0.6031746031746031\n",
      "Cluster for iso_label_2.0 with leiden\n",
      "resolution: 2.0, max_f1: 0.6129032258064516\n",
      "optimised clustering against cell_type\n",
      "optimal cluster resolution: 2.0\n",
      "optimal score: 0.6129032258064516\n",
      "fibroblast of mammary gland: 0.6129032258064516\n",
      "Cluster for iso_label_0.2 with leiden\n",
      "resolution: 0.2, max_f1: 0.09361702127659574\n",
      "Cluster for iso_label_0.4 with leiden\n",
      "resolution: 0.4, max_f1: 0.29245283018867924\n",
      "Cluster for iso_label_0.6 with leiden\n",
      "resolution: 0.6, max_f1: 0.41333333333333333\n",
      "Cluster for iso_label_0.8 with leiden\n",
      "resolution: 0.8, max_f1: 0.41333333333333333\n",
      "Cluster for iso_label_1.0 with leiden\n",
      "resolution: 1.0, max_f1: 0.41333333333333333\n",
      "Cluster for iso_label_1.2 with leiden\n",
      "resolution: 1.2, max_f1: 0.40522875816993464\n",
      "Cluster for iso_label_1.4 with leiden\n",
      "resolution: 1.4, max_f1: 0.6458333333333334\n",
      "Cluster for iso_label_1.6 with leiden\n",
      "resolution: 1.6, max_f1: 0.6458333333333334\n",
      "Cluster for iso_label_1.8 with leiden\n",
      "resolution: 1.8, max_f1: 0.6458333333333334\n",
      "Cluster for iso_label_2.0 with leiden\n",
      "resolution: 2.0, max_f1: 0.6391752577319587\n",
      "optimised clustering against cell_type\n",
      "optimal cluster resolution: 1.4\n",
      "optimal score: 0.6458333333333334\n",
      "glycinergic amacrine cell: 0.6458333333333334\n",
      "Cluster for iso_label_0.2 with leiden\n",
      "resolution: 0.2, max_f1: 0.05217391304347826\n",
      "Cluster for iso_label_0.4 with leiden\n",
      "resolution: 0.4, max_f1: 0.14847161572052403\n",
      "Cluster for iso_label_0.6 with leiden\n",
      "resolution: 0.6, max_f1: 0.14847161572052403\n",
      "Cluster for iso_label_0.8 with leiden\n",
      "resolution: 0.8, max_f1: 0.1619047619047619\n",
      "Cluster for iso_label_1.0 with leiden\n",
      "resolution: 1.0, max_f1: 0.16346153846153846\n",
      "Cluster for iso_label_1.2 with leiden\n",
      "resolution: 1.2, max_f1: 0.16585365853658537\n",
      "Cluster for iso_label_1.4 with leiden\n",
      "resolution: 1.4, max_f1: 0.2809917355371901\n",
      "Cluster for iso_label_1.6 with leiden\n",
      "resolution: 1.6, max_f1: 0.2809917355371901\n",
      "Cluster for iso_label_1.8 with leiden\n",
      "resolution: 1.8, max_f1: 0.272\n",
      "Cluster for iso_label_2.0 with leiden\n",
      "resolution: 2.0, max_f1: 0.27419354838709675\n",
      "optimised clustering against cell_type\n",
      "optimal cluster resolution: 1.4\n",
      "optimal score: 0.2809917355371901\n",
      "luminal adaptive secretory precursor cell of mammary gland: 0.2809917355371901\n",
      "Cluster for iso_label_0.2 with leiden\n",
      "resolution: 0.2, max_f1: 0.06896551724137931\n",
      "Cluster for iso_label_0.4 with leiden\n",
      "resolution: 0.4, max_f1: 0.12727272727272726\n",
      "Cluster for iso_label_0.6 with leiden\n",
      "resolution: 0.6, max_f1: 0.12650602409638553\n",
      "Cluster for iso_label_0.8 with leiden\n",
      "resolution: 0.8, max_f1: 0.3888888888888889\n",
      "Cluster for iso_label_1.0 with leiden\n",
      "resolution: 1.0, max_f1: 0.3888888888888889\n",
      "Cluster for iso_label_1.2 with leiden\n",
      "resolution: 1.2, max_f1: 0.3888888888888889\n",
      "Cluster for iso_label_1.4 with leiden\n",
      "resolution: 1.4, max_f1: 0.8695652173913043\n",
      "Cluster for iso_label_1.6 with leiden\n",
      "resolution: 1.6, max_f1: 0.8695652173913043\n",
      "Cluster for iso_label_1.8 with leiden\n",
      "resolution: 1.8, max_f1: 0.8695652173913043\n",
      "Cluster for iso_label_2.0 with leiden\n",
      "resolution: 2.0, max_f1: 0.8695652173913043\n",
      "optimised clustering against cell_type\n",
      "optimal cluster resolution: 1.4\n",
      "optimal score: 0.8695652173913043\n",
      "luminal hormone-sensing cell of mammary gland: 0.8695652173913043\n",
      "Cluster for iso_label_0.2 with leiden\n",
      "resolution: 0.2, max_f1: 0.10952380952380952\n",
      "Cluster for iso_label_0.4 with leiden\n",
      "resolution: 0.4, max_f1: 0.1417910447761194\n",
      "Cluster for iso_label_0.6 with leiden\n",
      "resolution: 0.6, max_f1: 0.15079365079365079\n",
      "Cluster for iso_label_0.8 with leiden\n",
      "resolution: 0.8, max_f1: 0.15384615384615385\n",
      "Cluster for iso_label_1.0 with leiden\n",
      "resolution: 1.0, max_f1: 0.16170212765957448\n",
      "Cluster for iso_label_1.2 with leiden\n",
      "resolution: 1.2, max_f1: 0.16170212765957448\n",
      "Cluster for iso_label_1.4 with leiden\n",
      "resolution: 1.4, max_f1: 0.16170212765957448\n",
      "Cluster for iso_label_1.6 with leiden\n",
      "resolution: 1.6, max_f1: 0.16740088105726872\n",
      "Cluster for iso_label_1.8 with leiden\n",
      "resolution: 1.8, max_f1: 0.18461538461538463\n",
      "Cluster for iso_label_2.0 with leiden\n",
      "resolution: 2.0, max_f1: 0.272\n",
      "optimised clustering against cell_type\n",
      "optimal cluster resolution: 2.0\n",
      "optimal score: 0.272\n",
      "macroglial cell: 0.272\n",
      "Cluster for iso_label_0.2 with leiden\n",
      "resolution: 0.2, max_f1: 0.10566037735849057\n",
      "Cluster for iso_label_0.4 with leiden\n",
      "resolution: 0.4, max_f1: 0.10566037735849057\n",
      "Cluster for iso_label_0.6 with leiden\n",
      "resolution: 0.6, max_f1: 0.10606060606060606\n",
      "Cluster for iso_label_0.8 with leiden\n",
      "resolution: 0.8, max_f1: 0.1411764705882353\n",
      "Cluster for iso_label_1.0 with leiden\n",
      "resolution: 1.0, max_f1: 0.13636363636363635\n",
      "Cluster for iso_label_1.2 with leiden\n",
      "resolution: 1.2, max_f1: 0.13793103448275862\n",
      "Cluster for iso_label_1.4 with leiden\n",
      "resolution: 1.4, max_f1: 0.1411764705882353\n",
      "Cluster for iso_label_1.6 with leiden\n",
      "resolution: 1.6, max_f1: 0.13043478260869565\n",
      "Cluster for iso_label_1.8 with leiden\n",
      "resolution: 1.8, max_f1: 0.14666666666666667\n",
      "Cluster for iso_label_2.0 with leiden\n",
      "resolution: 2.0, max_f1: 0.14666666666666667\n",
      "optimised clustering against cell_type\n",
      "optimal cluster resolution: 1.8\n",
      "optimal score: 0.14666666666666667\n",
      "mature T cell: 0.14666666666666667\n",
      "Cluster for iso_label_0.2 with leiden\n",
      "resolution: 0.2, max_f1: 0.04028776978417266\n",
      "Cluster for iso_label_0.4 with leiden\n",
      "resolution: 0.4, max_f1: 0.0851063829787234\n",
      "Cluster for iso_label_0.6 with leiden\n",
      "resolution: 0.6, max_f1: 0.10876132930513595\n",
      "Cluster for iso_label_0.8 with leiden\n",
      "resolution: 0.8, max_f1: 0.2289156626506024\n",
      "Cluster for iso_label_1.0 with leiden\n",
      "resolution: 1.0, max_f1: 0.2289156626506024\n",
      "Cluster for iso_label_1.2 with leiden\n",
      "resolution: 1.2, max_f1: 0.4\n",
      "Cluster for iso_label_1.4 with leiden\n",
      "resolution: 1.4, max_f1: 0.4\n",
      "Cluster for iso_label_1.6 with leiden\n",
      "resolution: 1.6, max_f1: 0.4175824175824176\n",
      "Cluster for iso_label_1.8 with leiden\n",
      "resolution: 1.8, max_f1: 0.4\n",
      "Cluster for iso_label_2.0 with leiden\n",
      "resolution: 2.0, max_f1: 0.4\n",
      "optimised clustering against cell_type\n",
      "optimal cluster resolution: 1.6\n",
      "optimal score: 0.4175824175824176\n",
      "myoepithelial cell of mammary gland: 0.4175824175824176\n",
      "Cluster for iso_label_0.2 with leiden\n",
      "resolution: 0.2, max_f1: 0.15384615384615385\n",
      "Cluster for iso_label_0.4 with leiden\n",
      "resolution: 0.4, max_f1: 0.4765957446808511\n",
      "Cluster for iso_label_0.6 with leiden\n",
      "resolution: 0.6, max_f1: 0.8983050847457628\n",
      "Cluster for iso_label_0.8 with leiden\n",
      "resolution: 0.8, max_f1: 0.7571428571428571\n",
      "Cluster for iso_label_1.0 with leiden\n",
      "resolution: 1.0, max_f1: 0.7571428571428571\n",
      "Cluster for iso_label_1.2 with leiden\n",
      "resolution: 1.2, max_f1: 0.7571428571428571\n",
      "Cluster for iso_label_1.4 with leiden\n",
      "resolution: 1.4, max_f1: 0.8548387096774194\n",
      "Cluster for iso_label_1.6 with leiden\n",
      "resolution: 1.6, max_f1: 0.848\n",
      "Cluster for iso_label_1.8 with leiden\n",
      "resolution: 1.8, max_f1: 0.848\n",
      "Cluster for iso_label_2.0 with leiden\n",
      "resolution: 2.0, max_f1: 0.848\n",
      "optimised clustering against cell_type\n",
      "optimal cluster resolution: 0.6\n",
      "optimal score: 0.8983050847457628\n",
      "regular ventricular cardiac myocyte: 0.8983050847457628\n",
      "mmcontext.eval.evaluate_scib - ERROR - Error computing PCR: pcr_comparison() got multiple values for argument 'adata_pre'\n",
      "mmcontext.eval.evaluate_scib - ERROR - Error computing iLISI: [Errno 8] Exec format error: '/Users/mengerj/Library/Application Support/hatch/env/virtual/mmcontext/NDS_X2Wf/mmcontext/lib/python3.10/site-packages/scib/knn_graph/knn_graph.o'\n",
      "mean silhouette per group:                                                  silhouette_score\n",
      "group                                                            \n",
      "B cell                                                   0.760129\n",
      "CD4-positive, alpha-beta T cell                          0.741358\n",
      "CD8-positive, alpha-beta T cell                          0.822783\n",
      "T cell                                                   0.850610\n",
      "alveolar macrophage                                      0.906778\n",
      "astrocyte                                                0.851399\n",
      "capillary endothelial cell                               0.815529\n",
      "effector memory CD8-positive, alpha-beta T cell          0.850393\n",
      "endothelial cell                                         0.849955\n",
      "enterocyte                                               0.545200\n",
      "epithelial cell of proximal tubule                       0.855488\n",
      "erythrocyte                                              0.520343\n",
      "fibroblast                                               0.804040\n",
      "interneuron                                              0.769647\n",
      "macrophage                                               0.798578\n",
      "malignant cell                                           0.786395\n",
      "microglial cell                                          0.831455\n",
      "monocyte                                                 0.830044\n",
      "myeloid cell                                             0.817637\n",
      "natural killer cell                                      0.806195\n",
      "neural cell                                              0.738065\n",
      "neutrophil                                               0.773141\n",
      "oligodendrocyte                                          0.846719\n",
      "oligodendrocyte precursor cell                           0.804582\n",
      "pericyte                                                 0.786288\n",
      "plasma cell                                              0.764167\n",
      "precursor B cell                                         0.730120\n",
      "unknown                                                  0.800284\n",
      "vein endothelial cell                                    0.842005\n",
      "mmcontext.eval.evaluate_scib - INFO - Computing metrics on embedding 'context_encoder_mod_emb'...\n",
      "mmcontext.eval.evaluate_scib - INFO - Subsampling to 2000 cells for embedding_context_encoder_mod_emb...\n",
      "Cluster for cluster_0.2 with leiden\n",
      "resolution: 0.2, nmi: 0.9999999999999999\n",
      "Cluster for cluster_0.4 with leiden\n",
      "resolution: 0.4, nmi: 0.9999999999999999\n"
     ]
    },
    {
     "name": "stderr",
     "output_type": "stream",
     "text": [
      "/Users/mengerj/Library/Application Support/hatch/env/virtual/mmcontext/NDS_X2Wf/mmcontext/lib/python3.10/site-packages/scipy/sparse/_index.py:197: SparseEfficiencyWarning: Changing the sparsity structure of a csr_matrix is expensive. lil and dok are more efficient.\n",
      "  self._set_arrayXarray(i, j, x)\n"
     ]
    },
    {
     "name": "stdout",
     "output_type": "stream",
     "text": [
      "Cluster for cluster_0.6 with leiden\n",
      "resolution: 0.6, nmi: 0.9999999999999999\n",
      "Cluster for cluster_0.8 with leiden\n",
      "resolution: 0.8, nmi: 0.9999999999999999\n",
      "Cluster for cluster_1.0 with leiden\n",
      "resolution: 1.0, nmi: 0.9999999999999999\n",
      "Cluster for cluster_1.2 with leiden\n",
      "resolution: 1.2, nmi: 0.9999999999999999\n",
      "Cluster for cluster_1.4 with leiden\n",
      "resolution: 1.4, nmi: 0.9999999999999999\n",
      "Cluster for cluster_1.6 with leiden\n",
      "resolution: 1.6, nmi: 0.9999999999999999\n",
      "Cluster for cluster_1.8 with leiden\n",
      "resolution: 1.8, nmi: 0.9999999999999999\n",
      "Cluster for cluster_2.0 with leiden\n",
      "resolution: 2.0, nmi: 0.9999999999999999\n",
      "optimised clustering against cell_type\n",
      "optimal cluster resolution: 0.2\n",
      "optimal score: 0.9999999999999999\n",
      "isolated labels: no more than 1 batches per label\n",
      "isolated labels: ['GABAergic amacrine cell', 'Mueller cell', 'OFF-bipolar cell', 'ON-bipolar cell', 'Purkinje cell', 'cerebellar granule cell', 'cerebral cortex neuron', 'fibroblast of mammary gland', 'glycinergic amacrine cell', 'luminal adaptive secretory precursor cell of mammary gland', 'luminal hormone-sensing cell of mammary gland', 'macroglial cell', 'mature T cell', 'myoepithelial cell of mammary gland', 'regular ventricular cardiac myocyte']\n",
      "isolated labels: no more than 1 batches per label\n",
      "isolated labels: ['GABAergic amacrine cell', 'Mueller cell', 'OFF-bipolar cell', 'ON-bipolar cell', 'Purkinje cell', 'cerebellar granule cell', 'cerebral cortex neuron', 'fibroblast of mammary gland', 'glycinergic amacrine cell', 'luminal adaptive secretory precursor cell of mammary gland', 'luminal hormone-sensing cell of mammary gland', 'macroglial cell', 'mature T cell', 'myoepithelial cell of mammary gland', 'regular ventricular cardiac myocyte']\n",
      "Cluster for iso_label_0.2 with leiden\n",
      "mmcontext.eval.evaluate_scib - ERROR - Error computing cLISI: [Errno 8] Exec format error: '/Users/mengerj/Library/Application Support/hatch/env/virtual/mmcontext/NDS_X2Wf/mmcontext/lib/python3.10/site-packages/scib/knn_graph/knn_graph.o'\n"
     ]
    },
    {
     "name": "stderr",
     "output_type": "stream",
     "text": [
      "/Users/mengerj/Library/Application Support/hatch/env/virtual/mmcontext/NDS_X2Wf/mmcontext/lib/python3.10/site-packages/scipy/sparse/_index.py:197: SparseEfficiencyWarning: Changing the sparsity structure of a csr_matrix is expensive. lil and dok are more efficient.\n",
      "  self._set_arrayXarray(i, j, x)\n"
     ]
    },
    {
     "name": "stdout",
     "output_type": "stream",
     "text": [
      "GABAergic amacrine cell: 1.0\n",
      "resolution: 0.2, max_f1: 1.0\n",
      "Cluster for iso_label_0.4 with leiden\n",
      "Mueller cell: 1.0\n",
      "OFF-bipolar cell: 1.0\n",
      "ON-bipolar cell: 1.0\n",
      "Purkinje cell: 1.0\n",
      "cerebellar granule cell: 1.0\n",
      "cerebral cortex neuron: 1.0\n",
      "fibroblast of mammary gland: 1.0\n",
      "glycinergic amacrine cell: 0.9999999403953552\n",
      "luminal adaptive secretory precursor cell of mammary gland: 1.0\n",
      "luminal hormone-sensing cell of mammary gland: 1.0\n",
      "resolution: 0.4, max_f1: 1.0\n",
      "Cluster for iso_label_0.6 with leiden\n",
      "macroglial cell: 1.0\n",
      "mature T cell: 1.0\n",
      "myoepithelial cell of mammary gland: 1.0\n",
      "regular ventricular cardiac myocyte: 1.0\n",
      "resolution: 0.6, max_f1: 1.0\n",
      "Cluster for iso_label_0.8 with leiden\n",
      "resolution: 0.8, max_f1: 1.0\n",
      "Cluster for iso_label_1.0 with leiden\n",
      "resolution: 1.0, max_f1: 1.0\n",
      "Cluster for iso_label_1.2 with leiden\n",
      "resolution: 1.2, max_f1: 1.0\n",
      "Cluster for iso_label_1.4 with leiden\n",
      "resolution: 1.4, max_f1: 1.0\n",
      "Cluster for iso_label_1.6 with leiden\n",
      "resolution: 1.6, max_f1: 1.0\n",
      "Cluster for iso_label_1.8 with leiden\n",
      "resolution: 1.8, max_f1: 1.0\n",
      "Cluster for iso_label_2.0 with leiden\n",
      "resolution: 2.0, max_f1: 1.0\n",
      "optimised clustering against cell_type\n",
      "optimal cluster resolution: 0.2\n",
      "optimal score: 1.0\n",
      "GABAergic amacrine cell: 1.0\n",
      "Cluster for iso_label_0.2 with leiden\n",
      "resolution: 0.2, max_f1: 1.0\n",
      "Cluster for iso_label_0.4 with leiden\n",
      "resolution: 0.4, max_f1: 1.0\n",
      "Cluster for iso_label_0.6 with leiden\n",
      "resolution: 0.6, max_f1: 1.0\n",
      "Cluster for iso_label_0.8 with leiden\n",
      "resolution: 0.8, max_f1: 1.0\n",
      "Cluster for iso_label_1.0 with leiden\n",
      "resolution: 1.0, max_f1: 1.0\n",
      "Cluster for iso_label_1.2 with leiden\n",
      "resolution: 1.2, max_f1: 1.0\n",
      "Cluster for iso_label_1.4 with leiden\n",
      "resolution: 1.4, max_f1: 1.0\n",
      "Cluster for iso_label_1.6 with leiden\n",
      "resolution: 1.6, max_f1: 1.0\n",
      "Cluster for iso_label_1.8 with leiden\n",
      "resolution: 1.8, max_f1: 1.0\n",
      "Cluster for iso_label_2.0 with leiden\n",
      "resolution: 2.0, max_f1: 1.0\n",
      "optimised clustering against cell_type\n",
      "optimal cluster resolution: 0.2\n",
      "optimal score: 1.0\n",
      "Mueller cell: 1.0\n",
      "Cluster for iso_label_0.2 with leiden\n",
      "resolution: 0.2, max_f1: 1.0\n",
      "Cluster for iso_label_0.4 with leiden\n",
      "resolution: 0.4, max_f1: 1.0\n",
      "Cluster for iso_label_0.6 with leiden\n",
      "resolution: 0.6, max_f1: 1.0\n",
      "Cluster for iso_label_0.8 with leiden\n",
      "resolution: 0.8, max_f1: 1.0\n",
      "Cluster for iso_label_1.0 with leiden\n",
      "resolution: 1.0, max_f1: 1.0\n",
      "Cluster for iso_label_1.2 with leiden\n",
      "resolution: 1.2, max_f1: 1.0\n",
      "Cluster for iso_label_1.4 with leiden\n",
      "resolution: 1.4, max_f1: 1.0\n",
      "Cluster for iso_label_1.6 with leiden\n",
      "resolution: 1.6, max_f1: 1.0\n",
      "Cluster for iso_label_1.8 with leiden\n",
      "resolution: 1.8, max_f1: 1.0\n",
      "Cluster for iso_label_2.0 with leiden\n",
      "resolution: 2.0, max_f1: 1.0\n",
      "optimised clustering against cell_type\n",
      "optimal cluster resolution: 0.2\n",
      "optimal score: 1.0\n",
      "OFF-bipolar cell: 1.0\n",
      "Cluster for iso_label_0.2 with leiden\n",
      "resolution: 0.2, max_f1: 1.0\n",
      "Cluster for iso_label_0.4 with leiden\n",
      "resolution: 0.4, max_f1: 1.0\n",
      "Cluster for iso_label_0.6 with leiden\n",
      "resolution: 0.6, max_f1: 1.0\n",
      "Cluster for iso_label_0.8 with leiden\n",
      "resolution: 0.8, max_f1: 1.0\n",
      "Cluster for iso_label_1.0 with leiden\n",
      "resolution: 1.0, max_f1: 1.0\n",
      "Cluster for iso_label_1.2 with leiden\n",
      "resolution: 1.2, max_f1: 1.0\n",
      "Cluster for iso_label_1.4 with leiden\n",
      "resolution: 1.4, max_f1: 1.0\n",
      "Cluster for iso_label_1.6 with leiden\n",
      "resolution: 1.6, max_f1: 1.0\n",
      "Cluster for iso_label_1.8 with leiden\n",
      "resolution: 1.8, max_f1: 1.0\n",
      "Cluster for iso_label_2.0 with leiden\n",
      "resolution: 2.0, max_f1: 1.0\n",
      "optimised clustering against cell_type\n",
      "optimal cluster resolution: 0.2\n",
      "optimal score: 1.0\n",
      "ON-bipolar cell: 1.0\n",
      "Cluster for iso_label_0.2 with leiden\n",
      "resolution: 0.2, max_f1: 1.0\n",
      "Cluster for iso_label_0.4 with leiden\n",
      "resolution: 0.4, max_f1: 1.0\n",
      "Cluster for iso_label_0.6 with leiden\n",
      "resolution: 0.6, max_f1: 1.0\n",
      "Cluster for iso_label_0.8 with leiden\n",
      "resolution: 0.8, max_f1: 1.0\n",
      "Cluster for iso_label_1.0 with leiden\n",
      "resolution: 1.0, max_f1: 1.0\n",
      "Cluster for iso_label_1.2 with leiden\n",
      "resolution: 1.2, max_f1: 1.0\n",
      "Cluster for iso_label_1.4 with leiden\n",
      "resolution: 1.4, max_f1: 1.0\n",
      "Cluster for iso_label_1.6 with leiden\n",
      "resolution: 1.6, max_f1: 1.0\n",
      "Cluster for iso_label_1.8 with leiden\n",
      "resolution: 1.8, max_f1: 1.0\n",
      "Cluster for iso_label_2.0 with leiden\n",
      "resolution: 2.0, max_f1: 1.0\n",
      "optimised clustering against cell_type\n",
      "optimal cluster resolution: 0.2\n",
      "optimal score: 1.0\n",
      "Purkinje cell: 1.0\n",
      "Cluster for iso_label_0.2 with leiden\n",
      "resolution: 0.2, max_f1: 1.0\n",
      "Cluster for iso_label_0.4 with leiden\n",
      "resolution: 0.4, max_f1: 1.0\n",
      "Cluster for iso_label_0.6 with leiden\n",
      "resolution: 0.6, max_f1: 1.0\n",
      "Cluster for iso_label_0.8 with leiden\n",
      "resolution: 0.8, max_f1: 1.0\n",
      "Cluster for iso_label_1.0 with leiden\n",
      "resolution: 1.0, max_f1: 1.0\n",
      "Cluster for iso_label_1.2 with leiden\n",
      "resolution: 1.2, max_f1: 1.0\n",
      "Cluster for iso_label_1.4 with leiden\n",
      "resolution: 1.4, max_f1: 1.0\n",
      "Cluster for iso_label_1.6 with leiden\n",
      "resolution: 1.6, max_f1: 1.0\n",
      "Cluster for iso_label_1.8 with leiden\n",
      "resolution: 1.8, max_f1: 1.0\n",
      "Cluster for iso_label_2.0 with leiden\n",
      "resolution: 2.0, max_f1: 1.0\n",
      "optimised clustering against cell_type\n",
      "optimal cluster resolution: 0.2\n",
      "optimal score: 1.0\n",
      "cerebellar granule cell: 1.0\n",
      "Cluster for iso_label_0.2 with leiden\n",
      "resolution: 0.2, max_f1: 1.0\n",
      "Cluster for iso_label_0.4 with leiden\n",
      "resolution: 0.4, max_f1: 1.0\n",
      "Cluster for iso_label_0.6 with leiden\n",
      "resolution: 0.6, max_f1: 1.0\n",
      "Cluster for iso_label_0.8 with leiden\n",
      "resolution: 0.8, max_f1: 1.0\n",
      "Cluster for iso_label_1.0 with leiden\n",
      "resolution: 1.0, max_f1: 1.0\n",
      "Cluster for iso_label_1.2 with leiden\n",
      "resolution: 1.2, max_f1: 1.0\n",
      "Cluster for iso_label_1.4 with leiden\n",
      "resolution: 1.4, max_f1: 1.0\n",
      "Cluster for iso_label_1.6 with leiden\n",
      "resolution: 1.6, max_f1: 1.0\n",
      "Cluster for iso_label_1.8 with leiden\n",
      "resolution: 1.8, max_f1: 1.0\n",
      "Cluster for iso_label_2.0 with leiden\n",
      "resolution: 2.0, max_f1: 1.0\n",
      "optimised clustering against cell_type\n",
      "optimal cluster resolution: 0.2\n",
      "optimal score: 1.0\n",
      "cerebral cortex neuron: 1.0\n",
      "Cluster for iso_label_0.2 with leiden\n",
      "resolution: 0.2, max_f1: 1.0\n",
      "Cluster for iso_label_0.4 with leiden\n",
      "resolution: 0.4, max_f1: 1.0\n",
      "Cluster for iso_label_0.6 with leiden\n",
      "resolution: 0.6, max_f1: 1.0\n",
      "Cluster for iso_label_0.8 with leiden\n",
      "resolution: 0.8, max_f1: 1.0\n",
      "Cluster for iso_label_1.0 with leiden\n",
      "resolution: 1.0, max_f1: 1.0\n",
      "Cluster for iso_label_1.2 with leiden\n",
      "resolution: 1.2, max_f1: 1.0\n",
      "Cluster for iso_label_1.4 with leiden\n",
      "resolution: 1.4, max_f1: 1.0\n",
      "Cluster for iso_label_1.6 with leiden\n",
      "resolution: 1.6, max_f1: 1.0\n",
      "Cluster for iso_label_1.8 with leiden\n",
      "resolution: 1.8, max_f1: 1.0\n",
      "Cluster for iso_label_2.0 with leiden\n",
      "resolution: 2.0, max_f1: 1.0\n",
      "optimised clustering against cell_type\n",
      "optimal cluster resolution: 0.2\n",
      "optimal score: 1.0\n",
      "fibroblast of mammary gland: 1.0\n",
      "Cluster for iso_label_0.2 with leiden\n",
      "resolution: 0.2, max_f1: 1.0\n",
      "Cluster for iso_label_0.4 with leiden\n",
      "resolution: 0.4, max_f1: 1.0\n",
      "Cluster for iso_label_0.6 with leiden\n",
      "resolution: 0.6, max_f1: 1.0\n",
      "Cluster for iso_label_0.8 with leiden\n",
      "resolution: 0.8, max_f1: 1.0\n",
      "Cluster for iso_label_1.0 with leiden\n",
      "resolution: 1.0, max_f1: 1.0\n",
      "Cluster for iso_label_1.2 with leiden\n",
      "resolution: 1.2, max_f1: 1.0\n",
      "Cluster for iso_label_1.4 with leiden\n",
      "resolution: 1.4, max_f1: 1.0\n",
      "Cluster for iso_label_1.6 with leiden\n",
      "resolution: 1.6, max_f1: 1.0\n",
      "Cluster for iso_label_1.8 with leiden\n",
      "resolution: 1.8, max_f1: 1.0\n",
      "Cluster for iso_label_2.0 with leiden\n",
      "resolution: 2.0, max_f1: 1.0\n",
      "optimised clustering against cell_type\n",
      "optimal cluster resolution: 0.2\n",
      "optimal score: 1.0\n",
      "glycinergic amacrine cell: 1.0\n",
      "Cluster for iso_label_0.2 with leiden\n",
      "resolution: 0.2, max_f1: 1.0\n",
      "Cluster for iso_label_0.4 with leiden\n",
      "resolution: 0.4, max_f1: 1.0\n",
      "Cluster for iso_label_0.6 with leiden\n",
      "resolution: 0.6, max_f1: 1.0\n",
      "Cluster for iso_label_0.8 with leiden\n",
      "resolution: 0.8, max_f1: 1.0\n",
      "Cluster for iso_label_1.0 with leiden\n",
      "resolution: 1.0, max_f1: 1.0\n",
      "Cluster for iso_label_1.2 with leiden\n",
      "resolution: 1.2, max_f1: 1.0\n",
      "Cluster for iso_label_1.4 with leiden\n",
      "resolution: 1.4, max_f1: 1.0\n",
      "Cluster for iso_label_1.6 with leiden\n",
      "resolution: 1.6, max_f1: 1.0\n",
      "Cluster for iso_label_1.8 with leiden\n",
      "resolution: 1.8, max_f1: 1.0\n",
      "Cluster for iso_label_2.0 with leiden\n",
      "resolution: 2.0, max_f1: 1.0\n",
      "optimised clustering against cell_type\n",
      "optimal cluster resolution: 0.2\n",
      "optimal score: 1.0\n",
      "luminal adaptive secretory precursor cell of mammary gland: 1.0\n",
      "Cluster for iso_label_0.2 with leiden\n",
      "resolution: 0.2, max_f1: 1.0\n",
      "Cluster for iso_label_0.4 with leiden\n",
      "resolution: 0.4, max_f1: 1.0\n",
      "Cluster for iso_label_0.6 with leiden\n",
      "resolution: 0.6, max_f1: 1.0\n",
      "Cluster for iso_label_0.8 with leiden\n",
      "resolution: 0.8, max_f1: 1.0\n",
      "Cluster for iso_label_1.0 with leiden\n",
      "resolution: 1.0, max_f1: 1.0\n",
      "Cluster for iso_label_1.2 with leiden\n",
      "resolution: 1.2, max_f1: 1.0\n",
      "Cluster for iso_label_1.4 with leiden\n",
      "resolution: 1.4, max_f1: 1.0\n",
      "Cluster for iso_label_1.6 with leiden\n",
      "resolution: 1.6, max_f1: 1.0\n",
      "Cluster for iso_label_1.8 with leiden\n",
      "resolution: 1.8, max_f1: 1.0\n",
      "Cluster for iso_label_2.0 with leiden\n",
      "resolution: 2.0, max_f1: 1.0\n",
      "optimised clustering against cell_type\n",
      "optimal cluster resolution: 0.2\n",
      "optimal score: 1.0\n",
      "luminal hormone-sensing cell of mammary gland: 1.0\n",
      "Cluster for iso_label_0.2 with leiden\n",
      "resolution: 0.2, max_f1: 1.0\n",
      "Cluster for iso_label_0.4 with leiden\n",
      "resolution: 0.4, max_f1: 1.0\n",
      "Cluster for iso_label_0.6 with leiden\n",
      "resolution: 0.6, max_f1: 1.0\n",
      "Cluster for iso_label_0.8 with leiden\n",
      "resolution: 0.8, max_f1: 1.0\n",
      "Cluster for iso_label_1.0 with leiden\n",
      "resolution: 1.0, max_f1: 1.0\n",
      "Cluster for iso_label_1.2 with leiden\n",
      "resolution: 1.2, max_f1: 1.0\n",
      "Cluster for iso_label_1.4 with leiden\n",
      "resolution: 1.4, max_f1: 1.0\n",
      "Cluster for iso_label_1.6 with leiden\n",
      "resolution: 1.6, max_f1: 1.0\n",
      "Cluster for iso_label_1.8 with leiden\n",
      "resolution: 1.8, max_f1: 1.0\n",
      "Cluster for iso_label_2.0 with leiden\n",
      "resolution: 2.0, max_f1: 1.0\n",
      "optimised clustering against cell_type\n",
      "optimal cluster resolution: 0.2\n",
      "optimal score: 1.0\n",
      "macroglial cell: 1.0\n",
      "Cluster for iso_label_0.2 with leiden\n",
      "resolution: 0.2, max_f1: 1.0\n",
      "Cluster for iso_label_0.4 with leiden\n",
      "resolution: 0.4, max_f1: 1.0\n",
      "Cluster for iso_label_0.6 with leiden\n",
      "resolution: 0.6, max_f1: 1.0\n",
      "Cluster for iso_label_0.8 with leiden\n",
      "resolution: 0.8, max_f1: 1.0\n",
      "Cluster for iso_label_1.0 with leiden\n",
      "resolution: 1.0, max_f1: 1.0\n",
      "Cluster for iso_label_1.2 with leiden\n",
      "resolution: 1.2, max_f1: 1.0\n",
      "Cluster for iso_label_1.4 with leiden\n",
      "resolution: 1.4, max_f1: 1.0\n",
      "Cluster for iso_label_1.6 with leiden\n",
      "resolution: 1.6, max_f1: 1.0\n",
      "Cluster for iso_label_1.8 with leiden\n",
      "resolution: 1.8, max_f1: 1.0\n",
      "Cluster for iso_label_2.0 with leiden\n",
      "resolution: 2.0, max_f1: 1.0\n",
      "optimised clustering against cell_type\n",
      "optimal cluster resolution: 0.2\n",
      "optimal score: 1.0\n",
      "mature T cell: 1.0\n",
      "Cluster for iso_label_0.2 with leiden\n",
      "resolution: 0.2, max_f1: 1.0\n",
      "Cluster for iso_label_0.4 with leiden\n",
      "resolution: 0.4, max_f1: 1.0\n",
      "Cluster for iso_label_0.6 with leiden\n",
      "resolution: 0.6, max_f1: 1.0\n",
      "Cluster for iso_label_0.8 with leiden\n",
      "resolution: 0.8, max_f1: 1.0\n",
      "Cluster for iso_label_1.0 with leiden\n",
      "resolution: 1.0, max_f1: 1.0\n",
      "Cluster for iso_label_1.2 with leiden\n",
      "resolution: 1.2, max_f1: 1.0\n",
      "Cluster for iso_label_1.4 with leiden\n",
      "resolution: 1.4, max_f1: 1.0\n",
      "Cluster for iso_label_1.6 with leiden\n",
      "resolution: 1.6, max_f1: 1.0\n",
      "Cluster for iso_label_1.8 with leiden\n",
      "resolution: 1.8, max_f1: 1.0\n",
      "Cluster for iso_label_2.0 with leiden\n",
      "resolution: 2.0, max_f1: 1.0\n",
      "optimised clustering against cell_type\n",
      "optimal cluster resolution: 0.2\n",
      "optimal score: 1.0\n",
      "myoepithelial cell of mammary gland: 1.0\n",
      "Cluster for iso_label_0.2 with leiden\n",
      "resolution: 0.2, max_f1: 1.0\n",
      "Cluster for iso_label_0.4 with leiden\n",
      "resolution: 0.4, max_f1: 1.0\n",
      "Cluster for iso_label_0.6 with leiden\n",
      "resolution: 0.6, max_f1: 1.0\n",
      "Cluster for iso_label_0.8 with leiden\n",
      "resolution: 0.8, max_f1: 1.0\n",
      "Cluster for iso_label_1.0 with leiden\n",
      "resolution: 1.0, max_f1: 1.0\n",
      "Cluster for iso_label_1.2 with leiden\n",
      "resolution: 1.2, max_f1: 1.0\n",
      "Cluster for iso_label_1.4 with leiden\n",
      "resolution: 1.4, max_f1: 1.0\n",
      "Cluster for iso_label_1.6 with leiden\n",
      "resolution: 1.6, max_f1: 1.0\n",
      "Cluster for iso_label_1.8 with leiden\n",
      "resolution: 1.8, max_f1: 1.0\n",
      "Cluster for iso_label_2.0 with leiden\n",
      "resolution: 2.0, max_f1: 1.0\n",
      "optimised clustering against cell_type\n",
      "optimal cluster resolution: 0.2\n",
      "optimal score: 1.0\n",
      "regular ventricular cardiac myocyte: 1.0\n",
      "mmcontext.eval.evaluate_scib - ERROR - Error computing PCR: pcr_comparison() got multiple values for argument 'adata_pre'\n"
     ]
    },
    {
     "name": "stderr",
     "output_type": "stream",
     "text": [
      "/Users/mengerj/Library/Application Support/hatch/env/virtual/mmcontext/NDS_X2Wf/mmcontext/lib/python3.10/site-packages/scipy/sparse/_index.py:197: SparseEfficiencyWarning: Changing the sparsity structure of a csr_matrix is expensive. lil and dok are more efficient.\n",
      "  self._set_arrayXarray(i, j, x)\n"
     ]
    },
    {
     "name": "stdout",
     "output_type": "stream",
     "text": [
      "mmcontext.eval.evaluate_scib - ERROR - Error computing iLISI: [Errno 8] Exec format error: '/Users/mengerj/Library/Application Support/hatch/env/virtual/mmcontext/NDS_X2Wf/mmcontext/lib/python3.10/site-packages/scib/knn_graph/knn_graph.o'\n",
      "mean silhouette per group:                                                  silhouette_score\n",
      "group                                                            \n",
      "B cell                                                        1.0\n",
      "CD4-positive, alpha-beta T cell                               1.0\n",
      "CD8-positive, alpha-beta T cell                               1.0\n",
      "T cell                                                        1.0\n",
      "alveolar macrophage                                           1.0\n",
      "astrocyte                                                     1.0\n",
      "capillary endothelial cell                                    1.0\n",
      "effector memory CD8-positive, alpha-beta T cell               1.0\n",
      "endothelial cell                                              1.0\n",
      "enterocyte                                                    1.0\n",
      "epithelial cell of proximal tubule                            1.0\n",
      "erythrocyte                                                   1.0\n",
      "fibroblast                                                    1.0\n",
      "interneuron                                                   1.0\n",
      "macrophage                                                    1.0\n",
      "malignant cell                                                1.0\n",
      "microglial cell                                               1.0\n",
      "monocyte                                                      1.0\n",
      "myeloid cell                                                  1.0\n",
      "natural killer cell                                           1.0\n",
      "neural cell                                                   1.0\n",
      "neutrophil                                                    1.0\n",
      "oligodendrocyte                                               1.0\n",
      "oligodendrocyte precursor cell                                1.0\n",
      "pericyte                                                      1.0\n",
      "plasma cell                                                   1.0\n",
      "precursor B cell                                              1.0\n",
      "unknown                                                       1.0\n",
      "vein endothelial cell                                         1.0\n"
     ]
    }
   ],
   "source": [
    "res = evaluator.evaluate()"
   ]
  },
  {
   "cell_type": "code",
   "execution_count": 125,
   "metadata": {},
   "outputs": [
    {
     "data": {
      "text/html": [
       "<div>\n",
       "<style scoped>\n",
       "    .dataframe tbody tr th:only-of-type {\n",
       "        vertical-align: middle;\n",
       "    }\n",
       "\n",
       "    .dataframe tbody tr th {\n",
       "        vertical-align: top;\n",
       "    }\n",
       "\n",
       "    .dataframe thead th {\n",
       "        text-align: right;\n",
       "    }\n",
       "</style>\n",
       "<table border=\"1\" class=\"dataframe\">\n",
       "  <thead>\n",
       "    <tr style=\"text-align: right;\">\n",
       "      <th></th>\n",
       "      <th>data_id</th>\n",
       "      <th>hvg</th>\n",
       "      <th>type</th>\n",
       "      <th>ARI</th>\n",
       "      <th>NMI</th>\n",
       "      <th>ASW</th>\n",
       "      <th>Isolated_Labels_ASW</th>\n",
       "      <th>Isolated_Labels_F1</th>\n",
       "      <th>Bio_Conservation_Score</th>\n",
       "      <th>Graph_Connectivity</th>\n",
       "      <th>Silhouette_Batch</th>\n",
       "      <th>Batch_Integration_Score</th>\n",
       "      <th>Overall_Score</th>\n",
       "    </tr>\n",
       "  </thead>\n",
       "  <tbody>\n",
       "    <tr>\n",
       "      <th>0</th>\n",
       "      <td></td>\n",
       "      <td>None</td>\n",
       "      <td>raw</td>\n",
       "      <td>0.354418</td>\n",
       "      <td>0.637570</td>\n",
       "      <td>0.410125</td>\n",
       "      <td>0.538921</td>\n",
       "      <td>0.422006</td>\n",
       "      <td>0.472608</td>\n",
       "      <td>0.828548</td>\n",
       "      <td>0.702436</td>\n",
       "      <td>0.765492</td>\n",
       "      <td>0.589762</td>\n",
       "    </tr>\n",
       "    <tr>\n",
       "      <th>1</th>\n",
       "      <td></td>\n",
       "      <td>None</td>\n",
       "      <td>reconstructed1</td>\n",
       "      <td>0.442281</td>\n",
       "      <td>0.535276</td>\n",
       "      <td>0.503565</td>\n",
       "      <td>0.486934</td>\n",
       "      <td>0.304795</td>\n",
       "      <td>0.454570</td>\n",
       "      <td>0.657011</td>\n",
       "      <td>0.927124</td>\n",
       "      <td>0.792067</td>\n",
       "      <td>0.589569</td>\n",
       "    </tr>\n",
       "    <tr>\n",
       "      <th>2</th>\n",
       "      <td></td>\n",
       "      <td>None</td>\n",
       "      <td>reconstructed2</td>\n",
       "      <td>0.444866</td>\n",
       "      <td>0.547602</td>\n",
       "      <td>0.507403</td>\n",
       "      <td>0.474455</td>\n",
       "      <td>0.224448</td>\n",
       "      <td>0.439755</td>\n",
       "      <td>0.655616</td>\n",
       "      <td>0.916437</td>\n",
       "      <td>0.786026</td>\n",
       "      <td>0.578263</td>\n",
       "    </tr>\n",
       "    <tr>\n",
       "      <th>3</th>\n",
       "      <td></td>\n",
       "      <td>None</td>\n",
       "      <td>embedding_scvi</td>\n",
       "      <td>0.397875</td>\n",
       "      <td>0.705263</td>\n",
       "      <td>0.517042</td>\n",
       "      <td>0.559868</td>\n",
       "      <td>0.550763</td>\n",
       "      <td>0.546162</td>\n",
       "      <td>0.917241</td>\n",
       "      <td>0.789632</td>\n",
       "      <td>0.853436</td>\n",
       "      <td>0.669072</td>\n",
       "    </tr>\n",
       "    <tr>\n",
       "      <th>4</th>\n",
       "      <td></td>\n",
       "      <td>None</td>\n",
       "      <td>embedding_context_encoder_mod_emb</td>\n",
       "      <td>1.000000</td>\n",
       "      <td>1.000000</td>\n",
       "      <td>1.000000</td>\n",
       "      <td>1.000000</td>\n",
       "      <td>1.000000</td>\n",
       "      <td>1.000000</td>\n",
       "      <td>1.000000</td>\n",
       "      <td>1.000000</td>\n",
       "      <td>1.000000</td>\n",
       "      <td>1.000000</td>\n",
       "    </tr>\n",
       "  </tbody>\n",
       "</table>\n",
       "</div>"
      ],
      "text/plain": [
       "  data_id   hvg                               type       ARI       NMI  \\\n",
       "0          None                                raw  0.354418  0.637570   \n",
       "1          None                     reconstructed1  0.442281  0.535276   \n",
       "2          None                     reconstructed2  0.444866  0.547602   \n",
       "3          None                     embedding_scvi  0.397875  0.705263   \n",
       "4          None  embedding_context_encoder_mod_emb  1.000000  1.000000   \n",
       "\n",
       "        ASW  Isolated_Labels_ASW  Isolated_Labels_F1  Bio_Conservation_Score  \\\n",
       "0  0.410125             0.538921            0.422006                0.472608   \n",
       "1  0.503565             0.486934            0.304795                0.454570   \n",
       "2  0.507403             0.474455            0.224448                0.439755   \n",
       "3  0.517042             0.559868            0.550763                0.546162   \n",
       "4  1.000000             1.000000            1.000000                1.000000   \n",
       "\n",
       "   Graph_Connectivity  Silhouette_Batch  Batch_Integration_Score  \\\n",
       "0            0.828548          0.702436                 0.765492   \n",
       "1            0.657011          0.927124                 0.792067   \n",
       "2            0.655616          0.916437                 0.786026   \n",
       "3            0.917241          0.789632                 0.853436   \n",
       "4            1.000000          1.000000                 1.000000   \n",
       "\n",
       "   Overall_Score  \n",
       "0       0.589762  \n",
       "1       0.589569  \n",
       "2       0.578263  \n",
       "3       0.669072  \n",
       "4       1.000000  "
      ]
     },
     "execution_count": 125,
     "metadata": {},
     "output_type": "execute_result"
    }
   ],
   "source": [
    "from mmcontext.pl.plotting import plot_grouped_bar_chart\n",
    "\n",
    "plot_grouped_bar_chart(res, save_plot=False)"
   ]
  },
  {
   "cell_type": "markdown",
   "metadata": {},
   "source": [
    "#### 3. Comparing Data Properties\n",
    "We can also compare the reconstructed matrix and the original matrix. We do this by computing a variety of data properties and comparing them between orignal and reconstructed data. One can add further orignal and reconstructed datasets in the same manner. This is handy if you have a variety of test datasets."
   ]
  },
  {
   "cell_type": "code",
   "execution_count": 90,
   "metadata": {},
   "outputs": [],
   "source": [
    "# Initialize the DataProperties object\n",
    "from mmcontext.eval import DataProperties\n",
    "\n",
    "dp = DataProperties(predefined_subset=\"microbiome\")"
   ]
  },
  {
   "cell_type": "code",
   "execution_count": 91,
   "metadata": {},
   "outputs": [
    {
     "name": "stdout",
     "output_type": "stream",
     "text": [
      "mmcontext.eval.data_properties - INFO - Using predefined microbiome subset.\n",
      "mmcontext.eval.data_properties - WARNING - Warning computing bimodalityColCorr: An input array is constant; the correlation coefficient is not defined.\n",
      "mmcontext.eval.data_properties - WARNING - Warning computing meanColCorr: invalid value encountered in divide\n",
      "mmcontext.eval.data_properties - WARNING - Warning computing meanColCorr: invalid value encountered in divide\n",
      "mmcontext.eval.data_properties - WARNING - Warning computing sdColCorr: invalid value encountered in divide\n",
      "mmcontext.eval.data_properties - WARNING - Warning computing sdColCorr: invalid value encountered in divide\n"
     ]
    }
   ],
   "source": [
    "dp.add_original_data(test_adata.X.toarray())"
   ]
  },
  {
   "cell_type": "code",
   "execution_count": 92,
   "metadata": {},
   "outputs": [
    {
     "name": "stdout",
     "output_type": "stream",
     "text": [
      "mmcontext.eval.data_properties - INFO - Using predefined microbiome subset.\n",
      "mmcontext.eval.data_properties - WARNING - Warning computing meanColCorr: invalid value encountered in divide\n",
      "mmcontext.eval.data_properties - WARNING - Warning computing meanColCorr: invalid value encountered in divide\n",
      "mmcontext.eval.data_properties - WARNING - Warning computing LinCoefPoly2: Polyfit may be poorly conditioned\n",
      "mmcontext.eval.data_properties - WARNING - Warning computing QuadCoefPoly2: Polyfit may be poorly conditioned\n",
      "mmcontext.eval.data_properties - INFO - Using predefined microbiome subset.\n",
      "mmcontext.eval.data_properties - WARNING - Warning computing LinCoefPoly2: Polyfit may be poorly conditioned\n",
      "mmcontext.eval.data_properties - WARNING - Warning computing QuadCoefPoly2: Polyfit may be poorly conditioned\n"
     ]
    }
   ],
   "source": [
    "# Add reconstructed data to DataProperties object\n",
    "for reconstructed_data in inferred_adata.layers:\n",
    "    dp.add_reconstructed_data(inferred_adata.layers[reconstructed_data])"
   ]
  },
  {
   "cell_type": "code",
   "execution_count": 93,
   "metadata": {},
   "outputs": [
    {
     "data": {
      "text/html": [
       "<div>\n",
       "<style scoped>\n",
       "    .dataframe tbody tr th:only-of-type {\n",
       "        vertical-align: middle;\n",
       "    }\n",
       "\n",
       "    .dataframe tbody tr th {\n",
       "        vertical-align: top;\n",
       "    }\n",
       "\n",
       "    .dataframe thead th {\n",
       "        text-align: right;\n",
       "    }\n",
       "</style>\n",
       "<table border=\"1\" class=\"dataframe\">\n",
       "  <thead>\n",
       "    <tr style=\"text-align: right;\">\n",
       "      <th></th>\n",
       "      <th>id</th>\n",
       "      <th>recon_id</th>\n",
       "      <th>nSamples</th>\n",
       "      <th>LinCoefPoly2</th>\n",
       "      <th>maxColSums</th>\n",
       "      <th>bimodalityColCorr</th>\n",
       "      <th>sdColSums</th>\n",
       "      <th>sdp0Col</th>\n",
       "      <th>meanColSums</th>\n",
       "      <th>coefHclustRows</th>\n",
       "      <th>...</th>\n",
       "      <th>sdRowCorr</th>\n",
       "      <th>median</th>\n",
       "      <th>q95</th>\n",
       "      <th>sdRowMediansLog2cpm</th>\n",
       "      <th>QuadCoefPoly2</th>\n",
       "      <th>sdColCorr</th>\n",
       "      <th>coefHclustCols</th>\n",
       "      <th>sdRowMeansLog2cpm</th>\n",
       "      <th>corrColSumsP0Sample</th>\n",
       "      <th>meanLog2FC</th>\n",
       "    </tr>\n",
       "  </thead>\n",
       "  <tbody>\n",
       "    <tr>\n",
       "      <th>0</th>\n",
       "      <td>0</td>\n",
       "      <td>0</td>\n",
       "      <td>0.0</td>\n",
       "      <td>2.813668</td>\n",
       "      <td>0.116398</td>\n",
       "      <td>NaN</td>\n",
       "      <td>0.444697</td>\n",
       "      <td>0.236523</td>\n",
       "      <td>0.590646</td>\n",
       "      <td>0.012476</td>\n",
       "      <td>...</td>\n",
       "      <td>0.886848</td>\n",
       "      <td>0.0</td>\n",
       "      <td>0.528766</td>\n",
       "      <td>1.719783e-07</td>\n",
       "      <td>-4.496366</td>\n",
       "      <td>0.209001</td>\n",
       "      <td>0.020414</td>\n",
       "      <td>1.115376</td>\n",
       "      <td>-0.005771</td>\n",
       "      <td>0.551292</td>\n",
       "    </tr>\n",
       "    <tr>\n",
       "      <th>1</th>\n",
       "      <td>0</td>\n",
       "      <td>1</td>\n",
       "      <td>0.0</td>\n",
       "      <td>2.813921</td>\n",
       "      <td>0.118004</td>\n",
       "      <td>NaN</td>\n",
       "      <td>0.445098</td>\n",
       "      <td>0.236091</td>\n",
       "      <td>0.591155</td>\n",
       "      <td>0.003892</td>\n",
       "      <td>...</td>\n",
       "      <td>0.821949</td>\n",
       "      <td>0.0</td>\n",
       "      <td>0.528766</td>\n",
       "      <td>1.719783e-07</td>\n",
       "      <td>-4.495562</td>\n",
       "      <td>0.204028</td>\n",
       "      <td>0.018411</td>\n",
       "      <td>1.116808</td>\n",
       "      <td>-0.005722</td>\n",
       "      <td>1.288239</td>\n",
       "    </tr>\n",
       "  </tbody>\n",
       "</table>\n",
       "<p>2 rows × 36 columns</p>\n",
       "</div>"
      ],
      "text/plain": [
       "  id recon_id  nSamples  LinCoefPoly2  maxColSums  bimodalityColCorr  \\\n",
       "0  0        0       0.0      2.813668    0.116398                NaN   \n",
       "1  0        1       0.0      2.813921    0.118004                NaN   \n",
       "\n",
       "   sdColSums   sdp0Col  meanColSums  coefHclustRows  ...  sdRowCorr  median  \\\n",
       "0   0.444697  0.236523     0.590646        0.012476  ...   0.886848     0.0   \n",
       "1   0.445098  0.236091     0.591155        0.003892  ...   0.821949     0.0   \n",
       "\n",
       "        q95  sdRowMediansLog2cpm  QuadCoefPoly2  sdColCorr  coefHclustCols  \\\n",
       "0  0.528766         1.719783e-07      -4.496366   0.209001        0.020414   \n",
       "1  0.528766         1.719783e-07      -4.495562   0.204028        0.018411   \n",
       "\n",
       "   sdRowMeansLog2cpm  corrColSumsP0Sample  meanLog2FC  \n",
       "0           1.115376            -0.005771    0.551292  \n",
       "1           1.116808            -0.005722    1.288239  \n",
       "\n",
       "[2 rows x 36 columns]"
      ]
     },
     "execution_count": 93,
     "metadata": {},
     "output_type": "execute_result"
    }
   ],
   "source": [
    "dp.compare_data_properties()"
   ]
  },
  {
   "cell_type": "code",
   "execution_count": 94,
   "metadata": {},
   "outputs": [
    {
     "name": "stderr",
     "output_type": "stream",
     "text": [
      "/Users/mengerj/Library/Application Support/hatch/env/virtual/mmcontext/NDS_X2Wf/mmcontext/lib/python3.10/site-packages/seaborn/categorical.py:700: PendingDeprecationWarning: vert: bool will be deprecated in a future version. Use orientation: {'vertical', 'horizontal'} instead.\n",
      "  artists = ax.bxp(**boxplot_kws)\n"
     ]
    },
    {
     "data": {
      "image/png": "[encoded data removed]",
      "text/plain": [
       "<Figure size 800x1360 with 1 Axes>"
      ]
     },
     "metadata": {},
     "output_type": "display_data"
    }
   ],
   "source": [
    "dp.plot_metrics()"
   ]
  },
  {
   "cell_type": "code",
   "execution_count": 95,
   "metadata": {},
   "outputs": [
    {
     "name": "stdout",
     "output_type": "stream",
     "text": [
      "mmcontext.eval.data_properties - WARNING - Property PCA Plot: Dropped columns with NaN values: {'bimodalityColCorr'}\n"
     ]
    },
    {
     "data": {
      "image/png": "[encoded data removed]",
      "text/plain": [
       "<Figure size 1000x700 with 1 Axes>"
      ]
     },
     "metadata": {},
     "output_type": "display_data"
    }
   ],
   "source": [
    "dp.plot_pca()"
   ]
  }
 ],
 "metadata": {
  "kernelspec": {
   "display_name": "mmcontext",
   "language": "python",
   "name": "python3"
  },
  "language_info": {
   "codemirror_mode": {
    "name": "ipython",
    "version": 3
   },
   "file_extension": ".py",
   "mimetype": "text/x-python",
   "name": "python",
   "nbconvert_exporter": "python",
   "pygments_lexer": "ipython3",
   "version": "3.10.10"
  }
 },
 "nbformat": 4,
 "nbformat_minor": 4
}
